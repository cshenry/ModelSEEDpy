{
 "cells": [
  {
   "cell_type": "code",
   "execution_count": 1,
   "id": "4f457260-f087-418f-a810-1f8a48da424f",
   "metadata": {},
   "outputs": [
    {
     "name": "stdout",
     "output_type": "stream",
     "text": [
      "cobrakbase 0.3.1\n"
     ]
    }
   ],
   "source": [
    "import os\n",
    "local_cobrakbase_path = os.path.join('C:', 'Users', 'Andrew Freiburger','Documents','Argonne','cobrakbase')\n",
    "os.environ[\"HOME\"] = local_cobrakbase_path\n",
    "\n",
    "# import the KBase\n",
    "import cobrakbase\n",
    "# with open(\"/Users/afreiburger/Documents/kbase_token.txt\") as token_file:\n",
    "with open(\"D:/Users/Andrew Freiburger/Documents/Argonne/kbase_token.txt\") as token_file:\n",
    "    kbase_api = cobrakbase.KBaseAPI(token_file.readline())\n",
    "    \n",
    "model1 = kbase_api.get_from_ws(\"137367/1887/1\")\n",
    "model2 = kbase_api.get_from_ws(\"137367/2417/1\")\n",
    "model3 = kbase_api.get_from_ws(\"137367/1925/1\")\n",
    "environments = [kbase_api.get_from_ws(\"137367/1656/1\")]"
   ]
  },
  {
   "cell_type": "code",
   "execution_count": 2,
   "id": "1e337787-35ad-4080-9c53-122b8d87f07d",
   "metadata": {},
   "outputs": [
    {
     "name": "stdout",
     "output_type": "stream",
     "text": [
      "The minimal flux media consists of 39 compounds and a 1.9434348647775859 total influx, with a growth value of 0.10000000000007983\n",
      "The minimal flux media consists of 39 compounds and a 1.8979898582455417 total influx, with a growth value of 0.09999999999891523\n",
      "The minimal media of all members:\n",
      "{'Pseudomonas_sp._GM17_2511231006.fna.RAST.fbamodel': {'media': {'EX_cpd00220_e0': 0.0008418477478773932, 'EX_cpd00793_e0': 0.000280615915959131, 'EX_cpd00264_e0': 0.00028061591595913103, 'EX_cpd00393_e0': 0.0008418477478773958, 'EX_cpd00119_e0': 0.007926360007371592, 'EX_cpd00205_e0': 0.00028061591595913103, 'EX_cpd00030_e0': 0.0002806159159591311, 'EX_cpd03847_e0': 0.002501059771089441, 'EX_cpd00048_e0': 0.00028061591595913103, 'EX_cpd00034_e0': 0.00028061591595913103, 'EX_cpd00051_e0': 0.0246696822701341, 'EX_cpd10515_e0': 0.0008418477478773932, 'EX_cpd00209_e0': 0.44760816358394934, 'EX_cpd00058_e0': 0.00028061591595913103, 'EX_cpd00179_e0': 0.06274188137470496, 'EX_cpd00066_e0': 0.015451949003134503, 'EX_cpd00254_e0': 0.00028061591595913103, 'EX_cpd00028_e0': 0.00028061591595913103, 'EX_cpd00063_e0': 0.0002806159159591311, 'EX_cpd00644_e0': 0.0005612318319182638, 'EX_cpd00438_e0': 0.0011917803122624656, 'EX_cpd00065_e0': 0.00472019191450218, 'EX_cpd01017_e0': 0.008456496968442235, 'EX_cpd00215_e0': 0.00028061591595913103, 'EX_cpd00654_e0': 0.005215640721434261, 'EX_cpd00136_e0': 0.00028061591595913076, 'EX_cpd00322_e0': 0.0241798510337235, 'EX_cpd00007_e0': 0.0008418477478773925, 'EX_cpd00156_e0': 0.035223318909502234, 'EX_cpd00069_e0': 0.012067660460661201, 'EX_cpd00355_e0': 1.1842235631389384, 'EX_cpd00104_e0': 0.00028061591595913103, 'EX_cpd00149_e0': 0.00028061591595913103, 'EX_cpd00307_e0': 0.008410361565448637, 'EX_cpd00311_e0': 0.015193123295969044, 'EX_cpd00099_e0': 0.00028061591595913103, 'EX_cpd00107_e0': 0.03753888475401271, 'EX_cpd01080_e0': 0.024916275954454087, 'EX_cpd00017_e0': 0.013060758175035835}}, 'Sphingobium_sp._AP49_2512564014.fna.RAST.fbamodel': {'media': {'EX_cpd00220_e0': 0.0008418477478773931, 'EX_cpd00793_e0': 0.00028061591595913103, 'EX_cpd00264_e0': 0.0002806159159591311, 'EX_cpd00393_e0': 0.0008418477479800973, 'EX_cpd00060_e0': 0.011096446763321914, 'EX_cpd00119_e0': 0.16897710574146574, 'EX_cpd00205_e0': 0.000280615915959131, 'EX_cpd00030_e0': 0.0002806159159591311, 'EX_cpd00118_e0': 0.0002806159159591311, 'EX_cpd03847_e0': 0.0025010597710894396, 'EX_cpd00048_e0': 0.000280615915959131, 'EX_cpd00034_e0': 0.0002806159159591311, 'EX_cpd00051_e0': 0.0246696822701341, 'EX_cpd10515_e0': 0.0008418477478773931, 'EX_cpd00058_e0': 0.000280615915959131, 'EX_cpd00066_e0': 0.015451949003134503, 'EX_cpd00254_e0': 0.00028061591595913103, 'EX_cpd00028_e0': 0.000280615915959131, 'EX_cpd00063_e0': 0.0002806159159591311, 'EX_cpd00644_e0': 0.0005612318320293196, 'EX_cpd00065_e0': 0.004720191914502182, 'EX_cpd00794_e0': 0.23177487666228458, 'EX_cpd01017_e0': 0.008456496968553296, 'EX_cpd00215_e0': 0.00028061591595913103, 'EX_cpd00654_e0': 0.0011789605965904404, 'EX_cpd00009_e0': 0.08097478545687763, 'EX_cpd00136_e0': 0.00028061591595913114, 'EX_cpd00039_e0': 0.0285438020490179, 'EX_cpd00322_e0': 0.024179851033723502, 'EX_cpd00007_e0': 1.1741528321169399, 'EX_cpd00156_e0': 0.0352233189090214, 'EX_cpd00277_e0': 0.0020247366767794624, 'EX_cpd00069_e0': 0.012067660460661201, 'EX_cpd00104_e0': 0.000280615915959131, 'EX_cpd00149_e0': 0.00028061591595913103, 'EX_cpd00099_e0': 0.00028061591595913103, 'EX_cpd00107_e0': 0.037538884754166196, 'EX_cpd01080_e0': 0.024916275954454083, 'EX_cpd00017_e0': 0.0019643114117139167}}}\n",
      "\n",
      "Examining the 1 model pairs\n",
      "cpd11416_c0 bio1: 0.5 cpd11416_c1 + 0.5 cpd11416_c2 --> cpd11416_c0;\tcpd11416_c0 SK_cpd11416_c0: cpd11416_c0 <=> ;\tMainProcess~~0\t['Pseudomonas_sp._GM17_2511231006.fna.RAST.fbamodel', 'Sphingobium_sp._AP49_2512564014.fna.RAST.fbamodel']\n"
     ]
    },
    {
     "data": {
      "text/html": [
       "<div>\n",
       "<style scoped>\n",
       "    .dataframe tbody tr th:only-of-type {\n",
       "        vertical-align: middle;\n",
       "    }\n",
       "\n",
       "    .dataframe tbody tr th {\n",
       "        vertical-align: top;\n",
       "    }\n",
       "\n",
       "    .dataframe thead th {\n",
       "        text-align: right;\n",
       "    }\n",
       "</style>\n",
       "<table border=\"1\" class=\"dataframe\">\n",
       "  <thead>\n",
       "    <tr style=\"text-align: right;\">\n",
       "      <th></th>\n",
       "      <th>model1</th>\n",
       "      <th>model2</th>\n",
       "      <th>media</th>\n",
       "      <th>MRO_model1</th>\n",
       "      <th>MRO_model2</th>\n",
       "      <th>CIP</th>\n",
       "      <th>MIP_model1</th>\n",
       "      <th>MIP_model2</th>\n",
       "      <th>PC</th>\n",
       "      <th>BSS_model1</th>\n",
       "      <th>BSS_model2</th>\n",
       "      <th>BIT</th>\n",
       "      <th>GYD</th>\n",
       "      <th>FC</th>\n",
       "    </tr>\n",
       "  </thead>\n",
       "  <tbody>\n",
       "    <tr>\n",
       "      <th>0</th>\n",
       "      <td>Pseudomonas_sp._GM17_2511231006.fna.RAST.fbamodel</td>\n",
       "      <td>Sphingobium_sp._AP49_2512564014.fna.RAST.fbamodel</td>\n",
       "      <td>R2A_edition_003</td>\n",
       "      <td>0.84615 (33/39)</td>\n",
       "      <td>0.84615 (33/39)</td>\n",
       "      <td>21</td>\n",
       "      <td>3 (1)</td>\n",
       "      <td>11 (3)</td>\n",
       "      <td>0.60797</td>\n",
       "      <td>0.641026</td>\n",
       "      <td>0.692308</td>\n",
       "      <td>mutualism</td>\n",
       "      <td>0.16283</td>\n",
       "      <td>0.30420</td>\n",
       "    </tr>\n",
       "  </tbody>\n",
       "</table>\n",
       "</div>"
      ],
      "text/plain": [
       "                                              model1  \\\n",
       "0  Pseudomonas_sp._GM17_2511231006.fna.RAST.fbamodel   \n",
       "\n",
       "                                              model2            media  \\\n",
       "0  Sphingobium_sp._AP49_2512564014.fna.RAST.fbamodel  R2A_edition_003   \n",
       "\n",
       "        MRO_model1       MRO_model2 CIP MIP_model1 MIP_model2       PC  \\\n",
       "0  0.84615 (33/39)  0.84615 (33/39)  21      3 (1)     11 (3)  0.60797   \n",
       "\n",
       "  BSS_model1 BSS_model2        BIT      GYD       FC  \n",
       "0   0.641026   0.692308  mutualism  0.16283  0.30420  "
      ]
     },
     "metadata": {},
     "output_type": "display_data"
    },
    {
     "data": {
      "text/plain": [
       "'<!DOCTYPE html>\\n<html lang=\"en\">\\n    <head>\\n        <meta http-equiv=\"Content-type\" content=\"text/html; charset=utf-8\">\\n        <meta name=\"viewport\" content=\"width=device-width,initial-scale=1,user-scalable=no\">\\n        <title>CommScores Results</title>\\n        <link rel=\"stylesheet\" href=\"https://stackpath.bootstrapcdn.com/bootstrap/4.4.1/css/bootstrap.min.css\" integrity=\"sha384-Vkoo8x4CGsO3+Hhxv8T/Q5PaXtkKtu6ug5TOeNV6gBiFeWPGFN9MuhOf23Q9Ifjh\" crossorigin=\"anonymous\">\\n        <link rel=\"stylesheet\" type=\"text/css\" href=\"https://cdn.datatables.net/1.10.20/css/dataTables.bootstrap4.min.css\">\\n        <script type=\"text/javascript\" language=\"javascript\" src=\"https://code.jquery.com/jquery-3.3.1.js\"></script>\\n        <script src=\"https://cdn.jsdelivr.net/npm/popper.js@1.16.0/dist/umd/popper.min.js\" integrity=\"sha384-Q6E9RHvbIyZFJoft+2mJbHaEWldlvI9IOYy5n3zV9zzTtmI3UksdQRVvoxMfooAo\" crossorigin=\"anonymous\"></script>\\n        <script src=\"https://stackpath.bootstrapcdn.com/bootstrap/4.4.1/js/bootstrap.min.js\" integrity=\"sha384-wfSDF2E50Y2D1uUdj0O3uMBJnjuUD4Ih7YwaYd1iqfktj0Uod8GCExl3Og8ifwB6\" crossorigin=\"anonymous\"></script>\\n        <script type=\"text/javascript\" language=\"javascript\" src=\"https://cdn.datatables.net/1.10.20/js/jquery.dataTables.min.js\"></script>\\n        <script type=\"text/javascript\" language=\"javascript\" src=\"https://cdn.datatables.net/1.10.20/js/dataTables.bootstrap4.min.js\"></script>\\n\\n        <script type=\"text/x-mathjax-config\">\\n            MathJax = {\\n              tex: {\\n                inlineMath: [[\\'$\\', \\'$\\'], [\"\\\\\\\\(\", \"\\\\\\\\)\"]],\\n                processEscapes: true,\\n              }\\n            }\\n          </script>\\n        <script id=\"MathJax-script\" async src=\"https://cdn.jsdelivr.net/npm/mathjax@3/es5/tex-mml-chtml.js\"></script>\\n        <script type=\"text/javascript\" src=\"http://cdn.mathjax.org/mathjax/latest/MathJax.js?config=TeX-AMS-MML_HTMLorMML\"></script>\\n\\n        <style>\\n            h2, table, p {\\n                padding-top: 40px;\\n            }\\n            table, th, td {\\n            border: 1px solid black;\\n            border-collapse: collapse;\\n            }\\n            th, td {\\n            padding: 5px;\\n            }\\n            th {\\n            text-align: center;\\n            }\\n        </style>\\n    </head>\\n    <body class=\"container\">\\n        <h1>CommScores Results</h1>\\n        <ul class=\"nav nav-tabs\" id=\"nav-tab\" role=\"tablist\">\\n            <li><a class=\"nav-item nav-link active\" id=\"nav-table-tab\" data-toggle=\"tab\" href=\"#nav-table\" role=\"tab\" aria-controls=\"nav-table\" aria-selected=\"true\">Full Table</a> </li>\\n            <li><a class=\"nav-item nav-link\" id=\"nav-heatmap-tab\" data-toggle=\"tab\" href=\"#nav-heatmap\" role=\"tab\" aria-controls=\"nav-heatmap\" aria-selected=\"true\">Heatmap</a> </li>\\n            <li><a class=\"nav-item nav-link\" id=\"nav-info-tab\" data-toggle=\"tab\" href=\"#nav-info\" role=\"tab\" aria-controls=\"nav-info\" aria-selected=\"true\">Score Information</a> </li>\\n            <!-- <li><a class=\"nav-item nav-link\" id=\"nav-mets-tab\" data-toggle=\"tab\" href=\"#nav-mets\" role=\"tab\" aria-controls=\"nav-mets\" aria-selected=\"true\">Interacted mets</a> </li> -->\\n        </ul>\\n        <div class=\"tab-content\" id=\"nav-tabContent\">\\n            <div class=\"tab-pane fade show active\" id=\"nav-table\" role=\"tabpanel\" aria-labelledby=\"nav-table-tab\">\\n                <p>The biomass yields are expressed in [gm/hr*(gm CDW)]</p>\\n                <table border=\"1\" class=\"dataframe\">\\n  <thead>\\n    <tr style=\"text-align: right;\">\\n      <th></th>\\n      <th>model1</th>\\n      <th>model2</th>\\n      <th>media</th>\\n      <th>MRO_model1</th>\\n      <th>MRO_model2</th>\\n      <th>CIP</th>\\n      <th>MIP_model1</th>\\n      <th>MIP_model2</th>\\n      <th>PC</th>\\n      <th>BSS_model1</th>\\n      <th>BSS_model2</th>\\n      <th>BIT</th>\\n      <th>GYD</th>\\n      <th>FC</th>\\n    </tr>\\n  </thead>\\n  <tbody>\\n    <tr>\\n      <th>0</th>\\n      <td>Pseudomonas_sp._GM17_2511231006.fna.RAST.fbamodel</td>\\n      <td>Sphingobium_sp._AP49_2512564014.fna.RAST.fbamodel</td>\\n      <td>R2A_edition_003</td>\\n      <td>0.84615 (33/39)</td>\\n      <td>0.84615 (33/39)</td>\\n      <td>21</td>\\n      <td>3 (1)</td>\\n      <td>11 (3)</td>\\n      <td>0.60797</td>\\n      <td>0.641026</td>\\n      <td>0.692308</td>\\n      <td>mutualism</td>\\n      <td>0.16283</td>\\n      <td>0.30420</td>\\n    </tr>\\n  </tbody>\\n</table>\\n            </div>\\n            <div class=\"tab-pane fade\" id=\"nav-heatmap\" role=\"tabpanel\" aria-labelledby=\"nav-heatmap-tab\">\\n                <style type=\"text/css\">\\n#T_e3674_row0_col0, #T_e3674_row0_col1, #T_e3674_row0_col2, #T_e3674_row0_col3, #T_e3674_row0_col4, #T_e3674_row0_col5, #T_e3674_row0_col6, #T_e3674_row0_col7, #T_e3674_row0_col8, #T_e3674_row0_col9 {\\n  background-color: #fff7fb;\\n  color: #000000;\\n}\\n</style>\\n<table id=\"T_e3674\">\\n  <thead>\\n    <tr>\\n      <th class=\"blank level0\" >&nbsp;</th>\\n      <th id=\"T_e3674_level0_col0\" class=\"col_heading level0 col0\" >MRO_model1</th>\\n      <th id=\"T_e3674_level0_col1\" class=\"col_heading level0 col1\" >MRO_model2</th>\\n      <th id=\"T_e3674_level0_col2\" class=\"col_heading level0 col2\" >CIP</th>\\n      <th id=\"T_e3674_level0_col3\" class=\"col_heading level0 col3\" >MIP_model1</th>\\n      <th id=\"T_e3674_level0_col4\" class=\"col_heading level0 col4\" >MIP_model2</th>\\n      <th id=\"T_e3674_level0_col5\" class=\"col_heading level0 col5\" >PC</th>\\n      <th id=\"T_e3674_level0_col6\" class=\"col_heading level0 col6\" >BSS_model1</th>\\n      <th id=\"T_e3674_level0_col7\" class=\"col_heading level0 col7\" >BSS_model2</th>\\n      <th id=\"T_e3674_level0_col8\" class=\"col_heading level0 col8\" >GYD</th>\\n      <th id=\"T_e3674_level0_col9\" class=\"col_heading level0 col9\" >FC</th>\\n    </tr>\\n    <tr>\\n      <th class=\"index_name level0\" >model1 ++ model2 ___ Media</th>\\n      <th class=\"blank col0\" >&nbsp;</th>\\n      <th class=\"blank col1\" >&nbsp;</th>\\n      <th class=\"blank col2\" >&nbsp;</th>\\n      <th class=\"blank col3\" >&nbsp;</th>\\n      <th class=\"blank col4\" >&nbsp;</th>\\n      <th class=\"blank col5\" >&nbsp;</th>\\n      <th class=\"blank col6\" >&nbsp;</th>\\n      <th class=\"blank col7\" >&nbsp;</th>\\n      <th class=\"blank col8\" >&nbsp;</th>\\n      <th class=\"blank col9\" >&nbsp;</th>\\n    </tr>\\n  </thead>\\n  <tbody>\\n    <tr>\\n      <th id=\"T_e3674_level0_row0\" class=\"row_heading level0 row0\" >Pseudomonas_sp._GM17_2511231006.fna.RAST.fbamodel ++ Sphingobium_sp._AP49_2512564014.fna.RAST.fbamodel in R2A_edition_003</th>\\n      <td id=\"T_e3674_row0_col0\" class=\"data row0 col0\" >0.846150</td>\\n      <td id=\"T_e3674_row0_col1\" class=\"data row0 col1\" >0.846150</td>\\n      <td id=\"T_e3674_row0_col2\" class=\"data row0 col2\" >21.000000</td>\\n      <td id=\"T_e3674_row0_col3\" class=\"data row0 col3\" >3.000000</td>\\n      <td id=\"T_e3674_row0_col4\" class=\"data row0 col4\" >11.000000</td>\\n      <td id=\"T_e3674_row0_col5\" class=\"data row0 col5\" >0.607970</td>\\n      <td id=\"T_e3674_row0_col6\" class=\"data row0 col6\" >0.641026</td>\\n      <td id=\"T_e3674_row0_col7\" class=\"data row0 col7\" >0.692308</td>\\n      <td id=\"T_e3674_row0_col8\" class=\"data row0 col8\" >0.162830</td>\\n      <td id=\"T_e3674_row0_col9\" class=\"data row0 col9\" >0.304200</td>\\n    </tr>\\n  </tbody>\\n</table>\\n\\n            </div>\\n            <div class=\"tab-pane fade\" id=\"nav-info\" role=\"tabpanel\" aria-labelledby=\"nav-info-tab\">\\n                <br> \\n                <h3>Novel scores</h3><br>\\n\\n                <h4>Functional Complementarity (FC)</h4>    \\n                <p>\\n                    The <b>FC</b> score is calculated as the Jiccard Index of ontologies $O$ from either RAST or another annotation software available on KBase <sup><a href=\"#kbase\">[2]</a></sup>\\n                    <div class=\"latex\">\\n                        \\\\[ FC= \\\\left( \\\\frac{O_1 \\\\cap O_2}{O_1 \\\\cup O_2} \\\\right)~~. \\\\]\\n                    </div>\\n                    This score captures the potential for niche overlap and therefore negative interactions. The broad assessment of the entire genome further captures secondary metabolic interactions as well as the primary metabolism that is embodied in genome-scale metabolic models.\\n                </p>\\n\\n                <h4>Growth Yield Difference (GYD)</h4>    \\n                <p>\\n                    The <b>GYD</b> score evaluates the disparity in growth rate between the isolated members\\n                    <div class=\"latex\">\\n                        \\\\[ GYD = \\\\frac{abs(G_{1}-G_{2})}{min(G_{1}, G_{2})}~~, \\\\]\\n                    </div>\\n                    by normalizing the difference in the member\\'s growth rates by the growth rate of the slower growing member. A relatively large disparity in the isolate growth rates may foreshadow a negative interaction when the members are combined, where one member rapidly begins dominating the environment and media consumption which leaves the other member potentially starved and possibly launching antibiotic warfare in desparation to survive.\\n                </p>\\n\\n                <h4>Costless Interaction Potential (CIP)</h4>    \\n                <p>\\n                    The <b>CIP</b> score quantifies the union of costless excreta <i>CE</i> (compounds that are excreted at maximal growth and therefore have no fitness cost associated with their excretion) in the isolated members\\n                    <div class=\"latex\">\\n                        \\\\[ CIP = len(CE_1 \\\\cup CE_2)~~, \\\\]\\n                    </div>\\n                    which may contextualize syntrophic exchanges in their likelihood for exchange based on the fitness expense of their excretion. Our curation of the MIP score can be further contextualized with costless excreta via the intersection of exchanged compounds in the MIP score and the CIP for the same member pair. \\n                </p>\\n\\n                <h4>Biological Interaction Potential (BIT)</h4>\\n                <p>\\n                    The <b>BIT</b> score categorizes the member interaction into one of the classical descriptions -- competitive, amensalism, neutral, parasitism, commensalism, and mutualism -- based on relative growth of the members as isolates <i>G<sub>1</sub></i> versus in the community environment <i>G<sub>1,comm</sub></i>\\n                    <div class=\"latex\">\\n                        \\\\[ BIT_1 = G_{1,comm}-G_1 \\\\]\\n                    </div>\\n                    <div class=\"latex\">\\n                        \\\\[ BIT_2 = G_{2,comm}-G_2 \\\\]\\n                    </div>\\n                    which provides a tangible biological description of the member interaction based on growth through the primary metabolism.\\n                </p>\\n\\n                <h3>Curated scores</h3><br> \\n\\n                <h4>MRO</h4>\\n                <p>\\n                    The <i><b>M</b>etabolic <b>R</b>esource <b>O</b>verlap</i> (MRO) score is in the SMETANA suite and was published in several earlier studies as well, albeit with slight algorithmic variations. The MRO quantifies the fraction of a member\\'s nutritional requirements, in a given media or the complete media by default, that overlap with the other member\\'s nutritional requirements \\n                        <div class=\"latex\">\\\\[ MRO= \\\\frac{|M_1 \\\\cap M_2|}{|M_1|} \\\\]</div>\\n                    and is importantly directional (by replacing the denominator member), which can capture directional dependencies of interactions (e.g. lawn versus spot). The minimal media $M$ of each member is determined by minimizing the total exchange flux.\\n                </p>\\n\\n                <h4>MIP</h4>\\n                <p>\\n                    The <i><b>M</b>etabolic <b>I</b>nteraction <b>P</b>otential</i> (MIP) score is also in the SMETANA suite and earlier studies. This score quantifies syntrophic exchanges between the members. Our curation computes the MIP as the difference in exchanged compounds versus transported compounds in the compartmentalized community model\\n                        <div class=\"latex\">\\\\[ MIP=M_{transports}-M_{exchanges}~~, \\\\]</div>\\n                    where compounds that the members are transporting but the community is not exchanging with the media must be sourced from syntrophy. The MIP compounds that are costlessly excreted can also be quantified as a subscore of the MIP, and may better represent the compounds that are favorably exchanged in the community.\\n                </p>\\n\\n                <h4>PC</h4>\\n                <p>\\n                    The <i><b>P</b>otential <b>C</b>ooperation</i> (PC) score quantifies the net effect of co-growth relative to isolate growth, and in our curation is determined as the ratio of community growth to the sum of isolated member growths\\n                        <div class=\"latex\">\\\\[ PC = \\\\frac{G_{comm}}{G_1+G_2}~~, \\\\]</div>\\n                    and is therefore essentially a continuous quantitative representation of the discrete qualitative BIT score.\\n                </p>\\n\\n                <h4>BSS</h4>\\n                <p>\\n                    The <i><b>B</b>iosynthetic <b>S</b>upport <b>S</b>core</i> (BSS) score quantifies the capacity of a member to parasitize another member by topologically evaluating the proportion of a member\\'s nutritional requirements that are in the other member\\'s cytoplasmic metabolites\\n                        <div class=\"latex\">\\\\[ BSS = \\\\frac{M_i \\\\cap R_j}{M_i}~~. \\\\]</div>\\n                    This score therefore quantifies the capacity or incentive for negative interaction.\\n                </p>\\n            </div>\\n            <!-- <div class=\"tab-pane fade\" id=\"nav-mets\" role=\"tabpanel\" aria-labelledby=\"nav-mets-tab\">\\n                [{\\'mro_mets\\': [({\\'EX_cpd00254_e0\\', \\'EX_cpd00051_e0\\', \\'EX_cpd00030_e0\\', \\'EX_cpd00107_e0\\', \\'EX_cpd00058_e0\\', \\'EX_cpd00063_e0\\', \\'EX_cpd00644_e0\\', \\'EX_cpd03847_e0\\', \\'EX_cpd00028_e0\\', \\'EX_cpd00793_e0\\', \\'EX_cpd00322_e0\\', \\'EX_cpd00048_e0\\', \\'EX_cpd00007_e0\\', \\'EX_cpd00205_e0\\', \\'EX_cpd00215_e0\\', \\'EX_cpd00264_e0\\', \\'EX_cpd00393_e0\\', \\'EX_cpd00066_e0\\', \\'EX_cpd01080_e0\\', \\'EX_cpd00099_e0\\', \\'EX_cpd00136_e0\\', \\'EX_cpd00065_e0\\', \\'EX_cpd00156_e0\\', \\'EX_cpd00149_e0\\', \\'EX_cpd01017_e0\\', \\'EX_cpd00017_e0\\', \\'EX_cpd00119_e0\\', \\'EX_cpd10515_e0\\', \\'EX_cpd00654_e0\\', \\'EX_cpd00034_e0\\', \\'EX_cpd00104_e0\\', \\'EX_cpd00069_e0\\', \\'EX_cpd00220_e0\\'}, {\\'EX_cpd00220_e0\\': 0.0008418477478773932, \\'EX_cpd00793_e0\\': 0.000280615915959131, \\'EX_cpd00264_e0\\': 0.00028061591595913103, \\'EX_cpd00393_e0\\': 0.0008418477478773958, \\'EX_cpd00119_e0\\': 0.007926360007371592, \\'EX_cpd00205_e0\\': 0.00028061591595913103, \\'EX_cpd00030_e0\\': 0.0002806159159591311, \\'EX_cpd03847_e0\\': 0.002501059771089441, \\'EX_cpd00048_e0\\': 0.00028061591595913103, \\'EX_cpd00034_e0\\': 0.00028061591595913103, \\'EX_cpd00051_e0\\': 0.0246696822701341, \\'EX_cpd10515_e0\\': 0.0008418477478773932, \\'EX_cpd00209_e0\\': 0.44760816358394934, \\'EX_cpd00058_e0\\': 0.00028061591595913103, \\'EX_cpd00179_e0\\': 0.06274188137470496, \\'EX_cpd00066_e0\\': 0.015451949003134503, \\'EX_cpd00254_e0\\': 0.00028061591595913103, \\'EX_cpd00028_e0\\': 0.00028061591595913103, \\'EX_cpd00063_e0\\': 0.0002806159159591311, \\'EX_cpd00644_e0\\': 0.0005612318319182638, \\'EX_cpd00438_e0\\': 0.0011917803122624656, \\'EX_cpd00065_e0\\': 0.00472019191450218, \\'EX_cpd01017_e0\\': 0.008456496968442235, \\'EX_cpd00215_e0\\': 0.00028061591595913103, \\'EX_cpd00654_e0\\': 0.005215640721434261, \\'EX_cpd00136_e0\\': 0.00028061591595913076, \\'EX_cpd00322_e0\\': 0.0241798510337235, \\'EX_cpd00007_e0\\': 0.0008418477478773925, \\'EX_cpd00156_e0\\': 0.035223318909502234, \\'EX_cpd00069_e0\\': 0.012067660460661201, \\'EX_cpd00355_e0\\': 1.1842235631389384, \\'EX_cpd00104_e0\\': 0.00028061591595913103, \\'EX_cpd00149_e0\\': 0.00028061591595913103, \\'EX_cpd00307_e0\\': 0.008410361565448637, \\'EX_cpd00311_e0\\': 0.015193123295969044, \\'EX_cpd00099_e0\\': 0.00028061591595913103, \\'EX_cpd00107_e0\\': 0.03753888475401271, \\'EX_cpd01080_e0\\': 0.024916275954454087, \\'EX_cpd00017_e0\\': 0.013060758175035835}), ({\\'EX_cpd00254_e0\\', \\'EX_cpd00051_e0\\', \\'EX_cpd00030_e0\\', \\'EX_cpd00107_e0\\', \\'EX_cpd00058_e0\\', \\'EX_cpd00063_e0\\', \\'EX_cpd00644_e0\\', \\'EX_cpd03847_e0\\', \\'EX_cpd00028_e0\\', \\'EX_cpd00793_e0\\', \\'EX_cpd00322_e0\\', \\'EX_cpd00048_e0\\', \\'EX_cpd00007_e0\\', \\'EX_cpd00205_e0\\', \\'EX_cpd00215_e0\\', \\'EX_cpd00264_e0\\', \\'EX_cpd00393_e0\\', \\'EX_cpd00066_e0\\', \\'EX_cpd01080_e0\\', \\'EX_cpd00099_e0\\', \\'EX_cpd00136_e0\\', \\'EX_cpd00065_e0\\', \\'EX_cpd00156_e0\\', \\'EX_cpd00149_e0\\', \\'EX_cpd01017_e0\\', \\'EX_cpd00017_e0\\', \\'EX_cpd00119_e0\\', \\'EX_cpd10515_e0\\', \\'EX_cpd00654_e0\\', \\'EX_cpd00034_e0\\', \\'EX_cpd00104_e0\\', \\'EX_cpd00069_e0\\', \\'EX_cpd00220_e0\\'}, {\\'EX_cpd00220_e0\\': 0.0008418477478773931, \\'EX_cpd00793_e0\\': 0.00028061591595913103, \\'EX_cpd00264_e0\\': 0.0002806159159591311, \\'EX_cpd00393_e0\\': 0.0008418477479800973, \\'EX_cpd00060_e0\\': 0.011096446763321914, \\'EX_cpd00119_e0\\': 0.16897710574146574, \\'EX_cpd00205_e0\\': 0.000280615915959131, \\'EX_cpd00030_e0\\': 0.0002806159159591311, \\'EX_cpd00118_e0\\': 0.0002806159159591311, \\'EX_cpd03847_e0\\': 0.0025010597710894396, \\'EX_cpd00048_e0\\': 0.000280615915959131, \\'EX_cpd00034_e0\\': 0.0002806159159591311, \\'EX_cpd00051_e0\\': 0.0246696822701341, \\'EX_cpd10515_e0\\': 0.0008418477478773931, \\'EX_cpd00058_e0\\': 0.000280615915959131, \\'EX_cpd00066_e0\\': 0.015451949003134503, \\'EX_cpd00254_e0\\': 0.00028061591595913103, \\'EX_cpd00028_e0\\': 0.000280615915959131, \\'EX_cpd00063_e0\\': 0.0002806159159591311, \\'EX_cpd00644_e0\\': 0.0005612318320293196, \\'EX_cpd00065_e0\\': 0.004720191914502182, \\'EX_cpd00794_e0\\': 0.23177487666228458, \\'EX_cpd01017_e0\\': 0.008456496968553296, \\'EX_cpd00215_e0\\': 0.00028061591595913103, \\'EX_cpd00654_e0\\': 0.0011789605965904404, \\'EX_cpd00009_e0\\': 0.08097478545687763, \\'EX_cpd00136_e0\\': 0.00028061591595913114, \\'EX_cpd00039_e0\\': 0.0285438020490179, \\'EX_cpd00322_e0\\': 0.024179851033723502, \\'EX_cpd00007_e0\\': 1.1741528321169399, \\'EX_cpd00156_e0\\': 0.0352233189090214, \\'EX_cpd00277_e0\\': 0.0020247366767794624, \\'EX_cpd00069_e0\\': 0.012067660460661201, \\'EX_cpd00104_e0\\': 0.000280615915959131, \\'EX_cpd00149_e0\\': 0.00028061591595913103, \\'EX_cpd00099_e0\\': 0.00028061591595913103, \\'EX_cpd00107_e0\\': 0.037538884754166196, \\'EX_cpd01080_e0\\': 0.024916275954454083, \\'EX_cpd00017_e0\\': 0.0019643114117139167})]}, {\\'mip_mets\\': {\\'Pseudomonas_sp._GM17_2511231006.fna.RAST.fbamodel\\': [\\'cpd00053\\', \\'cpd00161\\', \\'cpd00067\\'], \\'Sphingobium_sp._AP49_2512564014.fna.RAST.fbamodel\\': [\\'cpd00067\\', \\'cpd00067\\', \\'cpd00009\\', \\'cpd00129\\', \\'cpd00136\\', \\'cpd00054\\', \\'cpd00060\\', \\'cpd00039\\', \\'cpd00132\\', \\'cpd00118\\', \\'cpd00084\\']}}]\\n            </div> -->\\n        </div>\\n    </body>\\n</html>'"
      ]
     },
     "execution_count": 2,
     "metadata": {},
     "output_type": "execute_result"
    }
   ],
   "source": [
    "%run ../../../modelseedpy/community/mscommscores.py\n",
    "\n",
    "from os import cpu_count\n",
    "df, mets = MSCommScores.kbase_output([model1, model2, #model3\n",
    "                                  ], kbase_obj=kbase_api, environments=environments) #, pool_size=cpu_count()/2)[0])\n",
    "display(df)\n",
    "\n",
    "%run ../../../modelseedpy/core/report.py\n",
    "\n",
    "commscores_report(df, mets)"
   ]
  },
  {
   "cell_type": "code",
   "execution_count": null,
   "id": "b9bb7da2-cc19-439a-b692-27ea6e1ccebf",
   "metadata": {},
   "outputs": [],
   "source": [
    "from modelseedpy import MSCommScores, commscores_report\n",
    "import os\n",
    "    \n",
    "params = {\n",
    "    \"input_models\":[ \"137367/1887/1\", \"137367/2417/1\", \"137367/1925/1\" ],\n",
    "    \"media\": [\"137367/1656/1\"]\n",
    "}\n",
    "media_objs = params['media']\n",
    "input_kbase_models = params['input_models']\n",
    "result_dir = \"./\"\n",
    "print(result_dir)\n",
    "index_html_path = os.path.join(result_dir, \"index.html\")\n",
    "\n",
    "models = [kbase_api.get_from_ws(model) for model in input_kbase_models]\n",
    "media = [kbase_api.get_from_ws(medium) for medium in media_objs]\n",
    "df, mets = MSCommScores.kbase_output(models, kbase_obj=kbase_api, environments=media)\n",
    "reportHTML = commscores_report(df, mets, index_html_path)"
   ]
  },
  {
   "cell_type": "code",
   "execution_count": null,
   "id": "6423fc5a-5309-4303-aa56-96439e996d47",
   "metadata": {},
   "outputs": [],
   "source": []
  }
 ],
 "metadata": {
  "kernelspec": {
   "display_name": "Python 3 (ipykernel)",
   "language": "python",
   "name": "python3"
  },
  "language_info": {
   "codemirror_mode": {
    "name": "ipython",
    "version": 3
   },
   "file_extension": ".py",
   "mimetype": "text/x-python",
   "name": "python",
   "nbconvert_exporter": "python",
   "pygments_lexer": "ipython3",
   "version": "3.9.12"
  }
 },
 "nbformat": 4,
 "nbformat_minor": 5
}
