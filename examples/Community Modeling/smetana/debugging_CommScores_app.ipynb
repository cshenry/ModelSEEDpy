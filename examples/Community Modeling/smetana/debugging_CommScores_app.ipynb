{
 "cells": [
  {
   "cell_type": "code",
   "execution_count": 1,
   "id": "4f457260-f087-418f-a810-1f8a48da424f",
   "metadata": {},
   "outputs": [
    {
     "name": "stdout",
     "output_type": "stream",
     "text": [
      "cobrakbase 0.3.1\n"
     ]
    }
   ],
   "source": [
    "import os\n",
    "local_cobrakbase_path = os.path.join('C:', 'Users', 'Andrew Freiburger','Documents','Argonne','cobrakbase')\n",
    "os.environ[\"HOME\"] = local_cobrakbase_path\n",
    "\n",
    "# import the KBase\n",
    "import cobrakbase\n",
    "# with open(\"/Users/afreiburger/Documents/kbase_token.txt\") as token_file:\n",
    "with open(\"D:/Users/Andrew Freiburger/Documents/Argonne/kbase_token.txt\") as token_file:\n",
    "    kbase_api = cobrakbase.KBaseAPI(token_file.readline())\n",
    "    \n",
    "model1 = kbase_api.get_from_ws(\"137367/1887/1\")\n",
    "model2 = kbase_api.get_from_ws(\"137367/2417/1\")\n",
    "model3 = kbase_api.get_from_ws(\"137367/1925/1\")\n",
    "environments = [kbase_api.get_from_ws(\"137367/1656/1\")]"
   ]
  },
  {
   "cell_type": "code",
   "execution_count": 2,
   "id": "1e337787-35ad-4080-9c53-122b8d87f07d",
   "metadata": {},
   "outputs": [
    {
     "name": "stdout",
     "output_type": "stream",
     "text": [
      "The minimal flux media consists of 34 compounds and a 1.6635843914472912 total influx, with a growth value of 0.10000000000056675\n",
      "The minimal flux media consists of 39 compounds and a 1.8979898582835206 total influx, with a growth value of 0.10000000000035852\n",
      "The minimal flux media consists of 39 compounds and a 1.9434348647771043 total influx, with a growth value of 0.10000000000005213\n",
      "The minimal media of all members:\n",
      "{'Variovorax_sp._CF313_2513020051.fna.RAST.fbamodel': {'media': {'EX_cpd00136_e0': 0.0002806159159591311, 'EX_cpd00058_e0': 0.0002806159159591311, 'EX_cpd00794_e0': 0.8176244301433631, 'EX_cpd00028_e0': 0.0002806159159591311, 'EX_cpd00156_e0': 0.0352233189091625, 'EX_cpd00644_e0': 0.0005612318319187093, 'EX_cpd00322_e0': 0.02417985103372351, 'EX_cpd00099_e0': 0.0002806159159591311, 'EX_cpd00069_e0': 0.012067660460778994, 'EX_cpd00048_e0': 0.0002806159159591311, 'EX_cpd10515_e0': 0.0008418477478773931, 'EX_cpd00254_e0': 0.00028061591595913114, 'EX_cpd00063_e0': 0.00028061591595913103, 'EX_cpd00209_e0': 0.5366108058214961, 'EX_cpd00107_e0': 0.037538884753668865, 'EX_cpd00066_e0': 0.01545194900313454, 'EX_cpd00205_e0': 0.0002806159159591311, 'EX_cpd00119_e0': 0.007926360007371593, 'EX_cpd00220_e0': 0.0008418477478773521, 'EX_cpd00149_e0': 0.0002806159159591311, 'EX_cpd00355_e0': 0.08097454709604926, 'EX_cpd11583_e0': 2.6524073788118896e-13, 'EX_cpd00042_e0': 0.008456496968441576, 'EX_cpd00017_e0': 0.02944552931832897, 'EX_cpd00007_e0': 0.0007015397898978275, 'EX_cpd00393_e0': 0.0008418477478773936, 'EX_cpd00307_e0': 0.02097774605799387, 'EX_cpd00215_e0': 0.00028061591595913103, 'EX_cpd00034_e0': 0.00028061591595913103, 'EX_cpd00793_e0': 0.00028061591595913103, 'EX_cpd00104_e0': 0.0002806159159591311, 'EX_cpd00030_e0': 0.00028061591595913103, 'EX_cpd00065_e0': 0.004720191914502181, 'EX_cpd00051_e0': 0.024669682270134108}}, 'Sphingobium_sp._AP49_2512564014.fna.RAST.fbamodel': {'media': {'EX_cpd00136_e0': 0.00028061591595913044, 'EX_cpd00058_e0': 0.000280615915959131, 'EX_cpd00794_e0': 0.23177487666981836, 'EX_cpd00028_e0': 0.000280615915959131, 'EX_cpd00156_e0': 0.03522331890916251, 'EX_cpd00644_e0': 0.0005612318318995885, 'EX_cpd00322_e0': 0.02417985103368549, 'EX_cpd00654_e0': 0.0011789605965904404, 'EX_cpd00099_e0': 0.00028061591595913103, 'EX_cpd00069_e0': 0.012067660460661201, 'EX_cpd00048_e0': 0.000280615915959131, 'EX_cpd10515_e0': 0.0008418477478773931, 'EX_cpd00254_e0': 0.00028061591595913103, 'EX_cpd00063_e0': 0.0002806159159591311, 'EX_cpd00009_e0': 0.08097478546698383, 'EX_cpd00107_e0': 0.037538884754012715, 'EX_cpd00066_e0': 0.015451949003134503, 'EX_cpd00039_e0': 0.0285438020490179, 'EX_cpd00205_e0': 0.000280615915959131, 'EX_cpd00119_e0': 0.16897710575033004, 'EX_cpd00264_e0': 0.0002806159159591311, 'EX_cpd00220_e0': 0.0008418477478773931, 'EX_cpd00149_e0': 0.00028061591595913103, 'EX_cpd01080_e0': 0.024916275954454083, 'EX_cpd00017_e0': 0.001964311411713915, 'EX_cpd00118_e0': 0.0002806159159591311, 'EX_cpd00007_e0': 1.174152832128853, 'EX_cpd00060_e0': 0.011096446763321919, 'EX_cpd00393_e0': 0.0008418477478774118, 'EX_cpd00277_e0': 0.0020247366767531506, 'EX_cpd00215_e0': 0.00028061591595913103, 'EX_cpd00034_e0': 0.0002806159159591311, 'EX_cpd00793_e0': 0.00028061591595913103, 'EX_cpd00104_e0': 0.000280615915959131, 'EX_cpd00030_e0': 0.0002806159159591311, 'EX_cpd03847_e0': 0.0025010597710894396, 'EX_cpd00051_e0': 0.0246696822701341, 'EX_cpd00065_e0': 0.004720191914502182, 'EX_cpd01017_e0': 0.008456496968423561}}, 'Pseudomonas_sp._GM17_2511231006.fna.RAST.fbamodel': {'media': {'EX_cpd00136_e0': 0.00028061591595913103, 'EX_cpd00058_e0': 0.00028061591595913103, 'EX_cpd00028_e0': 0.00028061591595913103, 'EX_cpd00156_e0': 0.035223318909420306, 'EX_cpd00644_e0': 0.0005612318319182638, 'EX_cpd00322_e0': 0.0241798510337235, 'EX_cpd00654_e0': 0.005215640721434261, 'EX_cpd00099_e0': 0.00028061591595913103, 'EX_cpd00069_e0': 0.012067660460661201, 'EX_cpd00048_e0': 0.00028061591595913103, 'EX_cpd10515_e0': 0.0008418477478773932, 'EX_cpd00254_e0': 0.00028061591595913103, 'EX_cpd00063_e0': 0.0002806159159591311, 'EX_cpd00209_e0': 0.4476081635840533, 'EX_cpd00107_e0': 0.03753888475401271, 'EX_cpd00066_e0': 0.015451949003134503, 'EX_cpd00205_e0': 0.00028061591595913103, 'EX_cpd00119_e0': 0.007926360007371592, 'EX_cpd00264_e0': 0.00028061591595913103, 'EX_cpd00220_e0': 0.0008418477478773932, 'EX_cpd00149_e0': 0.00028061591595913103, 'EX_cpd01080_e0': 0.024916275954454087, 'EX_cpd00355_e0': 1.1842235631384532, 'EX_cpd00017_e0': 0.013060758175035835, 'EX_cpd00179_e0': 0.06274188137472217, 'EX_cpd00007_e0': 0.0008418477478773933, 'EX_cpd00393_e0': 0.0008418477478773844, 'EX_cpd00438_e0': 0.0011917803122624656, 'EX_cpd00307_e0': 0.008410361565448637, 'EX_cpd00215_e0': 0.00028061591595913103, 'EX_cpd00034_e0': 0.00028061591595913103, 'EX_cpd00793_e0': 0.000280615915959131, 'EX_cpd00104_e0': 0.00028061591595913103, 'EX_cpd00030_e0': 0.0002806159159591311, 'EX_cpd03847_e0': 0.002501059771089441, 'EX_cpd00051_e0': 0.0246696822701341, 'EX_cpd00065_e0': 0.00472019191450218, 'EX_cpd00311_e0': 0.01519312329593317, 'EX_cpd01017_e0': 0.008456496968442235}}}\n",
      "\n",
      "Examining the 3 model pairs\n",
      "cpd11416_c0 bio1: 0.5 cpd11416_c1 + 0.5 cpd11416_c2 --> cpd11416_c0;\tcpd11416_c0 SK_cpd11416_c0: cpd11416_c0 <=> ;\tMainProcess~~0\t['Variovorax_sp._CF313_2513020051.fna.RAST.fbamodel', 'Sphingobium_sp._AP49_2512564014.fna.RAST.fbamodel']\n",
      "cpd11416_c0 bio1: 0.5 cpd11416_c1 + 0.5 cpd11416_c2 --> cpd11416_c0;\tcpd11416_c0 SK_cpd11416_c0: cpd11416_c0 <=> ;\tMainProcess~~1\t['Variovorax_sp._CF313_2513020051.fna.RAST.fbamodel', 'Pseudomonas_sp._GM17_2511231006.fna.RAST.fbamodel']\n",
      "cpd11416_c0 bio1: 0.5 cpd11416_c1 + 0.5 cpd11416_c2 --> cpd11416_c0;\tcpd11416_c0 SK_cpd11416_c0: cpd11416_c0 <=> ;\tMainProcess~~2\t['Sphingobium_sp._AP49_2512564014.fna.RAST.fbamodel', 'Pseudomonas_sp._GM17_2511231006.fna.RAST.fbamodel']\n"
     ]
    },
    {
     "data": {
      "text/html": [
       "<div>\n",
       "<style scoped>\n",
       "    .dataframe tbody tr th:only-of-type {\n",
       "        vertical-align: middle;\n",
       "    }\n",
       "\n",
       "    .dataframe tbody tr th {\n",
       "        vertical-align: top;\n",
       "    }\n",
       "\n",
       "    .dataframe thead th {\n",
       "        text-align: right;\n",
       "    }\n",
       "</style>\n",
       "<table border=\"1\" class=\"dataframe\">\n",
       "  <thead>\n",
       "    <tr style=\"text-align: right;\">\n",
       "      <th></th>\n",
       "      <th>model1</th>\n",
       "      <th>model2</th>\n",
       "      <th>media</th>\n",
       "      <th>mro_model1</th>\n",
       "      <th>mro_model2</th>\n",
       "      <th>cip</th>\n",
       "      <th>mip_model1</th>\n",
       "      <th>mip_model2</th>\n",
       "      <th>pc</th>\n",
       "      <th>bss_model0</th>\n",
       "      <th>bss_model1</th>\n",
       "      <th>bit</th>\n",
       "      <th>gyd</th>\n",
       "      <th>RFC</th>\n",
       "    </tr>\n",
       "  </thead>\n",
       "  <tbody>\n",
       "    <tr>\n",
       "      <th>0</th>\n",
       "      <td>Variovorax_sp._CF313_2513020051.fna.RAST.fbamodel</td>\n",
       "      <td>Sphingobium_sp._AP49_2512564014.fna.RAST.fbamodel</td>\n",
       "      <td>R2A_edition_003</td>\n",
       "      <td>0.85294 (29/34)</td>\n",
       "      <td>0.74359 (29/39)</td>\n",
       "      <td>23</td>\n",
       "      <td>3 (1)</td>\n",
       "      <td>12 (5)</td>\n",
       "      <td>0.640966</td>\n",
       "      <td>0.0</td>\n",
       "      <td>0.0</td>\n",
       "      <td>mutualism</td>\n",
       "      <td>0.71279</td>\n",
       "      <td>0.35061</td>\n",
       "    </tr>\n",
       "    <tr>\n",
       "      <th>1</th>\n",
       "      <td>Variovorax_sp._CF313_2513020051.fna.RAST.fbamodel</td>\n",
       "      <td>Pseudomonas_sp._GM17_2511231006.fna.RAST.fbamodel</td>\n",
       "      <td>R2A_edition_003</td>\n",
       "      <td>0.91176 (31/34)</td>\n",
       "      <td>0.79487 (31/39)</td>\n",
       "      <td>20</td>\n",
       "      <td>1 (0)</td>\n",
       "      <td>3 (0)</td>\n",
       "      <td>0.939003</td>\n",
       "      <td>0.0</td>\n",
       "      <td>0.0</td>\n",
       "      <td>mutualism</td>\n",
       "      <td>0.47295</td>\n",
       "      <td>0.42291</td>\n",
       "    </tr>\n",
       "    <tr>\n",
       "      <th>2</th>\n",
       "      <td>Sphingobium_sp._AP49_2512564014.fna.RAST.fbamodel</td>\n",
       "      <td>Pseudomonas_sp._GM17_2511231006.fna.RAST.fbamodel</td>\n",
       "      <td>R2A_edition_003</td>\n",
       "      <td>0.84615 (33/39)</td>\n",
       "      <td>0.84615 (33/39)</td>\n",
       "      <td>13</td>\n",
       "      <td>2 (0)</td>\n",
       "      <td>2 (0)</td>\n",
       "      <td>0.921067</td>\n",
       "      <td>0.0</td>\n",
       "      <td>0.0</td>\n",
       "      <td>amensalism</td>\n",
       "      <td>0.16283</td>\n",
       "      <td>0.30420</td>\n",
       "    </tr>\n",
       "  </tbody>\n",
       "</table>\n",
       "</div>"
      ],
      "text/plain": [
       "                                              model1  \\\n",
       "0  Variovorax_sp._CF313_2513020051.fna.RAST.fbamodel   \n",
       "1  Variovorax_sp._CF313_2513020051.fna.RAST.fbamodel   \n",
       "2  Sphingobium_sp._AP49_2512564014.fna.RAST.fbamodel   \n",
       "\n",
       "                                              model2            media  \\\n",
       "0  Sphingobium_sp._AP49_2512564014.fna.RAST.fbamodel  R2A_edition_003   \n",
       "1  Pseudomonas_sp._GM17_2511231006.fna.RAST.fbamodel  R2A_edition_003   \n",
       "2  Pseudomonas_sp._GM17_2511231006.fna.RAST.fbamodel  R2A_edition_003   \n",
       "\n",
       "        mro_model1       mro_model2 cip mip_model1 mip_model2        pc  \\\n",
       "0  0.85294 (29/34)  0.74359 (29/39)  23      3 (1)     12 (5)  0.640966   \n",
       "1  0.91176 (31/34)  0.79487 (31/39)  20      1 (0)      3 (0)  0.939003   \n",
       "2  0.84615 (33/39)  0.84615 (33/39)  13      2 (0)      2 (0)  0.921067   \n",
       "\n",
       "  bss_model0 bss_model1         bit      gyd      RFC  \n",
       "0        0.0        0.0   mutualism  0.71279  0.35061  \n",
       "1        0.0        0.0   mutualism  0.47295  0.42291  \n",
       "2        0.0        0.0  amensalism  0.16283  0.30420  "
      ]
     },
     "metadata": {},
     "output_type": "display_data"
    }
   ],
   "source": [
    "%run ../../../modelseedpy/community/mscommscores.py\n",
    "\n",
    "from os import cpu_count\n",
    "display(MSCommScores.kbase_output([model1, model2, model3], kbase_obj=kbase_api, environments=environments)[0]) #, pool_size=cpu_count()/2)[0])"
   ]
  },
  {
   "cell_type": "code",
   "execution_count": null,
   "id": "b9bb7da2-cc19-439a-b692-27ea6e1ccebf",
   "metadata": {},
   "outputs": [],
   "source": []
  }
 ],
 "metadata": {
  "kernelspec": {
   "display_name": "Python 3 (ipykernel)",
   "language": "python",
   "name": "python3"
  },
  "language_info": {
   "codemirror_mode": {
    "name": "ipython",
    "version": 3
   },
   "file_extension": ".py",
   "mimetype": "text/x-python",
   "name": "python",
   "nbconvert_exporter": "python",
   "pygments_lexer": "ipython3",
   "version": "3.9.12"
  }
 },
 "nbformat": 4,
 "nbformat_minor": 5
}
