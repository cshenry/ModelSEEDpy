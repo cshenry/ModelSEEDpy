{
 "cells": [
  {
   "cell_type": "code",
   "execution_count": 1,
   "id": "4f457260-f087-418f-a810-1f8a48da424f",
   "metadata": {},
   "outputs": [
    {
     "name": "stdout",
     "output_type": "stream",
     "text": [
      "cobrakbase 0.3.1\n"
     ]
    }
   ],
   "source": [
    "import os\n",
    "local_cobrakbase_path = os.path.join('C:', 'Users', 'Andrew Freiburger','Documents','Argonne','cobrakbase')\n",
    "os.environ[\"HOME\"] = local_cobrakbase_path\n",
    "\n",
    "# import the KBase\n",
    "import cobrakbase\n",
    "# with open(\"/Users/afreiburger/Documents/kbase_token.txt\") as token_file:\n",
    "with open(\"D:/Users/Andrew Freiburger/Documents/Argonne/kbase_token.txt\") as token_file:\n",
    "    kbase_api = cobrakbase.KBaseAPI(token_file.readline())\n",
    "    \n",
    "model1 = kbase_api.get_from_ws(\"137367/1887/1\")\n",
    "model2 = kbase_api.get_from_ws(\"137367/2417/1\")\n",
    "model3 = kbase_api.get_from_ws(\"137367/1925/1\")\n",
    "environments = [kbase_api.get_from_ws(\"137367/1656/1\")]"
   ]
  },
  {
   "cell_type": "code",
   "execution_count": 2,
   "id": "1e337787-35ad-4080-9c53-122b8d87f07d",
   "metadata": {},
   "outputs": [
    {
     "name": "stdout",
     "output_type": "stream",
     "text": [
      "The minimal flux media consists of 40 compounds and a 1.8979898582865002 total influx, with a growth value of 0.10000000000051902\n",
      "The minimal flux media consists of 39 compounds and a 1.9434348647767898 total influx, with a growth value of 0.100000000000034\n",
      "The minimal media of all members:\n",
      "{'Sphingobium_sp._AP49_2512564014.fna.RAST.fbamodel': {'media': {'EX_cpd00048_e0': 0.000280615915959131, 'EX_cpd00264_e0': 0.0002806159159591311, 'EX_cpd03847_e0': 0.0025010597710894396, 'EX_cpd00063_e0': 0.0002806159159591311, 'EX_cpd00322_e0': 0.024179851033723502, 'EX_cpd00277_e0': 0.0020247366767531506, 'EX_cpd00119_e0': 0.1689771057508958, 'EX_cpd00149_e0': 0.00028061591595913103, 'EX_cpd00107_e0': 0.037538884754166196, 'EX_cpd00205_e0': 0.000280615915959131, 'EX_cpd00794_e0': 0.2317748766704064, 'EX_cpd00065_e0': 0.004720191914502182, 'EX_cpd00118_e0': 0.0002806159159591311, 'EX_cpd01080_e0': 0.024916275954454083, 'EX_cpd00104_e0': 0.000280615915959131, 'EX_cpd00069_e0': 0.012067660460661201, 'EX_cpd00156_e0': 0.03522331890916251, 'EX_cpd00066_e0': 0.015451949003134503, 'EX_cpd00136_e0': 0.00028061591595913114, 'EX_cpd00060_e0': 0.011096446763321914, 'EX_cpd00058_e0': 0.000280615915959131, 'EX_cpd00215_e0': 0.00028061591595913103, 'EX_cpd00214_e0': 1.2595324104749527e-17, 'EX_cpd00654_e0': 0.0011789605965904404, 'EX_cpd00793_e0': 0.00028061591595913103, 'EX_cpd00644_e0': 0.0005612318318673393, 'EX_cpd10515_e0': 0.0008418477478773931, 'EX_cpd00039_e0': 0.028543802049017904, 'EX_cpd00007_e0': 1.1741528321305053, 'EX_cpd00254_e0': 0.00028061591595913103, 'EX_cpd00099_e0': 0.00028061591595913103, 'EX_cpd00051_e0': 0.0246696822701341, 'EX_cpd00393_e0': 0.0008418477478773948, 'EX_cpd00030_e0': 0.0002806159159591311, 'EX_cpd00034_e0': 0.0002806159159591311, 'EX_cpd00220_e0': 0.0008418477478773931, 'EX_cpd01017_e0': 0.008456496968391312, 'EX_cpd00009_e0': 0.0809747854670308, 'EX_cpd00017_e0': 0.0019643114117139167, 'EX_cpd00028_e0': 0.000280615915959131}}, 'Pseudomonas_sp._GM17_2511231006.fna.RAST.fbamodel': {'media': {'EX_cpd00048_e0': 0.00028061591595913103, 'EX_cpd00311_e0': 0.015193123296206396, 'EX_cpd00264_e0': 0.00028061591595913103, 'EX_cpd03847_e0': 0.002501059771089441, 'EX_cpd00209_e0': 0.4476081635837938, 'EX_cpd00307_e0': 0.008410361565448634, 'EX_cpd00063_e0': 0.0002806159159591311, 'EX_cpd00322_e0': 0.0241798510337235, 'EX_cpd00119_e0': 0.007926360007371592, 'EX_cpd00149_e0': 0.00028061591595913103, 'EX_cpd00107_e0': 0.03753888475401271, 'EX_cpd00205_e0': 0.00028061591595913103, 'EX_cpd00065_e0': 0.00472019191450218, 'EX_cpd01080_e0': 0.024916275954454087, 'EX_cpd00104_e0': 0.00028061591595913103, 'EX_cpd00069_e0': 0.012067660460661201, 'EX_cpd00156_e0': 0.035223318909420306, 'EX_cpd00066_e0': 0.015451949003134503, 'EX_cpd00136_e0': 0.00028061591595913076, 'EX_cpd00355_e0': 1.184223563138582, 'EX_cpd00058_e0': 0.00028061591595913103, 'EX_cpd00215_e0': 0.00028061591595913103, 'EX_cpd00654_e0': 0.005215640721434261, 'EX_cpd00793_e0': 0.000280615915959131, 'EX_cpd00644_e0': 0.0005612318319182638, 'EX_cpd10515_e0': 0.0008418477478773932, 'EX_cpd00007_e0': 0.0008418477478773928, 'EX_cpd00254_e0': 0.00028061591595913103, 'EX_cpd00099_e0': 0.00028061591595913103, 'EX_cpd00051_e0': 0.0246696822701341, 'EX_cpd00393_e0': 0.000841847747877384, 'EX_cpd00030_e0': 0.0002806159159591311, 'EX_cpd00034_e0': 0.00028061591595913103, 'EX_cpd00220_e0': 0.0008418477478773932, 'EX_cpd00179_e0': 0.06274188137426519, 'EX_cpd01017_e0': 0.008456496968442235, 'EX_cpd00438_e0': 0.0011917803122624656, 'EX_cpd00017_e0': 0.013060758175035835, 'EX_cpd00028_e0': 0.00028061591595913103}}}\n",
      "\n",
      "Examining the 1 model pairs\n",
      "cpd11416_c0 bio1: 0.5 cpd11416_c1 + 0.5 cpd11416_c2 --> cpd11416_c0;\tcpd11416_c0 SK_cpd11416_c0: cpd11416_c0 <=> ;\tMainProcess~~0\t['Sphingobium_sp._AP49_2512564014.fna.RAST.fbamodel', 'Pseudomonas_sp._GM17_2511231006.fna.RAST.fbamodel']\n",
      "{'cpd00136', 'cpd00393', 'cpd00058', 'cpd00007', 'cpd00794', 'cpd00119', 'cpd00214', 'cpd00254', 'cpd00034', 'cpd00322', 'cpd00048', 'cpd00220', 'cpd00009', 'cpd00654', 'cpd00104', 'cpd00793', 'cpd00644', 'cpd00063', 'cpd00264', 'cpd01080', 'cpd00149', 'cpd01017', 'cpd03847', 'cpd00205', 'cpd00069', 'cpd00017', 'cpd00156', 'cpd10515', 'cpd00051', 'cpd00060', 'cpd00118', 'cpd00030', 'cpd00099', 'cpd00066', 'cpd00039', 'cpd00215', 'cpd00065', 'cpd00028', 'cpd00107', 'cpd00277'}\n",
      "{'cpd00393', 'cpd03813', 'cpd36635', 'cpd03919', 'cpd02626', 'cpd00044', 'cpd02692', 'cpd15669', 'cpd15500', 'cpd00147', 'cpd11959', 'cpd15681', 'cpd15298', 'cpd00343', 'cpd02886', 'cpd03833', 'cpd00161', 'cpd03078', 'cpd02820', 'cpd01011', 'cpd09879', 'cpd15506', 'cpd15692', 'cpd00630', 'cpd02862', 'cpd15535', 'cpd11477', 'cpd11437', 'cpd00177', 'cpd03704', 'cpd03326', 'cpd00005', 'cpd11526', 'cpd00121', 'cpd28083', 'cpd15557', 'cpd00065', 'cpd15401', 'cpd00275', 'cpd00052', 'cpd22028', 'cpd15475', 'cpd00268', 'cpd00501', 'cpd15552', 'cpd08210', 'cpd00522', 'cpd11513', 'cpd14720', 'cpd00162', 'cpd02921', 'cpd02740', 'cpd00658', 'cpd02375', 'cpd00480', 'cpd02572', 'cpd00024', 'cpd15526', 'cpd14875', 'cpd02920', 'cpd11531', 'cpd11912', 'cpd26672', 'cpd00757', 'cpd11475', 'cpd00367', 'cpd02229', 'cpd00461', 'cpd00946', 'cpd00447', 'cpd15547', 'cpd01844', 'cpd01017', 'cpd00521', 'cpd00103', 'cpd11491', 'cpd15720', 'cpd00706', 'cpd00492', 'cpd00424', 'cpd01715', 'cpd15484', 'cpd00284', 'cpd01242', 'cpd03559', 'cpd03517', 'cpd02140', 'cpd11473', 'cpd15677', 'cpd00186', 'cpd12227', 'cpd15536', 'cpd03453', 'cpd02021', 'cpd00033', 'cpd15695', 'cpd00311', 'cpd01630', 'cpd00089', 'cpd00774', 'cpd01504', 'cpd01150', 'cpd01324', 'cpd15505', 'cpd00930', 'cpd02605', 'cpd14698', 'cpd00781', 'cpd00448', 'cpd00075', 'cpd00922', 'cpd02574', 'cpd00220', 'cpd15553', 'cpd02124', 'cpd11523', 'cpd00093', 'cpd00957', 'cpd00098', 'cpd00281', 'cpd00013', 'cpd00159', 'cpd15572', 'cpd35194', 'cpd19442', 'cpd01211', 'cpd00236', 'cpd00036', 'cpd11470', 'cpd15480', 'cpd00954', 'cpd02555', 'cpd00218', 'cpd00071', 'cpd15302', 'cpd03171', 'cpd03835', 'cpd00223', 'cpd00037', 'cpd01262', 'cpd14874', 'cpd02120', 'cpd00533', 'cpd03495', 'cpd00412', 'cpd09844', 'cpd00035', 'cpd01507', 'cpd00198', 'cpd00085', 'cpd00235', 'cpd03914', 'cpd11570', 'cpd11225', 'cpd00504', 'cpd00516', 'cpd11534', 'cpd00008', 'cpd00157', 'cpd00184', 'cpd11420', 'cpd11494', 'cpd00298', 'cpd00054', 'cpd15555', 'cpd09843', 'cpd09027', 'cpd02884', 'cpd00082', 'cpd15772', 'cpd15494', 'cpd08372', 'cpd03117', 'cpd15666', 'cpd11206', 'cpd03471', 'cpd00129', 'cpd00102', 'cpd15793', 'cpd00945', 'cpd03063', 'cpd03126', 'cpd00712', 'cpd09254', 'cpd15269', 'cpd10515', 'cpd11492', 'cpd00118', 'cpd15691', 'cpd00802', 'cpd00856', 'cpd11510', 'cpd27744', 'cpd11522', 'cpd15331', 'cpd00683', 'cpd15726', 'cpd11310', 'cpd03520', 'cpd01831', 'cpd15766', 'cpd15717', 'cpd03189', 'cpd15170', 'cpd00800', 'cpd01977', 'cpd00087', 'cpd00007', 'cpd02791', 'cpd03130', 'cpd01693', 'cpd00146', 'cpd00863', 'cpd15328', 'cpd01679', 'cpd00876', 'cpd00978', 'cpd02501', 'cpd00144', 'cpd12225', 'cpd15537', 'cpd00142', 'cpd15387', 'cpd00932', 'cpd03491', 'cpd10516', 'cpd11489', 'cpd00072', 'cpd00296', 'cpd00067', 'cpd08316', 'cpd15325', 'cpd08288', 'cpd04539', 'cpd03918', 'cpd00646', 'cpd00056', 'cpd15327', 'cpd15571', 'cpd00508', 'cpd03119', 'cpd03606', 'cpd00199', 'cpd00123', 'cpd00515', 'cpd00047', 'cpd00791', 'cpd02201', 'cpd02882', 'cpd15492', 'cpd00722', 'cpd01966', 'cpd11572', 'cpd15569', 'cpd00096', 'cpd15689', 'cpd02030', 'cpd11563', 'cpd02597', 'cpd00125', 'cpd00002', 'cpd15530', 'cpd00581', 'cpd00170', 'cpd14700', 'cpd21488', 'cpd00095', 'cpd03447', 'cpd11573', 'cpd15546', 'cpd01914', 'cpd15694', 'cpd10162', 'cpd00078', 'cpd00239', 'cpd11295', 'cpd11621', 'cpd03488', 'cpd00091', 'cpd02964', 'cpd00023', 'cpd00300', 'cpd00014', 'cpd15352', 'cpd02948', 'cpd00729', 'cpd03127', 'cpd03761', 'cpd00020', 'cpd00509', 'cpd15507', 'cpd15560', 'cpd08615', 'cpd00294', 'cpd15727', 'cpd11296', 'cpd00050', 'cpd15294', 'cpd03114', 'cpd11439', 'cpd00659', 'cpd00873', 'cpd03123', 'cpd03420', 'cpd07924', 'cpd21088', 'cpd00626', 'cpd22027', 'cpd15541', 'cpd15441', 'cpd00229', 'cpd00359', 'cpd15679', 'cpd02235', 'cpd00390', 'cpd14507', 'cpd15346', 'cpd02152', 'cpd00083', 'cpd00341', 'cpd00046', 'cpd00246', 'cpd00731', 'cpd00897', 'cpd00222', 'cpd15277', 'cpd02552', 'cpd03708', 'cpd00114', 'cpd04242', 'cpd03572', 'cpd00274', 'cpd00009', 'cpd15418', 'cpd11465', 'cpd00357', 'cpd11555', 'cpd00344', 'cpd11530', 'cpd15423', 'cpd01294', 'cpd15329', 'cpd15671', 'cpd11485', 'cpd14703', 'cpd00022', 'cpd02904', 'cpd02024', 'cpd15550', 'cpd00346', 'cpd00101', 'cpd19020', 'cpd00703', 'cpd00287', 'cpd15716', 'cpd00347', 'cpd00426', 'cpd00986', 'cpd01217', 'cpd36025', 'cpd00358', 'cpd00283', 'cpd15682', 'cpd00350', 'cpd02720', 'cpd02724', 'cpd12543', 'cpd00086', 'cpd03446', 'cpd01399', 'cpd12712', 'cpd00794', 'cpd00006', 'cpd19019', 'cpd01716', 'cpd02993', 'cpd03392', 'cpd00064', 'cpd00219', 'cpd03593', 'cpd00171', 'cpd15699', 'cpd19245', 'cpd15469', 'cpd15488', 'cpd11514', 'cpd00982', 'cpd15668', 'cpd01777', 'cpd02590', 'cpd03492', 'cpd03443', 'cpd14702', 'cpd15693', 'cpd15527', 'cpd15688', 'cpd15495', 'cpd11498', 'cpd11517', 'cpd18057', 'cpd00264', 'cpd00069', 'cpd00116', 'cpd01311', 'cpd27020', 'cpd15543', 'cpd03456', 'cpd11441', 'cpd15544', 'cpd03519', 'cpd15683', 'cpd15539', 'cpd15673', 'cpd15531', 'cpd15549', 'cpd00066', 'cpd00062', 'cpd03187', 'cpd00152', 'cpd00143', 'cpd00465', 'cpd00004', 'cpd02016', 'cpd11620', 'cpd00780', 'cpd11486', 'cpd01749', 'cpd02103', 'cpd15532', 'cpd08289', 'cpd00100', 'cpd12005', 'cpd02175', 'cpd00977', 'cpd15489', 'cpd21124', 'cpd19505', 'cpd00641', 'cpd00196', 'cpd15524', 'cpd03584', 'cpd00104', 'cpd02394', 'cpd00206', 'cpd33930', 'cpd00719', 'cpd02431', 'cpd01080', 'cpd15719', 'cpd00763', 'cpd02711', 'cpd15533', 'cpd00025', 'cpd02978', 'cpd15722', 'cpd03839', 'cpd00443', 'cpd00452', 'cpd00051', 'cpd03423', 'cpd00689', 'cpd15540', 'cpd33647', 'cpd15554', 'cpd00038', 'cpd00134', 'cpd15697', 'cpd03897', 'cpd03830', 'cpd11559', 'cpd00770', 'cpd02197', 'cpd11432', 'cpd03125', 'cpd02439', 'cpd01710', 'cpd00003', 'cpd03697', 'cpd11539', 'cpd03470', 'cpd00918', 'cpd01567', 'cpd00041', 'cpd00193', 'cpd00834', 'cpd03916', 'cpd00249', 'cpd02547', 'cpd00836', 'cpd00092', 'cpd00110', 'cpd15485', 'cpd27713', 'cpd11469', 'cpd03726', 'cpd00247', 'cpd03129', 'cpd03091', 'cpd03917', 'cpd15764', 'cpd03646', 'cpd15558', 'cpd03448', 'cpd15718', 'cpd00226', 'cpd00299', 'cpd15528', 'cpd03752', 'cpd11435', 'cpd04918', 'cpd02097', 'cpd00525', 'cpd15771', 'cpd02333', 'cpd00355', 'cpd00080', 'cpd00804', 'cpd11506', 'cpd32550', 'cpd03698', 'cpd01620', 'cpd00128', 'cpd15698', 'cpd03736', 'cpd00523', 'cpd11471', 'cpd15561', 'cpd00153', 'cpd00207', 'cpd08211', 'cpd15769', 'cpd21479', 'cpd00106', 'cpd11484', 'cpd15765', 'cpd21167', 'cpd02345', 'cpd00068', 'cpd15570', 'cpd03121', 'cpd32452', 'cpd00352', 'cpd01741', 'cpd11538', 'cpd00015', 'cpd00032', 'cpd00084', 'cpd15521', 'cpd15725', 'cpd00029', 'cpd00061', 'cpd00493', 'cpd11567', 'cpd00019', 'cpd00126', 'cpd00931', 'cpd11571', 'cpd12489', 'cpd00477', 'cpd11466', 'cpd15724', 'cpd23005', 'cpd12370', 'cpd00055', 'cpd00070', 'cpd00204', 'cpd15477', 'cpd02069', 'cpd00506', 'cpd00860', 'cpd15239', 'cpd15432', 'cpd00077', 'cpd11551', 'cpd03524', 'cpd15676', 'cpd15667', 'cpd02090', 'cpd04122', 'cpd00759', 'cpd02096', 'cpd02828', 'cpd00868', 'cpd02160', 'cpd00900', 'cpd15680', 'cpd02979', 'cpd02060', 'cpd11547', 'cpd00277', 'cpd11542', 'cpd21288', 'cpd00202', 'cpd03525', 'cpd00026', 'cpd03831', 'cpd02721', 'cpd02851', 'cpd15237', 'cpd00655', 'cpd15353', 'cpd00048', 'cpd00638', 'cpd02857', 'cpd15568', 'cpd01720', 'cpd15274', 'cpd00356', 'cpd00908', 'cpd03608', 'cpd22022', 'cpd15665', 'cpd00079', 'cpd18072', 'cpd15326', 'cpd03034', 'cpd15672', 'cpd03451', 'cpd00331', 'cpd15579', 'cpd00817', 'cpd15420', 'cpd00045', 'cpd02125', 'cpd15686', 'cpd15499', 'cpd04920', 'cpd00221', 'cpd15421', 'cpd02498', 'cpd15675', 'cpd02991', 'cpd11543', 'cpd02656', 'cpd00107', 'cpd11527', 'cpd00053', 'cpd00139', 'cpd02569', 'cpd11509', 'cpd14545', 'cpd03494', 'cpd03834', 'cpd02465', 'cpd01997', 'cpd11501', 'cpd02701', 'cpd00279', 'cpd15339', 'cpd15529', 'cpd00428', 'cpd15386', 'cpd00755', 'cpd00309', 'cpd15422', 'cpd14955', 'cpd15361', 'cpd14718', 'cpd00540', 'cpd00010', 'cpd08301', 'cpd02700', 'cpd00027', 'cpd15684', 'cpd03449', 'cpd15556', 'cpd15479', 'cpd03585', 'cpd11497', 'cpd15330', 'cpd00042', 'cpd15700', 'cpd21301', 'cpd11505', 'cpd00231', 'cpd12139', 'cpd02360', 'cpd00016', 'cpd12164', 'cpd17043', 'cpd15687', 'cpd00699', 'cpd00135', 'cpd00430', 'cpd00039', 'cpd00001', 'cpd00028', 'cpd03422', 'cpd00040', 'cpd02893', 'cpd00890', 'cpd15419', 'cpd03762', 'cpd02074', 'cpd00201', 'cpd00182', 'cpd15721', 'cpd15548', 'cpd11488', 'cpd03426', 'cpd11518', 'cpd02631', 'cpd11467', 'cpd00790', 'cpd00478', 'cpd00155', 'cpd08449', 'cpd02611', 'cpd22065', 'cpd00875', 'cpd02775', 'cpd03526', 'cpd02068', 'cpd03915', 'cpd02295', 'cpd11535', 'cpd00145', 'cpd00762', 'cpd14876', 'cpd15504', 'cpd11474', 'cpd00018', 'cpd00339', 'cpd15510', 'cpd00421', 'cpd00031', 'cpd15723', 'cpd03832', 'cpd00793', 'cpd03480', 'cpd02961', 'cpd03920', 'cpd00764', 'cpd03407', 'cpd02894', 'cpd00854', 'cpd03586', 'cpd14699', 'cpd00524', 'cpd03847', 'cpd00180', 'cpd01101', 'cpd00482', 'cpd22290', 'cpd00105', 'cpd02255', 'cpd00151', 'cpd00956', 'cpd00060', 'cpd12689', 'cpd17042', 'cpd11502', 'cpd21032', 'cpd01695', 'cpd15678', 'cpd11255', 'cpd00446', 'cpd00483', 'cpd00111', 'cpd00896', 'cpd15238', 'cpd15396', 'cpd15696', 'cpd02089', 'cpd15690', 'cpd26760', 'cpd27484', 'cpd00809', 'cpd00094', 'cpd00216', 'cpd00119', 'cpd00109', 'cpd00214', 'cpd01046', 'cpd00485', 'cpd21087', 'cpd00327', 'cpd11434', 'cpd12848', 'cpd02930', 'cpd02507', 'cpd00073', 'cpd02258', 'cpd15358', 'cpd27180', 'cpd00113', 'cpd00166', 'cpd15391', 'cpd00295', 'cpd17041', 'cpd02419', 'cpd00241', 'cpd11468', 'cpd00491', 'cpd00644', 'cpd26761', 'cpd00498', 'cpd00169', 'cpd11416', 'cpd15534', 'cpd00438', 'cpd15417', 'cpd00132', 'cpd00081', 'cpd15685', 'cpd15674', 'cpd15538', 'cpd00043', 'cpd00200', 'cpd02678', 'cpd00340', 'cpd02731', 'cpd03445', 'cpd19503', 'cpd02083', 'cpd01092', 'cpd15525', 'cpd00012', 'cpd03666', 'cpd03002', 'cpd02666', 'cpd00288', 'cpd11313', 'cpd00286', 'cpd15523', 'cpd03444', 'cpd02826', 'cpd11830', 'cpd28253', 'cpd00290', 'cpd00011', 'cpd02546', 'cpd00843', 'cpd11493', 'cpd15545', 'cpd15522', 'cpd02968', 'cpd00320', 'cpd00117', 'cpd00122', 'cpd00654', 'cpd11487', 'cpd03496', 'cpd00293', 'cpd15399', 'cpd00307', 'cpd02210', 'cpd00213', 'cpd00017', 'cpd00330', 'cpd00650', 'cpd02147', 'cpd00497', 'cpd15542', 'cpd11421', 'cpd00203', 'cpd01155', 'cpd03416', 'cpd15770', 'cpd06227', 'cpd02566', 'cpd01919', 'cpd00209', 'cpd00297', 'cpd02234', 'cpd02506', 'cpd00869', 'cpd11490', 'cpd00197', 'cpd03279', 'cpd00911', 'cpd00115', 'cpd03518', 'cpd27021', 'cpd08287', 'cpd01329'}\n"
     ]
    },
    {
     "data": {
      "text/html": [
       "<div>\n",
       "<style scoped>\n",
       "    .dataframe tbody tr th:only-of-type {\n",
       "        vertical-align: middle;\n",
       "    }\n",
       "\n",
       "    .dataframe tbody tr th {\n",
       "        vertical-align: top;\n",
       "    }\n",
       "\n",
       "    .dataframe thead th {\n",
       "        text-align: right;\n",
       "    }\n",
       "</style>\n",
       "<table border=\"1\" class=\"dataframe\">\n",
       "  <thead>\n",
       "    <tr style=\"text-align: right;\">\n",
       "      <th></th>\n",
       "      <th>model1</th>\n",
       "      <th>model2</th>\n",
       "      <th>media</th>\n",
       "      <th>mro_model1</th>\n",
       "      <th>mro_model2</th>\n",
       "      <th>cip</th>\n",
       "      <th>mip_model1</th>\n",
       "      <th>mip_model2</th>\n",
       "      <th>pc</th>\n",
       "      <th>bss_model1</th>\n",
       "      <th>bss_model2</th>\n",
       "      <th>bit</th>\n",
       "      <th>gyd</th>\n",
       "      <th>RFC</th>\n",
       "    </tr>\n",
       "  </thead>\n",
       "  <tbody>\n",
       "    <tr>\n",
       "      <th>0</th>\n",
       "      <td>Sphingobium_sp._AP49_2512564014.fna.RAST.fbamodel</td>\n",
       "      <td>Pseudomonas_sp._GM17_2511231006.fna.RAST.fbamodel</td>\n",
       "      <td>R2A_edition_003</td>\n",
       "      <td>0.82500 (33/40)</td>\n",
       "      <td>0.84615 (33/39)</td>\n",
       "      <td>21</td>\n",
       "      <td>9 (3)</td>\n",
       "      <td>4 (1)</td>\n",
       "      <td>0.60797</td>\n",
       "      <td>0.7</td>\n",
       "      <td>0.641026</td>\n",
       "      <td>mutualism</td>\n",
       "      <td>0.16283</td>\n",
       "      <td>0.30420</td>\n",
       "    </tr>\n",
       "  </tbody>\n",
       "</table>\n",
       "</div>"
      ],
      "text/plain": [
       "                                              model1  \\\n",
       "0  Sphingobium_sp._AP49_2512564014.fna.RAST.fbamodel   \n",
       "\n",
       "                                              model2            media  \\\n",
       "0  Pseudomonas_sp._GM17_2511231006.fna.RAST.fbamodel  R2A_edition_003   \n",
       "\n",
       "        mro_model1       mro_model2 cip mip_model1 mip_model2       pc  \\\n",
       "0  0.82500 (33/40)  0.84615 (33/39)  21      9 (3)      4 (1)  0.60797   \n",
       "\n",
       "  bss_model1 bss_model2        bit      gyd      RFC  \n",
       "0        0.7   0.641026  mutualism  0.16283  0.30420  "
      ]
     },
     "metadata": {},
     "output_type": "display_data"
    }
   ],
   "source": [
    "%run ../../../modelseedpy/community/mscommscores.py\n",
    "\n",
    "from os import cpu_count\n",
    "display(MSCommScores.kbase_output([model1, model2, #model3\n",
    "                                  ], kbase_obj=kbase_api, environments=environments)[0]) #, pool_size=cpu_count()/2)[0])"
   ]
  },
  {
   "cell_type": "code",
   "execution_count": null,
   "id": "b9bb7da2-cc19-439a-b692-27ea6e1ccebf",
   "metadata": {},
   "outputs": [],
   "source": []
  }
 ],
 "metadata": {
  "kernelspec": {
   "display_name": "Python 3 (ipykernel)",
   "language": "python",
   "name": "python3"
  },
  "language_info": {
   "codemirror_mode": {
    "name": "ipython",
    "version": 3
   },
   "file_extension": ".py",
   "mimetype": "text/x-python",
   "name": "python",
   "nbconvert_exporter": "python",
   "pygments_lexer": "ipython3",
   "version": "3.9.12"
  }
 },
 "nbformat": 4,
 "nbformat_minor": 5
}
