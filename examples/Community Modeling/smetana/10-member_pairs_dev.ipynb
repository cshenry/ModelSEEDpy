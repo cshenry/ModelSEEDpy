{
 "cells": [
  {
   "cell_type": "markdown",
   "id": "be17384b-a284-468c-a0b0-f0628d0802e6",
   "metadata": {},
   "source": [
    "# Load KBase"
   ]
  },
  {
   "cell_type": "code",
   "execution_count": 1,
   "id": "68a7047b-5da4-479d-85a1-87497aeeb978",
   "metadata": {},
   "outputs": [
    {
     "name": "stdout",
     "output_type": "stream",
     "text": [
      "cobrakbase 0.3.1\n"
     ]
    }
   ],
   "source": [
    "# define the environment path \n",
    "import os\n",
    "local_cobrakbase_path = os.path.join('C:', 'Users', 'Andrew Freiburger','Documents','Argonne','cobrakbase')\n",
    "os.environ[\"HOME\"] = local_cobrakbase_path\n",
    "\n",
    "# import the KBase\n",
    "import cobrakbase\n",
    "# with open(\"/Users/afreiburger/Documents/kbase_token.txt\") as token_file:\n",
    "with open(\"D:/Users/Andrew Freiburger/Documents/Argonne/kbase_token.txt\") as token_file:\n",
    "    kbase_api = cobrakbase.KBaseAPI(token_file.readline())\n",
    "\n",
    "# prevent excessive warnings\n",
    "from time import process_time\n",
    "import warnings\n",
    "warnings.filterwarnings(action='once')\n",
    "%run ../../../modelseedpy/community/mssmetana.py"
   ]
  },
  {
   "cell_type": "code",
   "execution_count": 4,
   "id": "6c6b451b-9412-4baf-b292-146ec5796498",
   "metadata": {},
   "outputs": [
    {
     "name": "stdout",
     "output_type": "stream",
     "text": [
      "<Solution 52.733 at 0x2a0ca687c10>\n"
     ]
    }
   ],
   "source": [
    "sample_pair = kbase_api.get_from_ws(\"136864/21/1\")\n",
    "print(sample_pair.optimize())"
   ]
  },
  {
   "cell_type": "code",
   "execution_count": 5,
   "id": "1f74e9c4-87af-42b4-81f0-7c72378af266",
   "metadata": {
    "collapsed": true,
    "jupyter": {
     "outputs_hidden": true
    },
    "tags": []
   },
   "outputs": [
    {
     "name": "stdout",
     "output_type": "stream",
     "text": [
      "(-1000, 1000)\n",
      "(-1000, 1000)\n",
      "(-1000, 1000)\n",
      "(-1000, 1000)\n",
      "(-1000, 1000)\n",
      "(-1000, 1000)\n",
      "(-1000, 1000)\n",
      "(-1000, 1000)\n",
      "(-1000, 1000)\n",
      "(-1000, 1000)\n",
      "(-1000, 1000)\n",
      "(-1000, 1000)\n",
      "(-1000, 1000)\n",
      "(-1000, 1000)\n",
      "(-1000, 1000)\n",
      "(-1000, 1000)\n",
      "(-1000, 1000)\n",
      "(-1000, 1000)\n",
      "(-1000, 1000)\n",
      "(-1000, 1000)\n",
      "(-1000, 1000)\n",
      "(-1000, 1000)\n",
      "(-1000, 1000)\n",
      "(-1000, 1000)\n",
      "(-1000, 1000)\n",
      "(-1000, 1000)\n",
      "(-1000, 1000)\n",
      "(-1000, 1000)\n",
      "(-1000, 1000)\n",
      "(-1000, 1000)\n",
      "(-1000, 1000)\n",
      "(-1000, 1000)\n",
      "(-1000, 1000)\n",
      "(-1000, 1000)\n",
      "(-1000, 1000)\n",
      "(-1000, 1000)\n",
      "(-1000, 1000)\n",
      "(-1000, 1000)\n",
      "(-1000, 1000)\n",
      "(-1000, 1000)\n",
      "(-1000, 1000)\n",
      "(-1000, 1000)\n",
      "(-1000, 1000)\n",
      "(-1000, 1000)\n",
      "(-1000, 1000)\n",
      "(-1000, 1000)\n",
      "(-1000, 1000)\n",
      "(-1000, 1000)\n",
      "(-1000, 1000)\n",
      "(-1000, 1000)\n",
      "(-1000, 1000)\n",
      "(-1000, 1000)\n",
      "(-1000, 1000)\n",
      "(-1000, 1000)\n",
      "(-1000, 1000)\n",
      "(-1000, 1000)\n",
      "(-1000, 1000)\n",
      "(-1000, 1000)\n",
      "(-1000, 1000)\n",
      "(-1000, 1000)\n",
      "(-1000, 1000)\n",
      "(-1000, 1000)\n",
      "(-1000, 1000)\n",
      "(-1000, 1000)\n",
      "(-1000, 1000)\n",
      "(-1000, 1000)\n",
      "(-1000, 1000)\n",
      "(-1000, 1000)\n",
      "(-1000, 1000)\n",
      "(-1000, 1000)\n",
      "(-1000, 1000)\n",
      "(-1000, 1000)\n",
      "(-1000, 1000)\n",
      "(-1000, 1000)\n",
      "(-1000, 1000)\n",
      "(-1000, 1000)\n",
      "(-1000, 1000)\n",
      "(-1000, 1000)\n",
      "(-1000, 1000)\n",
      "(-1000, 1000)\n",
      "(-1000, 1000)\n",
      "(-1000, 1000)\n",
      "(-1000, 1000)\n",
      "(-1000, 1000)\n",
      "(-1000, 1000)\n",
      "(-1000, 1000)\n",
      "(-1000, 1000)\n",
      "(-1000, 1000)\n",
      "(-1000, 1000)\n",
      "(-1000, 1000)\n",
      "(-1000, 1000)\n",
      "(-1000, 1000)\n",
      "(-1000, 1000)\n",
      "(-1000, 1000)\n",
      "(-1000, 1000)\n",
      "(-1000, 1000)\n",
      "(-1000, 1000)\n",
      "(-1000, 1000)\n",
      "(-1000, 1000)\n",
      "(-1000, 1000)\n",
      "(-1000, 1000)\n",
      "(-1000, 1000)\n",
      "(-1000, 1000)\n",
      "(-1000, 1000)\n",
      "(-1000, 1000)\n",
      "(-1000, 1000)\n",
      "(-1000, 1000)\n",
      "(-1000, 1000)\n",
      "(-1000, 1000)\n",
      "(-1000, 1000)\n",
      "(-1000, 1000)\n",
      "(-1000, 1000)\n",
      "(-1000, 1000)\n",
      "(-1000, 1000)\n",
      "(-1000, 1000)\n",
      "(-1000, 1000)\n"
     ]
    }
   ],
   "source": [
    "mem_model = kbase_api.get_from_ws(\"136864/26/1\")\n",
    "for ex in mem_model.exchanges:\n",
    "    print(ex.bounds)"
   ]
  },
  {
   "cell_type": "code",
   "execution_count": 6,
   "id": "b82ea671-3c65-42fd-84f4-7e2d5d0acda8",
   "metadata": {},
   "outputs": [
    {
     "name": "stdout",
     "output_type": "stream",
     "text": [
      "74.84901254686409\n",
      "7.99295963805741\n"
     ]
    }
   ],
   "source": [
    "print(mem_model.slim_optimize())\n",
    "for ex in mem_model.exchanges:\n",
    "    ex.bounds = (-100,100)\n",
    "print(mem_model.slim_optimize())"
   ]
  },
  {
   "cell_type": "code",
   "execution_count": 2,
   "id": "b283a504-0495-4365-8bb0-49ef2ceee010",
   "metadata": {},
   "outputs": [],
   "source": [
    "AP49 = kbase_api.get_from_ws(\"Sphingobium_AP49_pacbio_v2.RAST.fbamodel\", 114731)\n",
    "BC15 = kbase_api.get_from_ws(\"Bacillus_sp._bc15.RAST.fbamodel\", 114731)\n",
    "AP49_BC15_model = kbase_api.get_from_ws(\"AP49-BC15\",114731)\n",
    "# community_media = _get_media(None, AP49_BC15_model, [AP49, BC15])"
   ]
  },
  {
   "cell_type": "code",
   "execution_count": 4,
   "id": "695e1375-2b58-4e4f-a17a-b3bb40723e1e",
   "metadata": {},
   "outputs": [
    {
     "name": "stdout",
     "output_type": "stream",
     "text": [
      "The exchange  metabolite ID's of the model Sphingobium_AP49_pacbio_v2.RAST.fbamodel,Bacillus_sp._bc15.RAST.fbamodel are completely standardized to ModelSEED.\n",
      "\n",
      "\n",
      "\n",
      "Align exchange reactions in Sphingobium_AP49_pacbio_v2.RAST.fbamodel \n",
      " =======================================================================\n",
      "\n",
      "\n",
      "\n",
      "Align exchange reactions in Bacillus_sp._bc15.RAST.fbamodel \n",
      " ==============================================================\n",
      "\n",
      "\n",
      "0 exchange reactions were substituted and 0 exchange metabolite IDs were redefined by align_exchanges().\n",
      "cpd11416_c1 Sphingobium_AP49_pacbio_v2.RAST.fbamodel\n",
      "bio2 1\n",
      "[2]\n",
      "cpd11416_c2 Bacillus_sp._bc15.RAST.fbamodel\n",
      "bio3 1\n",
      "[2, 3]\n",
      "The minimal flux media consists of 42 compounds and a 1.9975620238931524 total influx, with a growth value of 0.09999999999935463\n",
      "The minimal flux media consists of 35 compounds and a 1.4912990953548353 total influx, with a growth value of 0.09999999999815128\n",
      "\n",
      "The Sphingobium_AP49_pacbio_v2.RAST.fbamodel on Bacillus_sp._bc15.RAST.fbamodel) MRO score: 0.6904761904761905 (69.05%). This is the percent of nutritional requirements in Sphingobium_AP49_pacbio_v2.RAST.fbamodel that overlap with Bacillus_sp._bc15.RAST.fbamodel) (29/42).\n",
      "\n",
      "The Bacillus_sp._bc15.RAST.fbamodel on Sphingobium_AP49_pacbio_v2.RAST.fbamodel) MRO score: 0.8285714285714286 (82.86%). This is the percent of nutritional requirements in Bacillus_sp._bc15.RAST.fbamodel that overlap with Sphingobium_AP49_pacbio_v2.RAST.fbamodel) (29/35).\n",
      "{'dictionary_item_removed': [root['EX_cpd00254_e0'], root['EX_cpd00007_e0'], root['EX_cpd00118_e0'], root['EX_cpd00793_e0'], root['EX_cpd00205_e0'], root['EX_cpd00028_e0'], root['EX_cpd00048_e0'], root['EX_cpd00051_e0'], root['EX_cpd00024_e0'], root['EX_cpd00033_e0'], root['EX_cpd00058_e0'], root['EX_cpd00184_e0'], root['EX_cpd00104_e0'], root['EX_cpd00034_e0'], root['EX_cpd00099_e0'], root['EX_cpd00069_e0'], root['EX_cpd00654_e0'], root['EX_cpd15603_e0'], root['EX_cpd00132_e0'], root['EX_cpd00107_e0'], root['EX_cpd00644_e0'], root['EX_cpd00220_e0'], root['EX_cpd00367_e0'], root['EX_cpd00036_e0'], root['EX_cpd00322_e0'], root['EX_cpd01017_e0'], root['EX_cpd00106_e0'], root['EX_cpd00065_e0'], root['EX_cpd00149_e0'], root['EX_cpd00156_e0'], root['EX_cpd00030_e0'], root['EX_cpd00264_e0'], root['EX_cpd00161_e0'], root['EX_cpd00277_e0'], root['EX_cpd00063_e0'], root['EX_cpd00066_e0'], root['EX_cpd00017_e0'], root['EX_cpd00393_e0'], root['EX_cpd00039_e0'], root['EX_cpd00129_e0'], root['EX_cpd00794_e0'], root['EX_cpd00215_e0'], root['EX_cpd00136_e0'], root['EX_cpd10515_e0'], root['EX_cpd00119_e0'], root['EX_cpd03847_e0'], root['EX_cpd00355_e0']]}\n",
      "\n",
      "MIP score: 47\t\t\t47 required compound(s) can be sourced via syntrophy:\n",
      "executing MP\n",
      "The exchange  metabolite ID's of the model Sphingobium_AP49_pacbio_v2.RAST.fbamodel+Bacillus_sp._bc15.RAST.fbamodel are completely standardized to ModelSEED.\n",
      "The minimal flux media consists of 39 compounds and a 1692.2961586939582 total influx, with a growth value of 99.99999999999797\n",
      "\n",
      "\n",
      "\n",
      "Standardize exchange reactions in Sphingobium_AP49_pacbio_v2.RAST.fbamodel \n",
      " =============================================================================\n",
      "The exchange  metabolite ID's of the model Sphingobium_AP49_pacbio_v2.RAST.fbamodel are completely standardized to ModelSEED.\n"
     ]
    },
    {
     "name": "stderr",
     "output_type": "stream",
     "text": [
      "C:\\Users\\Andrew Freiburger\\AppData\\Local\\Programs\\Python\\Python39\\lib\\site-packages\\cobra\\core\\metabolite.py:191: UserWarning: The element 'R' does not appear in the periodic table\n",
      "  warn(f\"The element {e} does not appear in the periodic table\")\n"
     ]
    },
    {
     "name": "stdout",
     "output_type": "stream",
     "text": [
      "remaining possible_contributions 55\r"
     ]
    },
    {
     "name": "stderr",
     "output_type": "stream",
     "text": [
      "C:\\Users\\Andrew Freiburger\\AppData\\Local\\Programs\\Python\\Python39\\lib\\site-packages\\cobra\\core\\metabolite.py:191: UserWarning: The element 'R' does not appear in the periodic table\n",
      "  warn(f\"The element {e} does not appear in the periodic table\")\n"
     ]
    },
    {
     "name": "stdout",
     "output_type": "stream",
     "text": [
      "remaining possible_contributions 48\r"
     ]
    },
    {
     "name": "stderr",
     "output_type": "stream",
     "text": [
      "C:\\Users\\Andrew Freiburger\\AppData\\Local\\Programs\\Python\\Python39\\lib\\site-packages\\cobra\\core\\metabolite.py:191: UserWarning: The element 'R' does not appear in the periodic table\n",
      "  warn(f\"The element {e} does not appear in the periodic table\")\n"
     ]
    },
    {
     "name": "stdout",
     "output_type": "stream",
     "text": [
      "remaining possible_contributions 45\r"
     ]
    },
    {
     "name": "stderr",
     "output_type": "stream",
     "text": [
      "C:\\Users\\Andrew Freiburger\\AppData\\Local\\Programs\\Python\\Python39\\lib\\site-packages\\cobra\\core\\metabolite.py:191: UserWarning: The element 'R' does not appear in the periodic table\n",
      "  warn(f\"The element {e} does not appear in the periodic table\")\n"
     ]
    },
    {
     "name": "stdout",
     "output_type": "stream",
     "text": [
      "remaining possible_contributions 43\r"
     ]
    },
    {
     "name": "stderr",
     "output_type": "stream",
     "text": [
      "C:\\Users\\Andrew Freiburger\\AppData\\Local\\Programs\\Python\\Python39\\lib\\site-packages\\cobra\\core\\metabolite.py:191: UserWarning: The element 'R' does not appear in the periodic table\n",
      "  warn(f\"The element {e} does not appear in the periodic table\")\n"
     ]
    },
    {
     "name": "stdout",
     "output_type": "stream",
     "text": [
      "remaining possible_contributions 42\n",
      "\n",
      "\n",
      "Standardize exchange reactions in Bacillus_sp._bc15.RAST.fbamodel \n",
      " ====================================================================\n",
      "The exchange  metabolite ID's of the model Bacillus_sp._bc15.RAST.fbamodel are completely standardized to ModelSEED.\n",
      "remaining possible_contributions 46\n",
      "MP score:\t\t\tEach member can possibly contribute the following to the community:\n",
      "\n",
      "Sphingobium_AP49_pacbio_v2.RAST.fbamodel \t 32\n",
      "Bacillus_sp._bc15.RAST.fbamodel \t 48\n",
      "The Sphingobium_AP49_pacbio_v2.RAST.fbamodel_Bacillus_sp._bc15.RAST.fbamodel pair has been examined after 0.5888020833333333 minutes.\n"
     ]
    }
   ],
   "source": [
    "test_pair(AP49, BC15, None)"
   ]
  },
  {
   "cell_type": "code",
   "execution_count": 3,
   "id": "916b9228-b4b3-4877-ad44-72f4f9dcd573",
   "metadata": {},
   "outputs": [],
   "source": [
    "# from optlang.interface import Configuration\n",
    "# Configuration(AP49_BC15_model.problem, timeout=10)\n",
    "# obj = Objective(AP49_BC15_model.reactions.bio1.flux_expression) #, time_out=10)\n",
    "# print(dir(Objective))\n",
    "# print(dir(AP49_BC15_model))"
   ]
  },
  {
   "cell_type": "code",
   "execution_count": 4,
   "id": "c9659cd3-d88d-4f15-9f0c-d90ac6a4b702",
   "metadata": {
    "tags": []
   },
   "outputs": [
    {
     "name": "stderr",
     "output_type": "stream",
     "text": [
      "C:\\Users\\Andrew Freiburger\\Documents\\Argonne\\ModelSEED\\ModelSEEDpy\\modelseedpy\\core\\msminimalmedia.py:231: DeprecationWarning: invalid escape sequence \\[\n",
      "  changed_reactions = [re.search(\"(?<=\\[\\')(.+)(?=\\'\\])\", change).group() for change in changes]\n"
     ]
    },
    {
     "name": "stdout",
     "output_type": "stream",
     "text": [
      "EX_cpd00156_e0       0.146647\n",
      "EX_cpd00355_e0    1000.000000\n",
      "EX_cpd00007_e0    1000.000000\n",
      "EX_cpd00028_e0       0.000561\n",
      "EX_cpd10515_e0       0.001684\n",
      "EX_cpd00793_e0       0.000561\n",
      "EX_cpd00048_e0     137.587012\n",
      "EX_cpd00220_e0       0.001684\n",
      "EX_cpd00215_e0       0.000561\n",
      "EX_cpd00393_e0       0.001684\n",
      "EX_cpd00099_e0       0.000561\n",
      "EX_cpd00030_e0       0.000561\n",
      "EX_cpd00149_e0       0.000561\n",
      "EX_cpd00063_e0       0.000561\n",
      "EX_cpd00205_e0       0.000561\n",
      "EX_cpd00254_e0       0.000561\n",
      "EX_cpd00034_e0       0.000561\n",
      "EX_cpd00058_e0       0.000561\n",
      "EX_cpd00322_e0       0.048360\n",
      "EX_cpd00104_e0       0.000561\n",
      "dtype: float64\n"
     ]
    },
    {
     "name": "stderr",
     "output_type": "stream",
     "text": [
      "C:\\Users\\Andrew Freiburger\\AppData\\Local\\Programs\\Python\\Python39\\lib\\site-packages\\cobra\\medium\\minimal_medium.py:112: FutureWarning: The default dtype for empty Series will be 'object' instead of 'float64' in a future version. Specify a dtype explicitly to silence this warning.\n",
      "  medium = pd.Series()\n"
     ]
    }
   ],
   "source": [
    "# from modelseedpy.core import MSMinimalMedia\n",
    "%run ../../../modelseedpy/core/msminimalmedia.py\n",
    "print(MSMinimalMedia.determine_min_media(AP49_BC15_model))"
   ]
  },
  {
   "cell_type": "code",
   "execution_count": 5,
   "id": "da78f082-a7db-4eb5-9dfc-a29a75efc7c2",
   "metadata": {},
   "outputs": [
    {
     "name": "stdout",
     "output_type": "stream",
     "text": [
      "33\n"
     ]
    }
   ],
   "source": [
    "print(len({'EX_cpd00028_e0': 0.0005612318319663245, 'EX_cpd00047_e0': 3.197442310920451e-13, 'EX_cpd00104_e0': 0.0005612318319663245, 'EX_cpd00226_e0': 8.428327480380915e-13, 'EX_cpd00063_e0': 0.0005612318319663245, 'EX_cpd00024_e0': 9.598286376623291e-14, 'EX_cpd00254_e0': 0.0005612318319663245, 'EX_cpd00322_e0': 0.04835970206750062, 'EX_cpd00793_e0': 0.0005612318318526377, 'EX_cpd00099_e0': 0.0005612318319663245, 'EX_cpd00731_e0': 1.824638530545375e-13, 'EX_cpd00355_e0': 375.85961192867086, 'EX_cpd00971_e0': 1.1368683772161603e-13, 'EX_cpd00179_e0': 8.569950304959659e-13, 'EX_cpd00117_e0': 4.3662989890336235e-15, 'EX_cpd00034_e0': 0.0005612318319663245, 'EX_cpd00220_e0': 0.0016836954956716, 'EX_cpd00182_e0': 1.1097234242640752e-12, 'EX_cpd00007_e0': 467.4134812927798, 'EX_cpd00058_e0': 0.0005612318319663245, 'EX_cpd00149_e0': 0.0005612318319663245, 'EX_cpd00393_e0': 0.0016836954956716, 'EX_cpd10515_e0': 0.0016836954957852868, 'EX_cpd00205_e0': 0.0005612318319663245, 'EX_cpd00084_e0': 8.811406465580873e-13, 'EX_cpd00161_e0': 5.93275428784068e-16, 'EX_cpd00215_e0': 0.0005612318319663245, 'EX_cpd00156_e0': 0.14664687099036655, 'EX_cpd00048_e0': 0.043595742118782255, 'EX_cpd00030_e0': 0.0005612318319663245, 'EX_cpd00412_e0': 6.94548585311594e-14, 'EX_cpd00305_e0': 6.915386793914337e-16, 'EX_cpd00013_e0': 2.842170943040401e-14}))"
   ]
  },
  {
   "cell_type": "code",
   "execution_count": 6,
   "id": "fcb3c8b7-0e70-4f66-8ae0-29323de34ca9",
   "metadata": {},
   "outputs": [
    {
     "name": "stdout",
     "output_type": "stream",
     "text": [
      "20\n"
     ]
    }
   ],
   "source": [
    "print(len({'EX_cpd00793_e0': 0.0005612318318526377, 'EX_cpd00063_e0': 0.0005612318319663245, 'EX_cpd00028_e0': 0.0005612318319663245, 'EX_cpd00058_e0': 0.0005612318319663245, 'EX_cpd00205_e0': 0.0005612318319663245, 'EX_cpd00048_e0': 347.6805135456988, 'EX_cpd00007_e0': 0.0022449273280293596, 'EX_cpd00254_e0': 0.0005612318319663245, 'EX_cpd00149_e0': 0.0005612318319663245, 'EX_cpd00104_e0': 0.0005612318319663245, 'EX_cpd00099_e0': 0.0005612318319663245, 'EX_cpd00156_e0': 999.5521052674475, 'EX_cpd00322_e0': 0.04835970206750062, 'EX_cpd00215_e0': 0.0005612318319663245, 'EX_cpd00393_e0': 0.0016836954957852868, 'EX_cpd00030_e0': 0.0005612318319663245, 'EX_cpd00034_e0': 0.0005612318319663245, 'EX_cpd00355_e0': 1000.0, 'EX_cpd10515_e0': 0.0016836954957852868, 'EX_cpd00220_e0': 0.0016836954956716}))"
   ]
  },
  {
   "cell_type": "code",
   "execution_count": 7,
   "id": "b9dc1d9c-1350-4e62-96b8-0f6987ee4761",
   "metadata": {
    "scrolled": true,
    "tags": []
   },
   "outputs": [
    {
     "name": "stdout",
     "output_type": "stream",
     "text": [
      "The exchange  metabolite ID's of the model Sphingobium_AP49_pacbio_v2.RAST.fbamodel,Bacillus_sp._bc15.RAST.fbamodel are completely standardized to ModelSEED.\n",
      "com_mdeia_est\n",
      "<Solution 59.661 at 0x21a4c93a910>\n"
     ]
    },
    {
     "name": "stderr",
     "output_type": "stream",
     "text": [
      "C:\\Users\\Andrew Freiburger\\AppData\\Local\\Programs\\Python\\Python39\\lib\\site-packages\\cobra\\medium\\minimal_medium.py:112: FutureWarning: The default dtype for empty Series will be 'object' instead of 'float64' in a future version. Specify a dtype explicitly to silence this warning.\n",
      "  medium = pd.Series()\n"
     ]
    },
    {
     "name": "stdout",
     "output_type": "stream",
     "text": [
      "<Solution 169.734 at 0x21a4d895c10>\n"
     ]
    },
    {
     "name": "stderr",
     "output_type": "stream",
     "text": [
      "C:\\Users\\Andrew Freiburger\\AppData\\Local\\Programs\\Python\\Python39\\lib\\site-packages\\cobra\\medium\\minimal_medium.py:112: FutureWarning: The default dtype for empty Series will be 'object' instead of 'float64' in a future version. Specify a dtype explicitly to silence this warning.\n",
      "  medium = pd.Series()\n"
     ]
    },
    {
     "name": "stdout",
     "output_type": "stream",
     "text": [
      "2 {'community_media': EX_cpd00156_e0       0.146647\n",
      "EX_cpd00355_e0    1000.000000\n",
      "EX_cpd00007_e0    1000.000000\n",
      "EX_cpd00028_e0       0.000561\n",
      "EX_cpd10515_e0       0.001684\n",
      "EX_cpd00793_e0       0.000561\n",
      "EX_cpd00048_e0     137.587012\n",
      "EX_cpd00220_e0       0.001684\n",
      "EX_cpd00215_e0       0.000561\n",
      "EX_cpd00393_e0       0.001684\n",
      "EX_cpd00099_e0       0.000561\n",
      "EX_cpd00030_e0       0.000561\n",
      "EX_cpd00149_e0       0.000561\n",
      "EX_cpd00063_e0       0.000561\n",
      "EX_cpd00205_e0       0.000561\n",
      "EX_cpd00254_e0       0.000561\n",
      "EX_cpd00034_e0       0.000561\n",
      "EX_cpd00058_e0       0.000561\n",
      "EX_cpd00322_e0       0.048360\n",
      "EX_cpd00104_e0       0.000561\n",
      "dtype: float64, 'members': {'Sphingobium_AP49_pacbio_v2.RAST.fbamodel': {'media': EX_cpd00009_e0      0.080975\n",
      "EX_cpd00156_e0      0.072762\n",
      "EX_cpd00007_e0    963.085589\n",
      "EX_cpd00644_e0      0.000561\n",
      "EX_cpd00028_e0      0.000281\n",
      "EX_cpd00122_e0    845.641610\n",
      "EX_cpd00793_e0      0.000281\n",
      "EX_cpd00048_e0     23.956554\n",
      "EX_cpd00220_e0      0.000842\n",
      "EX_cpd00215_e0      0.000281\n",
      "EX_cpd00393_e0      0.000842\n",
      "EX_cpd00099_e0      0.000281\n",
      "EX_cpd00030_e0      0.000281\n",
      "EX_cpd00149_e0      0.000281\n",
      "EX_cpd00063_e0      0.000281\n",
      "EX_cpd00205_e0      0.000281\n",
      "EX_cpd00254_e0      0.000281\n",
      "EX_cpd00034_e0      0.000281\n",
      "EX_cpd00058_e0      0.000281\n",
      "EX_cpd10516_e0      0.000842\n",
      "EX_cpd00322_e0      0.024180\n",
      "dtype: float64, 'solution': {'rxn05561_c0': -2.1107497172478215e-13, 'rxn00247_c0': 0.0, 'rxn05625_c0': 414.88129452960914, 'rxn02342_c0': 0.0, 'rxn01452_c0': 0.0, 'rxn08734_c0': 0.0, 'rxn00199_c0': 0.0, 'rxn10126_c0': 0.0, 'rxn05040_c0': 0.0, 'rxn08556_c0': 0.0, 'rxn06493_c0': -4.343478455450623e-11, 'rxn02376_c0': 147.96046146889827, 'rxn00568_c0': -177.8443815274379, 'rxn08971_c0': 0.0, 'rxn00148_c0': -78.29189197470633, 'rxn00781_c0': 1000.0, 'rxn05319_c0': -999.999999999832, 'rxn00171_c0': 987.4070969917491, 'rxn00178_c0': 854.8710627372753, 'rxn09295_c0': 0.0, 'rxn00549_c0': 0.0, 'rxn00506_c0': 0.0, 'rxn02380_c0': 0.0, 'rxn00336_c0': 0.0, 'rxn05145_c0': 48.31068682176281, 'rxn01872_c0': -147.96046146889827, 'rxn00248_c0': 170.89270454823412, 'rxn00499_c0': 0.0, 'rxn00392_c0': 0.3348389880299108, 'rxn00747_c0': 11.651315099451457, 'rxn01334_c0': 0.0, 'rxn03884_c0': 1000.0, 'rxn00324_c0': 0.0, 'rxn03240_c0': 1.6812249837541894e-16, 'rxn00777_c0': -19.613564625608472, 'rxn05573_c0': 0.0, 'rxn00251_c0': -70.08254572549889, 'rxn00285_c0': -1000.0, 'rxn01871_c0': 0.0, 'rxn00786_c0': 0.0, 'rxn01100_c0': -1000.0000000000001, 'rxn00102_c0': -178.37123238259724, 'rxn00512_c0': 0.0, 'rxn08527_c0': 0.0, 'rxn10122_c0': 386.0115020074713, 'rxn00500_c0': 0.0, 'rxn01477_c0': 759.334007562791, 'rxn01123_c0': 240.66599243715632, 'rxn08557_c0': 0.0, 'rxn01116_c0': -24.090069387775316, 'rxn01106_c0': -1000.0000000000001, 'rxn00616_c0': -11.14905661740664, 'rxn08173_c0': 1000.0, 'rxn00543_c0': 0.0, 'rxn01996_c0': 0.0, 'rxn01476_c0': 800.6453589930569, 'rxn01333_c0': -14.861951707983977, 'rxn00151_c0': 0.0, 'rxn00799_c0': -170.8927045482341, 'rxn00011_c0': 0.0, 'rxn00602_c0': 0.0, 'rxn08975_c0': 0.0, 'rxn00459_c0': 1000.0000000000001, 'rxn00770_c0': 28.506843317369988, 'rxn05209_c0': 0.0, 'rxn00175_c0': 0.0, 'rxn09003_c0': 0.0, 'rxn09001_c0': 0.0, 'rxn01387_c0': 0.0, 'rxn00161_c0': 0.0, 'rxn03249_c0': 0.0, 'rxn09272_c0': 0.0, 'rxn05226_c0': 808.106200263335, 'rxn00615_c0': 1.8581761029011057, 'rxn00569_c0': -237.03691300217125, 'rxn00083_c0': 0.0, 'rxn00874_c0': 0.0, 'rxn05627_c0': 0.0, 'rxn00785_c0': 15.196790696013812, 'rxn00216_c0': -7.46084127027808, 'rxn00558_c0': 0.0, 'rxn00077_c0': 0.16741949401504733, 'rxn01388_c0': 0.0, 'rxn01480_c0': 0.0, 'rxn01200_c0': 8.893278691761514, 'rxn01241_c0': 147.96046146889827, 'rxn00288_c0': 146.95594450480883, 'rxn00763_c0': 0.0, 'rxn01275_c0': 0.0, 'rxn00122_c0': 0.1674194940149555, 'rxn05468_c0': 353.5550596038631, 'rxn00974_c0': 0.0, 'rxn00256_c0': 0.0, 'rxn02167_c0': 0.0, 'rxn00441_c0': 147.9604614688983, 'rxn03250_c0': 0.0, 'rxn00623_c0': 0.0, 'rxn06526_c0': -20.43191865097022, 'rxn05937_c0': 0.0, 'rxn00224_c0': 0.0, 'rxn00604_c0': 800.645358993057, 'rxn05467_c0': -1000.0000000000025, 'rxn00330_c0': 0.0, 'rxn14427_c0': 0.0, 'rxn14421_c0': 573.9381216483264, 'rxn14422_c0': 573.9381216483265, 'rxn02201_c0': 0.0, 'rxn00351_c0': 0.0, 'rxn07431_c0': 0.0, 'rxn05318_c0': 1.3333621542723997e-12, 'rxn00423_c0': 0.0, 'rxn00364_c0': 32.34112782474149, 'rxn03408_c0': 1.4921682540556158, 'rxn05250_c0': 0.0, 'rxn00646_c0': 0.0, 'rxn05440_c0': 0.0, 'rxn01673_c0': 1.2251779925032091, 'rxn02360_c0': 0.0, 'rxn00642_c0': 0.0, 'rxn00022_c0': 0.0, 'rxn03534_c0': 0.0, 'rxn05457_c0': -1.4921682540556158, 'rxn00107_c0': 0.0, 'rxn13783_c0': 59.66143917486785, 'rxn08934_c0': 0.0, 'rxn04070_c0': 3.733192899574463e-14, 'rxn03433_c0': 0.0, 'rxn10231_c0': 0.0, 'rxn12637_c0': 0.0, 'rxn09240_c0': 0.0, 'rxn01219_c0': 1.440546745218724e-13, 'rxn00800_c0': 8.09651660220545, 'rxn09177_c0': 0.0, 'rxn00211_c0': 0.0, 'rxn00179_c0': 0.0, 'rxn02945_c0': 0.0, 'rxn01210_c0': 0.0, 'rxn00192_c0': 0.0, 'rxn01218_c0': 0.0, 'rxn00509_c0': 0.0, 'rxn02898_c0': 0.33483898802991047, 'rxn00962_c0': 0.0, 'rxn05654_c0': 0.0, 'rxn12549_c0': 0.16741949401489536, 'rxn00501_c0': 0.0, 'rxn02320_c0': 0.0, 'rxn03384_c0': 0.0, 'rxn02504_c0': 0.0, 'rxn00262_c0': 0.0, 'rxn03039_c0': 0.0, 'rxn10262_c0': 0.0, 'rxn08084_c0': 0.0, 'rxn10225_c0': 0.0, 'rxn00898_c0': 0.0, 'rxn05444_c0': 0.0, 'rxn05334_c0': 7.460841270278083, 'rxn01636_c0': 0.0, 'rxn00816_c0': 0.0, 'rxn02988_c0': -0.5022584820448189, 'rxn04792_c0': 0.0, 'rxn01021_c0': 0.0, 'rxn00165_c0': 0.0, 'rxn10228_c0': 0.0, 'rxn01117_c0': -4.4765047621668455, 'rxn00001_c0': 0.0, 'rxn08376_c0': -999.9999999999998, 'rxn08895_c0': 0.0, 'rxn00671_c0': 0.0, 'rxn11268_c0': 0.0, 'rxn00710_c0': 11.829502406011597, 'rxn02305_c0': 0.0, 'rxn00470_c0': 0.0, 'rxn00910_c0': -1.1719364581046248, 'rxn00953_c0': 0.0, 'rxn05647_c0': 0.0, 'rxn01297_c0': 0.0, 'rxn01962_c0': 0.0, 'rxn05459_c0': 0.0, 'rxn01682_c0': 0.0, 'rxn08941_c0': 0.0, 'rxn02331_c0': -4.476504762166846, 'rxn12846_c0': 0.0, 'rxn00337_c0': 1.4921682540554686, 'rxn08308_c0': 0.0, 'rxn00208_c0': 0.0, 'rxn05031_c0': 0.0, 'rxn05434_c0': 0.0, 'rxn05346_c0': 7.460841270278079, 'rxn00867_c0': 0.0, 'rxn03248_c0': 0.0, 'rxn05386_c0': 0.0, 'rxn05733_c0': 0.0, 'rxn00416_c0': 0.0, 'rxn02270_c0': 0.0, 'rxn09206_c0': 0.0, 'rxn08017_c0': 0.0, 'rxn08192_c0': 0.0, 'rxn09209_c0': 0.0, 'rxn12512_c0': 0.3348389880298855, 'rxn08669_c0': 0.0, 'rxn00902_c0': 0.0, 'rxn06672_c0': 162.19614995328368, 'rxn00649_c0': 0.0, 'rxn01739_c0': 0.3348389880298358, 'rxn02400_c0': 0.0, 'rxn01268_c0': 0.0, 'rxn00641_c0': 0.0, 'rxn00361_c0': 0.0, 'rxn02679_c0': 0.0, 'rxn07434_c0': 0.0, 'rxn01974_c0': 1.4921682540554688, 'rxn01640_c0': 0.0, 'rxn00242_c0': 0.0, 'rxn12641_c0': 0.0, 'rxn05316_c0': -1.004516964091003, 'rxn01635_c0': 0.0, 'rxn04384_c0': 0.0, 'rxn02775_c0': 0.0, 'rxn00060_c0': 0.1674194940149181, 'rxn05350_c0': 7.460841270278082, 'rxn09198_c0': 0.0, 'rxn05064_c0': 0.0, 'rxn05569_c0': 39.17917142237269, 'rxn00100_c0': 0.33483898802988554, 'rxn02281_c0': 0.0, 'rxn02842_c0': 0.0, 'rxn00514_c0': 0.0, 'rxn00789_c0': 0.0, 'rxn02374_c0': 0.0, 'rxn05390_c0': 0.0, 'rxn05560_c0': 0.0, 'rxn05437_c0': 0.0, 'rxn08976_c0': 0.0, 'rxn00881_c0': 0.0, 'rxn05298_c0': 0.0, 'rxn01355_c0': 0.0, 'rxn00292_c0': 0.0, 'rxn08336_c0': 0.0, 'rxn05401_c0': 0.0, 'rxn03043_c0': 0.0, 'rxn02264_c0': 0.16741949401491812, 'rxn05198_c0': 0.0, 'rxn09202_c0': 1.8581761029011057, 'rxn01451_c0': 0.0, 'rxn03903_c0': 0.0, 'rxn00097_c0': 47.011191470813806, 'rxn02212_c0': 0.3348389880298358, 'rxn00695_c0': 0.0, 'rxn05324_c0': -7.460841270278079, 'rxn03535_c0': 0.0, 'rxn00692_c0': -33.68952081079014, 'rxn00802_c0': 0.0, 'rxn02160_c0': 0.0, 'rxn01825_c0': 0.0, 'rxn10230_c0': 0.0, 'rxn02720_c0': 0.0, 'rxn00913_c0': 0.0, 'rxn01997_c0': 1.4921682540556158, 'rxn00460_c0': 0.0, 'rxn03958_c0': -20.431918650970218, 'rxn00131_c0': 0.0, 'rxn03264_c0': 0.0, 'rxn01362_c0': -11.829502406011594, 'rxn05329_c0': 7.460841270278079, 'rxn03174_c0': 0.0, 'rxn03951_c0': 0.0, 'rxn05418_c0': 0.0, 'rxn05200_c0': 0.686176129966615, 'rxn00584_c0': 0.0, 'rxn01041_c0': 0.0, 'rxn10060_c0': 0.0, 'rxn02933_c0': 0.0, 'rxn00727_c0': 0.0, 'rxn05617_c0': 0.0, 'rxn03852_c0': 0.0, 'rxn12638_c0': 0.0, 'rxn01354_c0': 0.0, 'rxn02268_c0': 0.0, 'rxn01445_c0': 0.0, 'rxn05248_c0': 0.0, 'rxn00612_c0': 0.0, 'rxn08766_c0': 22.326250093486923, 'rxn05539_c0': 0.0, 'rxn05461_c0': 0.0, 'rxn03586_c0': 0.0, 'rxn12405_c0': -854.8710627372753, 'rxn02159_c0': 0.0, 'rxn10222_c0': 0.0, 'rxn10263_c0': 0.0, 'rxn02791_c0': 0.0, 'rxn05466_c0': -390.1569763196761, 'rxn00004_c0': 0.0, 'rxn00917_c0': 8.078565827108125, 'rxn08078_c0': 0.0, 'rxn00375_c0': 0.0, 'rxn00300_c0': 0.0, 'rxn01925_c0': 0.0, 'rxn08792_c0': 0.0, 'rxn00999_c0': 0.0, 'rxn05174_c0': 0.0, 'rxn05585_c0': 0.0, 'rxn05957_c0': 0.0, 'rxn03419_c0': 0.0, 'rxn00758_c0': 0.0, 'rxn09111_c0': 0.0, 'rxn06078_c0': 0.0, 'rxn05607_c0': 0.0, 'rxn05595_c0': 0.3348389880299105, 'rxn05348_c0': 7.46084127027808, 'rxn05435_c0': 0.0, 'rxn03245_c0': 0.0, 'rxn11946_c0': 0.16741949401493458, 'rxn00907_c0': 32.51758435264209, 'rxn05458_c0': 0.0, 'rxn01742_c0': 0.0, 'rxn01644_c0': 1.4921682540554688, 'rxn06887_c0': 0.0, 'rxn02911_c0': 0.0, 'rxn01280_c0': 0.0, 'rxn05450_c0': 0.0, 'rxn12847_c0': 0.0, 'rxn05410_c0': 0.0, 'rxn05443_c0': 0.0, 'rxn09114_c0': 0.0, 'rxn09188_c0': 0.0, 'rxn02782_c0': 0.0, 'rxn05345_c0': 5.968673016222463, 'rxn01522_c0': 0.0, 'rxn05422_c0': 0.0, 'rxn01465_c0': -11.829502406011594, 'rxn01301_c0': 0.0, 'rxn01643_c0': -1.4921682540554686, 'rxn04457_c0': 0.0, 'rxn05385_c0': 0.0, 'rxn06937_c0': 0.0, 'rxn01637_c0': 0.0, 'rxn05120_c0': 0.0, 'rxn00708_c0': 0.0, 'rxn07433_c0': 0.0, 'rxn01269_c0': 0.0, 'rxn00830_c0': 0.0, 'rxn10113_c0': 0.0, 'rxn03406_c0': 0.0, 'rxn00029_c0': 0.6696779760596724, 'rxn06673_c0': 162.19614995328365, 'rxn09128_c0': 0.0, 'rxn12646_c0': 0.0, 'rxn05256_c0': 0.0, 'rxn05448_c0': 0.0, 'rxn05446_c0': 0.0, 'rxn02175_c0': 0.33483898802988554, 'rxn05211_c0': 0.0, 'rxn05317_c0': 139.62965560941518, 'rxn08136_c0': 0.0, 'rxn02835_c0': 0.0, 'rxn02774_c0': 0.16741949401495523, 'rxn04385_c0': 0.0, 'rxn03536_c0': 0.16741949401495526, 'rxn01575_c0': 0.0, 'rxn05398_c0': 0.0, 'rxn01315_c0': 0.0, 'rxn09562_c0': 0.0, 'rxn00555_c0': 0.0, 'rxn03435_c0': 0.0, 'rxn03080_c0': 0.0, 'rxn10237_c0': 0.0, 'rxn00143_c0': 0.0, 'rxn12644_c0': 0.0, 'rxn00849_c0': 1.4921682540554686, 'rxn00737_c0': 0.0, 'rxn01256_c0': 0.0, 'rxn00213_c0': 5.968673016222462, 'rxn05199_c0': 0.0, 'rxn10162_c0': 0.0, 'rxn13784_c0': 59.66143917486785, 'rxn01740_c0': -0.3348389880298358, 'rxn00588_c0': 0.0, 'rxn05327_c0': -7.460841270278079, 'rxn05205_c0': 999.9999999999998, 'rxn01013_c0': 0.0, 'rxn00668_c0': 0.0, 'rxn08353_c0': 0.0, 'rxn05655_c0': 0.0, 'rxn01545_c0': 0.0, 'rxn00139_c0': 0.0, 'rxn00790_c0': -16.17508242931357, 'rxn03910_c0': 20.43191865097022, 'rxn07976_c0': 0.0, 'rxn00237_c0': 16.34250192332853, 'rxn00463_c0': 0.0, 'rxn01489_c0': 0.0, 'rxn03540_c0': 0.0, 'rxn00106_c0': 0.0, 'rxn08311_c0': 7.4327044116044245, 'rxn03175_c0': 0.0, 'rxn10264_c0': 0.0, 'rxn03421_c0': 0.0, 'rxn10227_c0': 0.0, 'rxn05336_c0': 0.0, 'rxn09210_c0': 1.8581761029011061, 'rxn01484_c0': -2.984336508111231, 'rxn01124_c0': 0.0, 'rxn00182_c0': -146.17979501745566, 'rxn05552_c0': 0.0, 'rxn05567_c0': 0.0, 'rxn05172_c0': 0.0, 'rxn01642_c0': 0.0, 'rxn00132_c0': 0.0, 'rxn01045_c0': -27.02334924758941, 'rxn08893_c0': 0.0, 'rxn06864_c0': 0.0, 'rxn08615_c0': 0.0, 'rxn00126_c0': 0.0, 'rxn01518_c0': 0.0, 'rxn12844_c0': 0.0, 'rxn09988_c0': 0.0, 'rxn00058_c0': 0.0, 'rxn05034_c0': 0.0, 'rxn08306_c0': 0.0, 'rxn00206_c0': 0.0, 'rxn05381_c0': 0.0, 'rxn05340_c0': -7.46084127027808, 'rxn02143_c0': 0.0, 'rxn04704_c0': 0.0, 'rxn00299_c0': 0.0, 'rxn08546_c0': 0.0, 'rxn05389_c0': 0.0, 'rxn01132_c0': 0.0, 'rxn05735_c0': 0.0, 'rxn00904_c0': 27.023349247593018, 'rxn02484_c0': 0.0, 'rxn05671_c0': 0.0, 'rxn02916_c0': 0.0, 'rxn01133_c0': 0.0, 'rxn12639_c0': 0.0, 'rxn01000_c0': 0.0, 'rxn00647_c0': 0.0, 'rxn02377_c0': 0.0, 'rxn00363_c0': 0.0, 'rxn05188_c0': 0.0, 'rxn01281_c0': 0.0, 'rxn01670_c0': 0.0, 'rxn12643_c0': 0.0, 'rxn09359_c0': 0.0, 'rxn01300_c0': 0.0, 'rxn00601_c0': 0.0, 'rxn00411_c0': 0.0, 'rxn03886_c0': -2.6406507641563408e-11, 'rxn05217_c0': -190.89786712810923, 'rxn03012_c0': 0.0, 'rxn03908_c0': 20.43191865097022, 'rxn09197_c0': 0.0, 'rxn00838_c0': 8.09651660220545, 'rxn00831_c0': 0.0, 'rxn01352_c0': -1.2251779925032091, 'rxn02004_c0': 0.0, 'rxn12634_c0': 0.0, 'rxn00883_c0': 0.0, 'rxn01457_c0': 0.0, 'rxn01255_c0': 0.33483898802983575, 'rxn05406_c0': 0.0, 'rxn05251_c0': 0.0, 'rxn05485_c0': -2.9843365081112307, 'rxn00214_c0': 0.0, 'rxn01211_c0': 0.0, 'rxn01453_c0': 0.0, 'rxn00348_c0': 0.0, 'rxn00527_c0': 0.0, 'rxn03646_c0': 0.0, 'rxn05322_c0': -7.460841270278079, 'rxn00792_c0': 0.0, 'rxn03537_c0': 0.16741949401495526, 'rxn13782_c0': 59.66143917486785, 'rxn05430_c0': 0.0, 'rxn01917_c0': 0.0, 'rxn10236_c0': 0.0, 'rxn02429_c0': 0.0, 'rxn05501_c0': 0.0, 'rxn03253_c0': 0.0, 'rxn01509_c0': 0.0, 'rxn02011_c0': 1.492168254055469, 'rxn08528_c0': 0.3348389880299105, 'rxn01145_c0': 0.0, 'rxn09176_c0': -138.45192085231167, 'rxn08323_c0': 1.2251779925032091, 'rxn09205_c0': 0.0, 'rxn05364_c0': 0.0, 'rxn09201_c0': 0.0, 'rxn05574_c0': 240.6659924371563, 'rxn01669_c0': -0.33483898802988526, 'rxn00508_c0': 0.0, 'rxn01896_c0': 0.0, 'rxn08352_c0': 1.9944267361004218, 'rxn00187_c0': 0.0, 'rxn05734_c0': 0.0, 'rxn00006_c0': 0.0, 'rxn02503_c0': 0.0, 'rxn05338_c0': -7.460841270278081, 'rxn03135_c0': 0.0, 'rxn08310_c0': 0.0, 'rxn00915_c0': 0.0, 'rxn02853_c0': 0.0, 'rxn10224_c0': 0.0, 'rxn05337_c0': -7.460841270278082, 'rxn01653_c0': 0.0, 'rxn00474_c0': 0.0, 'rxn03147_c0': 16.175082429313573, 'rxn08073_c0': 0.0, 'rxn03843_c0': 1.4921682540556163, 'rxn05376_c0': 0.0, 'rxn01802_c0': 0.0, 'rxn08343_c0': -139.6296556094151, 'rxn02811_c0': -5.2839197270031546e-12, 'rxn03062_c0': 5.287406630414674e-12, 'rxn01544_c0': 0.0, 'rxn00863_c0': 0.0, 'rxn09113_c0': 5.574528308703318, 'rxn09242_c0': 0.0, 'rxn02402_c0': -0.5022584820448189, 'rxn08291_c0': -4.476504762166702, 'rxn03491_c0': 0.0, 'rxn05673_c0': 0.0, 'rxn05465_c0': 162.19614995328365, 'rxn12845_c0': 0.0, 'rxn05148_c0': 0.16741949401493555, 'rxn05380_c0': 0.0, 'rxn05347_c0': 0.0, 'rxn06077_c0': 0.0, 'rxn04413_c0': 0.0, 'rxn03897_c0': 0.0, 'rxn03407_c0': 0.0, 'rxn01831_c0': 0.0, 'rxn01303_c0': 0.0, 'rxn00113_c0': 11.829502406011594, 'rxn00297_c0': 0.0, 'rxn00137_c0': 0.16741949401495526, 'rxn06023_c0': 0.16741949401495526, 'rxn05566_c0': 0.0, 'rxn00611_c0': 0.0, 'rxn07435_c0': 0.0, 'rxn05746_c0': 0.0, 'rxn01678_c0': 0.0, 'rxn02286_c0': 1.4921682540554684, 'rxn00872_c0': 0.0, 'rxn00832_c0': -16.17508242931357, 'rxn12640_c0': 0.0, 'rxn00931_c0': 0.0, 'rxn00066_c0': 0.0, 'rxn09450_c0': 0.0, 'rxn04938_c0': 0.0, 'rxn05115_c0': 16.175082429313573, 'rxn00412_c0': 0.0, 'rxn01573_c0': 0.0, 'rxn00650_c0': -0.16741949401495526, 'rxn03167_c0': 0.0, 'rxn00640_c0': 0.0, 'rxn01103_c0': 0.0, 'rxn01313_c0': 0.0, 'rxn00515_c0': 0.0, 'rxn05397_c0': 0.0, 'rxn03005_c0': -32.517584352642096, 'rxn03437_c0': 0.0, 'rxn01353_c0': 0.0, 'rxn10235_c0': 0.0, 'rxn12633_c0': 0.0, 'rxn00882_c0': 0.0, 'rxn04139_c0': 0.16741949401493458, 'rxn00552_c0': 30.058742404024194, 'rxn00313_c0': 0.0, 'rxn02949_c0': 0.0, 'rxn00735_c0': 0.0, 'rxn00775_c0': 0.0, 'rxn02680_c0': 0.0, 'rxn05405_c0': 0.0, 'rxn08924_c0': 0.0, 'rxn00804_c0': -5.287785283957207e-12, 'rxn00196_c0': 0.0, 'rxn00547_c0': 0.0, 'rxn04750_c0': 0.0, 'rxn08020_c0': 0.0, 'rxn05325_c0': -7.460841270278082, 'rxn08762_c0': 0.0, 'rxn05610_c0': 0.0, 'rxn07879_c0': 0.0, 'rxn02312_c0': 0.0, 'rxn03422_c0': 0.0, 'rxn02895_c0': 16.175082429313573, 'rxn02934_c0': 0.0, 'rxn08089_c0': 0.0, 'rxn00189_c0': 0.0, 'rxn02508_c0': 0.0, 'rxn05442_c0': 0.0, 'rxn00420_c0': 0.0, 'rxn10221_c0': 0.0, 'rxn08475_c0': -0.5022584820448481, 'rxn02792_c0': 0.0, 'rxn07979_c0': 3.577234768119439e-15, 'rxn03542_c0': 0.0, 'rxn08935_c0': -7.46084127027808, 'rxn00993_c0': 0.0, 'rxn00469_c0': 0.0, 'rxn02804_c0': 0.0, 'rxn05005_c0': 0.16741949401493558, 'rxn00048_c0': 0.0, 'rxn00853_c0': 0.0, 'rxn05231_c0': 0.6861761299665416, 'rxn09200_c0': 0.0, 'rxn00283_c0': 0.0, 'rxn05373_c0': 0.0, 'rxn00726_c0': 0.0, 'rxn00184_c0': 0.0, 'rxn00379_c0': 0.0, 'rxn05330_c0': 7.460841270278081, 'rxn02155_c0': 0.0, 'rxn02866_c0': 0.0, 'rxn00304_c0': 0.0, 'rxn02475_c0': 0.0, 'rxn05339_c0': -7.460841270278079, 'rxn05460_c0': 0.0, 'rxn09039_c0': 0.0, 'rxn03108_c0': 0.0, 'rxn00675_c0': 0.0, 'rxn01018_c0': 11.829502406011594, 'rxn04132_c0': 0.0, 'rxn00714_c0': 0.0, 'rxn03990_c0': 0.0, 'rxn00634_c0': 0.0, 'rxn03514_c0': 0.0, 'rxn08793_c0': 0.0, 'rxn00947_c0': 0.0, 'rxn02971_c0': 0.0, 'rxn03247_c0': 0.0, 'rxn00278_c0': -1000.0, 'rxn00205_c0': 0.0, 'rxn03893_c0': 0.1674194940148954, 'rxn02789_c0': 5.283919727003155e-12, 'rxn00988_c0': 0.0, 'rxn00410_c0': 6.2429207422596615, 'rxn06586_c0': 0.0, 'rxn12510_c0': 0.3348389880298855, 'rxn03933_c0': 0.0, 'rxn05342_c0': -5.968673016222463, 'rxn00407_c0': 0.0, 'rxn00414_c0': 0.0, 'rxn08123_c0': 0.0, 'rxn09110_c0': 0.0, 'rxn05594_c0': 0.0, 'rxn05349_c0': 0.0, 'rxn00303_c0': 0.0, 'rxn05512_c0': 0.0, 'rxn07439_c0': 0.0, 'rxn01073_c0': 0.0, 'rxn02405_c0': 4.476504762166847, 'rxn07430_c0': 0.0, 'rxn02200_c0': 0.0, 'rxn01069_c0': 0.0, 'rxn00791_c0': 0.0, 'rxn03150_c0': 0.1674194940149553, 'rxn08783_c0': 0.0, 'rxn01827_c0': 0.0, 'rxn00358_c0': 0.0, 'rxn01672_c0': 0.0, 'rxn05312_c0': 0.0, 'rxn00105_c0': 0.3348389880298852, 'rxn03243_c0': 0.0, 'rxn03446_c0': 0.0, 'rxn01302_c0': 0.0, 'rxn01122_c0': 0.0, 'rxn05029_c0': 0.16741949401495526, 'rxn00456_c0': 0.0, 'rxn05393_c0': 0.0, 'rxn00328_c0': 0.0, 'rxn02285_c0': -1.4921682540554684, 'rxn02303_c0': 0.0, 'rxn05315_c0': -0.16741949401495526, 'rxn00227_c0': 0.0, 'rxn03047_c0': 0.0, 'rxn02889_c0': 0.0, 'rxn00559_c0': 0.0, 'rxn00691_c0': 0.0, 'rxn00290_c0': -854.8710627372753, 'rxn03907_c0': 20.43191865097022, 'rxn03538_c0': 0.16741949401493555, 'rxn02834_c0': 0.0, 'rxn09953_c0': 0.0, 'rxn02085_c0': 0.0, 'rxn01314_c0': 0.0, 'rxn09193_c0': -187.09598188762857, 'rxn05436_c0': 0.0, 'rxn05195_c0': 0.0, 'rxn00076_c0': 0.0, 'rxn06377_c0': -4.3434553055694746e-11, 'rxn10234_c0': 0.0, 'rxn05579_c0': 0.0, 'rxn01208_c0': -5.287406630414675e-12, 'rxn10163_c0': 1.4921682540556158, 'rxn01143_c0': 0.6861761299666234, 'rxn03513_c0': 0.0, 'rxn05618_c0': 0.16741949401495526, 'rxn08241_c0': -0.16741949401495523, 'rxn00260_c0': -240.975250273733, 'rxn02803_c0': 0.0, 'rxn00461_c0': 1.4921682540554682, 'rxn08234_c0': -0.16741949401495526, 'rxn00817_c0': 0.0, 'rxn02989_c0': 0.0, 'rxn05247_c0': 0.0, 'rxn03136_c0': 16.175082429313573, 'rxn04791_c0': 0.0, 'rxn00222_c0': 0.0, 'rxn10229_c0': 0.0, 'rxn00810_c0': 0.0, 'rxn00818_c0': 0.0, 'rxn02937_c0': 16.175082429313573, 'rxn01652_c0': 0.0, 'rxn00350_c0': -0.1674194940149553, 'rxn03137_c0': 16.17508242931357, 'rxn01437_c0': 0.0, 'rxn05462_c0': 0.0, 'rxn00992_c0': -854.8710627372753, 'rxn05239_c0': 0.0, 'rxn08312_c0': 0.0, 'rxn00952_c0': 0.0, 'rxn01961_c0': 0.0, 'rxn01517_c0': 0.0, 'rxn10226_c0': 0.0, 'rxn09211_c0': 0.0, 'rxn03141_c0': 0.0, 'rxn05006_c0': 0.16741949401493558, 'rxn01299_c0': 0.0, 'rxn05331_c0': 7.46084127027808, 'rxn01800_c0': 999.9999999999997, 'rxn00533_c0': 0.0, 'rxn08309_c0': 0.0, 'rxn02476_c0': 0.3348389880298358, 'rxn01512_c0': 2.178344384022311, 'rxn03841_c0': 0.0, 'rxn06865_c0': -1.4921682540556158, 'rxn01084_c0': 0.0, 'rxn05517_c0': 0.0, 'rxn04113_c0': 18.4374919148698, 'rxn00676_c0': 0.0, 'rxn05603_c0': 0.0, 'rxn05599_c0': 0.0, 'rxn01257_c0': 0.0, 'rxn00903_c0': 0.0, 'rxn00980_c0': 0.0, 'rxn00056_c0': 0.0, 'rxn00016_c0': 0.0, 'rxn03991_c0': 0.0, 'rxn02213_c0': 0.33483898802983575, 'rxn05441_c0': 0.0, 'rxn00086_c0': 0.0, 'rxn04989_c0': 0.0, 'rxn08668_c0': 0.0, 'rxn01127_c0': 1.5343870275879566e-13, 'rxn08548_c0': 0.0, 'rxn05445_c0': 0.0, 'rxn05341_c0': -7.460841270278083, 'rxn08124_c0': 0.0, 'rxn05449_c0': 0.0, 'rxn07438_c0': 0.0, 'rxn00743_c0': 0.0, 'rxn01775_c0': -240.66599243715635, 'rxn02483_c0': 0.0, 'rxn03236_c0': 0.0, 'rxn00834_c0': 8.078565827108125, 'rxn00599_c0': 1.3393559521193448, 'rxn00704_c0': 0.0, 'rxn01459_c0': 0.0, 'rxn05252_c0': 0.0, 'rxn01671_c0': 0.0, 'rxn12642_c0': 0.0, 'rxn05620_c0': 0.0, 'rxn00932_c0': 0.0, 'rxn01332_c0': 0.33483898802983575, 'rxn03532_c0': 0.0, 'rxn00693_c0': 1.0045169640896694, 'rxn01351_c0': 0.0, 'rxn03909_c0': 20.431918650970253, 'rxn08287_c0': 0.0, 'rxn01101_c0': 0.0, 'rxn04602_c0': 0.0, 'rxn03084_c0': 16.175082429313573, 'rxn10233_c0': 0.0, 'rxn06600_c0': 0.0, 'rxn02005_c0': 0.0, 'rxn12635_c0': 0.0, 'rxn05297_c0': 0.0, 'rxn00806_c0': 0.0, 'rxn05328_c0': 0.0, 'rxn05024_c0': 0.0, 'rxn05361_c0': 0.0, 'rxn01851_c0': 0.0, 'rxn09449_c0': 0.0, 'rxn03630_c0': 0.0, 'rxn05323_c0': 0.0, 'rxn05656_c0': 0.0, 'rxn05616_c0': -0.16741949401495526, 'rxn05691_c0': 0.0, 'rxn01507_c0': 0.0, 'rxn00255_c0': 0.0, 'rxn05651_c0': 0.1674194940149553, 'rxn03638_c0': 6.136092510237271, 'rxn05438_c0': 0.0, 'rxn02897_c0': 0.16741949401493564, 'rxn01406_c0': 0.0, 'rxn05249_c0': 0.0, 'rxn02056_c0': -0.16741949401495526, 'rxn10043_c0': 0.0, 'rxn02277_c0': 0.0, 'rxn03504_c0': 0.0, 'rxn10223_c0': 0.0, 'rxn02596_c0': 0.0, 'rxn00991_c0': 0.0, 'rxn10260_c0': 0.0, 'rxn00541_c0': 987.4070969917491, 'rxn01924_c0': -131.33038312523547, 'rxn01368_c0': 0.0, 'rxn00851_c0': 1.4921682540556163, 'rxn00301_c0': 0.0, 'rxn09199_c0': 0.0, 'rxn05233_c0': 0.0, 'rxn09109_c0': 0.0, 'rxn00141_c0': 1.0045169640896103, 'rxn00186_c0': 0.0, 'rxn00377_c0': 0.0, 'rxn08558_c0': 0.0, 'rxn05332_c0': 0.0, 'rxn00438_c0': 0.16741949401493555, 'rxn00007_c0': 0.0, 'rxn02473_c0': 0.0, 'rxn01434_c0': 0.0, 'rxn00912_c0': 0.0, 'rxn02345_c0': 0.0, 'rxn03512_c0': 0.0, 'rxn08898_c0': 0.0, 'rxn06076_c0': -1.225177992503065, 'rxn01011_c0': 0.0, 'rxn08890_c0': 0.0, 'rxn03492_c0': 0.0, 'rxn10259_c0': 0.0, 'rxn01602_c0': -0.5022584820448659, 'rxn03068_c0': 0.0, 'rxn02927_c0': 0.0, 'rxn05433_c0': 0.0, 'rxn05344_c0': 0.0, 'rxn03241_c0': 0.0, 'rxn01521_c0': 0.0, 'rxn00331_c0': 0.0, 'rxn12636_c0': 0.0, 'rxn02663_c0': 0.0, 'rxn05414_c0': 0.0, 'rxn00338_c0': 0.5022584820448189, 'rxn02373_c0': 0.0, 'rxn01893_c0': 0.0, 'rxn00085_c0': 53.499845200676376, 'rxn00119_c0': 14.813838914122826, 'rxn07432_c0': 0.0, 'rxn00063_c0': 0.0, 'rxn08549_c0': 0.0, 'rxn05447_c0': 0.0, 'rxn01466_c0': 1.994426736100422, 'rxn05187_c0': 0.0, 'rxn03409_c0': 0.0, 'rxn03885_c0': 240.66599243715632, 'rxn04601_c0': 0.0, 'rxn00605_c0': 0.0, 'rxn04142_c0': 0.0, 'rxn02008_c0': 1.4921682540554686, 'rxn05740_c0': 0.0, 'rxn09203_c0': 0.0, 'rxn03904_c0': 1.492168254055616, 'rxn01225_c0': 0.0, 'rxn01171_c0': 0.0, 'rxn02288_c0': 0.0, 'rxn10199_c0': 1.4921682540556158, 'rxn00783_c0': 41.31135143026602, 'rxn00409_c0': 31.11594983223842, 'rxn01107_c0': 0.0, 'rxn00598_c0': 0.0, 'rxn08015_c0': 0.0, 'rxn00840_c0': -0.6861761299666953, 'rxn02128_c0': 0.0, 'rxn02518_c0': 0.0, 'rxn03901_c0': 1.492168254055616, 'rxn05621_c0': 0.0, 'rxn10052_c0': 0.0, 'rxn04133_c0': 0.0, 'rxn00946_c0': -1.6812249837541894e-16, 'rxn00193_c0': 0.0, 'rxn02517_c0': 0.0, 'rxn05326_c0': -7.46084127027808, 'rxn05114_c0': 16.175082429313573, 'rxn00653_c0': 0.0, 'rxn03164_c0': 1.4921682540556163, 'rxn03251_c0': 0.0, 'rxn00929_c0': 0.0, 'rxn02166_c0': 0.0, 'rxn08335_c0': 11.829502406011594, 'rxn03004_c0': -16.34250192332853, 'rxn10232_c0': 0.0, 'rxn00138_c0': 0.0, 'rxn08942_c0': 7.460841270278079, 'rxn06729_c0': 2.984336508111232, 'rxn07977_c0': 0.0, 'rxn05054_c0': 0.0, 'rxn05368_c0': 0.0, 'rxn01858_c0': 139.6296556094151, 'rxn10770_c0': 0.0, 'rxn01364_c0': 0.0, 'rxn10161_c0': 0.0, 'rxn05360_c0': 0.0, 'rxn02297_c0': 0.0, 'rxn10570_c0': 0.0, 'rxn00504_c0': 176.09711723484355, 'rxn08021_c0': 0.0, 'rxn08396_c0': 3.577234768119439e-15, 'rxn01485_c0': -6.1360925102372725, 'rxn05206_c0': 0.0, 'rxn03031_c0': 1.4921682540554686, 'rxn09207_c0': 0.0, 'rxn09296_c0': 0.5022584820448562, 'rxn00239_c0': 8.245985321123083, 'rxn00302_c0': 0.0, 'rxn02465_c0': 0.0, 'rxn01791_c0': 0.0, 'rxn01710_c0': 0.0, 'rxn00183_c0': 0.0, 'rxn08100_c0': 0.0, 'rxn01329_c0': 0.0, 'rxn00950_c0': 0.0, 'rxn02507_c0': 0.0, 'rxn08043_c0': 0.0, 'rxn01029_c0': 0.0, 'rxn08131_c0': 0.0, 'rxn10220_c0': 0.0, 'rxn10261_c0': 0.0, 'rxn08076_c0': 0.0, 'rxn01964_c0': 0.0, 'rxn02341_c0': 0.3348389880298855, 'rxn01923_c0': 65.66519156261774, 'rxn01519_c0': 0.0, 'rxn01137_c0': 1.004516964091003, 'rxn01080_c0': 240.66599243715632, 'rxn09108_c0': 0.0, 'rxn01513_c0': 0.6861761299666955, 'rxn05372_c0': 0.0, 'rxn06510_c0': 0.0, 'rxn02186_c0': 0.0, 'rxn08307_c0': 0.0, 'rxn05426_c0': 0.0, 'rxn00209_c0': 3.735839694480214e-14, 'rxn01274_c0': 0.0, 'rxn02474_c0': 0.0, 'rxn02144_c0': 0.0, 'rxn12645_c0': 0.0, 'rxn02929_c0': -1.4921682540554686, 'rxn00104_c0': 1.0577584984882538, 'rxn01019_c0': 0.0, 'rxn06335_c0': 0.0, 'rxn09448_c0': 0.0, 'rxn00525_c0': 0.0, 'rxn09208_c0': 0.0, 'rxn05439_c0': 0.0, 'rxn05305_c0': -17.029643097669503, 'rxn09014_c0': 0.0, 'rxn05638_c0': 0.0, 'rxn02914_c0': 0.0, 'rxn01603_c0': 0.0, 'rxn00686_c0': -0.5022584820448587, 'rxn09112_c0': 0.0, 'rxn03194_c0': 0.0, 'rxn06075_c0': 0.0, 'rxn03898_c0': 0.0, 'rxn00689_c0': 0.0, 'rxn01286_c0': 0.0, 'rxn05289_c0': 2.413612604514443, 'rxn01973_c0': 1.4921682540554688, 'rxn00117_c0': 23.766848438456524, 'rxn05343_c0': 7.460841270278082, 'rxn01520_c0': 0.0, 'rxn03395_c0': 0.16741949401493458, 'rxn05736_c0': 1.4921682540556158, 'rxn03445_c0': 0.0, 'rxn11663_c0': 3.733192899574463e-14, 'rxn01226_c0': 0.0, 'rxn00493_c0': 0.0, 'rxn01834_c0': 0.0, 'rxn00293_c0': 6.136092510237272, 'rxn00948_c0': 0.0, 'rxn00367_c0': 0.0, 'rxn00839_c0': 0.0, 'rxn03838_c0': 0.0, 'rxn21857_c0': 0.0, 'rxn26307_c0': 0.0, 'rxn23043_c0': 0.0, 'rxn41896_c0': 0.0, 'rxn21729_c0': 0.0, 'rxn45425_c0': 0.0, 'rxn21863_c0': 0.0, 'rxn45996_c0': 0.0, 'rxn40037_c0': 0.0, 'rxn41287_c0': 0.0, 'rxn21862_c0': 0.0, 'rxn39452_c0': 0.0, 'rxn16823_c0': 0.0, 'rxn16583_c0': 0.0, 'rxn27289_c0': 0.0, 'rxn21859_c0': 0.0, 'rxn42230_c0': 0.0, 'rxn15949_c0': 0.0, 'rxn24718_c0': 0.0, 'rxn26361_c0': 0.0, 'rxn47768_c0': 0.0, 'rxn10506_c0': 0.0, 'rxn20643_c0': 0.0, 'rxn41452_c0': 0.0, 'rxn21864_c0': 0.0, 'rxn39451_c0': 0.0, 'rxn21858_c0': 0.0, 'rxn21861_c0': 0.0, 'rxn40439_c0': 0.0, 'rxn24830_c0': 0.0, 'rxn15947_c0': 0.0, 'rxn17731_c0': 0.0, 'rxn25839_c0': 0.0, 'rxn23042_c0': 0.0, 'rxn00154_c0': 912.9935210398147, 'rxn23589_c0': 0.0, 'rxn07436_c0': 0.0, 'rxn16826_c0': 0.0, 'rxn16794_c0': 0.0, 'rxn16828_c0': 0.0, 'rxn16776_c0': 0.0, 'rxn16829_c0': 0.0, 'rxn15167_c0': 0.0, 'rxn15395_c0': 0.0, 'rxn15972_c0': 0.0, 'rxn03396_c0': 0.16741949401493458, 'rxn15296_c0': 41.31135143026602, 'rxn15293_c0': 0.0, 'rxn13741_c0': 176.09711723484355, 'rxn08070_c0': 0.0, 'rxn08098_c0': 0.0, 'rxn25271_c0': 0.0, 'rxn16236_c0': 0.0, 'rxn16237_c0': 0.0, 'rxn43581_c0': 0.0, 'rxn23336_c0': 0.0, 'rxn08502_e0': 0.0, 'rxn26127_c0': 0.0, 'rxn05496_c0': -1000.0, 'rxn05306_c0': 9.218855155836689, 'rxn12666_c0': 0.16741949401491793, 'rxn09690_c0': 5.045267795151681, 'rxn05508_c0': 11.981854971995265, 'rxn05582_c0': -972.995194643466, 'rxn05307_c0': 46.25432120130563, 'rxn05652_c0': -0.16741949401495526, 'rxn00068_c0': 0.08370974700746879, 'rxn05301_c0': 7.19973990556696, 'rxn05300_c0': 1000.00000000001, 'rxn05243_c0': 22.396238894433747, 'rxn05303_c0': 14.718287482229213, 'rxn09672_c0': 6.620299836270958, 'rxn09693_c0': 0.16741949401493567, 'rxn05645_c0': 0.502258482044866, 'rxn05669_c0': 21.014738986364996, 'rxn05687_c0': 0.16741949401493564, 'rxn05244_c0': 14.426047117058605, 'rxn05308_c0': 0.33483898802981077, 'rxn09657_c0': 0.0, 'rxn05310_c0': -0.16741949401493564, 'rxn05663_c0': 2.816134428007749, 'rxn05255_c0': 0.5022584820448125, 'rxn09678_c0': -3.7202992905332146e-11, 'rxn05299_c0': 4.728980454579053, 'rxn09696_c0': 1.1719364581046248, 'rxn03087_c0': -1.4921682540554686, 'rxn02831_c0': 0.33483898802991047, 'rxn08709_c0': 1.4921682540556158, 'rxn08551_c0': 7.432704411604425, 'rxn01213_c0': 1.994426736100422, 'rxn12868_c0': 0.0, 'rxn08088_c0': 7.4327044116044245, 'rxn05333_c0': 7.460841270278081, 'rxn10481_c0': 0.1674194940149553, 'rxn08711_c0': 1.492168254055616, 'rxn08618_c0': 1.4921682540556154, 'rxn08954_c0': 1.4921682540556158, 'rxn03917_c0': 5.968673016222463, 'rxn08708_c0': 1.492168254055616, 'rxn00966_c0': 0.0, 'rxn03918_c0': 5.968673016222463, 'rxn05744_c0': 0.0, 'rxn05514_c0': -0.16741949401495526, 'rxn03397_c0': 0.16741949401493456, 'rxn03159_c0': 1.4921682540556158, 'rxn00124_c0': 0.16741949401491793, 'rxn08712_c0': 1.492168254055616, 'rxn03439_c0': 1.4921682540556158, 'rxn01675_c0': 1.4921682540556158, 'rxn10954_c0': 14.865408823208845, 'rxn05722_c0': 0.16741949401493555, 'rxn02404_c0': 4.476504762166846, 'rxn08620_c0': 1.4921682540556156, 'rxn08583_c0': 1.4921682540556154, 'rxn02832_c0': -0.3348389880299105, 'rxn03919_c0': 5.968673016222464, 'rxn08713_c0': 1.4921682540556158, 'rxn08333_c0': 0.33483898802991047, 'rxn03916_c0': 5.968673016222462, 'rxn04675_c0': 0.3348389880299105, 'rxn04308_c0': 1.492168254055616, 'rxn01258_c0': 0.3348389880299105, 'rxn16108_c0': 0.5022584820448058, 'rxn09225_c0': 1.4921682540556156, 'rxn02000_c0': 1.4921682540556158, 'rxn08619_c0': 1.4921682540556156, 'rxn03146_c0': 2.9843365081112316, 'rxn09106_c0': 5.574528308703318, 'rxn03181_c0': 1.4921682540556158, 'rxn06991_c0': 20.43191865097022, 'rxn12008_c0': -0.5022584820448058, 'rxn03182_c0': 1.4921682540556158, 'rxn06723_c0': -2.9843365081112316, 'rxn16573_c0': 0.0, 'rxn02003_c0': -1.4921682540556156, 'rxn10094_c0': 0.16741949401495526, 'rxn03130_c0': 1.4921682540556158, 'rxn03511_c0': 5.968673016222464, 'rxn03393_c0': 0.16741949401489542, 'rxn08710_c0': 1.4921682540556163, 'rxn21860_c0': 0.0, 'rxn06848_c0': -1.492168254055616, 'rxn10336_c0': 1.858176102901106, 'rxn12225_c0': 0.08370974700744771, 'bio1': 59.66143917486785, 'EX_cpd00218_e0': 0.16741949401493567, 'EX_cpd00214_e0': 0.0, 'EX_cpd00009_e0': -48.31068682176281, 'EX_cpd00156_e0': -21.014738986364996, 'EX_cpd00053_e0': 0.0, 'EX_cpd11575_e0': 0.0, 'EX_cpd00654_e0': -1000.0000000000001, 'EX_cpd00305_e0': 0.0, 'EX_cpd00395_e0': 0.0, 'EX_cpd00051_e0': -14.718287482229213, 'EX_cpd11596_e0': 0.0, 'EX_cpd00184_e0': -0.686176129966615, 'EX_cpd03424_e0': 0.0, 'EX_cpd00635_e0': 0.0, 'EX_cpd00075_e0': -414.88129452960914, 'EX_cpd00007_e0': -353.5550596038632, 'EX_cpd11579_e0': 0.0, 'EX_cpd00412_e0': 1000.0, 'EX_cpd00314_e0': 0.0, 'EX_cpd00179_e0': 0.0, 'EX_cpd00276_e0': -39.17917142237269, 'EX_cpd00644_e0': -0.3348389880298109, 'EX_cpd00035_e0': 1000.0, 'EX_cpd03279_e0': 139.6296556094151, 'EX_cpd00118_e0': -0.16741949401493564, 'EX_cpd00138_e0': 0.0, 'EX_cpd00129_e0': -187.09598188762857, 'EX_cpd00023_e0': 0.0, 'EX_cpd00011_e0': 1000.0, 'EX_cpd00588_e0': 0.0, 'EX_cpd00028_e0': -0.16741949401493555, 'EX_cpd11578_e0': 0.0, 'EX_cpd00119_e0': -4.728980454579053, 'EX_cpd00067_e0': 0.0, 'EX_cpd00039_e0': -17.029643097669503, 'EX_cpd10515_e0': -0.5022584820448481, 'EX_cpd00264_e0': -0.16741949401495526, 'EX_cpd00012_e0': 0.0, 'EX_cpd00122_e0': 2.9843365081112307, 'EX_cpd01080_e0': 0.0, 'EX_cpd00793_e0': -0.16741949401493555, 'EX_cpd00106_e0': 0.0, 'EX_cpd00731_e0': 0.0, 'EX_cpd00971_e0': 0.0, 'EX_cpd00048_e0': -0.16741949401495526, 'EX_cpd09878_e0': 0.0, 'EX_cpd00751_e0': 0.0, 'EX_cpd00107_e0': -22.396238894433747, 'EX_cpd01030_e0': 0.0, 'EX_cpd00137_e0': 0.0, 'EX_cpd00220_e0': -0.5022584820448659, 'EX_cpd00215_e0': -0.16741949401491793, 'EX_cpd03726_e0': 0.0, 'EX_cpd00386_e0': 0.0, 'EX_cpd03048_e0': 0.0, 'EX_cpd00116_e0': 0.0, 'EX_cpd08023_e0': 0.0, 'EX_cpd00108_e0': 0.0, 'EX_cpd00161_e0': -1000.0, 'EX_cpd00393_e0': -0.5022584820448125, 'EX_cpd00099_e0': -0.1674194940149553, 'EX_cpd00030_e0': -0.16741949401495526, 'EX_cpd00060_e0': -6.620299836270958, 'EX_cpd03847_e0': -1.4921682540556158, 'EX_cpd00280_e0': 0.0, 'EX_cpd00076_e0': 0.0, 'EX_cpd00149_e0': -0.1674194940149552, 'EX_cpd00036_e0': 0.0, 'EX_cpd00154_e0': 0.0, 'EX_cpd00069_e0': -7.19973990556696, 'EX_cpd00063_e0': -0.16741949401495526, 'EX_cpd00205_e0': -0.16741949401495526, 'EX_cpd00794_e0': 0.0, 'EX_cpd00244_e0': 0.0, 'EX_cpd00066_e0': -9.218855155836689, 'EX_cpd00254_e0': -0.16741949401495526, 'EX_cpd00438_e0': -139.62965560941518, 'EX_cpd00041_e0': 190.89786712810923, 'EX_cpd00246_e0': 1.0045169640910032, 'EX_cpd00132_e0': -11.981854971995265, 'EX_cpd03724_e0': 0.0, 'EX_cpd00082_e0': 0.0, 'EX_cpd00034_e0': -0.16741949401495526, 'EX_cpd03453_e0': 0.0, 'EX_cpd00001_e0': 1000.0, 'EX_cpd00797_e0': 854.8710627372753, 'EX_cpd00027_e0': -808.1062002633349, 'EX_cpd00017_e0': -1.1719364581046248, 'EX_cpd00065_e0': -2.816134428007749, 'EX_cpd00058_e0': -0.1674194940149553, 'EX_cpd00164_e0': -240.66599243715635, 'EX_cpd00166_e0': 0.0, 'EX_cpd10516_e0': 0.0, 'EX_cpd00367_e0': 0.0, 'EX_cpd01012_e0': 0.0, 'EX_cpd00210_e0': 0.0, 'EX_cpd01171_e0': 0.0, 'EX_cpd03696_e0': 0.0, 'EX_cpd00249_e0': 0.0, 'EX_cpd00054_e0': -46.25432120130563, 'EX_cpd00013_e0': 390.1569763196761, 'EX_cpd00209_e0': 0.0, 'EX_cpd00540_e0': 0.0, 'EX_cpd00182_e0': 0.0, 'EX_cpd00136_e0': -0.16741949401489536, 'EX_cpd00277_e0': -1.2251779925032091, 'EX_cpd00033_e0': 972.9951946434659, 'EX_cpd00322_e0': -14.426047117058605, 'EX_cpd00084_e0': -5.0452677951516804, 'EX_cpd01017_e0': 0.0, 'EX_cpd00104_e0': -0.16741949401493567, 'SK_cpd02701_c0': 0.0, 'SK_cpd11416_c0': 59.66143917486785, 'SK_cpd15302_c0': 0.0, 'SK_cpd03091_c0': 0.0}}, 'Bacillus_sp._bc15.RAST.fbamodel': {'media': EX_cpd00156_e0       3.019739\n",
      "EX_cpd00654_e0    1000.000000\n",
      "EX_cpd00355_e0      80.117581\n",
      "EX_cpd00007_e0     153.574291\n",
      "EX_cpd00028_e0       0.011557\n",
      "EX_cpd15603_e0     116.659374\n",
      "EX_cpd00793_e0       0.011557\n",
      "EX_cpd00048_e0       0.011557\n",
      "EX_cpd00220_e0       0.034671\n",
      "EX_cpd00393_e0       0.034671\n",
      "EX_cpd00099_e0       0.011557\n",
      "EX_cpd00030_e0       0.011557\n",
      "EX_cpd00149_e0       0.011557\n",
      "EX_cpd00063_e0       0.011557\n",
      "EX_cpd00205_e0       0.011557\n",
      "EX_cpd00254_e0       0.011557\n",
      "EX_cpd00034_e0       0.011557\n",
      "EX_cpd00058_e0       0.011557\n",
      "EX_cpd10516_e0       0.034671\n",
      "EX_cpd00322_e0       0.995819\n",
      "dtype: float64, 'solution': {'rxn00935_c0': 68.49690448387382, 'rxn00247_c0': 0.0, 'rxn05625_c0': -66.57574707841856, 'rxn02342_c0': 0.0, 'rxn01452_c0': 0.0, 'rxn08734_c0': 0.0, 'rxn00199_c0': 0.0, 'rxn02168_c0': 0.0, 'rxn00545_c0': 0.0, 'rxn10126_c0': 0.0, 'rxn00544_c0': 0.0, 'rxn05040_c0': 0.0, 'rxn08556_c0': 0.0, 'rxn02376_c0': 0.0, 'rxn00568_c0': -431.43206914278153, 'rxn08971_c0': 0.0, 'rxn00225_c0': -999.9999999999993, 'rxn00148_c0': -1000.0, 'rxn00781_c0': 1000.0, 'rxn05319_c0': 702.5898697217808, 'rxn00250_c0': -481.7077367085616, 'rxn00171_c0': 1000.0, 'rxn00178_c0': 34.43751920991053, 'rxn00549_c0': 0.0, 'rxn00506_c0': 0.0, 'rxn02380_c0': 0.0, 'rxn05581_c0': -994.7135716838817, 'rxn00336_c0': 0.0, 'rxn05145_c0': 0.0, 'rxn01872_c0': 0.0, 'rxn00248_c0': 0.0, 'rxn00499_c0': 0.0, 'rxn00392_c0': 0.9526020192048534, 'rxn00747_c0': 443.2802253672335, 'rxn01334_c0': 0.0, 'rxn06777_c0': -4.245152275038521, 'rxn00324_c0': 0.0, 'rxn03240_c0': 1.8852263195150436e-14, 'rxn00147_c0': 0.0, 'rxn00777_c0': 1000.0, 'rxn05573_c0': 0.0, 'rxn02314_c0': 0.0, 'rxn00285_c0': -451.54382865222027, 'rxn04794_c0': 0.0, 'rxn01871_c0': 0.0, 'rxn00875_c0': 0.0, 'rxn00786_c0': 0.0, 'rxn01100_c0': -1000.0, 'rxn00102_c0': 20.26690850085695, 'rxn00512_c0': 0.0, 'rxn08527_c0': 0.0, 'rxn00173_c0': 1000.0, 'rxn10122_c0': 494.2012336933431, 'rxn00994_c0': 0.0, 'rxn08557_c0': 3.330281518254544, 'rxn01116_c0': 987.2645431748846, 'rxn00670_c0': 0.0, 'rxn01870_c0': -1000.0000000000002, 'rxn08901_c0': 0.0, 'rxn01106_c0': -1000.0, 'rxn00616_c0': 0.0, 'rxn08173_c0': 1000.0, 'rxn00543_c0': 0.0, 'rxn05602_c0': 0.0, 'rxn01476_c0': 0.0, 'rxn01333_c0': 485.8564185517691, 'rxn00159_c0': 0.0, 'rxn00799_c0': 0.0, 'rxn00011_c0': 0.0, 'rxn05528_c0': 0.0, 'rxn08975_c0': 0.0, 'rxn05559_c0': -606.5685113567818, 'rxn00459_c0': 1000.0, 'rxn00770_c0': -502.837027651923, 'rxn05209_c0': 861.80057149086, 'rxn00175_c0': 0.0, 'rxn09003_c0': 3.8065825278569716, 'rxn09001_c0': 494.2012336933431, 'rxn01387_c0': 0.0, 'rxn01115_c0': 0.0, 'rxn00161_c0': 0.0, 'rxn03249_c0': -4.245152275038524, 'rxn09272_c0': 0.0, 'rxn05226_c0': 0.0, 'rxn00615_c0': 0.0, 'rxn00569_c0': 0.0, 'rxn00874_c0': 4.245152275038524, 'rxn00782_c0': 0.0, 'rxn05627_c0': 498.0078162212002, 'rxn05313_c0': 0.0, 'rxn00785_c0': -484.4275155229617, 'rxn00216_c0': -474.52908634976893, 'rxn00558_c0': -970.2839340747305, 'rxn00077_c0': 0.47630100960251126, 'rxn01388_c0': 0.0, 'rxn01480_c0': 0.0, 'rxn01200_c0': -502.8370276519228, 'rxn01241_c0': 0.0, 'rxn00288_c0': 452.02012966182264, 'rxn00763_c0': 1000.0, 'rxn01275_c0': 0.0, 'rxn00122_c0': 0.47630100960242544, 'rxn05468_c0': 21.67369213670198, 'rxn00974_c0': 0.0, 'rxn00256_c0': 0.0, 'rxn02167_c0': 4.245152275038524, 'rxn00441_c0': 0.0, 'rxn03250_c0': 4.245152275038525, 'rxn00623_c0': 215.43289636955475, 'rxn00990_c0': 30.192366934872016, 'rxn01343_c0': 0.0, 'rxn00604_c0': 0.0, 'rxn00157_c0': -606.5685113567818, 'rxn05467_c0': -1000.0, 'rxn00779_c0': 0.0, 'rxn00330_c0': 0.0, 'rxn14427_c0': 0.0, 'rxn02201_c0': 0.0, 'rxn07431_c0': 0.0, 'rxn00836_c0': 0.0, 'rxn05318_c0': 0.0, 'rxn01094_c0': 0.0, 'rxn00423_c0': 0.0, 'rxn10298_c0': 0.0, 'rxn00364_c0': 106.28432415791796, 'rxn03408_c0': 4.2451522750385005, 'rxn02177_c0': 0.0, 'rxn05250_c0': 0.0, 'rxn05440_c0': 0.0, 'rxn01673_c0': 0.0, 'rxn02360_c0': 0.0, 'rxn00022_c0': 0.0, 'rxn05667_c0': 0.0, 'rxn02000_c0': 4.245152275038501, 'rxn03239_c0': -1.8852263195150436e-14, 'rxn02632_c0': 0.0, 'rxn05457_c0': -4.245152275038502, 'rxn00107_c0': 0.0, 'rxn13783_c0': 169.7341392680651, 'rxn01358_c0': 997.1421939423856, 'rxn03433_c0': 0.0, 'rxn10231_c0': 0.0, 'rxn03086_c0': -4.2451522750385, 'rxn12637_c0': 0.0, 'rxn01219_c0': 1.8983362289527272, 'rxn05958_c0': 0.0, 'rxn00800_c0': 0.0, 'rxn08333_c0': 0.9526020192048558, 'rxn01705_c0': 0.0, 'rxn09177_c0': 0.0, 'rxn00211_c0': 0.0, 'rxn00179_c0': 0.0, 'rxn01210_c0': 0.0, 'rxn00192_c0': 0.0, 'rxn01218_c0': 0.0, 'rxn00509_c0': 0.0, 'rxn02898_c0': 0.9526020192048555, 'rxn08807_c0': 0.0, 'rxn05614_c0': 0.0, 'rxn00501_c0': 0.0, 'rxn10344_c0': 0.0, 'rxn02320_c0': 0.0, 'rxn03384_c0': 0.0, 'rxn02504_c0': 0.0, 'rxn00262_c0': 0.0, 'rxn03039_c0': 0.0, 'rxn10262_c0': 0.0, 'rxn08084_c0': 0.0, 'rxn10225_c0': 0.0, 'rxn00898_c0': 0.0, 'rxn05444_c0': 0.0, 'rxn05334_c0': 21.22576137519251, 'rxn03030_c0': 4.2451522750385005, 'rxn01636_c0': 0.0, 'rxn05235_c0': 0.0, 'rxn05505_c0': 0.0, 'rxn01843_c0': 0.0, 'rxn00816_c0': 0.0, 'rxn01750_c0': 0.0, 'rxn02988_c0': 0.0, 'rxn01021_c0': 0.0, 'rxn00165_c0': 0.0, 'rxn10228_c0': 0.0, 'rxn00001_c0': 0.0, 'rxn08376_c0': 0.0, 'rxn08895_c0': 0.0, 'rxn00671_c0': 0.0, 'rxn11268_c0': -228.13986802568954, 'rxn00710_c0': 0.0, 'rxn10317_c0': 0.0, 'rxn02305_c0': 0.0, 'rxn08817_c0': 0.0, 'rxn00910_c0': -3.3341070672169955, 'rxn00953_c0': -4.5129906388566064e-14, 'rxn11944_c0': 0.0, 'rxn01129_c0': 0.0, 'rxn08296_c0': 0.0, 'rxn05647_c0': 0.0, 'rxn01962_c0': 0.0, 'rxn10254_c0': 0.0, 'rxn05459_c0': 0.0, 'rxn01682_c0': 0.0, 'rxn08796_c0': 0.0, 'rxn08941_c0': 0.0, 'rxn12846_c0': 0.0, 'rxn00337_c0': 4.2451522750385, 'rxn05221_c0': 0.0, 'rxn08308_c0': 0.0, 'rxn01930_c0': 0.0, 'rxn08823_c0': 0.0, 'rxn05434_c0': 0.0, 'rxn05346_c0': 21.225761375192505, 'rxn00867_c0': 0.0, 'rxn00452_c0': 0.0, 'rxn03248_c0': 4.245152275038524, 'rxn05386_c0': 0.0, 'rxn05516_c0': 0.0, 'rxn05733_c0': 0.0, 'rxn00416_c0': 0.0, 'rxn09206_c0': 0.0, 'rxn08017_c0': 0.0, 'rxn02279_c0': 0.0, 'rxn09209_c0': 0.0, 'rxn12512_c0': 0.9526020192052808, 'rxn08669_c0': 0.0, 'rxn00902_c0': 0.0, 'rxn00449_c0': 0.0, 'rxn06672_c0': 461.44082820770467, 'rxn00649_c0': 0.0, 'rxn01739_c0': 1.428903028807284, 'rxn02400_c0': 0.0, 'rxn01268_c0': 0.0, 'rxn00361_c0': 0.0, 'rxn02679_c0': -4.2451522750385235, 'rxn07434_c0': 0.0, 'rxn01974_c0': 4.2451522750385005, 'rxn00242_c0': 0.0, 'rxn12641_c0': 0.0, 'rxn05316_c0': 997.1421939423855, 'rxn05104_c0': 0.0, 'rxn01635_c0': 0.0, 'rxn08471_c0': 0.0, 'rxn03057_c0': 0.0, 'rxn00060_c0': 0.47630100960242805, 'rxn05350_c0': 21.225761375192505, 'rxn09198_c0': 0.0, 'rxn08838_c0': 0.0, 'rxn05064_c0': 0.0, 'rxn01102_c0': 0.0, 'rxn05569_c0': 1000.0, 'rxn00100_c0': 0.9526020192052806, 'rxn03482_c0': 0.0, 'rxn00514_c0': 0.0, 'rxn00789_c0': 0.0, 'rxn02374_c0': 0.0, 'rxn05390_c0': 0.0, 'rxn05560_c0': -1000.0000000000002, 'rxn05437_c0': 0.0, 'rxn05158_c0': 0.0, 'rxn00837_c0': 0.0, 'rxn08976_c0': 0.0, 'rxn09264_c0': 0.0, 'rxn00881_c0': 0.0, 'rxn05298_c0': 0.0, 'rxn06578_c0': 0.0, 'rxn09265_c0': 0.0, 'rxn00292_c0': 0.0, 'rxn02264_c0': 0.4763010096024281, 'rxn05198_c0': 14.275254812446427, 'rxn09202_c0': 5.286428316118563, 'rxn01451_c0': -4.2451522750385235, 'rxn03903_c0': 0.0, 'rxn00097_c0': -454.41731241030027, 'rxn05514_c0': -0.4763010096024279, 'rxn01217_c0': 0.0, 'rxn02212_c0': 1.428903028807284, 'rxn00695_c0': 0.0, 'rxn05324_c0': -21.225761375192512, 'rxn10481_c0': 0.476301009602428, 'rxn03535_c0': 0.0, 'rxn00692_c0': -3.810408076819423, 'rxn01492_c0': 0.0, 'rxn00802_c0': 0.0, 'rxn02160_c0': 0.0, 'rxn08802_c0': 0.0, 'rxn01825_c0': 0.0, 'rxn00926_c0': 0.0, 'rxn10230_c0': 0.0, 'rxn02720_c0': -4.245152275038521, 'rxn00913_c0': 0.0, 'rxn01997_c0': 4.245152275038501, 'rxn08809_c0': -42.2914265289485, 'rxn00460_c0': 0.0, 'rxn03958_c0': -58.12789925588178, 'rxn05578_c0': 593.7247728455967, 'rxn03264_c0': 0.0, 'rxn01362_c0': 0.0, 'rxn05329_c0': 21.225761375192505, 'rxn03174_c0': 0.0, 'rxn05161_c0': 0.0, 'rxn00264_c0': 0.0, 'rxn05200_c0': 3.5410225932613977, 'rxn00340_c0': 0.0, 'rxn10060_c0': 0.0, 'rxn00727_c0': 0.0, 'rxn10307_c0': 0.0, 'rxn05617_c0': 0.0, 'rxn03852_c0': 0.0, 'rxn12638_c0': 0.0, 'rxn01354_c0': -437.23376108224437, 'rxn01445_c0': 0.0, 'rxn05248_c0': 0.0, 'rxn00612_c0': 553.3894931145121, 'rxn08766_c0': 21.2257613751925, 'rxn08841_c0': 0.0, 'rxn05461_c0': 1.8852263195150436e-14, 'rxn12405_c0': 0.0, 'rxn02159_c0': 0.0, 'rxn05571_c0': 0.0, 'rxn10222_c0': 0.0, 'rxn00269_c0': 0.0, 'rxn10263_c0': 0.0, 'rxn05466_c0': -1000.0000000000001, 'rxn08814_c0': 0.0, 'rxn00917_c0': 0.0, 'rxn08845_c0': 0.0, 'rxn00395_c0': 0.0, 'rxn00300_c0': 0.0, 'rxn01925_c0': 0.0, 'rxn08792_c0': 0.0, 'rxn00999_c0': 0.0, 'rxn08153_c0': 0.0, 'rxn05174_c0': 0.0, 'rxn08799_c0': 0.0, 'rxn05234_c0': 0.0, 'rxn05585_c0': 0.0, 'rxn00433_c0': 0.0, 'rxn05957_c0': 0.0, 'rxn03023_c0': 0.0, 'rxn00537_c0': 0.0, 'rxn03419_c0': 0.0, 'rxn10256_c0': 0.0, 'rxn00679_c0': 0.0, 'rxn01516_c0': 0.0, 'rxn00758_c0': 0.0, 'rxn10314_c0': 0.0, 'rxn09111_c0': 0.0, 'rxn06078_c0': 0.0, 'rxn05607_c0': 0.0, 'rxn05348_c0': 21.225761375192512, 'rxn08995_c0': 1000.0, 'rxn05435_c0': 0.0, 'rxn03245_c0': 4.245152275038523, 'rxn01504_c0': 0.0, 'rxn00907_c0': 0.476301009602428, 'rxn05458_c0': -1.885226319515044e-14, 'rxn08300_c0': 0.0, 'rxn01644_c0': 0.0, 'rxn08297_c0': 0.0, 'rxn02911_c0': 4.245152275038522, 'rxn01280_c0': 0.0, 'rxn10322_c0': 0.0, 'rxn05450_c0': 0.0, 'rxn12847_c0': 0.0, 'rxn05443_c0': 0.0, 'rxn09114_c0': 0.0, 'rxn09188_c0': -495.04612049546535, 'rxn08822_c0': 0.0, 'rxn05345_c0': 16.98060910015401, 'rxn02071_c0': 0.0, 'rxn03891_c0': 0.0, 'rxn01465_c0': 0.0, 'rxn03052_c0': 0.0, 'rxn01301_c0': 0.0, 'rxn01643_c0': -4.2451522750385005, 'rxn04457_c0': 0.0, 'rxn08844_c0': 0.0, 'rxn00707_c0': 0.0, 'rxn00369_c0': 0.0, 'rxn06937_c0': 3.8104080768194244, 'rxn01637_c0': 0.0, 'rxn05120_c0': 0.0, 'rxn05564_c0': 0.0, 'rxn01220_c0': 1.8983362289527268, 'rxn00566_c0': 0.0, 'rxn00708_c0': 0.0, 'rxn00289_c0': 0.0, 'rxn07433_c0': 0.0, 'rxn01269_c0': 0.0, 'rxn00830_c0': -52.453843952036, 'rxn01108_c0': 0.0, 'rxn05219_c0': 0.0, 'rxn00879_c0': 0.0, 'rxn03406_c0': 0.0, 'rxn00029_c0': 1.905204038409712, 'rxn06673_c0': 461.4408282077046, 'rxn12646_c0': 0.0, 'rxn03869_c0': 0.0, 'rxn05256_c0': 0.0, 'rxn05448_c0': 0.0, 'rxn05446_c0': 0.0, 'rxn02175_c0': 0.9526020192052808, 'rxn05211_c0': 0.0, 'rxn05317_c0': 21.765305387963476, 'rxn08136_c0': 0.0, 'rxn02835_c0': 0.0, 'rxn02774_c0': 0.4763010096024279, 'rxn01675_c0': 4.245152275038501, 'rxn08839_c0': 0.0, 'rxn01575_c0': 0.0, 'rxn05150_c0': 0.0, 'rxn05398_c0': 0.0, 'rxn01315_c0': 0.0, 'rxn09562_c0': 0.0, 'rxn00555_c0': 0.0, 'rxn03435_c0': 0.0, 'rxn03080_c0': 0.0, 'rxn10237_c0': 0.0, 'rxn00143_c0': 0.0, 'rxn12644_c0': 0.0, 'rxn00849_c0': 145.27673777512706, 'rxn00737_c0': 0.0, 'rxn01259_c0': 0.0, 'rxn08843_c0': 0.0, 'rxn01256_c0': 0.0, 'rxn00213_c0': 16.980609100154002, 'rxn05199_c0': -435.7752440118704, 'rxn01629_c0': -3.8104080768194244, 'rxn13784_c0': 169.7341392680651, 'rxn01740_c0': -1.428903028807284, 'rxn05327_c0': -21.22576137519251, 'rxn05205_c0': 960.6908931862117, 'rxn01013_c0': 0.0, 'rxn01444_c0': 1.898336228952676, 'rxn02762_c0': 0.0, 'rxn00668_c0': 0.0, 'rxn05655_c0': 0.0, 'rxn08801_c0': -21.14571326447425, 'rxn02275_c0': 0.0, 'rxn01545_c0': 0.0, 'rxn00139_c0': -21.082088852316645, 'rxn00790_c0': 0.0, 'rxn03910_c0': 58.12789925588178, 'rxn07976_c0': 0.0, 'rxn00237_c0': 23.459461257641138, 'rxn00463_c0': 0.0, 'rxn08311_c0': 21.14571326447425, 'rxn03919_c0': 16.980609100154002, 'rxn03175_c0': 0.0, 'rxn01365_c0': 0.0, 'rxn10264_c0': 0.0, 'rxn03421_c0': 0.0, 'rxn10227_c0': 0.0, 'rxn01146_c0': 0.0, 'rxn05336_c0': 0.0, 'rxn09210_c0': 5.286428316118563, 'rxn01484_c0': -982.5430898902428, 'rxn07584_c0': 0.0, 'rxn00182_c0': 0.0, 'rxn05552_c0': 0.0, 'rxn01416_c0': 0.0, 'rxn05567_c0': 0.0, 'rxn01642_c0': 0.0, 'rxn00132_c0': 0.0, 'rxn01204_c0': 0.0, 'rxn01045_c0': 0.0, 'rxn01618_c0': 0.0, 'rxn08044_c0': 0.0, 'rxn08893_c0': 0.0, 'rxn06864_c0': 0.0, 'rxn00712_c0': 0.0, 'rxn08615_c0': 0.0, 'rxn08815_c0': 0.0, 'rxn00126_c0': 0.0, 'rxn01518_c0': 0.0, 'rxn12844_c0': 0.0, 'rxn08798_c0': 0.0, 'rxn05175_c0': 0.0, 'rxn00058_c0': 0.0, 'rxn08306_c0': 0.0, 'rxn08821_c0': 0.0, 'rxn05303_c0': 41.87287286137857, 'rxn00206_c0': 0.0, 'rxn05381_c0': 0.0, 'rxn05340_c0': -21.225761375192512, 'rxn00405_c0': 0.0, 'rxn05307_c0': 39.55670600148585, 'rxn00299_c0': 0.0, 'rxn08546_c0': 0.0, 'rxn01132_c0': 0.0, 'rxn08900_c0': 0.0, 'rxn00082_c0': 0.0, 'rxn09165_c0': 0.9526020192052808, 'rxn05735_c0': 0.0, 'rxn08262_c0': 0.0, 'rxn02484_c0': 0.0, 'rxn02916_c0': 0.0, 'rxn01133_c0': 0.0, 'rxn12639_c0': 0.0, 'rxn10321_c0': 0.0, 'rxn01000_c0': 0.0, 'rxn00647_c0': 0.0, 'rxn03397_c0': 0.4763010096024277, 'rxn02377_c0': 0.0, 'rxn00363_c0': 0.0, 'rxn05188_c0': 0.0, 'rxn03975_c0': 0.0, 'rxn01972_c0': 4.2451522750385005, 'rxn01281_c0': 0.0, 'rxn01670_c0': 0.0, 'rxn12643_c0': 0.0, 'rxn02522_c0': 0.0, 'rxn05183_c0': 0.0, 'rxn01706_c0': 14.275254812446427, 'rxn09359_c0': 0.0, 'rxn11703_c0': 0.9526020192048559, 'rxn01300_c0': 0.0, 'rxn00411_c0': 0.0, 'rxn00321_c0': 0.0, 'rxn05217_c0': 1.2918838989401292e-13, 'rxn03012_c0': 0.0, 'rxn03908_c0': 58.12789925588178, 'rxn09197_c0': 0.0, 'rxn00740_c0': 0.0, 'rxn00838_c0': 0.0, 'rxn00831_c0': 0.0, 'rxn00748_c0': 0.0, 'rxn12634_c0': 0.0, 'rxn00883_c0': 0.0, 'rxn01255_c0': 1.4289030288072837, 'rxn05406_c0': 0.0, 'rxn10299_c0': 0.0, 'rxn05251_c0': 0.0, 'rxn01176_c0': 0.0, 'rxn05485_c0': -982.5430898902425, 'rxn00214_c0': 0.0, 'rxn01211_c0': 0.476301009602428, 'rxn01453_c0': 0.0, 'rxn05496_c0': 0.0, 'rxn00109_c0': 0.0, 'rxn00527_c0': 0.0, 'rxn05322_c0': -21.2257613751925, 'rxn05193_c0': 0.0, 'rxn12848_c0': 0.0, 'rxn00792_c0': 0.0, 'rxn06445_c0': 0.0, 'rxn08804_c0': 0.0, 'rxn01316_c0': 0.0, 'rxn13782_c0': 169.7341392680651, 'rxn01917_c0': 0.0, 'rxn10236_c0': 0.0, 'rxn05501_c0': 0.0, 'rxn03253_c0': -4.245152275038523, 'rxn01509_c0': 1.898336228952676, 'rxn02011_c0': 4.2451522750385005, 'rxn01548_c0': 0.0, 'rxn08528_c0': 0.4763010096024279, 'rxn01145_c0': 0.0, 'rxn09176_c0': 416.9713746126138, 'rxn08323_c0': 24.881496476991433, 'rxn09205_c0': 0.0, 'rxn03269_c0': 0.0, 'rxn05163_c0': 0.0, 'rxn09201_c0': 0.0, 'rxn01669_c0': 999.0473979807955, 'rxn05202_c0': 0.0, 'rxn08352_c0': 58.127899255881786, 'rxn00187_c0': 0.0, 'rxn00728_c0': 0.0, 'rxn08850_c0': 0.0, 'rxn05734_c0': 0.0, 'rxn00772_c0': 0.0, 'rxn08812_c0': 0.0, 'rxn00006_c0': 0.0, 'rxn02503_c0': 0.0, 'rxn05338_c0': -21.22576137519251, 'rxn03135_c0': 0.0, 'rxn12146_c0': 0.0, 'rxn05645_c0': 1.4289030288072817, 'rxn08310_c0': 0.0, 'rxn00915_c0': -22.983160248038704, 'rxn02853_c0': 0.0, 'rxn01515_c0': 0.0, 'rxn10224_c0': 0.0, 'rxn05337_c0': -21.22576137519251, 'rxn01653_c0': 0.0, 'rxn00474_c0': 0.0, 'rxn03147_c0': 0.0, 'rxn08073_c0': 0.0, 'rxn03843_c0': 4.2451522750385005, 'rxn01802_c0': 0.0, 'rxn08343_c0': 0.0, 'rxn00606_c0': -474.52908634976893, 'rxn02811_c0': 0.0, 'rxn03062_c0': 0.0, 'rxn10258_c0': 0.0, 'rxn08847_c0': 0.0, 'rxn05608_c0': 0.0, 'rxn01544_c0': 0.0, 'rxn00863_c0': 0.0, 'rxn09113_c0': 15.85928494835569, 'rxn00711_c0': -451.6688202189149, 'rxn10316_c0': 0.0, 'rxn05557_c0': 0.0, 'rxn09242_c0': 0.0, 'rxn08299_c0': 0.0, 'rxn02894_c0': 0.0, 'rxn01138_c0': 2.857806057614568, 'rxn02402_c0': 0.0, 'rxn10324_c0': 0.0, 'rxn05465_c0': 123.10941597611647, 'rxn12845_c0': 0.0, 'rxn08820_c0': 0.0, 'rxn05494_c0': 153.76704232520407, 'rxn05347_c0': 0.0, 'rxn06077_c0': 0.0, 'rxn03407_c0': 0.0, 'rxn01831_c0': 0.0, 'rxn01303_c0': 0.0, 'rxn00113_c0': 0.0, 'rxn00297_c0': 0.0, 'rxn00745_c0': 0.0, 'rxn06023_c0': 0.4763010096024279, 'rxn03481_c0': 0.0, 'rxn00611_c0': 0.0, 'rxn07435_c0': 0.0, 'rxn01678_c0': 0.0, 'rxn02286_c0': 4.245152275038501, 'rxn00394_c0': 0.0, 'rxn00872_c0': -4.245152275038524, 'rxn00832_c0': 0.0, 'rxn10193_c0': 0.0, 'rxn12640_c0': 0.0, 'rxn00690_c0': 0.0, 'rxn00931_c0': 0.0, 'rxn01188_c0': 0.0, 'rxn08470_c0': 0.0, 'rxn09450_c0': 0.0, 'rxn00938_c0': 0.0, 'rxn05115_c0': 0.0, 'rxn00412_c0': 0.0, 'rxn01573_c0': 0.0, 'rxn00650_c0': -0.47630100960242794, 'rxn05216_c0': 0.0, 'rxn03167_c0': 0.0, 'rxn09989_c0': 0.0, 'rxn01313_c0': 20.482939612695912, 'rxn00515_c0': -419.6016529704713, 'rxn08846_c0': 0.0, 'rxn03005_c0': 0.0, 'rxn03437_c0': 0.0, 'rxn01353_c0': -435.33542485329167, 'rxn10235_c0': 0.0, 'rxn12633_c0': 0.0, 'rxn00882_c0': 0.0, 'rxn03244_c0': -4.245152275038523, 'rxn00552_c0': 0.0, 'rxn01639_c0': 0.0, 'rxn00313_c0': 0.0, 'rxn02949_c0': 0.0, 'rxn00735_c0': 0.0, 'rxn00775_c0': 0.0, 'rxn02680_c0': 4.2451522750385235, 'rxn08924_c0': 0.0, 'rxn00804_c0': 0.0, 'rxn08020_c0': 0.0, 'rxn05325_c0': -21.22576137519251, 'rxn11040_c0': 0.0, 'rxn08762_c0': 0.0, 'rxn05610_c0': 0.0, 'rxn08803_c0': 0.0, 'rxn07879_c0': 0.0, 'rxn02312_c0': 0.0, 'rxn08025_c0': 0.0, 'rxn02895_c0': 0.0, 'rxn02934_c0': 0.0, 'rxn08089_c0': 0.0, 'rxn00189_c0': 0.0, 'rxn01508_c0': 3.541022593261399, 'rxn02508_c0': 0.0, 'rxn05442_c0': 0.0, 'rxn09992_c0': 0.0, 'rxn10253_c0': 0.0, 'rxn10221_c0': 0.0, 'rxn08475_c0': -1.4289030288072837, 'rxn07979_c0': 0.0, 'rxn00993_c0': 0.0, 'rxn02804_c0': 1.8852263195150436e-14, 'rxn05005_c0': 0.47630100960242805, 'rxn09996_c0': 0.0, 'rxn00048_c0': 0.0, 'rxn05231_c0': 0.0, 'rxn09200_c0': 0.0, 'rxn00283_c0': 0.0, 'rxn05373_c0': 0.0, 'rxn00726_c0': 0.0, 'rxn00184_c0': 0.0, 'rxn00379_c0': 0.0, 'rxn08851_c0': 0.0, 'rxn05330_c0': 21.225761375192505, 'rxn02155_c0': 0.0, 'rxn02866_c0': 0.0, 'rxn00304_c0': 0.0, 'rxn05170_c0': 0.0, 'rxn02475_c0': 0.0, 'rxn05339_c0': -21.2257613751925, 'rxn05460_c0': 1.8852263195150436e-14, 'rxn05484_c0': -30.192366934872016, 'rxn03108_c0': 0.0, 'rxn10313_c0': 0.0, 'rxn00675_c0': 0.0, 'rxn01018_c0': 0.0, 'rxn04132_c0': 0.0, 'rxn00714_c0': 0.0, 'rxn05236_c0': 0.0, 'rxn08813_c0': 0.0, 'rxn05683_c0': 0.0, 'rxn00124_c0': 0.476301009602428, 'rxn03990_c0': 0.0, 'rxn08793_c0': 0.0, 'rxn00947_c0': 0.0, 'rxn03247_c0': 4.2451522750385235, 'rxn00278_c0': -939.6333994670254, 'rxn00205_c0': 0.0, 'rxn00440_c0': 0.0, 'rxn02789_c0': 0.0, 'rxn01370_c0': 0.0, 'rxn00988_c0': 0.0, 'rxn00410_c0': 0.0, 'rxn10257_c0': 0.0, 'rxn06586_c0': 0.0, 'rxn12510_c0': 0.9526020192052809, 'rxn03933_c0': 0.0, 'rxn05342_c0': -16.98060910015401, 'rxn00333_c0': 0.0, 'rxn05737_c0': 0.0, 'rxn00414_c0': 0.0, 'rxn08123_c0': 0.0, 'rxn09110_c0': 0.0, 'rxn05594_c0': 0.0, 'rxn05349_c0': 0.0, 'rxn00303_c0': 0.0, 'rxn05512_c0': 0.0, 'rxn07439_c0': 0.0, 'rxn01073_c0': 0.0, 'rxn02405_c0': 12.735456825115506, 'rxn07430_c0': 0.0, 'rxn01986_c0': 1000.0, 'rxn02200_c0': 0.0, 'rxn01069_c0': 0.0, 'rxn10323_c0': 0.0, 'rxn00791_c0': 0.0, 'rxn00702_c0': 0.0, 'rxn05108_c0': 0.0, 'rxn00065_c0': 0.0, 'rxn00365_c0': 0.0, 'rxn01827_c0': 0.0, 'rxn08854_c0': 48.44857672228087, 'rxn05181_c0': 0.0, 'rxn05312_c0': -1000.0, 'rxn01646_c0': 0.0, 'rxn00105_c0': 0.9526020192044344, 'rxn08981_c0': 0.0, 'rxn03243_c0': 4.245152275038523, 'rxn03446_c0': 0.0, 'rxn01302_c0': 0.0, 'rxn08933_c0': 0.0, 'rxn05215_c0': -862.7531735100649, 'rxn00784_c0': 1000.0, 'rxn06934_c0': 0.0, 'rxn05029_c0': 0.4763010096024279, 'rxn00368_c0': 0.0, 'rxn00456_c0': 0.0, 'rxn01537_c0': 0.0, 'rxn02285_c0': -4.2451522750385005, 'rxn08936_c0': 0.0, 'rxn05315_c0': -0.476301009602428, 'rxn03047_c0': 0.0, 'rxn02889_c0': 0.0, 'rxn00559_c0': 0.0, 'rxn01109_c0': 0.0, 'rxn08848_c0': 0.0, 'rxn08840_c0': 0.0, 'rxn02946_c0': 0.0, 'rxn03907_c0': 58.127899255881786, 'rxn01987_c0': 0.0, 'rxn02834_c0': 0.0, 'rxn09953_c0': 0.0, 'rxn05092_c0': 0.0, 'rxn02085_c0': 0.0, 'rxn03932_c0': 0.0, 'rxn02304_c0': 0.0, 'rxn05902_c0': -215.43289636955478, 'rxn05153_c0': 0.0, 'rxn01314_c0': 0.0, 'rxn09193_c0': 0.0, 'rxn08806_c0': 0.0, 'rxn05436_c0': 0.0, 'rxn05195_c0': 0.0, 'rxn06377_c0': 0.0, 'rxn12822_c0': -128.3944840978884, 'rxn10234_c0': 0.0, 'rxn01366_c0': 0.0, 'rxn05579_c0': 0.0, 'rxn01208_c0': 0.0, 'rxn01361_c0': 0.0, 'rxn13892_c0': 0.0, 'rxn01143_c0': 3.5410225932613977, 'rxn01647_c0': 0.0, 'rxn05618_c0': 0.4763010096024279, 'rxn08241_c0': -0.47630100960242794, 'rxn00260_c0': 413.2108322246878, 'rxn02803_c0': -4.24515227503852, 'rxn05504_c0': 0.0, 'rxn00461_c0': 4.2451522750385005, 'rxn05613_c0': 0.0, 'rxn08234_c0': -0.47630100960242794, 'rxn02989_c0': 0.0, 'rxn05247_c0': 0.0, 'rxn10303_c0': 0.0, 'rxn00858_c0': 0.0, 'rxn03136_c0': 0.0, 'rxn04791_c0': 0.0, 'rxn00222_c0': 0.0, 'rxn10229_c0': 0.0, 'rxn05287_c0': 0.0, 'rxn02937_c0': 0.0, 'rxn08810_c0': 0.0, 'rxn06799_c0': 0.0, 'rxn01652_c0': 0.0, 'rxn05493_c0': 1000.0, 'rxn03137_c0': 0.0, 'rxn08715_c0': 0.0, 'rxn01437_c0': 0.0, 'rxn05462_c0': 0.0, 'rxn08818_c0': 0.0, 'rxn00992_c0': 0.0, 'rxn01128_c0': 0.0, 'rxn05239_c0': 0.0, 'rxn08312_c0': 0.0, 'rxn00952_c0': -4.5129906388566064e-14, 'rxn01961_c0': 0.0, 'rxn01517_c0': 0.0, 'rxn10226_c0': 0.0, 'rxn08040_c0': 0.0, 'rxn09211_c0': 0.0, 'rxn03141_c0': 0.0, 'rxn01807_c0': 0.0, 'rxn05006_c0': 0.476301009602428, 'rxn01299_c0': 0.0, 'rxn05331_c0': 21.225761375192512, 'rxn01800_c0': 958.7925569572592, 'rxn00533_c0': 0.0, 'rxn08309_c0': 0.0, 'rxn03060_c0': 0.0, 'rxn02476_c0': 1.428903028807284, 'rxn01512_c0': 7.7861748682998995, 'rxn03841_c0': 0.0, 'rxn01084_c0': 0.0, 'rxn05517_c0': 0.0, 'rxn04113_c0': 0.0, 'rxn14023_c0': 0.0, 'rxn00676_c0': 0.0, 'rxn00713_c0': 0.0, 'rxn01257_c0': 0.0, 'rxn00903_c0': 0.0, 'rxn00980_c0': 0.0, 'rxn08469_c0': 0.0, 'rxn01648_c0': 0.0, 'rxn03991_c0': 0.0, 'rxn02213_c0': 1.428903028807284, 'rxn05441_c0': 0.0, 'rxn03892_c0': 0.0, 'rxn04989_c0': 20.48293961269591, 'rxn08668_c0': 0.0, 'rxn01127_c0': 3.541022593261399, 'rxn08548_c0': 0.0, 'rxn08468_c0': 0.0, 'rxn02521_c0': 0.0, 'rxn05445_c0': 0.0, 'rxn05341_c0': -21.22576137519251, 'rxn00298_c0': 0.0, 'rxn08124_c0': 0.0, 'rxn05449_c0': 0.0, 'rxn07438_c0': 0.0, 'rxn00743_c0': 0.0, 'rxn03483_c0': 0.0, 'rxn03236_c0': 20.482939612695905, 'rxn10191_c0': 0.0, 'rxn01265_c0': 998.5710969711934, 'rxn00834_c0': 0.0, 'rxn05189_c0': 0.0, 'rxn00704_c0': -21.2257613751925, 'rxn08703_c0': 0.0, 'rxn01459_c0': 0.0, 'rxn05252_c0': 0.0, 'rxn00241_c0': 0.0, 'rxn12642_c0': 0.0, 'rxn08130_c0': 0.47630100960242755, 'rxn01450_c0': 0.0, 'rxn00932_c0': 0.0, 'rxn11702_c0': 0.9526020192048558, 'rxn01332_c0': 1.428903028807284, 'rxn01510_c0': 0.0, 'rxn00693_c0': 2.857806057614568, 'rxn01351_c0': 0.0, 'rxn03909_c0': 58.12789925588178, 'rxn01101_c0': 0.0, 'rxn00355_c0': 0.0, 'rxn02900_c0': 0.0, 'rxn03084_c0': 0.0, 'rxn00513_c0': 0.0, 'rxn02007_c0': 0.0, 'rxn10233_c0': 0.0, 'rxn06600_c0': 0.0, 'rxn02005_c0': -474.5290863497689, 'rxn08808_c0': 42.291426528948506, 'rxn12635_c0': 0.0, 'rxn00346_c0': 0.0, 'rxn05297_c0': 0.0, 'rxn01859_c0': 18.224282794702077, 'rxn00806_c0': 0.0, 'rxn05328_c0': 0.0, 'rxn05160_c0': 0.0, 'rxn05024_c0': 0.0, 'rxn05361_c0': 0.0, 'rxn01851_c0': 0.0, 'rxn09167_c0': 0.0, 'rxn05201_c0': -997.1421939423855, 'rxn09449_c0': 21.145713264474253, 'rxn05323_c0': 0.0, 'rxn05192_c0': 0.0, 'rxn05656_c0': 0.0, 'rxn05616_c0': -0.476301009602428, 'rxn10306_c0': 0.0, 'rxn08805_c0': 0.0, 'rxn01507_c0': 0.0, 'rxn01790_c0': 0.0, 'rxn05651_c0': 0.476301009602428, 'rxn03638_c0': 17.456910109756432, 'rxn05438_c0': 0.0, 'rxn01406_c0': 0.0, 'rxn01446_c0': 22.983160248038704, 'rxn10309_c0': 0.0, 'rxn05249_c0': 0.0, 'rxn01816_c0': 0.0, 'rxn02056_c0': -0.4763010096024279, 'rxn10043_c0': 0.0, 'rxn01068_c0': 0.0, 'rxn02277_c0': 0.0, 'rxn03504_c0': 0.0, 'rxn10223_c0': 0.0, 'rxn00742_c0': 0.0, 'rxn00991_c0': 0.0, 'rxn10260_c0': 0.0, 'rxn10319_c0': 0.0, 'rxn00166_c0': 0.0, 'rxn03242_c0': -4.245152275038522, 'rxn03075_c0': 0.0, 'rxn01368_c0': 0.0, 'rxn00851_c0': 4.2451522750385005, 'rxn00301_c0': 0.0, 'rxn09199_c0': 0.0, 'rxn05233_c0': 0.0, 'rxn09109_c0': 0.0, 'rxn02003_c0': -4.245152275038501, 'rxn08558_c0': 0.0, 'rxn05332_c0': 0.0, 'rxn05176_c0': 0.0, 'rxn08811_c0': 0.0, 'rxn02473_c0': 0.0, 'rxn08347_c0': 0.0, 'rxn08869_c0': 0.0, 'rxn10315_c0': 0.0, 'rxn01434_c0': 0.0, 'rxn00912_c0': 0.0, 'rxn08819_c0': 0.0, 'rxn01291_c0': 0.0, 'rxn08898_c0': 0.0, 'rxn06076_c0': 0.0, 'rxn01011_c0': 0.0, 'rxn08890_c0': 0.0, 'rxn08294_c0': 0.0, 'rxn05179_c0': 0.0, 'rxn10259_c0': 0.0, 'rxn01602_c0': -1.4289030288072848, 'rxn02302_c0': 4.5129906388566064e-14, 'rxn03068_c0': 0.0, 'rxn05223_c0': 0.0, 'rxn08467_c0': 0.0, 'rxn03061_c0': 0.0, 'rxn05433_c0': 0.0, 'rxn05344_c0': 0.0, 'rxn00114_c0': 0.0, 'rxn03241_c0': 4.245152275038521, 'rxn01521_c0': 0.0, 'rxn12636_c0': 0.0, 'rxn02663_c0': 0.0, 'rxn05144_c0': 0.0, 'rxn09012_c0': 0.0, 'rxn00338_c0': 0.0, 'rxn02373_c0': 0.0, 'rxn01649_c0': 0.0, 'rxn03839_c0': 0.0, 'rxn00085_c0': 135.13333249408984, 'rxn00119_c0': 24.38388075712154, 'rxn02529_c0': 0.0, 'rxn00709_c0': 0.0, 'rxn07432_c0': 0.0, 'rxn00063_c0': 0.0, 'rxn08549_c0': 0.0, 'rxn00608_c0': 0.0, 'rxn05447_c0': 0.0, 'rxn01466_c0': 5.674055303845784, 'rxn05106_c0': 0.0, 'rxn01304_c0': 0.0, 'rxn03409_c0': 0.0, 'rxn08213_c0': 0.0, 'rxn01674_c0': -1.8983362289527272, 'rxn00744_c0': 0.0, 'rxn02008_c0': 4.2451522750385005, 'rxn05740_c0': 0.0, 'rxn09203_c0': 0.0, 'rxn03904_c0': 4.2451522750385005, 'rxn01679_c0': -14.275254812446427, 'rxn02288_c0': 0.0, 'rxn10199_c0': 4.2451522750385005, 'rxn00409_c0': 106.28432415791796, 'rxn02831_c0': 0.9526020192048559, 'rxn01107_c0': 0.0, 'rxn08015_c0': 0.0, 'rxn01258_c0': 0.9526020192048558, 'rxn08842_c0': 0.0, 'rxn00840_c0': -1000.0, 'rxn02128_c0': 0.0, 'rxn00778_c0': 1000.0, 'rxn02518_c0': 0.0, 'rxn03901_c0': 4.245152275038501, 'rxn01985_c0': 0.0, 'rxn02832_c0': -0.9526020192048559, 'rxn05621_c0': 0.0, 'rxn10052_c0': 0.0, 'rxn04133_c0': 0.0, 'rxn00946_c0': -1.8852263195150436e-14, 'rxn00193_c0': -141.03158550008857, 'rxn02517_c0': 0.0, 'rxn05326_c0': -21.225761375192505, 'rxn05197_c0': -507.12373673834423, 'rxn05114_c0': 0.0, 'rxn00653_c0': 0.0, 'rxn03164_c0': 4.2451522750385005, 'rxn05155_c0': 0.0, 'rxn03251_c0': -4.245152275038525, 'rxn00929_c0': 0.0, 'rxn08800_c0': 0.0, 'rxn02166_c0': 0.0, 'rxn00342_c0': 0.0, 'rxn03004_c0': 0.0, 'rxn10232_c0': 0.0, 'rxn00138_c0': 0.0, 'rxn08942_c0': 0.0, 'rxn06729_c0': 8.490304550077006, 'rxn07977_c0': 0.0, 'rxn05168_c0': 0.0, 'rxn00347_c0': -451.54382865222027, 'rxn10044_c0': 0.0, 'rxn10770_c0': 0.0, 'rxn00231_c0': 0.0, 'rxn02297_c0': 0.0, 'rxn10570_c0': 0.0, 'rxn01799_c0': 958.7925569572592, 'rxn00504_c0': -495.0461204954653, 'rxn08021_c0': 0.0, 'rxn08396_c0': 0.0, 'rxn01485_c0': -17.456910109756436, 'rxn05206_c0': 0.952602019204856, 'rxn09207_c0': 0.0, 'rxn09296_c0': 0.0, 'rxn00239_c0': 23.459461257641138, 'rxn00302_c0': 0.0, 'rxn00467_c0': 0.0, 'rxn02465_c0': 0.0, 'rxn02222_c0': 0.0, 'rxn01791_c0': 0.0, 'rxn01710_c0': 0.0, 'rxn00183_c0': 0.0, 'rxn10300_c0': 0.0, 'rxn08100_c0': 0.0, 'rxn10308_c0': 0.0, 'rxn01329_c0': 0.0, 'rxn00950_c0': 0.0, 'rxn00002_c0': 0.0, 'rxn02507_c0': 0.0, 'rxn08043_c0': 0.0, 'rxn01029_c0': 0.0, 'rxn08131_c0': 0.0, 'rxn10220_c0': 0.0, 'rxn10261_c0': 0.0, 'rxn08076_c0': 0.0, 'rxn01964_c0': 0.0, 'rxn08816_c0': 0.0, 'rxn02341_c0': 0.9526020192052808, 'rxn06591_c0': 3.8104080768194235, 'rxn00168_c0': 0.0, 'rxn10255_c0': 0.0, 'rxn08797_c0': 0.0, 'rxn00478_c0': 0.0, 'rxn00127_c0': 0.0, 'rxn05232_c0': 0.0, 'rxn09108_c0': 0.0, 'rxn01513_c0': 3.5410225932613977, 'rxn06510_c0': 4.245152275038522, 'rxn02186_c0': 0.0, 'rxn08307_c0': 0.0, 'rxn02474_c0': 0.0, 'rxn03246_c0': -4.2451522750385235, 'rxn12645_c0': 0.0, 'rxn00274_c0': 0.0, 'rxn10312_c0': 0.0, 'rxn05605_c0': 68.49690448387382, 'rxn02929_c0': 0.0, 'rxn00104_c0': -0.476301009602428, 'rxn00715_c0': -419.60165297047126, 'rxn01019_c0': 0.0, 'rxn05518_c0': 0.0, 'rxn06335_c0': 0.0, 'rxn08849_c0': 0.0, 'rxn09448_c0': 0.0, 'rxn09208_c0': 0.0, 'rxn05439_c0': 0.0, 'rxn05305_c0': 0.0, 'rxn09014_c0': 0.0, 'rxn08295_c0': 0.0, 'rxn05638_c0': -463.7548400539298, 'rxn02914_c0': 0.0, 'rxn01603_c0': 0.0, 'rxn10320_c0': 0.0, 'rxn00686_c0': -1.4289030288072846, 'rxn09112_c0': 0.0, 'rxn05105_c0': 0.0, 'rxn03194_c0': 0.0, 'rxn06075_c0': 0.0, 'rxn00689_c0': 0.0, 'rxn01286_c0': 0.0, 'rxn05289_c0': 0.0, 'rxn00117_c0': 49.85479440735255, 'rxn05343_c0': 21.22576137519251, 'rxn01520_c0': 0.0, 'rxn05736_c0': 0.0, 'rxn10318_c0': 0.0, 'rxn03445_c0': 0.0, 'rxn01226_c0': 0.0, 'rxn00493_c0': 0.0, 'rxn08298_c0': 0.0, 'rxn01834_c0': 0.0, 'rxn00293_c0': 17.456910109756432, 'rxn00701_c0': 0.0, 'rxn00367_c0': 0.0, 'rxn00839_c0': -996.4589774067387, 'rxn21857_c0': 0.0, 'rxn23043_c0': 0.0, 'rxn16573_c0': 0.0, 'rxn41896_c0': 0.0, 'rxn21729_c0': 0.0, 'rxn23045_c0': 0.0, 'rxn45425_c0': 0.0, 'rxn21863_c0': 0.0, 'rxn45996_c0': 0.0, 'rxn40037_c0': 4.2451522750385005, 'rxn21862_c0': 0.0, 'rxn39452_c0': 0.0, 'rxn16823_c0': 0.0, 'rxn16839_c0': 0.0, 'rxn16583_c0': 0.0, 'rxn27289_c0': 0.0, 'rxn39373_c0': 0.0, 'rxn21859_c0': 0.0, 'rxn23044_c0': 0.0, 'rxn42230_c0': 0.0, 'rxn44539_c0': 0.0, 'rxn24718_c0': 0.0, 'rxn47768_c0': 0.0, 'rxn10506_c0': 0.0, 'rxn15383_c0': 0.0, 'rxn20643_c0': 0.0, 'rxn41452_c0': 0.0, 'rxn21864_c0': 0.0, 'rxn39451_c0': -4.245152275038501, 'rxn21858_c0': 0.0, 'rxn21861_c0': 0.0, 'rxn40439_c0': 0.0, 'rxn24830_c0': 0.0, 'rxn17731_c0': 0.0, 'rxn25839_c0': 0.0, 'rxn26021_c0': 0.0, 'rxn23042_c0': 0.0, 'rxn41683_c0': 0.0, 'rxn42530_c0': 0.0, 'rxn00154_c0': 0.0, 'rxn23589_c0': 0.0, 'rxn07436_c0': 0.0, 'rxn15167_c0': 0.0, 'rxn28338_c0': 0.0, 'rxn15395_c0': 0.0, 'rxn13741_c0': 0.0, 'rxn10415_c0': 0.0, 'rxn30453_c0': 0.0, 'rxn08048_c0': 0.0, 'rxn20627_c0': 0.0, 'rxn16108_c0': 1.4289030288072833, 'rxn43581_c0': 0.0, 'rxn14048_c0': -451.54382865222027, 'rxn24966_c0': 0.0, 'rxn27362_c0': 0.0, 'rxn15699_c0': 0.0, 'rxn08502_e0': 0.0, 'rxn05652_c0': -0.476301009602428, 'rxn05582_c0': 83.20820236649851, 'rxn05508_c0': 34.08784415249411, 'rxn09690_c0': 14.353562341615865, 'rxn12666_c0': 0.476301009602428, 'rxn05306_c0': 46.71017225330662, 'rxn05243_c0': 63.716302928054375, 'rxn05300_c0': 35.82624862146819, 'rxn05301_c0': 0.0, 'rxn00068_c0': 0.23815050480121397, 'rxn05148_c0': 0.476301009602428, 'rxn05244_c0': 41.041462028390924, 'rxn05687_c0': 0.476301009602428, 'rxn05669_c0': 59.785997172112594, 'rxn09672_c0': 18.834458403063522, 'rxn09693_c0': 0.476301009602428, 'rxn09696_c0': 3.334107067216995, 'rxn05299_c0': 13.453738933800308, 'rxn05255_c0': 1.4289030288072846, 'rxn09678_c0': 30.447890679246658, 'rxn05663_c0': 8.011777117881078, 'rxn05310_c0': -999.0473979807957, 'rxn09657_c0': 0.0, 'rxn08192_c0': 0.0, 'rxn05308_c0': 0.0, 'rxn00141_c0': 2.857806057614568, 'rxn08709_c0': 4.245152275038502, 'rxn00438_c0': 0.476301009602428, 'rxn03538_c0': 0.4763010096024279, 'rxn10030_c0': 42.29142652894851, 'rxn01213_c0': 5.674055303845784, 'rxn03893_c0': 0.4763010096024278, 'rxn08713_c0': 4.2451522750385005, 'rxn00137_c0': 0.4763010096024279, 'rxn08583_c0': 4.2451522750385005, 'rxn08620_c0': 4.2451522750385005, 'rxn10213_c0': 21.145713264474253, 'rxn08954_c0': 4.245152275038501, 'rxn03917_c0': 16.980609100154002, 'rxn03146_c0': 8.490304550077004, 'rxn08618_c0': 4.2451522750385005, 'rxn11946_c0': 0.4763010096024279, 'rxn09106_c0': 15.85928494835569, 'rxn00350_c0': -0.476301009602428, 'rxn03181_c0': 4.245152275038503, 'rxn08708_c0': 4.245152275038502, 'rxn00966_c0': -0.4763010096024278, 'rxn03918_c0': 16.980609100154002, 'rxn03537_c0': 0.4763010096024279, 'rxn03916_c0': 16.980609100154005, 'rxn12868_c0': 0.0, 'rxn05333_c0': 21.22576137519251, 'rxn12224_c0': 0.4763010096024278, 'rxn04308_c0': 4.245152275038501, 'rxn08711_c0': 4.245152275038502, 'rxn03536_c0': 0.4763010096024279, 'rxn05293_c0': 58.127899255881786, 'rxn09225_c0': 4.245152275038501, 'rxn08619_c0': 4.2451522750385005, 'rxn02897_c0': 0.4763010096024279, 'rxn02331_c0': -12.735456825115504, 'rxn04139_c0': 0.4763010096024278, 'rxn12008_c0': -1.4289030288072835, 'rxn03182_c0': 4.245152275038502, 'rxn03159_c0': 4.245152275038502, 'rxn03395_c0': 0.47630100960242777, 'rxn03150_c0': 0.4763010096024279, 'rxn06723_c0': -8.490304550077006, 'rxn10336_c0': 5.286428316118564, 'rxn12225_c0': 0.2381505048012139, 'rxn05722_c0': 0.4763010096024281, 'rxn02404_c0': 12.735456825115506, 'rxn01117_c0': -12.735456825115502, 'rxn06865_c0': -4.245152275038502, 'rxn08712_c0': 4.245152275038501, 'rxn03130_c0': 4.245152275038502, 'rxn03511_c0': 16.98060910015401, 'rxn03393_c0': 0.47630100960242777, 'rxn03439_c0': 4.245152275038502, 'rxn08710_c0': 4.245152275038502, 'rxn21860_c0': 0.0, 'rxn06848_c0': -4.245152275038502, 'bio1': 169.7341392680651, 'EX_cpd00218_e0': 999.0473979807957, 'EX_cpd00009_e0': 1000.0, 'EX_cpd00637_e0': 0.0, 'EX_cpd00156_e0': -59.785997172112594, 'EX_cpd00053_e0': -30.447890679246658, 'EX_cpd11597_e0': 0.0, 'EX_cpd08306_e0': 0.0, 'EX_cpd00654_e0': -960.6908931862117, 'EX_cpd00305_e0': 0.0, 'EX_cpd00142_e0': 30.192366934872016, 'EX_cpd00355_e0': -1000.0, 'EX_cpd03725_e0': 0.0, 'EX_cpd00051_e0': -41.87287286137857, 'EX_cpd11596_e0': 0.0, 'EX_cpd00184_e0': -3.5410225932613977, 'EX_cpd00117_e0': -153.76704232520407, 'EX_cpd00092_e0': 507.12373673834423, 'EX_cpd00635_e0': 0.0, 'EX_cpd00075_e0': 66.57574707841856, 'EX_cpd00226_e0': 997.1421939423855, 'EX_cpd00130_e0': -68.49690448387382, 'EX_cpd11579_e0': 0.0, 'EX_cpd08305_e0': 0.0, 'EX_cpd00412_e0': 0.0, 'EX_cpd00007_e0': -21.67369213670198, 'EX_cpd00314_e0': 0.0, 'EX_cpd00179_e0': 0.0, 'EX_cpd00276_e0': -1000.0, 'EX_cpd04099_e0': 0.0, 'EX_cpd00644_e0': -0.9526020192052808, 'EX_cpd00035_e0': 862.7531735100649, 'EX_cpd00381_e0': 0.0, 'EX_cpd00211_e0': 0.0, 'EX_cpd01329_e0': 0.0, 'EX_cpd00158_e0': 0.0, 'EX_cpd03279_e0': 0.0, 'EX_cpd00118_e0': -0.47630100960242805, 'EX_cpd00138_e0': 0.0, 'EX_cpd00129_e0': 463.75484005392974, 'EX_cpd00023_e0': 0.0, 'EX_cpd00011_e0': 1000.0, 'EX_cpd01914_e0': 0.0, 'EX_cpd00588_e0': 0.0, 'EX_cpd00028_e0': -0.47630100960242805, 'EX_cpd11578_e0': 0.0, 'EX_cpd00119_e0': -13.453738933800308, 'EX_cpd00067_e0': -1000.0, 'EX_cpd00039_e0': -48.44857672228087, 'EX_cpd10515_e0': -1.4289030288072837, 'EX_cpd00264_e0': -0.47630100960242805, 'EX_cpd00012_e0': 228.13986802568954, 'EX_cpd00122_e0': 982.5430898902425, 'EX_cpd00309_e0': 0.0, 'EX_cpd15603_e0': 0.0, 'EX_cpd04097_e0': 0.0, 'EX_cpd00793_e0': -0.4763010096024281, 'EX_cpd00531_e0': 0.0, 'EX_cpd00971_e0': -3.380568105485518e-13, 'EX_cpd00159_e0': 0.0, 'EX_cpd00048_e0': -0.47630100960242805, 'EX_cpd09878_e0': 0.0, 'EX_cpd00047_e0': 606.5685113567816, 'EX_cpd00107_e0': -63.716302928054375, 'EX_cpd01030_e0': 0.0, 'EX_cpd00220_e0': -1.428903028807282, 'EX_cpd00137_e0': 0.0, 'EX_cpd00073_e0': 0.0, 'EX_cpd00100_e0': -994.7135716838817, 'EX_cpd01262_e0': 0.0, 'EX_cpd00215_e0': -0.47630100960242794, 'EX_cpd03726_e0': 0.0, 'EX_cpd02233_e0': 0.0, 'EX_cpd03048_e0': 0.0, 'EX_cpd00116_e0': 0.0, 'EX_cpd08023_e0': 0.0, 'EX_cpd00161_e0': -35.82624862146819, 'EX_cpd00393_e0': -1.428903028807285, 'EX_cpd00099_e0': -0.47630100960242794, 'EX_cpd00030_e0': -0.4763010096024279, 'EX_cpd00060_e0': -18.834458403063522, 'EX_cpd01757_e0': 0.0, 'EX_cpd00222_e0': 0.0, 'EX_cpd00076_e0': 0.0, 'EX_cpd00080_e0': -593.7247728455967, 'EX_cpd00149_e0': -0.47630100960242794, 'EX_cpd00069_e0': 0.0, 'EX_cpd00063_e0': -0.4763010096024279, 'EX_cpd00205_e0': -0.476301009602428, 'EX_cpd00794_e0': 474.5290863497689, 'EX_cpd00244_e0': 0.0, 'EX_cpd00066_e0': -46.71017225330662, 'EX_cpd00254_e0': -0.476301009602428, 'EX_cpd00438_e0': -21.765305387963476, 'EX_cpd00041_e0': 0.0, 'EX_cpd00246_e0': -997.1421939423855, 'EX_cpd00132_e0': -34.08784415249411, 'EX_cpd03724_e0': 0.0, 'EX_cpd00082_e0': 1000.0000000000002, 'EX_cpd00034_e0': -0.47630100960242805, 'EX_cpd03453_e0': 0.0, 'EX_cpd00001_e0': -702.5898697217808, 'EX_cpd00266_e0': 0.0, 'EX_cpd00797_e0': 0.0, 'EX_cpd00027_e0': 0.0, 'EX_cpd00017_e0': -3.334107067216995, 'EX_cpd00065_e0': -8.011777117881078, 'EX_cpd00058_e0': -0.47630100960242805, 'EX_cpd10516_e0': 0.0, 'EX_cpd00367_e0': -14.275254812446427, 'EX_cpd01012_e0': 0.0, 'EX_cpd00281_e0': 0.0, 'EX_cpd01171_e0': 0.0, 'EX_cpd03696_e0': 0.0, 'EX_cpd00249_e0': 435.77524401187037, 'EX_cpd00268_e0': 0.0, 'EX_cpd00098_e0': 0.0, 'EX_cpd00054_e0': -39.55670600148585, 'EX_cpd11576_e0': 0.0, 'EX_cpd00013_e0': 1000.0, 'EX_cpd00105_e0': 0.0, 'EX_cpd00209_e0': -498.0078162212002, 'EX_cpd00540_e0': 0.0, 'EX_cpd00182_e0': 0.0, 'EX_cpd00024_e0': -1000.0, 'EX_cpd00064_e0': 0.0, 'EX_cpd00277_e0': -24.881496476991433, 'EX_cpd00033_e0': -83.20820236649851, 'EX_cpd00322_e0': -41.041462028390924, 'EX_cpd00180_e0': 0.0, 'EX_cpd00084_e0': -14.353562341615865, 'EX_cpd00104_e0': -0.47630100960242805, 'SK_cpd02701_c0': 0.0, 'SK_cpd11416_c0': 169.7341392680651, 'SK_cpd15302_c0': 0.0, 'SK_cpd03091_c0': 0.0}}}}\n"
     ]
    },
    {
     "name": "stderr",
     "output_type": "stream",
     "text": [
      "C:\\Users\\Andrew Freiburger\\AppData\\Local\\Programs\\Python\\Python39\\lib\\site-packages\\cobra\\medium\\minimal_medium.py:112: FutureWarning: The default dtype for empty Series will be 'object' instead of 'float64' in a future version. Specify a dtype explicitly to silence this warning.\n",
      "  medium = pd.Series()\n"
     ]
    }
   ],
   "source": [
    "%run ../../../modelseedpy/community/mssmetana.py\n",
    "comm = MSSmetana([AP49, BC15], AP49_BC15_model)\n",
    "print(len(comm.media), comm.media)"
   ]
  },
  {
   "cell_type": "code",
   "execution_count": 8,
   "id": "d9abf524-8483-4eb1-b3c9-e9fc2bf3e52a",
   "metadata": {
    "scrolled": true,
    "tags": []
   },
   "outputs": [
    {
     "name": "stdout",
     "output_type": "stream",
     "text": [
      "20 EX_cpd00156_e0       0.146647\n",
      "EX_cpd00355_e0    1000.000000\n",
      "EX_cpd00007_e0    1000.000000\n",
      "EX_cpd00028_e0       0.000561\n",
      "EX_cpd10515_e0       0.001684\n",
      "EX_cpd00793_e0       0.000561\n",
      "EX_cpd00048_e0     137.587012\n",
      "EX_cpd00220_e0       0.001684\n",
      "EX_cpd00215_e0       0.000561\n",
      "EX_cpd00393_e0       0.001684\n",
      "EX_cpd00099_e0       0.000561\n",
      "EX_cpd00030_e0       0.000561\n",
      "EX_cpd00149_e0       0.000561\n",
      "EX_cpd00063_e0       0.000561\n",
      "EX_cpd00205_e0       0.000561\n",
      "EX_cpd00254_e0       0.000561\n",
      "EX_cpd00034_e0       0.000561\n",
      "EX_cpd00058_e0       0.000561\n",
      "EX_cpd00322_e0       0.048360\n",
      "EX_cpd00104_e0       0.000561\n",
      "dtype: float64\n",
      "[(21,\n",
      "  EX_cpd00009_e0      0.080975\n",
      "EX_cpd00156_e0      0.072762\n",
      "EX_cpd00007_e0    963.085589\n",
      "EX_cpd00644_e0      0.000561\n",
      "EX_cpd00028_e0      0.000281\n",
      "EX_cpd00122_e0    845.641610\n",
      "EX_cpd00793_e0      0.000281\n",
      "EX_cpd00048_e0     23.956554\n",
      "EX_cpd00220_e0      0.000842\n",
      "EX_cpd00215_e0      0.000281\n",
      "EX_cpd00393_e0      0.000842\n",
      "EX_cpd00099_e0      0.000281\n",
      "EX_cpd00030_e0      0.000281\n",
      "EX_cpd00149_e0      0.000281\n",
      "EX_cpd00063_e0      0.000281\n",
      "EX_cpd00205_e0      0.000281\n",
      "EX_cpd00254_e0      0.000281\n",
      "EX_cpd00034_e0      0.000281\n",
      "EX_cpd00058_e0      0.000281\n",
      "EX_cpd10516_e0      0.000842\n",
      "EX_cpd00322_e0      0.024180\n",
      "dtype: float64),\n",
      " (20,\n",
      "  EX_cpd00156_e0       3.019739\n",
      "EX_cpd00654_e0    1000.000000\n",
      "EX_cpd00355_e0      80.117581\n",
      "EX_cpd00007_e0     153.574291\n",
      "EX_cpd00028_e0       0.011557\n",
      "EX_cpd15603_e0     116.659374\n",
      "EX_cpd00793_e0       0.011557\n",
      "EX_cpd00048_e0       0.011557\n",
      "EX_cpd00220_e0       0.034671\n",
      "EX_cpd00393_e0       0.034671\n",
      "EX_cpd00099_e0       0.011557\n",
      "EX_cpd00030_e0       0.011557\n",
      "EX_cpd00149_e0       0.011557\n",
      "EX_cpd00063_e0       0.011557\n",
      "EX_cpd00205_e0       0.011557\n",
      "EX_cpd00254_e0       0.011557\n",
      "EX_cpd00034_e0       0.011557\n",
      "EX_cpd00058_e0       0.011557\n",
      "EX_cpd10516_e0       0.034671\n",
      "EX_cpd00322_e0       0.995819\n",
      "dtype: float64)]\n"
     ]
    }
   ],
   "source": [
    "from pprint import pprint\n",
    "\n",
    "print(len(comm.media[\"community_media\"]), comm.media[\"community_media\"])\n",
    "pprint([(len(comm.media[\"members\"][member][\"media\"]), comm.media[\"members\"][member][\"media\"]) for member in comm.media[\"members\"]])"
   ]
  },
  {
   "cell_type": "code",
   "execution_count": 9,
   "id": "6071d2e1-3aa6-495b-b10c-3536206250ae",
   "metadata": {
    "scrolled": true,
    "tags": []
   },
   "outputs": [
    {
     "name": "stderr",
     "output_type": "stream",
     "text": [
      "ic| mssmetana.py:30 in _load_models()\n",
      "    member_models: [<FBAModel Sphingobium_AP49_pacbio_v2.RAST.fbamodel at 0x21a4495f2e0>,\n",
      "                    <FBAModel Bacillus_sp._bc15.RAST.fbamodel at 0x21a49e133a0>]\n",
      "    com_model: <FBAModel AP49-BC15 at 0x21a44f59400>\n",
      "    compatibilize: False\n"
     ]
    },
    {
     "name": "stdout",
     "output_type": "stream",
     "text": [
      "{}\n",
      "\n",
      "MIP score: 0\t\t\t0 required compound(s) can be sourced via syntrophy:\n"
     ]
    },
    {
     "name": "stderr",
     "output_type": "stream",
     "text": [
      "C:\\Users\\Andrew Freiburger\\AppData\\Local\\Programs\\Python\\Python39\\lib\\site-packages\\cobra\\medium\\minimal_medium.py:112: FutureWarning: The default dtype for empty Series will be 'object' instead of 'float64' in a future version. Specify a dtype explicitly to silence this warning.\n",
      "  medium = pd.Series()\n"
     ]
    },
    {
     "data": {
      "text/plain": [
       "0"
      ]
     },
     "execution_count": 9,
     "metadata": {},
     "output_type": "execute_result"
    }
   ],
   "source": [
    "comm.mip_score()"
   ]
  },
  {
   "cell_type": "code",
   "execution_count": 10,
   "id": "ff3bd424-95d2-4a4c-893a-74d1b25d5b57",
   "metadata": {
    "scrolled": true,
    "tags": []
   },
   "outputs": [
    {
     "name": "stdout",
     "output_type": "stream",
     "text": [
      "executing MP\n",
      "The exchange  metabolite ID's of the model AP49-BC15 are completely standardized to ModelSEED.\n",
      "The minimal flux media consists of 39 compounds and a 2387.7714268772957 total influx, with a growth value of 59.66143917485788\n",
      "\n",
      "\n",
      "\n",
      "Standardize exchange reactions in Sphingobium_AP49_pacbio_v2.RAST.fbamodel \n",
      " =============================================================================\n",
      "The exchange  metabolite ID's of the model Sphingobium_AP49_pacbio_v2.RAST.fbamodel are completely standardized to ModelSEED.\n"
     ]
    },
    {
     "name": "stderr",
     "output_type": "stream",
     "text": [
      "C:\\Users\\Andrew Freiburger\\AppData\\Local\\Programs\\Python\\Python39\\lib\\site-packages\\cobra\\core\\reaction.py:761: DeprecationWarning: Please use reaction.flux instead.\n",
      "  warn(\"Please use reaction.flux instead.\", DeprecationWarning)\n",
      "C:\\Users\\Andrew Freiburger\\AppData\\Local\\Programs\\Python\\Python39\\lib\\site-packages\\cobra\\core\\reaction.py:779: DeprecationWarning: Please use reaction.reduced_cost instead.\n",
      "  warn(\"Please use reaction.reduced_cost instead.\", DeprecationWarning)\n",
      "C:\\Users\\Andrew Freiburger\\AppData\\Local\\Programs\\Python\\Python39\\lib\\site-packages\\cobra\\core\\metabolite.py:207: DeprecationWarning: Please use metabolite.shadow_price instead.\n",
      "  warn(\"Please use metabolite.shadow_price instead.\", DeprecationWarning)\n"
     ]
    },
    {
     "name": "stdout",
     "output_type": "stream",
     "text": [
      "remaining possible_contributions 54\r"
     ]
    },
    {
     "name": "stderr",
     "output_type": "stream",
     "text": [
      "C:\\Users\\Andrew Freiburger\\AppData\\Local\\Programs\\Python\\Python39\\lib\\site-packages\\cobra\\core\\reaction.py:761: DeprecationWarning: Please use reaction.flux instead.\n",
      "  warn(\"Please use reaction.flux instead.\", DeprecationWarning)\n",
      "C:\\Users\\Andrew Freiburger\\AppData\\Local\\Programs\\Python\\Python39\\lib\\site-packages\\cobra\\core\\reaction.py:779: DeprecationWarning: Please use reaction.reduced_cost instead.\n",
      "  warn(\"Please use reaction.reduced_cost instead.\", DeprecationWarning)\n",
      "C:\\Users\\Andrew Freiburger\\AppData\\Local\\Programs\\Python\\Python39\\lib\\site-packages\\cobra\\core\\metabolite.py:207: DeprecationWarning: Please use metabolite.shadow_price instead.\n",
      "  warn(\"Please use metabolite.shadow_price instead.\", DeprecationWarning)\n",
      "C:\\Users\\Andrew Freiburger\\AppData\\Local\\Programs\\Python\\Python39\\lib\\site-packages\\cobra\\core\\metabolite.py:191: UserWarning: The element 'R' does not appear in the periodic table\n",
      "  warn(f\"The element {e} does not appear in the periodic table\")\n"
     ]
    },
    {
     "name": "stdout",
     "output_type": "stream",
     "text": [
      "remaining possible_contributions 47\r"
     ]
    },
    {
     "name": "stderr",
     "output_type": "stream",
     "text": [
      "C:\\Users\\Andrew Freiburger\\AppData\\Local\\Programs\\Python\\Python39\\lib\\site-packages\\cobra\\core\\reaction.py:761: DeprecationWarning: Please use reaction.flux instead.\n",
      "  warn(\"Please use reaction.flux instead.\", DeprecationWarning)\n",
      "C:\\Users\\Andrew Freiburger\\AppData\\Local\\Programs\\Python\\Python39\\lib\\site-packages\\cobra\\core\\reaction.py:779: DeprecationWarning: Please use reaction.reduced_cost instead.\n",
      "  warn(\"Please use reaction.reduced_cost instead.\", DeprecationWarning)\n",
      "C:\\Users\\Andrew Freiburger\\AppData\\Local\\Programs\\Python\\Python39\\lib\\site-packages\\cobra\\core\\metabolite.py:207: DeprecationWarning: Please use metabolite.shadow_price instead.\n",
      "  warn(\"Please use metabolite.shadow_price instead.\", DeprecationWarning)\n",
      "C:\\Users\\Andrew Freiburger\\AppData\\Local\\Programs\\Python\\Python39\\lib\\site-packages\\cobra\\core\\metabolite.py:191: UserWarning: The element 'R' does not appear in the periodic table\n",
      "  warn(f\"The element {e} does not appear in the periodic table\")\n"
     ]
    },
    {
     "name": "stdout",
     "output_type": "stream",
     "text": [
      "remaining possible_contributions 44\r"
     ]
    },
    {
     "name": "stderr",
     "output_type": "stream",
     "text": [
      "C:\\Users\\Andrew Freiburger\\AppData\\Local\\Programs\\Python\\Python39\\lib\\site-packages\\cobra\\core\\reaction.py:761: DeprecationWarning: Please use reaction.flux instead.\n",
      "  warn(\"Please use reaction.flux instead.\", DeprecationWarning)\n",
      "C:\\Users\\Andrew Freiburger\\AppData\\Local\\Programs\\Python\\Python39\\lib\\site-packages\\cobra\\core\\reaction.py:779: DeprecationWarning: Please use reaction.reduced_cost instead.\n",
      "  warn(\"Please use reaction.reduced_cost instead.\", DeprecationWarning)\n",
      "C:\\Users\\Andrew Freiburger\\AppData\\Local\\Programs\\Python\\Python39\\lib\\site-packages\\cobra\\core\\metabolite.py:207: DeprecationWarning: Please use metabolite.shadow_price instead.\n",
      "  warn(\"Please use metabolite.shadow_price instead.\", DeprecationWarning)\n"
     ]
    },
    {
     "name": "stdout",
     "output_type": "stream",
     "text": [
      "remaining possible_contributions 43\r"
     ]
    },
    {
     "name": "stderr",
     "output_type": "stream",
     "text": [
      "C:\\Users\\Andrew Freiburger\\AppData\\Local\\Programs\\Python\\Python39\\lib\\site-packages\\cobra\\core\\reaction.py:761: DeprecationWarning: Please use reaction.flux instead.\n",
      "  warn(\"Please use reaction.flux instead.\", DeprecationWarning)\n",
      "C:\\Users\\Andrew Freiburger\\AppData\\Local\\Programs\\Python\\Python39\\lib\\site-packages\\cobra\\core\\reaction.py:779: DeprecationWarning: Please use reaction.reduced_cost instead.\n",
      "  warn(\"Please use reaction.reduced_cost instead.\", DeprecationWarning)\n",
      "C:\\Users\\Andrew Freiburger\\AppData\\Local\\Programs\\Python\\Python39\\lib\\site-packages\\cobra\\core\\metabolite.py:207: DeprecationWarning: Please use metabolite.shadow_price instead.\n",
      "  warn(\"Please use metabolite.shadow_price instead.\", DeprecationWarning)\n"
     ]
    },
    {
     "name": "stdout",
     "output_type": "stream",
     "text": [
      "remaining possible_contributions 42\n",
      "\n",
      "\n",
      "Standardize exchange reactions in Bacillus_sp._bc15.RAST.fbamodel \n",
      " ====================================================================\n",
      "The exchange  metabolite ID's of the model Bacillus_sp._bc15.RAST.fbamodel are completely standardized to ModelSEED.\n"
     ]
    },
    {
     "name": "stderr",
     "output_type": "stream",
     "text": [
      "C:\\Users\\Andrew Freiburger\\AppData\\Local\\Programs\\Python\\Python39\\lib\\site-packages\\cobra\\core\\reaction.py:761: DeprecationWarning: Please use reaction.flux instead.\n",
      "  warn(\"Please use reaction.flux instead.\", DeprecationWarning)\n",
      "C:\\Users\\Andrew Freiburger\\AppData\\Local\\Programs\\Python\\Python39\\lib\\site-packages\\cobra\\core\\reaction.py:779: DeprecationWarning: Please use reaction.reduced_cost instead.\n",
      "  warn(\"Please use reaction.reduced_cost instead.\", DeprecationWarning)\n",
      "C:\\Users\\Andrew Freiburger\\AppData\\Local\\Programs\\Python\\Python39\\lib\\site-packages\\cobra\\core\\metabolite.py:207: DeprecationWarning: Please use metabolite.shadow_price instead.\n",
      "  warn(\"Please use metabolite.shadow_price instead.\", DeprecationWarning)\n"
     ]
    },
    {
     "name": "stdout",
     "output_type": "stream",
     "text": [
      "remaining possible_contributions 66\r"
     ]
    },
    {
     "name": "stderr",
     "output_type": "stream",
     "text": [
      "C:\\Users\\Andrew Freiburger\\AppData\\Local\\Programs\\Python\\Python39\\lib\\site-packages\\cobra\\core\\reaction.py:761: DeprecationWarning: Please use reaction.flux instead.\n",
      "  warn(\"Please use reaction.flux instead.\", DeprecationWarning)\n",
      "C:\\Users\\Andrew Freiburger\\AppData\\Local\\Programs\\Python\\Python39\\lib\\site-packages\\cobra\\core\\reaction.py:779: DeprecationWarning: Please use reaction.reduced_cost instead.\n",
      "  warn(\"Please use reaction.reduced_cost instead.\", DeprecationWarning)\n",
      "C:\\Users\\Andrew Freiburger\\AppData\\Local\\Programs\\Python\\Python39\\lib\\site-packages\\cobra\\core\\metabolite.py:207: DeprecationWarning: Please use metabolite.shadow_price instead.\n",
      "  warn(\"Please use metabolite.shadow_price instead.\", DeprecationWarning)\n"
     ]
    },
    {
     "name": "stdout",
     "output_type": "stream",
     "text": [
      "remaining possible_contributions 51\r"
     ]
    },
    {
     "name": "stderr",
     "output_type": "stream",
     "text": [
      "C:\\Users\\Andrew Freiburger\\AppData\\Local\\Programs\\Python\\Python39\\lib\\site-packages\\cobra\\core\\reaction.py:761: DeprecationWarning: Please use reaction.flux instead.\n",
      "  warn(\"Please use reaction.flux instead.\", DeprecationWarning)\n",
      "C:\\Users\\Andrew Freiburger\\AppData\\Local\\Programs\\Python\\Python39\\lib\\site-packages\\cobra\\core\\reaction.py:779: DeprecationWarning: Please use reaction.reduced_cost instead.\n",
      "  warn(\"Please use reaction.reduced_cost instead.\", DeprecationWarning)\n",
      "C:\\Users\\Andrew Freiburger\\AppData\\Local\\Programs\\Python\\Python39\\lib\\site-packages\\cobra\\core\\metabolite.py:207: DeprecationWarning: Please use metabolite.shadow_price instead.\n",
      "  warn(\"Please use metabolite.shadow_price instead.\", DeprecationWarning)\n"
     ]
    },
    {
     "name": "stdout",
     "output_type": "stream",
     "text": [
      "remaining possible_contributions 49\r"
     ]
    },
    {
     "name": "stderr",
     "output_type": "stream",
     "text": [
      "C:\\Users\\Andrew Freiburger\\AppData\\Local\\Programs\\Python\\Python39\\lib\\site-packages\\cobra\\core\\reaction.py:761: DeprecationWarning: Please use reaction.flux instead.\n",
      "  warn(\"Please use reaction.flux instead.\", DeprecationWarning)\n",
      "C:\\Users\\Andrew Freiburger\\AppData\\Local\\Programs\\Python\\Python39\\lib\\site-packages\\cobra\\core\\reaction.py:779: DeprecationWarning: Please use reaction.reduced_cost instead.\n",
      "  warn(\"Please use reaction.reduced_cost instead.\", DeprecationWarning)\n",
      "C:\\Users\\Andrew Freiburger\\AppData\\Local\\Programs\\Python\\Python39\\lib\\site-packages\\cobra\\core\\metabolite.py:207: DeprecationWarning: Please use metabolite.shadow_price instead.\n",
      "  warn(\"Please use metabolite.shadow_price instead.\", DeprecationWarning)\n"
     ]
    },
    {
     "name": "stdout",
     "output_type": "stream",
     "text": [
      "remaining possible_contributions 48\n",
      "MP score:\t\t\tEach member can possibly contribute the following to the community:\n",
      "\n",
      "Sphingobium_AP49_pacbio_v2.RAST.fbamodel \t 32\n",
      "Bacillus_sp._bc15.RAST.fbamodel \t 47\n"
     ]
    },
    {
     "data": {
      "text/plain": [
       "{'Sphingobium_AP49_pacbio_v2.RAST.fbamodel': {'cpd00001_e0',\n",
       "  'cpd00011_e0',\n",
       "  'cpd00013_e0',\n",
       "  'cpd00023_e0',\n",
       "  'cpd00033_e0',\n",
       "  'cpd00035_e0',\n",
       "  'cpd00036_e0',\n",
       "  'cpd00039_e0',\n",
       "  'cpd00041_e0',\n",
       "  'cpd00053_e0',\n",
       "  'cpd00054_e0',\n",
       "  'cpd00060_e0',\n",
       "  'cpd00067_e0',\n",
       "  'cpd00075_e0',\n",
       "  'cpd00084_e0',\n",
       "  'cpd00116_e0',\n",
       "  'cpd00122_e0',\n",
       "  'cpd00129_e0',\n",
       "  'cpd00132_e0',\n",
       "  'cpd00137_e0',\n",
       "  'cpd00138_e0',\n",
       "  'cpd00161_e0',\n",
       "  'cpd00182_e0',\n",
       "  'cpd00184_e0',\n",
       "  'cpd00246_e0',\n",
       "  'cpd00249_e0',\n",
       "  'cpd00276_e0',\n",
       "  'cpd00412_e0',\n",
       "  'cpd00438_e0',\n",
       "  'cpd00588_e0',\n",
       "  'cpd00797_e0',\n",
       "  'cpd03279_e0'},\n",
       " 'Bacillus_sp._bc15.RAST.fbamodel': {'cpd00001_e0',\n",
       "  'cpd00009_e0',\n",
       "  'cpd00011_e0',\n",
       "  'cpd00012_e0',\n",
       "  'cpd00013_e0',\n",
       "  'cpd00023_e0',\n",
       "  'cpd00033_e0',\n",
       "  'cpd00035_e0',\n",
       "  'cpd00039_e0',\n",
       "  'cpd00041_e0',\n",
       "  'cpd00047_e0',\n",
       "  'cpd00053_e0',\n",
       "  'cpd00054_e0',\n",
       "  'cpd00060_e0',\n",
       "  'cpd00064_e0',\n",
       "  'cpd00067_e0',\n",
       "  'cpd00073_e0',\n",
       "  'cpd00075_e0',\n",
       "  'cpd00080_e0',\n",
       "  'cpd00082_e0',\n",
       "  'cpd00084_e0',\n",
       "  'cpd00092_e0',\n",
       "  'cpd00100_e0',\n",
       "  'cpd00116_e0',\n",
       "  'cpd00117_e0',\n",
       "  'cpd00122_e0',\n",
       "  'cpd00129_e0',\n",
       "  'cpd00130_e0',\n",
       "  'cpd00132_e0',\n",
       "  'cpd00137_e0',\n",
       "  'cpd00138_e0',\n",
       "  'cpd00142_e0',\n",
       "  'cpd00159_e0',\n",
       "  'cpd00161_e0',\n",
       "  'cpd00180_e0',\n",
       "  'cpd00182_e0',\n",
       "  'cpd00184_e0',\n",
       "  'cpd00218_e0',\n",
       "  'cpd00226_e0',\n",
       "  'cpd00246_e0',\n",
       "  'cpd00249_e0',\n",
       "  'cpd00276_e0',\n",
       "  'cpd00309_e0',\n",
       "  'cpd00412_e0',\n",
       "  'cpd00438_e0',\n",
       "  'cpd00797_e0',\n",
       "  'cpd03279_e0'}}"
      ]
     },
     "execution_count": 10,
     "metadata": {},
     "output_type": "execute_result"
    }
   ],
   "source": [
    "comm.mp_score()"
   ]
  },
  {
   "cell_type": "code",
   "execution_count": 3,
   "id": "f791472f-4459-4fd3-ad28-66e33ef565e9",
   "metadata": {
    "scrolled": true,
    "tags": []
   },
   "outputs": [
    {
     "name": "stdout",
     "output_type": "stream",
     "text": [
      "The exchange  metabolite ID's of the model Sphingobium_AP49_pacbio_v2.RAST.fbamodel,Bacillus_sp._bc15.RAST.fbamodel are completely standardized to ModelSEED.\n",
      "com_mdeia_est\n",
      "<Solution 59.661 at 0x17b3f7c0ca0>\n"
     ]
    },
    {
     "name": "stderr",
     "output_type": "stream",
     "text": [
      "C:\\Users\\Andrew Freiburger\\AppData\\Local\\Programs\\Python\\Python39\\lib\\site-packages\\cobra\\medium\\minimal_medium.py:112: FutureWarning: The default dtype for empty Series will be 'object' instead of 'float64' in a future version. Specify a dtype explicitly to silence this warning.\n",
      "  medium = pd.Series()\n"
     ]
    },
    {
     "name": "stdout",
     "output_type": "stream",
     "text": [
      "<Solution 169.734 at 0x17b40795e20>\n"
     ]
    },
    {
     "name": "stderr",
     "output_type": "stream",
     "text": [
      "C:\\Users\\Andrew Freiburger\\AppData\\Local\\Programs\\Python\\Python39\\lib\\site-packages\\cobra\\medium\\minimal_medium.py:112: FutureWarning: The default dtype for empty Series will be 'object' instead of 'float64' in a future version. Specify a dtype explicitly to silence this warning.\n",
      "  medium = pd.Series()\n",
      "C:\\Users\\Andrew Freiburger\\AppData\\Local\\Programs\\Python\\Python39\\lib\\site-packages\\cobra\\medium\\minimal_medium.py:112: FutureWarning: The default dtype for empty Series will be 'object' instead of 'float64' in a future version. Specify a dtype explicitly to silence this warning.\n",
      "  medium = pd.Series()\n"
     ]
    },
    {
     "name": "stdout",
     "output_type": "stream",
     "text": [
      "executing MP\n",
      "The exchange  metabolite ID's of the model AP49-BC15 are completely standardized to ModelSEED.\n",
      "The minimal flux media consists of 40 compounds and a 2387.7714268771474 total influx, with a growth value of 59.66143917485811\n",
      "\n",
      "\n",
      "\n",
      "Standardize exchange reactions in Sphingobium_AP49_pacbio_v2.RAST.fbamodel \n",
      " =============================================================================\n",
      "The exchange  metabolite ID's of the model Sphingobium_AP49_pacbio_v2.RAST.fbamodel are completely standardized to ModelSEED.\n"
     ]
    },
    {
     "name": "stderr",
     "output_type": "stream",
     "text": [
      "C:\\Users\\Andrew Freiburger\\AppData\\Local\\Programs\\Python\\Python39\\lib\\site-packages\\cobra\\core\\reaction.py:761: DeprecationWarning: Please use reaction.flux instead.\n",
      "  warn(\"Please use reaction.flux instead.\", DeprecationWarning)\n",
      "C:\\Users\\Andrew Freiburger\\AppData\\Local\\Programs\\Python\\Python39\\lib\\site-packages\\cobra\\core\\reaction.py:779: DeprecationWarning: Please use reaction.reduced_cost instead.\n",
      "  warn(\"Please use reaction.reduced_cost instead.\", DeprecationWarning)\n",
      "C:\\Users\\Andrew Freiburger\\AppData\\Local\\Programs\\Python\\Python39\\lib\\site-packages\\cobra\\core\\metabolite.py:207: DeprecationWarning: Please use metabolite.shadow_price instead.\n",
      "  warn(\"Please use metabolite.shadow_price instead.\", DeprecationWarning)\n",
      "C:\\Users\\Andrew Freiburger\\AppData\\Local\\Programs\\Python\\Python39\\lib\\site-packages\\cobra\\core\\metabolite.py:191: UserWarning: The element 'R' does not appear in the periodic table\n",
      "  warn(f\"The element {e} does not appear in the periodic table\")\n"
     ]
    },
    {
     "name": "stdout",
     "output_type": "stream",
     "text": [
      "remaining possible_contributions 54\r"
     ]
    },
    {
     "name": "stderr",
     "output_type": "stream",
     "text": [
      "C:\\Users\\Andrew Freiburger\\AppData\\Local\\Programs\\Python\\Python39\\lib\\site-packages\\cobra\\core\\reaction.py:761: DeprecationWarning: Please use reaction.flux instead.\n",
      "  warn(\"Please use reaction.flux instead.\", DeprecationWarning)\n",
      "C:\\Users\\Andrew Freiburger\\AppData\\Local\\Programs\\Python\\Python39\\lib\\site-packages\\cobra\\core\\reaction.py:779: DeprecationWarning: Please use reaction.reduced_cost instead.\n",
      "  warn(\"Please use reaction.reduced_cost instead.\", DeprecationWarning)\n",
      "C:\\Users\\Andrew Freiburger\\AppData\\Local\\Programs\\Python\\Python39\\lib\\site-packages\\cobra\\core\\metabolite.py:207: DeprecationWarning: Please use metabolite.shadow_price instead.\n",
      "  warn(\"Please use metabolite.shadow_price instead.\", DeprecationWarning)\n",
      "C:\\Users\\Andrew Freiburger\\AppData\\Local\\Programs\\Python\\Python39\\lib\\site-packages\\cobra\\core\\metabolite.py:191: UserWarning: The element 'R' does not appear in the periodic table\n",
      "  warn(f\"The element {e} does not appear in the periodic table\")\n"
     ]
    },
    {
     "name": "stdout",
     "output_type": "stream",
     "text": [
      "remaining possible_contributions 47\r"
     ]
    },
    {
     "name": "stderr",
     "output_type": "stream",
     "text": [
      "C:\\Users\\Andrew Freiburger\\AppData\\Local\\Programs\\Python\\Python39\\lib\\site-packages\\cobra\\core\\reaction.py:761: DeprecationWarning: Please use reaction.flux instead.\n",
      "  warn(\"Please use reaction.flux instead.\", DeprecationWarning)\n",
      "C:\\Users\\Andrew Freiburger\\AppData\\Local\\Programs\\Python\\Python39\\lib\\site-packages\\cobra\\core\\reaction.py:779: DeprecationWarning: Please use reaction.reduced_cost instead.\n",
      "  warn(\"Please use reaction.reduced_cost instead.\", DeprecationWarning)\n",
      "C:\\Users\\Andrew Freiburger\\AppData\\Local\\Programs\\Python\\Python39\\lib\\site-packages\\cobra\\core\\metabolite.py:207: DeprecationWarning: Please use metabolite.shadow_price instead.\n",
      "  warn(\"Please use metabolite.shadow_price instead.\", DeprecationWarning)\n",
      "C:\\Users\\Andrew Freiburger\\AppData\\Local\\Programs\\Python\\Python39\\lib\\site-packages\\cobra\\core\\metabolite.py:191: UserWarning: The element 'R' does not appear in the periodic table\n",
      "  warn(f\"The element {e} does not appear in the periodic table\")\n"
     ]
    },
    {
     "name": "stdout",
     "output_type": "stream",
     "text": [
      "remaining possible_contributions 44\r"
     ]
    },
    {
     "name": "stderr",
     "output_type": "stream",
     "text": [
      "C:\\Users\\Andrew Freiburger\\AppData\\Local\\Programs\\Python\\Python39\\lib\\site-packages\\cobra\\core\\reaction.py:761: DeprecationWarning: Please use reaction.flux instead.\n",
      "  warn(\"Please use reaction.flux instead.\", DeprecationWarning)\n",
      "C:\\Users\\Andrew Freiburger\\AppData\\Local\\Programs\\Python\\Python39\\lib\\site-packages\\cobra\\core\\reaction.py:779: DeprecationWarning: Please use reaction.reduced_cost instead.\n",
      "  warn(\"Please use reaction.reduced_cost instead.\", DeprecationWarning)\n",
      "C:\\Users\\Andrew Freiburger\\AppData\\Local\\Programs\\Python\\Python39\\lib\\site-packages\\cobra\\core\\metabolite.py:207: DeprecationWarning: Please use metabolite.shadow_price instead.\n",
      "  warn(\"Please use metabolite.shadow_price instead.\", DeprecationWarning)\n",
      "C:\\Users\\Andrew Freiburger\\AppData\\Local\\Programs\\Python\\Python39\\lib\\site-packages\\cobra\\core\\metabolite.py:191: UserWarning: The element 'R' does not appear in the periodic table\n",
      "  warn(f\"The element {e} does not appear in the periodic table\")\n"
     ]
    },
    {
     "name": "stdout",
     "output_type": "stream",
     "text": [
      "remaining possible_contributions 43\r"
     ]
    },
    {
     "name": "stderr",
     "output_type": "stream",
     "text": [
      "C:\\Users\\Andrew Freiburger\\AppData\\Local\\Programs\\Python\\Python39\\lib\\site-packages\\cobra\\core\\reaction.py:761: DeprecationWarning: Please use reaction.flux instead.\n",
      "  warn(\"Please use reaction.flux instead.\", DeprecationWarning)\n",
      "C:\\Users\\Andrew Freiburger\\AppData\\Local\\Programs\\Python\\Python39\\lib\\site-packages\\cobra\\core\\reaction.py:779: DeprecationWarning: Please use reaction.reduced_cost instead.\n",
      "  warn(\"Please use reaction.reduced_cost instead.\", DeprecationWarning)\n",
      "C:\\Users\\Andrew Freiburger\\AppData\\Local\\Programs\\Python\\Python39\\lib\\site-packages\\cobra\\core\\metabolite.py:207: DeprecationWarning: Please use metabolite.shadow_price instead.\n",
      "  warn(\"Please use metabolite.shadow_price instead.\", DeprecationWarning)\n",
      "C:\\Users\\Andrew Freiburger\\AppData\\Local\\Programs\\Python\\Python39\\lib\\site-packages\\cobra\\core\\metabolite.py:191: UserWarning: The element 'R' does not appear in the periodic table\n",
      "  warn(f\"The element {e} does not appear in the periodic table\")\n"
     ]
    },
    {
     "name": "stdout",
     "output_type": "stream",
     "text": [
      "remaining possible_contributions 42\n",
      "\n",
      "\n",
      "Standardize exchange reactions in Bacillus_sp._bc15.RAST.fbamodel \n",
      " ====================================================================\n",
      "The exchange  metabolite ID's of the model Bacillus_sp._bc15.RAST.fbamodel are completely standardized to ModelSEED.\n"
     ]
    },
    {
     "name": "stderr",
     "output_type": "stream",
     "text": [
      "C:\\Users\\Andrew Freiburger\\AppData\\Local\\Programs\\Python\\Python39\\lib\\site-packages\\cobra\\core\\reaction.py:761: DeprecationWarning: Please use reaction.flux instead.\n",
      "  warn(\"Please use reaction.flux instead.\", DeprecationWarning)\n",
      "C:\\Users\\Andrew Freiburger\\AppData\\Local\\Programs\\Python\\Python39\\lib\\site-packages\\cobra\\core\\reaction.py:779: DeprecationWarning: Please use reaction.reduced_cost instead.\n",
      "  warn(\"Please use reaction.reduced_cost instead.\", DeprecationWarning)\n",
      "C:\\Users\\Andrew Freiburger\\AppData\\Local\\Programs\\Python\\Python39\\lib\\site-packages\\cobra\\core\\metabolite.py:207: DeprecationWarning: Please use metabolite.shadow_price instead.\n",
      "  warn(\"Please use metabolite.shadow_price instead.\", DeprecationWarning)\n"
     ]
    },
    {
     "name": "stdout",
     "output_type": "stream",
     "text": [
      "remaining possible_contributions 65\r"
     ]
    },
    {
     "name": "stderr",
     "output_type": "stream",
     "text": [
      "C:\\Users\\Andrew Freiburger\\AppData\\Local\\Programs\\Python\\Python39\\lib\\site-packages\\cobra\\core\\reaction.py:761: DeprecationWarning: Please use reaction.flux instead.\n",
      "  warn(\"Please use reaction.flux instead.\", DeprecationWarning)\n",
      "C:\\Users\\Andrew Freiburger\\AppData\\Local\\Programs\\Python\\Python39\\lib\\site-packages\\cobra\\core\\reaction.py:779: DeprecationWarning: Please use reaction.reduced_cost instead.\n",
      "  warn(\"Please use reaction.reduced_cost instead.\", DeprecationWarning)\n",
      "C:\\Users\\Andrew Freiburger\\AppData\\Local\\Programs\\Python\\Python39\\lib\\site-packages\\cobra\\core\\metabolite.py:207: DeprecationWarning: Please use metabolite.shadow_price instead.\n",
      "  warn(\"Please use metabolite.shadow_price instead.\", DeprecationWarning)\n"
     ]
    },
    {
     "name": "stdout",
     "output_type": "stream",
     "text": [
      "remaining possible_contributions 49\r"
     ]
    },
    {
     "name": "stderr",
     "output_type": "stream",
     "text": [
      "C:\\Users\\Andrew Freiburger\\AppData\\Local\\Programs\\Python\\Python39\\lib\\site-packages\\cobra\\core\\reaction.py:761: DeprecationWarning: Please use reaction.flux instead.\n",
      "  warn(\"Please use reaction.flux instead.\", DeprecationWarning)\n",
      "C:\\Users\\Andrew Freiburger\\AppData\\Local\\Programs\\Python\\Python39\\lib\\site-packages\\cobra\\core\\reaction.py:779: DeprecationWarning: Please use reaction.reduced_cost instead.\n",
      "  warn(\"Please use reaction.reduced_cost instead.\", DeprecationWarning)\n",
      "C:\\Users\\Andrew Freiburger\\AppData\\Local\\Programs\\Python\\Python39\\lib\\site-packages\\cobra\\core\\metabolite.py:207: DeprecationWarning: Please use metabolite.shadow_price instead.\n",
      "  warn(\"Please use metabolite.shadow_price instead.\", DeprecationWarning)\n"
     ]
    },
    {
     "name": "stdout",
     "output_type": "stream",
     "text": [
      "remaining possible_contributions 47\n",
      "MP score:\t\t\tEach member can possibly contribute the following to the community:\n",
      "\n",
      "Sphingobium_AP49_pacbio_v2.RAST.fbamodel \t 32\n",
      "Bacillus_sp._bc15.RAST.fbamodel \t 47\n",
      "\n",
      "Sphingobium_AP49_pacbio_v2.RAST.fbamodel\tOther Excreta {'cpd00064_e0', 'cpd00797_e0', 'cpd00075_e0', 'cpd00092_e0', 'cpd00039_e0', 'cpd00084_e0', 'cpd03279_e0', 'cpd00184_e0', 'cpd00182_e0', 'cpd00080_e0', 'cpd00041_e0', 'cpd00159_e0', 'cpd00137_e0', 'cpd00073_e0', 'cpd00122_e0', 'cpd00276_e0', 'cpd00047_e0', 'cpd00009_e0', 'cpd00013_e0', 'cpd00001_e0', 'cpd00054_e0', 'cpd00309_e0', 'cpd00033_e0', 'cpd00117_e0', 'cpd00067_e0', 'cpd00035_e0', 'cpd00082_e0', 'cpd00138_e0', 'cpd00142_e0', 'cpd00438_e0', 'cpd00129_e0', 'cpd00130_e0', 'cpd00412_e0', 'cpd00226_e0', 'cpd00132_e0', 'cpd00249_e0', 'cpd00161_e0', 'cpd00246_e0', 'cpd00218_e0', 'cpd00053_e0', 'cpd00011_e0', 'cpd00060_e0', 'cpd00012_e0', 'cpd00100_e0', 'cpd00180_e0', 'cpd00116_e0', 'cpd00023_e0'}\n",
      "\n",
      "Sphingobium_AP49_pacbio_v2.RAST.fbamodel\tExtracellular reactions {<Reaction EX_cpd00030_e0 at 0x17b82e99b80>: <ModelCompound cpd00030_e0 at 0x17b82201100>, <Reaction EX_cpd00106_e0 at 0x17b82e99cd0>: <ModelCompound cpd00106_e0 at 0x17b387e7700>, <Reaction EX_cpd00058_e0 at 0x17b82e99d60>: <ModelCompound cpd00058_e0 at 0x17b8223ed30>, <Reaction EX_cpd00184_e0 at 0x17b82e99df0>: <ModelCompound cpd00184_e0 at 0x17b45b1f640>, <Reaction EX_cpd00041_e0 at 0x17b82e99e80>: <ModelCompound cpd00041_e0 at 0x17b820a5be0>, <Reaction EX_cpd03453_e0 at 0x17b82e99f10>: <ModelCompound cpd03453_e0 at 0x17b8223e550>, <Reaction EX_cpd00119_e0 at 0x17b82e99fa0>: <ModelCompound cpd00119_e0 at 0x17b8223ebb0>, <Reaction EX_cpd00164_e0 at 0x17b82e99c70>: <ModelCompound cpd00164_e0 at 0x17b8209e610>, <Reaction EX_cpd00063_e0 at 0x17b82eaa100>: <ModelCompound cpd00063_e0 at 0x17b8223ef10>, <Reaction EX_cpd00066_e0 at 0x17b82eaa190>: <ModelCompound cpd00066_e0 at 0x17b8223e700>, <Reaction EX_cpd00065_e0 at 0x17b82eaa220>: <ModelCompound cpd00065_e0 at 0x17b8223eb20>, <Reaction EX_cpd00048_e0 at 0x17b82eaa2b0>: <ModelCompound cpd00048_e0 at 0x17b82215070>, <Reaction EX_cpd00035_e0 at 0x17b82eaa340>: <ModelCompound cpd00035_e0 at 0x17b8223e6d0>, <Reaction EX_cpd00138_e0 at 0x17b82eaa3d0>: <ModelCompound cpd00138_e0 at 0x17b80858d90>, <Reaction EX_cpd00154_e0 at 0x17b82eaa460>: <ModelCompound cpd00154_e0 at 0x17b80864a60>, <Reaction EX_cpd11578_e0 at 0x17b82eaa4f0>: <ModelCompound cpd11578_e0 at 0x17b3d0148b0>, <Reaction EX_cpd00438_e0 at 0x17b82eaa580>: <ModelCompound cpd00438_e0 at 0x17b7ff22a60>, <Reaction EX_cpd00205_e0 at 0x17b82eaa610>: <ModelCompound cpd00205_e0 at 0x17b43e196d0>, <Reaction EX_cpd00249_e0 at 0x17b82eaa6a0>: <ModelCompound cpd00249_e0 at 0x17b80840d30>, <Reaction EX_cpd01171_e0 at 0x17b82eaa730>: <ModelCompound cpd01171_e0 at 0x17b82083490>, <Reaction EX_cpd00161_e0 at 0x17b82eaa7c0>: <ModelCompound cpd00161_e0 at 0x17b8223e8b0>, <Reaction EX_cpd00794_e0 at 0x17b82eaa850>: <ModelCompound cpd00794_e0 at 0x17b82201df0>, <Reaction EX_cpd00107_e0 at 0x17b82eaa8e0>: <ModelCompound cpd00107_e0 at 0x17b8223e8e0>, <Reaction EX_cpd00210_e0 at 0x17b82eaa970>: <ModelCompound cpd00210_e0 at 0x17b82083610>, <Reaction EX_cpd11575_e0 at 0x17b82eaaa00>: <ModelCompound cpd11575_e0 at 0x17b82201cd0>, <Reaction EX_cpd00075_e0 at 0x17b82eaaa90>: <ModelCompound cpd00075_e0 at 0x17b45b138b0>, <Reaction EX_cpd00220_e0 at 0x17b82eaab20>: <ModelCompound cpd00220_e0 at 0x17b8223e9a0>, <Reaction EX_cpd00084_e0 at 0x17b82eaabb0>: <ModelCompound cpd00084_e0 at 0x17b8223e790>, <Reaction EX_cpd00244_e0 at 0x17b82eaac40>: <ModelCompound cpd00244_e0 at 0x17b3d0144f0>, <Reaction EX_cpd00137_e0 at 0x17b82eaacd0>: <ModelCompound cpd00137_e0 at 0x17b7ff22f40>, <Reaction EX_cpd00264_e0 at 0x17b82eaad60>: <ModelCompound cpd00264_e0 at 0x17b8223e850>, <Reaction EX_cpd03724_e0 at 0x17b82eaadf0>: <ModelCompound cpd03724_e0 at 0x17b80864b20>, <Reaction EX_cpd00118_e0 at 0x17b82eaae80>: <ModelCompound cpd00118_e0 at 0x17b8223ea00>, <Reaction EX_cpd11579_e0 at 0x17b82eaaf10>: <ModelCompound cpd11579_e0 at 0x17b820834c0>, <Reaction EX_cpd00276_e0 at 0x17b82eaafa0>: <ModelCompound cpd00276_e0 at 0x17b817e6c70>, <Reaction EX_cpd03726_e0 at 0x17b82eaa070>: <ModelCompound cpd03726_e0 at 0x17b8223e580>, <Reaction EX_cpd00009_e0 at 0x17b82eb2100>: <ModelCompound cpd00009_e0 at 0x17b7ff81af0>, <Reaction EX_cpd00588_e0 at 0x17b82eb2190>: <ModelCompound cpd00588_e0 at 0x17b808585b0>, <Reaction EX_cpd10515_e0 at 0x17b82eb2220>: <ModelCompound cpd10515_e0 at 0x17b821ec190>, <Reaction EX_cpd00001_e0 at 0x17b82eb22b0>: <ModelCompound cpd00001_e0 at 0x17b7fb3d1c0>, <Reaction EX_cpd00054_e0 at 0x17b82eb2340>: <ModelCompound cpd00054_e0 at 0x17b8223e820>, <Reaction EX_cpd00069_e0 at 0x17b82eb23d0>: <ModelCompound cpd00069_e0 at 0x17b8223e880>, <Reaction EX_cpd09878_e0 at 0x17b82eb2460>: <ModelCompound cpd09878_e0 at 0x17b82201f40>, <Reaction EX_cpd00731_e0 at 0x17b82eb24f0>: <ModelCompound cpd00731_e0 at 0x17b8223e3a0>, <Reaction EX_cpd01030_e0 at 0x17b82eb2580>: <ModelCompound cpd01030_e0 at 0x17b82088880>, <Reaction EX_cpd00156_e0 at 0x17b82eb2610>: <ModelCompound cpd00156_e0 at 0x17b8223e9d0>, <Reaction EX_cpd00305_e0 at 0x17b82eb26a0>: <ModelCompound cpd00305_e0 at 0x17b8223ea90>, <Reaction EX_cpd00314_e0 at 0x17b82eb2730>: <ModelCompound cpd00314_e0 at 0x17b45b1f580>, <Reaction EX_cpd00129_e0 at 0x17b82eb27c0>: <ModelCompound cpd00129_e0 at 0x17b821eceb0>, <Reaction EX_cpd01012_e0 at 0x17b82eb2850>: <ModelCompound cpd01012_e0 at 0x17b82201670>, <Reaction EX_cpd00412_e0 at 0x17b82eb28e0>: <ModelCompound cpd00412_e0 at 0x17b82088b80>, <Reaction EX_cpd00132_e0 at 0x17b82eb2970>: <ModelCompound cpd00132_e0 at 0x17b8223e7c0>, <Reaction EX_cpd00051_e0 at 0x17b82eb2a00>: <ModelCompound cpd00051_e0 at 0x17b8223e910>, <Reaction EX_cpd00215_e0 at 0x17b82eb2a90>: <ModelCompound cpd00215_e0 at 0x17b8223e730>, <Reaction EX_cpd00218_e0 at 0x17b82eb2b20>: <ModelCompound cpd00218_e0 at 0x17b8223eaf0>, <Reaction EX_cpd00053_e0 at 0x17b82eb2bb0>: <ModelCompound cpd00053_e0 at 0x17b8223eb80>, <Reaction EX_cpd00012_e0 at 0x17b82eb2c40>: <ModelCompound cpd00012_e0 at 0x17b82088dc0>, <Reaction EX_cpd00367_e0 at 0x17b82eb2cd0>: <ModelCompound cpd00367_e0 at 0x17b7fb3d220>, <Reaction EX_cpd00116_e0 at 0x17b82eb2d60>: <ModelCompound cpd00116_e0 at 0x17b82229130>, <Reaction EX_cpd00149_e0 at 0x17b82eb2df0>: <ModelCompound cpd00149_e0 at 0x17b82201160>, <Reaction EX_cpd00644_e0 at 0x17b82eb2e80>: <ModelCompound cpd00644_e0 at 0x17b8223ea60>, <Reaction EX_cpd00082_e0 at 0x17b82eb2f10>: <ModelCompound cpd00082_e0 at 0x17b7fb3d130>, <Reaction EX_cpd00023_e0 at 0x17b82eb2fa0>: <ModelCompound cpd00023_e0 at 0x17b7fb3d190>, <Reaction EX_cpd00027_e0 at 0x17b82eb2070>: <ModelCompound cpd00027_e0 at 0x17b808690d0>, <Reaction EX_cpd00034_e0 at 0x17b82ebd100>: <ModelCompound cpd00034_e0 at 0x17b821ecd90>, <Reaction EX_cpd01017_e0 at 0x17b82ebd190>: <ModelCompound cpd01017_e0 at 0x17b82096250>, <Reaction EX_cpd00393_e0 at 0x17b82ebd220>: <ModelCompound cpd00393_e0 at 0x17b8223eb50>, <Reaction EX_cpd00108_e0 at 0x17b82ebd2b0>: <ModelCompound cpd00108_e0 at 0x17b808580d0>, <Reaction EX_cpd00166_e0 at 0x17b82ebd340>: <ModelCompound cpd00166_e0 at 0x17b8223e370>, <Reaction EX_cpd00028_e0 at 0x17b82ebd3d0>: <ModelCompound cpd00028_e0 at 0x17b80858670>, <Reaction EX_cpd00209_e0 at 0x17b82ebd460>: <ModelCompound cpd00209_e0 at 0x17b82201c70>, <Reaction EX_cpd00395_e0 at 0x17b82ebd4f0>: <ModelCompound cpd00395_e0 at 0x17b82201760>, <Reaction EX_cpd00122_e0 at 0x17b82ebd580>: <ModelCompound cpd00122_e0 at 0x17b8209e970>, <Reaction EX_cpd00322_e0 at 0x17b82ebd610>: <ModelCompound cpd00322_e0 at 0x17b8223ea30>, <Reaction EX_cpd03048_e0 at 0x17b82ebd6a0>: <ModelCompound cpd03048_e0 at 0x17b821ec940>, <Reaction EX_cpd00036_e0 at 0x17b82ebd730>: <ModelCompound cpd00036_e0 at 0x17b80844d00>, <Reaction EX_cpd00033_e0 at 0x17b82ebd7c0>: <ModelCompound cpd00033_e0 at 0x17b8223e7f0>, <Reaction EX_cpd00067_e0 at 0x17b82ebd850>: <ModelCompound cpd00067_e0 at 0x17b81269400>, <Reaction EX_cpd00179_e0 at 0x17b82ebd8e0>: <ModelCompound cpd00179_e0 at 0x17b80dcc190>, <Reaction EX_cpd00654_e0 at 0x17b82ebd970>: <ModelCompound cpd00654_e0 at 0x17b80869130>, <Reaction EX_cpd00540_e0 at 0x17b82ebda00>: <ModelCompound cpd00540_e0 at 0x17b821ecfd0>, <Reaction EX_cpd01080_e0 at 0x17b82ebda90>: <ModelCompound cpd01080_e0 at 0x17b822290a0>, <Reaction EX_cpd10516_e0 at 0x17b82ebdb20>: <ModelCompound cpd10516_e0 at 0x17b821ecf10>, <Reaction EX_cpd00254_e0 at 0x17b82ebdbb0>: <ModelCompound cpd00254_e0 at 0x17b80858c40>, <Reaction EX_cpd00793_e0 at 0x17b82ebdc40>: <ModelCompound cpd00793_e0 at 0x17b82252040>, <Reaction EX_cpd00971_e0 at 0x17b82ebdcd0>: <ModelCompound cpd00971_e0 at 0x17b7fb3d4f0>, <Reaction EX_cpd08023_e0 at 0x17b82ebdd60>: <ModelCompound cpd08023_e0 at 0x17b82215d00>, <Reaction EX_cpd00246_e0 at 0x17b82ebddf0>: <ModelCompound cpd00246_e0 at 0x17b45b043d0>, <Reaction EX_cpd00060_e0 at 0x17b82ebde80>: <ModelCompound cpd00060_e0 at 0x17b8223e940>, <Reaction EX_cpd00136_e0 at 0x17b82ebdf10>: <ModelCompound cpd00136_e0 at 0x17b80844e20>, <Reaction EX_cpd03696_e0 at 0x17b82ebdfa0>: <ModelCompound cpd03696_e0 at 0x17b8209e3a0>, <Reaction EX_cpd00214_e0 at 0x17b82ebd070>: <ModelCompound cpd00214_e0 at 0x17b808407f0>, <Reaction EX_cpd00797_e0 at 0x17b82ec7100>: <ModelCompound cpd00797_e0 at 0x17b820966d0>, <Reaction EX_cpd00039_e0 at 0x17b82ec7190>: <ModelCompound cpd00039_e0 at 0x17b82229730>, <Reaction EX_cpd03279_e0 at 0x17b82ec7220>: <ModelCompound cpd03279_e0 at 0x17b80858340>, <Reaction EX_cpd00182_e0 at 0x17b82ec72b0>: <ModelCompound cpd00182_e0 at 0x17b812690d0>, <Reaction EX_cpd11596_e0 at 0x17b82ec7340>: <ModelCompound cpd11596_e0 at 0x17b821ec9d0>, <Reaction EX_cpd00017_e0 at 0x17b82ec73d0>: <ModelCompound cpd00017_e0 at 0x17b8223ebe0>, <Reaction EX_cpd03424_e0 at 0x17b82ec7460>: <ModelCompound cpd03424_e0 at 0x17b822159d0>, <Reaction EX_cpd00386_e0 at 0x17b82ec74f0>: <ModelCompound cpd00386_e0 at 0x17b82201700>, <Reaction EX_cpd00013_e0 at 0x17b82ec7580>: <ModelCompound cpd00013_e0 at 0x17b7fd5d8e0>, <Reaction EX_cpd00007_e0 at 0x17b82ec7610>: <ModelCompound cpd00007_e0 at 0x17b82215910>, <Reaction EX_cpd00076_e0 at 0x17b82ec76a0>: <ModelCompound cpd00076_e0 at 0x17b808691f0>, <Reaction EX_cpd00635_e0 at 0x17b82ec7730>: <ModelCompound cpd00635_e0 at 0x17b8207f8e0>, <Reaction EX_cpd03847_e0 at 0x17b82ec77c0>: <ModelCompound cpd03847_e0 at 0x17b82201070>, <Reaction EX_cpd00011_e0 at 0x17b82ec7850>: <ModelCompound cpd00011_e0 at 0x17b822297f0>, <Reaction EX_cpd00277_e0 at 0x17b82ec78e0>: <ModelCompound cpd00277_e0 at 0x17b8209e490>, <Reaction EX_cpd00104_e0 at 0x17b82ec7970>: <ModelCompound cpd00104_e0 at 0x17b8223e970>, <Reaction EX_cpd00751_e0 at 0x17b82ec7a00>: <ModelCompound cpd00751_e0 at 0x17b82201fa0>, <Reaction EX_cpd00099_e0 at 0x17b82ec7a90>: <ModelCompound cpd00099_e0 at 0x17b822011f0>, <Reaction EX_cpd00280_e0 at 0x17b82ec7b20>: <ModelCompound cpd00280_e0 at 0x17b80858700>}\n",
      "\n",
      "Bacillus_sp._bc15.RAST.fbamodel\tOther Excreta {'cpd00797_e0', 'cpd00075_e0', 'cpd00039_e0', 'cpd00084_e0', 'cpd03279_e0', 'cpd00184_e0', 'cpd00182_e0', 'cpd00041_e0', 'cpd00137_e0', 'cpd00122_e0', 'cpd00276_e0', 'cpd00588_e0', 'cpd00013_e0', 'cpd00001_e0', 'cpd00054_e0', 'cpd00036_e0', 'cpd00033_e0', 'cpd00067_e0', 'cpd00035_e0', 'cpd00138_e0', 'cpd00438_e0', 'cpd00129_e0', 'cpd00132_e0', 'cpd00412_e0', 'cpd00249_e0', 'cpd00161_e0', 'cpd00246_e0', 'cpd00053_e0', 'cpd00011_e0', 'cpd00060_e0', 'cpd00116_e0', 'cpd00023_e0'}\n"
     ]
    },
    {
     "name": "stderr",
     "output_type": "stream",
     "text": [
      "C:\\Users\\Andrew Freiburger\\AppData\\Local\\Programs\\Python\\Python39\\lib\\site-packages\\cobra\\util\\solver.py:554: UserWarning: Solver status is 'infeasible'.\n",
      "  warn(f\"Solver status is '{status}'.\", UserWarning)\n"
     ]
    },
    {
     "name": "stdout",
     "output_type": "stream",
     "text": [
      "\n",
      "Bacillus_sp._bc15.RAST.fbamodel\tExtracellular reactions {<Reaction EX_cpd00030_e0 at 0x17b47b70490>: <ModelCompound cpd00030_e0 at 0x17b45b17b80>, <Reaction EX_cpd00158_e0 at 0x17b47b705e0>: <ModelCompound cpd00158_e0 at 0x17b8207f8b0>, <Reaction EX_cpd01757_e0 at 0x17b47b70850>: <ModelCompound cpd01757_e0 at 0x17b8207fdf0>, <Reaction EX_cpd00058_e0 at 0x17b47b70730>: <ModelCompound cpd00058_e0 at 0x17b80869190>, <Reaction EX_cpd00184_e0 at 0x17b47b708b0>: <ModelCompound cpd00184_e0 at 0x17b80869730>, <Reaction EX_cpd00041_e0 at 0x17b47b70a90>: <ModelCompound cpd00041_e0 at 0x17b80840580>, <Reaction EX_cpd03453_e0 at 0x17b47b70af0>: <ModelCompound cpd03453_e0 at 0x17b45b2a2b0>, <Reaction EX_cpd00119_e0 at 0x17b47b70c40>: <ModelCompound cpd00119_e0 at 0x17b45b2aac0>, <Reaction EX_cpd00063_e0 at 0x17b47b70e20>: <ModelCompound cpd00063_e0 at 0x17b80869f10>, <Reaction EX_cpd00281_e0 at 0x17b47b70d00>: <ModelCompound cpd00281_e0 at 0x17b80865160>, <Reaction EX_cpd00066_e0 at 0x17b47b70c70>: <ModelCompound cpd00066_e0 at 0x17b45b2aaf0>, <Reaction EX_cpd00065_e0 at 0x17b47b70f40>: <ModelCompound cpd00065_e0 at 0x17b45b2abb0>, <Reaction EX_cpd00048_e0 at 0x17b47b70b50>: <ModelCompound cpd00048_e0 at 0x17b45b04310>, <Reaction EX_cpd00035_e0 at 0x17b47b70f70>: <ModelCompound cpd00035_e0 at 0x17b820a5910>, <Reaction EX_cpd08305_e0 at 0x17b47b70160>: <ModelCompound cpd08305_e0 at 0x17b45b13610>, <Reaction EX_cpd00138_e0 at 0x17b47b70970>: <ModelCompound cpd00138_e0 at 0x17b820ac580>, <Reaction EX_cpd11578_e0 at 0x17b47b70520>: <ModelCompound cpd11578_e0 at 0x17b820967f0>, <Reaction EX_cpd00438_e0 at 0x17b47b765b0>: <ModelCompound cpd00438_e0 at 0x17b80865b50>, <Reaction EX_cpd00226_e0 at 0x17b47b76130>: <ModelCompound cpd00226_e0 at 0x17b45b13640>, <Reaction EX_cpd00205_e0 at 0x17b47b76040>: <ModelCompound cpd00205_e0 at 0x17b820ac4c0>, <Reaction EX_cpd00249_e0 at 0x17b47b762e0>: <ModelCompound cpd00249_e0 at 0x17b808446a0>, <Reaction EX_cpd01171_e0 at 0x17b47b76250>: <ModelCompound cpd01171_e0 at 0x17b808442e0>, <Reaction EX_cpd00211_e0 at 0x17b47b764c0>: <ModelCompound cpd00211_e0 at 0x17b820accd0>, <Reaction EX_cpd00161_e0 at 0x17b47b763d0>: <ModelCompound cpd00161_e0 at 0x17b45b2a9d0>, <Reaction EX_cpd00794_e0 at 0x17b47b76460>: <ModelCompound cpd00794_e0 at 0x17b45b13880>, <Reaction EX_cpd00107_e0 at 0x17b47b766d0>: <ModelCompound cpd00107_e0 at 0x17b80869790>, <Reaction EX_cpd00180_e0 at 0x17b47b76520>: <ModelCompound cpd00180_e0 at 0x17b45b2a220>, <Reaction EX_cpd00064_e0 at 0x17b47b76820>: <ModelCompound cpd00064_e0 at 0x17b820966a0>, <Reaction EX_cpd00075_e0 at 0x17b47b76df0>: <ModelCompound cpd00075_e0 at 0x17b830343a0>, <Reaction EX_cpd00220_e0 at 0x17b47b76910>: <ModelCompound cpd00220_e0 at 0x17b820a53d0>, <Reaction EX_cpd00092_e0 at 0x17b47b76b80>: <ModelCompound cpd00092_e0 at 0x17b82080700>, <Reaction EX_cpd00084_e0 at 0x17b47b76b20>: <ModelCompound cpd00084_e0 at 0x17b45b2ab20>, <Reaction EX_cpd00531_e0 at 0x17b47b76a60>: <ModelCompound cpd00531_e0 at 0x17b45b17e80>, <Reaction EX_cpd00105_e0 at 0x17b47b76970>: <ModelCompound cpd00105_e0 at 0x17b45b13f40>, <Reaction EX_cpd00244_e0 at 0x17b47b76cd0>: <ModelCompound cpd00244_e0 at 0x17b82096a00>, <Reaction EX_cpd00159_e0 at 0x17b47b76c40>: <ModelCompound cpd00159_e0 at 0x17b820acdf0>, <Reaction EX_cpd00137_e0 at 0x17b47b76bb0>: <ModelCompound cpd00137_e0 at 0x17b80865cd0>, <Reaction EX_cpd00264_e0 at 0x17b47b76c10>: <ModelCompound cpd00264_e0 at 0x17b80840dc0>, <Reaction EX_cpd03724_e0 at 0x17b47b76e20>: <ModelCompound cpd03724_e0 at 0x17b80840280>, <Reaction EX_cpd00118_e0 at 0x17b47b76670>: <ModelCompound cpd00118_e0 at 0x17b820a5ac0>, <Reaction EX_cpd00381_e0 at 0x17b47b7dd00>: <ModelCompound cpd00381_e0 at 0x17b8207feb0>, <Reaction EX_cpd11579_e0 at 0x17b47b7d100>: <ModelCompound cpd11579_e0 at 0x17b80844370>, <Reaction EX_cpd00276_e0 at 0x17b47b7d160>: <ModelCompound cpd00276_e0 at 0x17b45b1f940>, <Reaction EX_cpd03726_e0 at 0x17b47b7d340>: <ModelCompound cpd03726_e0 at 0x17b45b2a370>, <Reaction EX_cpd00009_e0 at 0x17b47b7d580>: <ModelCompound cpd00009_e0 at 0x17b80865760>, <Reaction EX_cpd00588_e0 at 0x17b47b7d370>: <ModelCompound cpd00588_e0 at 0x17b820831c0>, <Reaction EX_cpd10515_e0 at 0x17b47b7d6d0>: <ModelCompound cpd10515_e0 at 0x17b820ac940>, <Reaction EX_cpd00001_e0 at 0x17b47b7d8b0>: <ModelCompound cpd00001_e0 at 0x17b45b1f3a0>, <Reaction EX_cpd00054_e0 at 0x17b47b7d790>: <ModelCompound cpd00054_e0 at 0x17b808408b0>, <Reaction EX_cpd00069_e0 at 0x17b47b7d910>: <ModelCompound cpd00069_e0 at 0x17b45b2ad30>, <Reaction EX_cpd09878_e0 at 0x17b47b7da00>: <ModelCompound cpd09878_e0 at 0x17b45b13580>, <Reaction EX_cpd01030_e0 at 0x17b47b7d9a0>: <ModelCompound cpd01030_e0 at 0x17b8209ea30>, <Reaction EX_cpd00156_e0 at 0x17b47b7d820>: <ModelCompound cpd00156_e0 at 0x17b82080580>, <Reaction EX_cpd00305_e0 at 0x17b47b7d2b0>: <ModelCompound cpd00305_e0 at 0x17b45b2a520>, <Reaction EX_cpd00314_e0 at 0x17b47b7d7c0>: <ModelCompound cpd00314_e0 at 0x17b80869850>, <Reaction EX_cpd00129_e0 at 0x17b47b7dc10>: <ModelCompound cpd00129_e0 at 0x17b80864d00>, <Reaction EX_cpd01012_e0 at 0x17b47b7dd30>: <ModelCompound cpd01012_e0 at 0x17b80864340>, <Reaction EX_cpd00412_e0 at 0x17b47b7dcd0>: <ModelCompound cpd00412_e0 at 0x17b8209ed90>, <Reaction EX_cpd00051_e0 at 0x17b47b7ddf0>: <ModelCompound cpd00051_e0 at 0x17b820968e0>, <Reaction EX_cpd00132_e0 at 0x17b47b7dee0>: <ModelCompound cpd00132_e0 at 0x17b45b2ab80>, <Reaction EX_cpd00215_e0 at 0x17b47b7de50>: <ModelCompound cpd00215_e0 at 0x17b45b2ac10>, <Reaction EX_cpd00053_e0 at 0x17b47b7df40>: <ModelCompound cpd00053_e0 at 0x17b820ac1f0>, <Reaction EX_cpd00218_e0 at 0x17b47b7dfd0>: <ModelCompound cpd00218_e0 at 0x17b45b2acd0>, <Reaction EX_cpd00012_e0 at 0x17b47b7da60>: <ModelCompound cpd00012_e0 at 0x17b8209ee80>, <Reaction EX_cpd15603_e0 at 0x17b47b7dbb0>: <ModelCompound cpd15603_e0 at 0x17b820a5970>, <Reaction EX_cpd00367_e0 at 0x17b47b7de20>: <ModelCompound cpd00367_e0 at 0x17b45b1feb0>, <Reaction EX_cpd00644_e0 at 0x17b40876df0>: <ModelCompound cpd00644_e0 at 0x17b80840910>, <Reaction EX_cpd00149_e0 at 0x17b40876040>: <ModelCompound cpd00149_e0 at 0x17b45b17280>, <Reaction EX_cpd00116_e0 at 0x17b40876280>: <ModelCompound cpd00116_e0 at 0x17b82080610>, <Reaction EX_cpd00023_e0 at 0x17b408761f0>: <ModelCompound cpd00023_e0 at 0x17b45b1fee0>, <Reaction EX_cpd00082_e0 at 0x17b40876460>: <ModelCompound cpd00082_e0 at 0x17b45b1f220>, <Reaction EX_cpd00027_e0 at 0x17b40876340>: <ModelCompound cpd00027_e0 at 0x17b80844790>, <Reaction EX_cpd00034_e0 at 0x17b408764c0>: <ModelCompound cpd00034_e0 at 0x17b80865f40>, <Reaction EX_cpd00393_e0 at 0x17b408766a0>: <ModelCompound cpd00393_e0 at 0x17b45b2ac40>, <Reaction EX_cpd11576_e0 at 0x17b408763a0>: <ModelCompound cpd11576_e0 at 0x17b8304d1c0>, <Reaction EX_cpd00073_e0 at 0x17b408767c0>: <ModelCompound cpd00073_e0 at 0x17b830345e0>, <Reaction EX_cpd00028_e0 at 0x17b408767f0>: <ModelCompound cpd00028_e0 at 0x17b45b2abe0>, <Reaction EX_cpd00209_e0 at 0x17b408768b0>: <ModelCompound cpd00209_e0 at 0x17b45b13460>, <Reaction EX_cpd04097_e0 at 0x17b40876b50>: <ModelCompound cpd04097_e0 at 0x17b8304d280>, <Reaction EX_cpd08306_e0 at 0x17b40876bb0>: <ModelCompound cpd08306_e0 at 0x17b820a5c10>, <Reaction EX_cpd02233_e0 at 0x17b408769a0>: <ModelCompound cpd02233_e0 at 0x17b8207fe80>, <Reaction EX_cpd00266_e0 at 0x17b40876a60>: <ModelCompound cpd00266_e0 at 0x17b808409d0>, <Reaction EX_cpd00122_e0 at 0x17b40876a90>: <ModelCompound cpd00122_e0 at 0x17b820a5a90>, <Reaction EX_cpd00322_e0 at 0x17b40876e20>: <ModelCompound cpd00322_e0 at 0x17b82080ee0>, <Reaction EX_cpd03048_e0 at 0x17b40876e80>: <ModelCompound cpd03048_e0 at 0x17b45b04c10>, <Reaction EX_cpd00309_e0 at 0x17b40876fa0>: <ModelCompound cpd00309_e0 at 0x17b820a5040>, <Reaction EX_cpd00033_e0 at 0x17b40876f10>: <ModelCompound cpd00033_e0 at 0x17b45b2adc0>, <Reaction EX_cpd00067_e0 at 0x17b40876fd0>: <ModelCompound cpd00067_e0 at 0x17b82b18c40>, <Reaction EX_cpd01329_e0 at 0x17b40876730>: <ModelCompound cpd01329_e0 at 0x17b45b13fd0>, <Reaction EX_cpd00179_e0 at 0x17b40876cd0>: <ModelCompound cpd00179_e0 at 0x17b82096cd0>, <Reaction EX_cpd00654_e0 at 0x17b40876790>: <ModelCompound cpd00654_e0 at 0x17b808446d0>, <Reaction EX_cpd00540_e0 at 0x17b40883460>: <ModelCompound cpd00540_e0 at 0x17b45b04ee0>, <Reaction EX_cpd00130_e0 at 0x17b40883130>: <ModelCompound cpd00130_e0 at 0x17b8207f970>, <Reaction EX_cpd10516_e0 at 0x17b408830d0>: <ModelCompound cpd10516_e0 at 0x17b82083280>, <Reaction EX_cpd00254_e0 at 0x17b40883340>: <ModelCompound cpd00254_e0 at 0x17b820ac430>, <Reaction EX_cpd00793_e0 at 0x17b40883250>: <ModelCompound cpd00793_e0 at 0x17b45b2a910>, <Reaction EX_cpd00971_e0 at 0x17b408833a0>: <ModelCompound cpd00971_e0 at 0x17b80864c70>, <Reaction EX_cpd08023_e0 at 0x17b40883580>: <ModelCompound cpd08023_e0 at 0x17b820802e0>, <Reaction EX_cpd00246_e0 at 0x17b408833d0>: <ModelCompound cpd00246_e0 at 0x17b45b1f400>, <Reaction EX_cpd00098_e0 at 0x17b408836d0>: <ModelCompound cpd00098_e0 at 0x17b82080c40>, <Reaction EX_cpd00060_e0 at 0x17b40883820>: <ModelCompound cpd00060_e0 at 0x17b80865730>, <Reaction EX_cpd03696_e0 at 0x17b40883700>: <ModelCompound cpd03696_e0 at 0x17b820a5730>, <Reaction EX_cpd00797_e0 at 0x17b40883970>: <ModelCompound cpd00797_e0 at 0x17b80869c70>, <Reaction EX_cpd00222_e0 at 0x17b40883c40>: <ModelCompound cpd00222_e0 at 0x17b80869bb0>, <Reaction EX_cpd03725_e0 at 0x17b40883b50>: <ModelCompound cpd03725_e0 at 0x17b45b13c40>, <Reaction EX_cpd00039_e0 at 0x17b40883910>: <ModelCompound cpd00039_e0 at 0x17b45b04e20>, <Reaction EX_cpd03279_e0 at 0x17b40883d90>: <ModelCompound cpd03279_e0 at 0x17b820a5640>, <Reaction EX_cpd04099_e0 at 0x17b40883eb0>: <ModelCompound cpd04099_e0 at 0x17b45b17160>, <Reaction EX_cpd00182_e0 at 0x17b40883880>: <ModelCompound cpd00182_e0 at 0x17b82b18c70>, <Reaction EX_cpd00080_e0 at 0x17b40883d00>: <ModelCompound cpd00080_e0 at 0x17b45b1f370>, <Reaction EX_cpd11596_e0 at 0x17b40883a60>: <ModelCompound cpd11596_e0 at 0x17b45b04fd0>, <Reaction EX_cpd00017_e0 at 0x17b40883c10>: <ModelCompound cpd00017_e0 at 0x17b45b2ad60>, <Reaction EX_cpd00047_e0 at 0x17b40883fa0>: <ModelCompound cpd00047_e0 at 0x17b45b041c0>, <Reaction EX_cpd00013_e0 at 0x17b40883280>: <ModelCompound cpd00013_e0 at 0x17b820964c0>, <Reaction EX_cpd00007_e0 at 0x17b40883730>: <ModelCompound cpd00007_e0 at 0x17b82080be0>, <Reaction EX_cpd00117_e0 at 0x17b40883a00>: <ModelCompound cpd00117_e0 at 0x17b82083af0>, <Reaction EX_cpd01262_e0 at 0x17b40899220>: <ModelCompound cpd01262_e0 at 0x17b82083220>, <Reaction EX_cpd00076_e0 at 0x17b40899190>: <ModelCompound cpd00076_e0 at 0x17b808447c0>, <Reaction EX_cpd00142_e0 at 0x17b40899070>: <ModelCompound cpd00142_e0 at 0x17b820acb80>, <Reaction EX_cpd00268_e0 at 0x17b40899310>: <ModelCompound cpd00268_e0 at 0x17b45b13040>, <Reaction EX_cpd00024_e0 at 0x17b40899280>: <ModelCompound cpd00024_e0 at 0x17b45b17d30>, <Reaction EX_cpd01914_e0 at 0x17b408994f0>: <ModelCompound cpd01914_e0 at 0x17b45b17c10>, <Reaction EX_cpd00635_e0 at 0x17b408995e0>: <ModelCompound cpd00635_e0 at 0x17b45b2a0a0>, <Reaction EX_cpd00637_e0 at 0x17b40899370>: <ModelCompound cpd00637_e0 at 0x17b80840340>, <Reaction EX_cpd00011_e0 at 0x17b408996a0>: <ModelCompound cpd00011_e0 at 0x17b8207fb20>, <Reaction EX_cpd00355_e0 at 0x17b40899880>: <ModelCompound cpd00355_e0 at 0x17b82096970>, <Reaction EX_cpd00100_e0 at 0x17b40899760>: <ModelCompound cpd00100_e0 at 0x17b82096280>, <Reaction EX_cpd00277_e0 at 0x17b408991c0>: <ModelCompound cpd00277_e0 at 0x17b820a5c70>, <Reaction EX_cpd00104_e0 at 0x17b408999a0>: <ModelCompound cpd00104_e0 at 0x17b820808b0>, <Reaction EX_cpd00099_e0 at 0x17b40899af0>: <ModelCompound cpd00099_e0 at 0x17b45b17c70>, <Reaction EX_cpd11597_e0 at 0x17b408999d0>: <ModelCompound cpd11597_e0 at 0x17b8304d8e0>}\n",
      "\n",
      "MU score:\t\t\tThe fraction of solutions in which each member is the syntrophic receiver that contain a respective metabolite:\n",
      "\n",
      "{'Bacillus_sp._bc15.RAST.fbamodel': {},\n",
      " 'Sphingobium_AP49_pacbio_v2.RAST.fbamodel': {}}\n"
     ]
    },
    {
     "name": "stderr",
     "output_type": "stream",
     "text": [
      "C:\\Users\\Andrew Freiburger\\AppData\\Local\\Programs\\Python\\Python39\\lib\\site-packages\\cobra\\util\\solver.py:554: UserWarning: Solver status is 'infeasible'.\n",
      "  warn(f\"Solver status is '{status}'.\", UserWarning)\n"
     ]
    },
    {
     "data": {
      "text/plain": [
       "{'Sphingobium_AP49_pacbio_v2.RAST.fbamodel': {},\n",
       " 'Bacillus_sp._bc15.RAST.fbamodel': {}}"
      ]
     },
     "execution_count": 3,
     "metadata": {},
     "output_type": "execute_result"
    }
   ],
   "source": [
    "%run ../../../modelseedpy/community/mssmetana.py\n",
    "comm = MSSmetana([AP49, BC15], AP49_BC15_model)\n",
    "comm.mu_score()"
   ]
  },
  {
   "cell_type": "code",
   "execution_count": null,
   "id": "dc962f01-7272-43ed-82c6-a70fd55a2fbb",
   "metadata": {
    "scrolled": true,
    "tags": []
   },
   "outputs": [],
   "source": [
    "%run ../../../modelseedpy/community/mssmetana.py\n",
    "comm.mp = {'Sphingobium_AP49_pacbio_v2.RAST.fbamodel': {'cpd00797_e0', 'cpd00036_e0', 'cpd00116_e0', 'cpd03279_e0', 'cpd00053_e0', 'cpd00013_e0', 'cpd00412_e0', 'cpd00023_e0', 'cpd00276_e0', 'cpd00182_e0', 'cpd00438_e0', 'cpd00122_e0', 'cpd00184_e0', \n",
    "                                                        'cpd00246_e0', 'cpd00084_e0', 'cpd00249_e0', 'cpd00033_e0', 'cpd00060_e0', 'cpd00075_e0', 'cpd00039_e0', 'cpd00067_e0', 'cpd00011_e0', 'cpd00137_e0', 'cpd00588_e0', 'cpd00054_e0', 'cpd00001_e0', \n",
    "                                                        'cpd00041_e0', 'cpd00129_e0', 'cpd00161_e0', 'cpd00138_e0', 'cpd00132_e0'}, \n",
    "           'Bacillus_sp._bc15.RAST.fbamodel': {'cpd00064_e0', 'cpd00797_e0', 'cpd03279_e0', 'cpd00130_e0', 'cpd00116_e0', 'cpd00053_e0', 'cpd00013_e0', 'cpd00012_e0', 'cpd00412_e0', 'cpd00023_e0', 'cpd00276_e0', 'cpd00142_e0', 'cpd00309_e0', 'cpd00182_e0', \n",
    "                                               'cpd00438_e0', 'cpd00092_e0', 'cpd00122_e0', 'cpd00184_e0', 'cpd00246_e0', 'cpd00159_e0', 'cpd00084_e0', 'cpd00082_e0', 'cpd00249_e0', 'cpd00033_e0', 'cpd00060_e0', 'cpd00075_e0', 'cpd00039_e0', 'cpd00226_e0', \n",
    "                                               'cpd00047_e0', 'cpd00067_e0', 'cpd00080_e0', 'cpd00011_e0', 'cpd00137_e0', 'cpd00100_e0', 'cpd00073_e0', 'cpd00180_e0', 'cpd00117_e0', 'cpd00054_e0', 'cpd00001_e0', 'cpd00009_e0', 'cpd00041_e0', 'cpd00129_e0', \n",
    "                                               'cpd00161_e0', 'cpd00138_e0', 'cpd00218_e0', 'cpd00132_e0'}}\n",
    "comm.mu_score()"
   ]
  },
  {
   "cell_type": "code",
   "execution_count": null,
   "id": "e895f00d-9595-420d-a43e-ddb7d27ff446",
   "metadata": {},
   "outputs": [],
   "source": [
    "%time comm.mro_score()"
   ]
  },
  {
   "cell_type": "code",
   "execution_count": null,
   "id": "6181fa52-d67b-4604-9a7a-d9326268f64d",
   "metadata": {
    "scrolled": true,
    "tags": []
   },
   "outputs": [],
   "source": [
    "%run ../../../modelseedpy/community/mssmetana.py\n",
    "comm = MSSmetana([AP49, BC15], AP49_BC15_model)\n",
    "# %time comm.mip_score()"
   ]
  },
  {
   "cell_type": "code",
   "execution_count": null,
   "id": "e65947a8-5daf-4c5e-a324-12e737ede57b",
   "metadata": {},
   "outputs": [],
   "source": [
    "# %run ../../../modelseedpy/community/mssmetana.py\n",
    "# comm = MSSmetana([AP49, BC15], AP49_BC15_model)\n",
    "%time comm.sc_score()"
   ]
  },
  {
   "cell_type": "markdown",
   "id": "e6fe1266-fc52-4456-8ba7-4a11946f7d93",
   "metadata": {},
   "source": [
    "# test community pairs"
   ]
  },
  {
   "cell_type": "code",
   "execution_count": 3,
   "id": "50c765dd-fd77-41ed-ab78-7e8d76661577",
   "metadata": {},
   "outputs": [],
   "source": [
    "from modelseedpy.core.exceptions import ModelError\n",
    "def test_pair(member1, member2, community):\n",
    "    try:\n",
    "        start_time = process_time()\n",
    "        comm = MSSmetana([member1, member2], community)\n",
    "        comm.all_scores()\n",
    "        end_time = process_time()\n",
    "\n",
    "        print(f\"The {member1.id}_{member2.id} pair has been examined after {(end_time-start_time)/60} minutes.\")\n",
    "    except (ObjectiveError, ModelError, NameError) as e:\n",
    "        print(f\"\\n\\nERROR:{e}\")"
   ]
  },
  {
   "cell_type": "markdown",
   "id": "8360ebf9-06bc-4e89-92ee-e959abf06e5e",
   "metadata": {},
   "source": [
    "# \"+\" interactions"
   ]
  },
  {
   "cell_type": "markdown",
   "id": "8ab7c386-e429-4e48-9b0a-c245398d0298",
   "metadata": {},
   "source": [
    "## YR343 on CF142"
   ]
  },
  {
   "cell_type": "code",
   "execution_count": 3,
   "id": "64338cc5-8d9e-4de0-a7e8-f50b6b0697b0",
   "metadata": {
    "tags": []
   },
   "outputs": [],
   "source": [
    "# from cobra.medium import minimal_medium\n",
    "# media = minimal_medium(YR343, minimize_components=True).to_dict()"
   ]
  },
  {
   "cell_type": "code",
   "execution_count": 4,
   "id": "e89faf27-d147-489e-b76a-29c12aced5d1",
   "metadata": {
    "tags": []
   },
   "outputs": [],
   "source": [
    "# print(media)\n",
    "# for cpd in media:\n",
    "#     print(cpd)"
   ]
  },
  {
   "cell_type": "code",
   "execution_count": 5,
   "id": "0799cf60-f276-49d9-bd4e-c966bc1d4464",
   "metadata": {},
   "outputs": [
    {
     "name": "stdout",
     "output_type": "stream",
     "text": [
      "<Solution 181.758 at 0x23e640ebd30>\n"
     ]
    },
    {
     "name": "stderr",
     "output_type": "stream",
     "text": [
      "modelseedpy.community.mscompatibility - WARNING - IDWarning: The original ID cpd00609_e0 is a ModelSEED ID, and may not be desirably changed to cpd00609_e0.\n"
     ]
    },
    {
     "name": "stdout",
     "output_type": "stream",
     "text": [
      "\n",
      "\n",
      "0 reactions were substituted and 1 metabolite IDs were redefined in Pantoea_YR343_pacbio_v2.RAST.fbamodel,Rhizobium_CF142_pacbio_v2.RAST.fbamodel by standardize().\n",
      "\n",
      "\n",
      "ERROR:The model Rhizobium_CF142_pacbio_v2.RAST.fbamodel possesses an objective value of 0 in complete media, which is incompatible with minimal media computations and hence SMETANA.\n",
      "CPU times: total: 6.5 s\n",
      "Wall time: 7.71 s\n"
     ]
    }
   ],
   "source": [
    "%%time\n",
    "\n",
    "# load the pair\n",
    "YR343 = kbase_api.get_from_ws(\"Pantoea_YR343_pacbio_v2.RAST.fbamodel\", 114731)\n",
    "print(YR343.optimize())\n",
    "CF142 = kbase_api.get_from_ws(\"Rhizobium_CF142_pacbio_v2.RAST.fbamodel\", 114731)\n",
    "YR343_CF142_model = kbase_api.get_from_ws(\"YR343-CF142\", 114731)\n",
    "test_pair(YR343, CF142, YR343_CF142_model)"
   ]
  },
  {
   "cell_type": "markdown",
   "id": "faf8cc78-5a42-4de5-94d3-19f9197099f9",
   "metadata": {},
   "source": [
    "## YR343 on CF313"
   ]
  },
  {
   "cell_type": "code",
   "execution_count": 6,
   "id": "6134aeb7-da5b-4f63-9db6-905594ed016d",
   "metadata": {
    "tags": []
   },
   "outputs": [],
   "source": [
    "# load the pair\n",
    "CF313 = kbase_api.get_from_ws(\"Variovorax_CF313_pacbio_v2.RAST.fbamodel\",114731)\n",
    "YR343_CF313_model = kbase_api.get_from_ws(\"YR343-CF313\",114731)"
   ]
  },
  {
   "cell_type": "code",
   "execution_count": 7,
   "id": "000a750d-e228-4a54-b5b1-8183ccc85cfd",
   "metadata": {},
   "outputs": [
    {
     "name": "stderr",
     "output_type": "stream",
     "text": [
      "modelseedpy.community.mscompatibility - WARNING - IDWarning: The original ID cpd00609_e0 is a ModelSEED ID, and may not be desirably changed to cpd00609_e0.\n"
     ]
    },
    {
     "name": "stdout",
     "output_type": "stream",
     "text": [
      "\n",
      "\n",
      "0 reactions were substituted and 1 metabolite IDs were redefined in Pantoea_YR343_pacbio_v2.RAST.fbamodel,Variovorax_CF313_pacbio_v2.RAST.fbamodel by standardize().\n",
      "com_mdeia_est\n",
      "<Solution 181.758 at 0x23e70ee55e0>\n"
     ]
    },
    {
     "name": "stderr",
     "output_type": "stream",
     "text": [
      "C:\\Users\\Andrew Freiburger\\AppData\\Local\\Programs\\Python\\Python39\\lib\\site-packages\\cobra\\medium\\minimal_medium.py:112: FutureWarning: The default dtype for empty Series will be 'object' instead of 'float64' in a future version. Specify a dtype explicitly to silence this warning.\n",
      "  medium = pd.Series()\n"
     ]
    },
    {
     "name": "stdout",
     "output_type": "stream",
     "text": [
      "<Solution 133.789 at 0x23e72e66e80>\n"
     ]
    },
    {
     "name": "stderr",
     "output_type": "stream",
     "text": [
      "C:\\Users\\Andrew Freiburger\\AppData\\Local\\Programs\\Python\\Python39\\lib\\site-packages\\cobra\\medium\\minimal_medium.py:112: FutureWarning: The default dtype for empty Series will be 'object' instead of 'float64' in a future version. Specify a dtype explicitly to silence this warning.\n",
      "  medium = pd.Series()\n",
      "C:\\Users\\Andrew Freiburger\\AppData\\Local\\Programs\\Python\\Python39\\lib\\site-packages\\cobra\\medium\\minimal_medium.py:112: FutureWarning: The default dtype for empty Series will be 'object' instead of 'float64' in a future version. Specify a dtype explicitly to silence this warning.\n",
      "  medium = pd.Series()\n"
     ]
    },
    {
     "name": "stdout",
     "output_type": "stream",
     "text": [
      "\n",
      "The Pantoea_YR343_pacbio_v2.RAST.fbamodel on Variovorax_CF313_pacbio_v2.RAST.fbamodel) MRO score: 1.0 (100.00%). This is the percent of nutritional requirements in Pantoea_YR343_pacbio_v2.RAST.fbamodel that overlap with Variovorax_CF313_pacbio_v2.RAST.fbamodel) (17/17).\n",
      "\n",
      "The Variovorax_CF313_pacbio_v2.RAST.fbamodel on Pantoea_YR343_pacbio_v2.RAST.fbamodel) MRO score: 0.8947368421052632 (89.47%). This is the percent of nutritional requirements in Variovorax_CF313_pacbio_v2.RAST.fbamodel that overlap with Pantoea_YR343_pacbio_v2.RAST.fbamodel) (17/19).\n"
     ]
    },
    {
     "name": "stderr",
     "output_type": "stream",
     "text": [
      "ic| mssmetana.py:30 in _load_models()\n",
      "    member_models: [<FBAModel Pantoea_YR343_pacbio_v2.RAST.fbamodel at 0x23e79169af0>,\n",
      "                    <FBAModel Variovorax_CF313_pacbio_v2.RAST.fbamodel at 0x23e6ee00850>]\n",
      "    com_model: <FBAModel YR343-CF313 at 0x23e698f3250>\n",
      "    compatibilize: False\n",
      "C:\\Users\\Andrew Freiburger\\AppData\\Local\\Programs\\Python\\Python39\\lib\\site-packages\\cobra\\medium\\minimal_medium.py:112: FutureWarning: The default dtype for empty Series will be 'object' instead of 'float64' in a future version. Specify a dtype explicitly to silence this warning.\n",
      "  medium = pd.Series()\n"
     ]
    },
    {
     "name": "stdout",
     "output_type": "stream",
     "text": [
      "{}\n",
      "\n",
      "MIP score: 0\t\t\t0 required compound(s) can be sourced via syntrophy:\n",
      "executing MP\n"
     ]
    },
    {
     "name": "stderr",
     "output_type": "stream",
     "text": [
      "modelseedpy.community.mscompatibility - WARNING - IDWarning: The original ID cpd00609_e0 is a ModelSEED ID, and may not be desirably changed to cpd00609_e0.\n"
     ]
    },
    {
     "name": "stdout",
     "output_type": "stream",
     "text": [
      "\n",
      "\n",
      "0 reactions were substituted and 1 metabolite IDs were redefined in YR343-CF313 by standardize().\n",
      "The minimal flux media consists of 54 compounds and a 14729.392761887419 total influx, with a growth value of 126.9271985110037\n",
      "\n",
      "\n",
      "\n",
      "Standardize exchange reactions in Pantoea_YR343_pacbio_v2.RAST.fbamodel \n",
      " ==========================================================================\n",
      "The exchange  metabolite ID's of the model Pantoea_YR343_pacbio_v2.RAST.fbamodel are completely standardized to ModelSEED.\n"
     ]
    },
    {
     "name": "stderr",
     "output_type": "stream",
     "text": [
      "C:\\Users\\Andrew Freiburger\\AppData\\Local\\Programs\\Python\\Python39\\lib\\site-packages\\cobra\\core\\reaction.py:761: DeprecationWarning: Please use reaction.flux instead.\n",
      "  warn(\"Please use reaction.flux instead.\", DeprecationWarning)\n",
      "C:\\Users\\Andrew Freiburger\\AppData\\Local\\Programs\\Python\\Python39\\lib\\site-packages\\cobra\\core\\reaction.py:779: DeprecationWarning: Please use reaction.reduced_cost instead.\n",
      "  warn(\"Please use reaction.reduced_cost instead.\", DeprecationWarning)\n",
      "C:\\Users\\Andrew Freiburger\\AppData\\Local\\Programs\\Python\\Python39\\lib\\site-packages\\cobra\\core\\metabolite.py:207: DeprecationWarning: Please use metabolite.shadow_price instead.\n",
      "  warn(\"Please use metabolite.shadow_price instead.\", DeprecationWarning)\n",
      "C:\\Users\\Andrew Freiburger\\AppData\\Local\\Programs\\Python\\Python39\\lib\\site-packages\\cobra\\core\\metabolite.py:191: UserWarning: The element 'R' does not appear in the periodic table\n",
      "  warn(f\"The element {e} does not appear in the periodic table\")\n"
     ]
    },
    {
     "name": "stdout",
     "output_type": "stream",
     "text": [
      "remaining possible_contributions 85\r"
     ]
    },
    {
     "name": "stderr",
     "output_type": "stream",
     "text": [
      "C:\\Users\\Andrew Freiburger\\AppData\\Local\\Programs\\Python\\Python39\\lib\\site-packages\\cobra\\core\\reaction.py:761: DeprecationWarning: Please use reaction.flux instead.\n",
      "  warn(\"Please use reaction.flux instead.\", DeprecationWarning)\n",
      "C:\\Users\\Andrew Freiburger\\AppData\\Local\\Programs\\Python\\Python39\\lib\\site-packages\\cobra\\core\\reaction.py:779: DeprecationWarning: Please use reaction.reduced_cost instead.\n",
      "  warn(\"Please use reaction.reduced_cost instead.\", DeprecationWarning)\n",
      "C:\\Users\\Andrew Freiburger\\AppData\\Local\\Programs\\Python\\Python39\\lib\\site-packages\\cobra\\core\\metabolite.py:207: DeprecationWarning: Please use metabolite.shadow_price instead.\n",
      "  warn(\"Please use metabolite.shadow_price instead.\", DeprecationWarning)\n",
      "C:\\Users\\Andrew Freiburger\\AppData\\Local\\Programs\\Python\\Python39\\lib\\site-packages\\cobra\\core\\metabolite.py:191: UserWarning: The element 'R' does not appear in the periodic table\n",
      "  warn(f\"The element {e} does not appear in the periodic table\")\n"
     ]
    },
    {
     "name": "stdout",
     "output_type": "stream",
     "text": [
      "remaining possible_contributions 83\r"
     ]
    },
    {
     "name": "stderr",
     "output_type": "stream",
     "text": [
      "C:\\Users\\Andrew Freiburger\\AppData\\Local\\Programs\\Python\\Python39\\lib\\site-packages\\cobra\\core\\reaction.py:761: DeprecationWarning: Please use reaction.flux instead.\n",
      "  warn(\"Please use reaction.flux instead.\", DeprecationWarning)\n",
      "C:\\Users\\Andrew Freiburger\\AppData\\Local\\Programs\\Python\\Python39\\lib\\site-packages\\cobra\\core\\reaction.py:779: DeprecationWarning: Please use reaction.reduced_cost instead.\n",
      "  warn(\"Please use reaction.reduced_cost instead.\", DeprecationWarning)\n",
      "C:\\Users\\Andrew Freiburger\\AppData\\Local\\Programs\\Python\\Python39\\lib\\site-packages\\cobra\\core\\metabolite.py:207: DeprecationWarning: Please use metabolite.shadow_price instead.\n",
      "  warn(\"Please use metabolite.shadow_price instead.\", DeprecationWarning)\n"
     ]
    },
    {
     "name": "stdout",
     "output_type": "stream",
     "text": [
      "remaining possible_contributions 82\n",
      "\n",
      "\n",
      "Standardize exchange reactions in Variovorax_CF313_pacbio_v2.RAST.fbamodel \n",
      " =============================================================================\n",
      "The exchange  metabolite ID's of the model Variovorax_CF313_pacbio_v2.RAST.fbamodel are completely standardized to ModelSEED.\n"
     ]
    },
    {
     "name": "stderr",
     "output_type": "stream",
     "text": [
      "C:\\Users\\Andrew Freiburger\\AppData\\Local\\Programs\\Python\\Python39\\lib\\site-packages\\cobra\\core\\reaction.py:761: DeprecationWarning: Please use reaction.flux instead.\n",
      "  warn(\"Please use reaction.flux instead.\", DeprecationWarning)\n",
      "C:\\Users\\Andrew Freiburger\\AppData\\Local\\Programs\\Python\\Python39\\lib\\site-packages\\cobra\\core\\reaction.py:779: DeprecationWarning: Please use reaction.reduced_cost instead.\n",
      "  warn(\"Please use reaction.reduced_cost instead.\", DeprecationWarning)\n",
      "C:\\Users\\Andrew Freiburger\\AppData\\Local\\Programs\\Python\\Python39\\lib\\site-packages\\cobra\\core\\metabolite.py:207: DeprecationWarning: Please use metabolite.shadow_price instead.\n",
      "  warn(\"Please use metabolite.shadow_price instead.\", DeprecationWarning)\n",
      "C:\\Users\\Andrew Freiburger\\AppData\\Local\\Programs\\Python\\Python39\\lib\\site-packages\\cobra\\core\\metabolite.py:191: UserWarning: The element 'R' does not appear in the periodic table\n",
      "  warn(f\"The element {e} does not appear in the periodic table\")\n"
     ]
    },
    {
     "name": "stdout",
     "output_type": "stream",
     "text": [
      "remaining possible_contributions 56\r"
     ]
    },
    {
     "name": "stderr",
     "output_type": "stream",
     "text": [
      "C:\\Users\\Andrew Freiburger\\AppData\\Local\\Programs\\Python\\Python39\\lib\\site-packages\\cobra\\core\\reaction.py:761: DeprecationWarning: Please use reaction.flux instead.\n",
      "  warn(\"Please use reaction.flux instead.\", DeprecationWarning)\n",
      "C:\\Users\\Andrew Freiburger\\AppData\\Local\\Programs\\Python\\Python39\\lib\\site-packages\\cobra\\core\\reaction.py:779: DeprecationWarning: Please use reaction.reduced_cost instead.\n",
      "  warn(\"Please use reaction.reduced_cost instead.\", DeprecationWarning)\n",
      "C:\\Users\\Andrew Freiburger\\AppData\\Local\\Programs\\Python\\Python39\\lib\\site-packages\\cobra\\core\\metabolite.py:207: DeprecationWarning: Please use metabolite.shadow_price instead.\n",
      "  warn(\"Please use metabolite.shadow_price instead.\", DeprecationWarning)\n"
     ]
    },
    {
     "name": "stdout",
     "output_type": "stream",
     "text": [
      "remaining possible_contributions 55\n",
      "MP score:\t\t\tEach member can possibly contribute the following to the community:\n",
      "\n",
      "Pantoea_YR343_pacbio_v2.RAST.fbamodel \t 35\n",
      "Variovorax_CF313_pacbio_v2.RAST.fbamodel \t 20\n",
      "The Pantoea_YR343_pacbio_v2.RAST.fbamodel_Variovorax_CF313_pacbio_v2.RAST.fbamodel pair has been examined after 16.548697916666665 minutes.\n",
      "CPU times: total: 16min 32s\n",
      "Wall time: 16min 39s\n"
     ]
    }
   ],
   "source": [
    "%%time\n",
    "\n",
    "# %run ../../../modelseedpy/core/msminimalmedia.py\n",
    "# %time media = MSMinimalMedia.minimize_components(CF313)\n",
    "# print(len(media), media)\n",
    "test_pair(YR343, CF313, YR343_CF313_model)"
   ]
  },
  {
   "cell_type": "markdown",
   "id": "bec52dc1-3813-4dd2-b44e-b9ad1aab157b",
   "metadata": {},
   "source": [
    "## AP49 on BC15"
   ]
  },
  {
   "cell_type": "code",
   "execution_count": 8,
   "id": "1d88e69f-0cc8-4499-bae9-fbe79a0a639d",
   "metadata": {
    "tags": []
   },
   "outputs": [
    {
     "name": "stdout",
     "output_type": "stream",
     "text": [
      "The exchange  metabolite ID's of the model Sphingobium_AP49_pacbio_v2.RAST.fbamodel,Bacillus_sp._bc15.RAST.fbamodel are completely standardized to ModelSEED.\n",
      "com_mdeia_est\n",
      "<Solution 59.661 at 0x2411e70f7f0>\n"
     ]
    },
    {
     "name": "stderr",
     "output_type": "stream",
     "text": [
      "C:\\Users\\Andrew Freiburger\\AppData\\Local\\Programs\\Python\\Python39\\lib\\site-packages\\cobra\\medium\\minimal_medium.py:112: FutureWarning: The default dtype for empty Series will be 'object' instead of 'float64' in a future version. Specify a dtype explicitly to silence this warning.\n",
      "  medium = pd.Series()\n"
     ]
    },
    {
     "name": "stdout",
     "output_type": "stream",
     "text": [
      "<Solution 169.734 at 0x2416b47ebb0>\n"
     ]
    },
    {
     "name": "stderr",
     "output_type": "stream",
     "text": [
      "C:\\Users\\Andrew Freiburger\\AppData\\Local\\Programs\\Python\\Python39\\lib\\site-packages\\cobra\\medium\\minimal_medium.py:112: FutureWarning: The default dtype for empty Series will be 'object' instead of 'float64' in a future version. Specify a dtype explicitly to silence this warning.\n",
      "  medium = pd.Series()\n",
      "C:\\Users\\Andrew Freiburger\\AppData\\Local\\Programs\\Python\\Python39\\lib\\site-packages\\cobra\\medium\\minimal_medium.py:112: FutureWarning: The default dtype for empty Series will be 'object' instead of 'float64' in a future version. Specify a dtype explicitly to silence this warning.\n",
      "  medium = pd.Series()\n",
      "ic| mssmetana.py:30 in _load_models()\n",
      "    member_models: [<FBAModel Sphingobium_AP49_pacbio_v2.RAST.fbamodel at 0x24001263070>,\n",
      "                    <FBAModel Bacillus_sp._bc15.RAST.fbamodel at 0x24084cbb370>]\n",
      "    com_model: <FBAModel AP49-BC15 at 0x23e6cfbbd30>\n",
      "    compatibilize: False\n"
     ]
    },
    {
     "name": "stdout",
     "output_type": "stream",
     "text": [
      "\n",
      "The Sphingobium_AP49_pacbio_v2.RAST.fbamodel on Bacillus_sp._bc15.RAST.fbamodel) MRO score: 0.7619047619047619 (76.19%). This is the percent of nutritional requirements in Sphingobium_AP49_pacbio_v2.RAST.fbamodel that overlap with Bacillus_sp._bc15.RAST.fbamodel) (16/21).\n",
      "\n",
      "The Bacillus_sp._bc15.RAST.fbamodel on Sphingobium_AP49_pacbio_v2.RAST.fbamodel) MRO score: 0.8 (80.00%). This is the percent of nutritional requirements in Bacillus_sp._bc15.RAST.fbamodel that overlap with Sphingobium_AP49_pacbio_v2.RAST.fbamodel) (16/20).\n"
     ]
    },
    {
     "name": "stderr",
     "output_type": "stream",
     "text": [
      "C:\\Users\\Andrew Freiburger\\AppData\\Local\\Programs\\Python\\Python39\\lib\\site-packages\\cobra\\medium\\minimal_medium.py:112: FutureWarning: The default dtype for empty Series will be 'object' instead of 'float64' in a future version. Specify a dtype explicitly to silence this warning.\n",
      "  medium = pd.Series()\n"
     ]
    },
    {
     "name": "stdout",
     "output_type": "stream",
     "text": [
      "{}\n",
      "\n",
      "MIP score: 0\t\t\t0 required compound(s) can be sourced via syntrophy:\n",
      "executing MP\n",
      "The exchange  metabolite ID's of the model AP49-BC15 are completely standardized to ModelSEED.\n",
      "The minimal flux media consists of 39 compounds and a 2387.771426877245 total influx, with a growth value of 59.661439174857776\n",
      "\n",
      "\n",
      "\n",
      "Standardize exchange reactions in Sphingobium_AP49_pacbio_v2.RAST.fbamodel \n",
      " =============================================================================\n",
      "The exchange  metabolite ID's of the model Sphingobium_AP49_pacbio_v2.RAST.fbamodel are completely standardized to ModelSEED.\n"
     ]
    },
    {
     "name": "stderr",
     "output_type": "stream",
     "text": [
      "C:\\Users\\Andrew Freiburger\\AppData\\Local\\Programs\\Python\\Python39\\lib\\site-packages\\cobra\\core\\reaction.py:761: DeprecationWarning: Please use reaction.flux instead.\n",
      "  warn(\"Please use reaction.flux instead.\", DeprecationWarning)\n",
      "C:\\Users\\Andrew Freiburger\\AppData\\Local\\Programs\\Python\\Python39\\lib\\site-packages\\cobra\\core\\reaction.py:779: DeprecationWarning: Please use reaction.reduced_cost instead.\n",
      "  warn(\"Please use reaction.reduced_cost instead.\", DeprecationWarning)\n",
      "C:\\Users\\Andrew Freiburger\\AppData\\Local\\Programs\\Python\\Python39\\lib\\site-packages\\cobra\\core\\metabolite.py:207: DeprecationWarning: Please use metabolite.shadow_price instead.\n",
      "  warn(\"Please use metabolite.shadow_price instead.\", DeprecationWarning)\n",
      "C:\\Users\\Andrew Freiburger\\AppData\\Local\\Programs\\Python\\Python39\\lib\\site-packages\\cobra\\core\\metabolite.py:191: UserWarning: The element 'R' does not appear in the periodic table\n",
      "  warn(f\"The element {e} does not appear in the periodic table\")\n"
     ]
    },
    {
     "name": "stdout",
     "output_type": "stream",
     "text": [
      "remaining possible_contributions 54\r"
     ]
    },
    {
     "name": "stderr",
     "output_type": "stream",
     "text": [
      "C:\\Users\\Andrew Freiburger\\AppData\\Local\\Programs\\Python\\Python39\\lib\\site-packages\\cobra\\core\\reaction.py:761: DeprecationWarning: Please use reaction.flux instead.\n",
      "  warn(\"Please use reaction.flux instead.\", DeprecationWarning)\n",
      "C:\\Users\\Andrew Freiburger\\AppData\\Local\\Programs\\Python\\Python39\\lib\\site-packages\\cobra\\core\\reaction.py:779: DeprecationWarning: Please use reaction.reduced_cost instead.\n",
      "  warn(\"Please use reaction.reduced_cost instead.\", DeprecationWarning)\n",
      "C:\\Users\\Andrew Freiburger\\AppData\\Local\\Programs\\Python\\Python39\\lib\\site-packages\\cobra\\core\\metabolite.py:207: DeprecationWarning: Please use metabolite.shadow_price instead.\n",
      "  warn(\"Please use metabolite.shadow_price instead.\", DeprecationWarning)\n",
      "C:\\Users\\Andrew Freiburger\\AppData\\Local\\Programs\\Python\\Python39\\lib\\site-packages\\cobra\\core\\metabolite.py:191: UserWarning: The element 'R' does not appear in the periodic table\n",
      "  warn(f\"The element {e} does not appear in the periodic table\")\n"
     ]
    },
    {
     "name": "stdout",
     "output_type": "stream",
     "text": [
      "remaining possible_contributions 47\r"
     ]
    },
    {
     "name": "stderr",
     "output_type": "stream",
     "text": [
      "C:\\Users\\Andrew Freiburger\\AppData\\Local\\Programs\\Python\\Python39\\lib\\site-packages\\cobra\\core\\reaction.py:761: DeprecationWarning: Please use reaction.flux instead.\n",
      "  warn(\"Please use reaction.flux instead.\", DeprecationWarning)\n",
      "C:\\Users\\Andrew Freiburger\\AppData\\Local\\Programs\\Python\\Python39\\lib\\site-packages\\cobra\\core\\reaction.py:779: DeprecationWarning: Please use reaction.reduced_cost instead.\n",
      "  warn(\"Please use reaction.reduced_cost instead.\", DeprecationWarning)\n",
      "C:\\Users\\Andrew Freiburger\\AppData\\Local\\Programs\\Python\\Python39\\lib\\site-packages\\cobra\\core\\metabolite.py:207: DeprecationWarning: Please use metabolite.shadow_price instead.\n",
      "  warn(\"Please use metabolite.shadow_price instead.\", DeprecationWarning)\n",
      "C:\\Users\\Andrew Freiburger\\AppData\\Local\\Programs\\Python\\Python39\\lib\\site-packages\\cobra\\core\\metabolite.py:191: UserWarning: The element 'R' does not appear in the periodic table\n",
      "  warn(f\"The element {e} does not appear in the periodic table\")\n"
     ]
    },
    {
     "name": "stdout",
     "output_type": "stream",
     "text": [
      "remaining possible_contributions 44\r"
     ]
    },
    {
     "name": "stderr",
     "output_type": "stream",
     "text": [
      "C:\\Users\\Andrew Freiburger\\AppData\\Local\\Programs\\Python\\Python39\\lib\\site-packages\\cobra\\core\\reaction.py:761: DeprecationWarning: Please use reaction.flux instead.\n",
      "  warn(\"Please use reaction.flux instead.\", DeprecationWarning)\n",
      "C:\\Users\\Andrew Freiburger\\AppData\\Local\\Programs\\Python\\Python39\\lib\\site-packages\\cobra\\core\\reaction.py:779: DeprecationWarning: Please use reaction.reduced_cost instead.\n",
      "  warn(\"Please use reaction.reduced_cost instead.\", DeprecationWarning)\n",
      "C:\\Users\\Andrew Freiburger\\AppData\\Local\\Programs\\Python\\Python39\\lib\\site-packages\\cobra\\core\\metabolite.py:207: DeprecationWarning: Please use metabolite.shadow_price instead.\n",
      "  warn(\"Please use metabolite.shadow_price instead.\", DeprecationWarning)\n"
     ]
    },
    {
     "name": "stdout",
     "output_type": "stream",
     "text": [
      "remaining possible_contributions 43\r"
     ]
    },
    {
     "name": "stderr",
     "output_type": "stream",
     "text": [
      "C:\\Users\\Andrew Freiburger\\AppData\\Local\\Programs\\Python\\Python39\\lib\\site-packages\\cobra\\core\\reaction.py:761: DeprecationWarning: Please use reaction.flux instead.\n",
      "  warn(\"Please use reaction.flux instead.\", DeprecationWarning)\n",
      "C:\\Users\\Andrew Freiburger\\AppData\\Local\\Programs\\Python\\Python39\\lib\\site-packages\\cobra\\core\\reaction.py:779: DeprecationWarning: Please use reaction.reduced_cost instead.\n",
      "  warn(\"Please use reaction.reduced_cost instead.\", DeprecationWarning)\n",
      "C:\\Users\\Andrew Freiburger\\AppData\\Local\\Programs\\Python\\Python39\\lib\\site-packages\\cobra\\core\\metabolite.py:207: DeprecationWarning: Please use metabolite.shadow_price instead.\n",
      "  warn(\"Please use metabolite.shadow_price instead.\", DeprecationWarning)\n",
      "C:\\Users\\Andrew Freiburger\\AppData\\Local\\Programs\\Python\\Python39\\lib\\site-packages\\cobra\\core\\metabolite.py:191: UserWarning: The element 'R' does not appear in the periodic table\n",
      "  warn(f\"The element {e} does not appear in the periodic table\")\n"
     ]
    },
    {
     "name": "stdout",
     "output_type": "stream",
     "text": [
      "remaining possible_contributions 42\n",
      "\n",
      "\n",
      "Standardize exchange reactions in Bacillus_sp._bc15.RAST.fbamodel \n",
      " ====================================================================\n",
      "The exchange  metabolite ID's of the model Bacillus_sp._bc15.RAST.fbamodel are completely standardized to ModelSEED.\n"
     ]
    },
    {
     "name": "stderr",
     "output_type": "stream",
     "text": [
      "C:\\Users\\Andrew Freiburger\\AppData\\Local\\Programs\\Python\\Python39\\lib\\site-packages\\cobra\\core\\reaction.py:761: DeprecationWarning: Please use reaction.flux instead.\n",
      "  warn(\"Please use reaction.flux instead.\", DeprecationWarning)\n",
      "C:\\Users\\Andrew Freiburger\\AppData\\Local\\Programs\\Python\\Python39\\lib\\site-packages\\cobra\\core\\reaction.py:779: DeprecationWarning: Please use reaction.reduced_cost instead.\n",
      "  warn(\"Please use reaction.reduced_cost instead.\", DeprecationWarning)\n",
      "C:\\Users\\Andrew Freiburger\\AppData\\Local\\Programs\\Python\\Python39\\lib\\site-packages\\cobra\\core\\metabolite.py:207: DeprecationWarning: Please use metabolite.shadow_price instead.\n",
      "  warn(\"Please use metabolite.shadow_price instead.\", DeprecationWarning)\n"
     ]
    },
    {
     "name": "stdout",
     "output_type": "stream",
     "text": [
      "remaining possible_contributions 65\r"
     ]
    },
    {
     "name": "stderr",
     "output_type": "stream",
     "text": [
      "C:\\Users\\Andrew Freiburger\\AppData\\Local\\Programs\\Python\\Python39\\lib\\site-packages\\cobra\\core\\reaction.py:761: DeprecationWarning: Please use reaction.flux instead.\n",
      "  warn(\"Please use reaction.flux instead.\", DeprecationWarning)\n",
      "C:\\Users\\Andrew Freiburger\\AppData\\Local\\Programs\\Python\\Python39\\lib\\site-packages\\cobra\\core\\reaction.py:779: DeprecationWarning: Please use reaction.reduced_cost instead.\n",
      "  warn(\"Please use reaction.reduced_cost instead.\", DeprecationWarning)\n",
      "C:\\Users\\Andrew Freiburger\\AppData\\Local\\Programs\\Python\\Python39\\lib\\site-packages\\cobra\\core\\metabolite.py:207: DeprecationWarning: Please use metabolite.shadow_price instead.\n",
      "  warn(\"Please use metabolite.shadow_price instead.\", DeprecationWarning)\n"
     ]
    },
    {
     "name": "stdout",
     "output_type": "stream",
     "text": [
      "remaining possible_contributions 50\r"
     ]
    },
    {
     "name": "stderr",
     "output_type": "stream",
     "text": [
      "C:\\Users\\Andrew Freiburger\\AppData\\Local\\Programs\\Python\\Python39\\lib\\site-packages\\cobra\\core\\reaction.py:761: DeprecationWarning: Please use reaction.flux instead.\n",
      "  warn(\"Please use reaction.flux instead.\", DeprecationWarning)\n",
      "C:\\Users\\Andrew Freiburger\\AppData\\Local\\Programs\\Python\\Python39\\lib\\site-packages\\cobra\\core\\reaction.py:779: DeprecationWarning: Please use reaction.reduced_cost instead.\n",
      "  warn(\"Please use reaction.reduced_cost instead.\", DeprecationWarning)\n",
      "C:\\Users\\Andrew Freiburger\\AppData\\Local\\Programs\\Python\\Python39\\lib\\site-packages\\cobra\\core\\metabolite.py:207: DeprecationWarning: Please use metabolite.shadow_price instead.\n",
      "  warn(\"Please use metabolite.shadow_price instead.\", DeprecationWarning)\n"
     ]
    },
    {
     "name": "stdout",
     "output_type": "stream",
     "text": [
      "remaining possible_contributions 49\r"
     ]
    },
    {
     "name": "stderr",
     "output_type": "stream",
     "text": [
      "C:\\Users\\Andrew Freiburger\\AppData\\Local\\Programs\\Python\\Python39\\lib\\site-packages\\cobra\\core\\reaction.py:761: DeprecationWarning: Please use reaction.flux instead.\n",
      "  warn(\"Please use reaction.flux instead.\", DeprecationWarning)\n",
      "C:\\Users\\Andrew Freiburger\\AppData\\Local\\Programs\\Python\\Python39\\lib\\site-packages\\cobra\\core\\reaction.py:779: DeprecationWarning: Please use reaction.reduced_cost instead.\n",
      "  warn(\"Please use reaction.reduced_cost instead.\", DeprecationWarning)\n",
      "C:\\Users\\Andrew Freiburger\\AppData\\Local\\Programs\\Python\\Python39\\lib\\site-packages\\cobra\\core\\metabolite.py:207: DeprecationWarning: Please use metabolite.shadow_price instead.\n",
      "  warn(\"Please use metabolite.shadow_price instead.\", DeprecationWarning)\n"
     ]
    },
    {
     "name": "stdout",
     "output_type": "stream",
     "text": [
      "remaining possible_contributions 48\n",
      "MP score:\t\t\tEach member can possibly contribute the following to the community:\n",
      "\n",
      "Sphingobium_AP49_pacbio_v2.RAST.fbamodel \t 32\n",
      "Bacillus_sp._bc15.RAST.fbamodel \t 47\n",
      "The Sphingobium_AP49_pacbio_v2.RAST.fbamodel_Bacillus_sp._bc15.RAST.fbamodel pair has been examined after 19.786458333333332 minutes.\n"
     ]
    }
   ],
   "source": [
    "AP49 = kbase_api.get_from_ws(\"Sphingobium_AP49_pacbio_v2.RAST.fbamodel\", 114731)\n",
    "BC15 = kbase_api.get_from_ws(\"Bacillus_sp._bc15.RAST.fbamodel\", 114731)\n",
    "AP49_BC15_model = kbase_api.get_from_ws(\"AP49-BC15\", 114731)\n",
    "test_pair(AP49, BC15, AP49_BC15_model)"
   ]
  },
  {
   "cell_type": "markdown",
   "id": "0f3bda29-76c0-41f3-889c-e2ed5bc5649b",
   "metadata": {},
   "source": [
    "## CF142 on BC15"
   ]
  },
  {
   "cell_type": "code",
   "execution_count": 9,
   "id": "6dfbe8da-b8b8-404d-9669-48684ce56d6a",
   "metadata": {},
   "outputs": [
    {
     "name": "stdout",
     "output_type": "stream",
     "text": [
      "The exchange  metabolite ID's of the model Rhizobium_CF142_pacbio_v2.RAST.fbamodel,Bacillus_sp._bc15.RAST.fbamodel are completely standardized to ModelSEED.\n",
      "\n",
      "\n",
      "ERROR:The model Rhizobium_CF142_pacbio_v2.RAST.fbamodel possesses an objective value of 0 in complete media, which is incompatible with minimal media computations and hence SMETANA.\n"
     ]
    }
   ],
   "source": [
    "CF142_BC15_model = kbase_api.get_from_ws(\"CF142-BC15\", 114731)\n",
    "test_pair(CF142, BC15, CF142_BC15_model)"
   ]
  },
  {
   "cell_type": "markdown",
   "id": "fa76d8df-8a9d-489f-95be-23a69c726e28",
   "metadata": {},
   "source": [
    "## CF402 on CF313"
   ]
  },
  {
   "cell_type": "code",
   "execution_count": null,
   "id": "cd6716bb-17d2-43cf-883c-a98346c6a97d",
   "metadata": {
    "tags": []
   },
   "outputs": [],
   "source": [
    "CF402 = kbase_api.get_from_ws(\"Duagnella_sp_CF402.RAST.fbamodel\", 114731)\n",
    "CF313 = kbase_api.get_from_ws(\"Variovorax_CF313_pacbio_v2.RAST.fbamodel\",114731)\n",
    "CF402_CF313_model = kbase_api.get_from_ws(\"CF402-CF313\", 114731)\n",
    "test_pair(CF402, CF313, CF402_CF313_model)"
   ]
  },
  {
   "cell_type": "markdown",
   "id": "0fa7156a-425e-4a79-9332-7836ee1fe0c4",
   "metadata": {},
   "source": [
    "## CF402 on BC15"
   ]
  },
  {
   "cell_type": "code",
   "execution_count": null,
   "id": "c0295b09-5487-41b2-a0e5-8a8183121c58",
   "metadata": {
    "tags": []
   },
   "outputs": [],
   "source": [
    "CF402 = kbase_api.get_from_ws(\"Duagnella_sp_CF402.RAST.fbamodel\", 114731)\n",
    "BC15 = kbase_api.get_from_ws(\"Bacillus_sp._bc15.RAST.fbamodel\", 114731)\n",
    "CF402_BC15_model = kbase_api.get_from_ws(\"CF402-BC15\", 114731)\n",
    "test_pair(CF402, BC15, CF402_BC15_model)"
   ]
  },
  {
   "cell_type": "code",
   "execution_count": null,
   "id": "5021d15b-a50d-40bd-8495-5a9b895e602e",
   "metadata": {
    "tags": []
   },
   "outputs": [],
   "source": [
    "from cobra.medium import minimal_medium\n",
    "display(sorted(list(minimal_medium(CF402, minimize_components=True).keys())))\n",
    "display(sorted(list(minimal_medium(BC15, minimize_components=True).keys())))\n",
    "display(set(list(minimal_medium(BC15, minimize_components=True).keys())) & set(list(minimal_medium(CF402, minimize_components=True).keys())))"
   ]
  },
  {
   "cell_type": "markdown",
   "id": "eaa471cb-ff01-4d27-acca-304dbbd51128",
   "metadata": {},
   "source": [
    "# \"-\" interactions"
   ]
  },
  {
   "cell_type": "markdown",
   "id": "1f84be73-f08d-4625-9c47-b6f0c96abc60",
   "metadata": {},
   "source": [
    "## GM17 on CF142"
   ]
  },
  {
   "cell_type": "code",
   "execution_count": null,
   "id": "d100cb74-4f4c-40b7-aea9-2a3c970b330f",
   "metadata": {
    "tags": []
   },
   "outputs": [],
   "source": [
    "GM17 = kbase_api.get_from_ws(\"Pseudomonas_GM17_pacbio_v2.RAST.fbamodel\", 114731)\n",
    "CF142 = kbase_api.get_from_ws(\"Rhizobium_CF142_pacbio_v2.RAST.fbamodel\", 114731)\n",
    "GM17_CF142_model = kbase_api.get_from_ws(\"GM17-CF142\", 114731)\n",
    "test_pair(GM17, CF142, GM17_CF142_model)"
   ]
  },
  {
   "cell_type": "markdown",
   "id": "565310a6-13c3-40ed-b5dd-d3183e987f3b",
   "metadata": {},
   "source": [
    "## GM17 on BC15"
   ]
  },
  {
   "cell_type": "code",
   "execution_count": null,
   "id": "34b9018e-43f6-43f6-9912-e248e84a52cf",
   "metadata": {
    "tags": []
   },
   "outputs": [],
   "source": [
    "GM17 = kbase_api.get_from_ws(\"Pseudomonas_GM17_pacbio_v2.RAST.fbamodel\", 114731)\n",
    "BC15 = kbase_api.get_from_ws(\"Bacillus_sp._bc15.RAST.fbamodel\", 114731)\n",
    "GM17_BC15_model = kbase_api.get_from_ws(\"GM17-BC15\", 114731)\n",
    "test_pair(GM17, BC15, GM17_BC15_model)"
   ]
  },
  {
   "cell_type": "markdown",
   "id": "e85748b6-7c01-4318-adb9-8ae1a70c5b35",
   "metadata": {},
   "source": [
    "## CF313 on CF142 "
   ]
  },
  {
   "cell_type": "code",
   "execution_count": null,
   "id": "4c9693e5-fe5a-439b-b6a7-d1b32e289142",
   "metadata": {},
   "outputs": [],
   "source": [
    "CF313_CF142_model = kbase_api.get_from_ws(\"CF313-CF142\", 114731)\n",
    "test_pair(CF313, CF142, CF313_CF142_model)"
   ]
  },
  {
   "cell_type": "markdown",
   "id": "b5d4bbf5-a383-486b-aa65-a8b34685f599",
   "metadata": {},
   "source": [
    "## AP07 on AP49"
   ]
  },
  {
   "cell_type": "code",
   "execution_count": null,
   "id": "65b961d3-97af-4b19-8d18-259fe28f3782",
   "metadata": {
    "tags": []
   },
   "outputs": [],
   "source": [
    "AP07 = kbase_api.get_from_ws(\"Caulobacter_AP07_pacbio_v2.RAST.fbamodel\", 114731)\n",
    "AP49 = kbase_api.get_from_ws(\"Sphingobium_AP49_pacbio_v2.RAST.fbamodel\", 114731)\n",
    "AP07_AP49_model = kbase_api.get_from_ws(\"AP07-AP49\", 114731)\n",
    "test_pair(AP07, AP49, AP07_AP49_model)"
   ]
  },
  {
   "cell_type": "markdown",
   "id": "8d3c5529-c99d-4dbf-bac9-340fdfa58471",
   "metadata": {},
   "source": [
    "## CF313 on BT03"
   ]
  },
  {
   "cell_type": "code",
   "execution_count": null,
   "id": "ee85ee54-d40e-4caf-9618-55f3531e600a",
   "metadata": {
    "tags": []
   },
   "outputs": [],
   "source": [
    "BT03 = kbase_api.get_from_ws(\"Burkholderia_sp._BT03.RAST.fbamodel\", 114731)\n",
    "CF313 = kbase_api.get_from_ws(\"Variovorax_CF313_pacbio_v2.RAST.fbamodel\",114731)\n",
    "CF313_BT03_model = kbase_api.get_from_ws(\"CF313-BT03\", 114731)\n",
    "test_pair(CF313, BT03, CF313_BT03_model)"
   ]
  },
  {
   "cell_type": "markdown",
   "id": "8edc8690-81eb-4463-b9ec-babfffbd0ded",
   "metadata": {},
   "source": [
    "## YR139 on CF142"
   ]
  },
  {
   "cell_type": "code",
   "execution_count": null,
   "id": "765f864b-469d-4d4c-a2a3-b7f8ad63276a",
   "metadata": {},
   "outputs": [],
   "source": [
    "YR139 = kbase_api.get_from_ws(\"Streptomyces_YR139_pacbio_v2.RAST.fbamodel\", 114731)\n",
    "YR139_CF142_model = kbase_api.get_from_ws(\"YR139-CF142\", 114731)\n",
    "test_pair(YR139, CF142, YR139_CF142_model)"
   ]
  },
  {
   "cell_type": "markdown",
   "id": "f3527c8d-f068-47b9-a27f-72619a3e9baa",
   "metadata": {},
   "source": [
    "## GM17 on AP49"
   ]
  },
  {
   "cell_type": "code",
   "execution_count": null,
   "id": "88e080a4-06ee-4c4a-85ff-7310f56182c2",
   "metadata": {
    "tags": []
   },
   "outputs": [],
   "source": [
    "GM17_AP49_model = kbase_api.get_from_ws(\"GM17-AP49\", 114731)\n",
    "test_pair(GM17, AP49, GM17_AP49_model)"
   ]
  },
  {
   "cell_type": "markdown",
   "id": "130448d1-0a89-4e32-84d4-9e64a03e46f6",
   "metadata": {},
   "source": [
    "## GM17 on CF313"
   ]
  },
  {
   "cell_type": "code",
   "execution_count": null,
   "id": "2840df27-3843-4d3c-beb9-662bf5c17d3d",
   "metadata": {
    "tags": []
   },
   "outputs": [],
   "source": [
    "GM17_CF313_model = kbase_api.get_from_ws(\"GM17-CF313\", 114731)\n",
    "test_pair(GM17, CF313, GM17_CF313_model)"
   ]
  },
  {
   "cell_type": "markdown",
   "id": "6a8831df-314e-40de-a1cf-d9ec4cf21278",
   "metadata": {},
   "source": [
    "## GM17 on AP07"
   ]
  },
  {
   "cell_type": "code",
   "execution_count": null,
   "id": "f27b805f-2f70-4eea-b352-4d5446e2320b",
   "metadata": {
    "tags": []
   },
   "outputs": [],
   "source": [
    "GM17_AP07_model = kbase_api.get_from_ws(\"GM17-AP07\", 114731)\n",
    "test_pair(GM17, AP07, GM17_AP07_model)"
   ]
  },
  {
   "cell_type": "markdown",
   "id": "09cfc12c-d84c-4a87-836c-5829809c45b4",
   "metadata": {},
   "source": [
    "## GM17 on CF402"
   ]
  },
  {
   "cell_type": "code",
   "execution_count": null,
   "id": "d918a46f-0136-49cd-b72d-5e9f024f977c",
   "metadata": {
    "tags": []
   },
   "outputs": [],
   "source": [
    "GM17_CF402_model = kbase_api.get_from_ws(\"GM17-CF402\", 114731)\n",
    "test_pair(GM17, CF402, GM17_CF402_model)"
   ]
  },
  {
   "cell_type": "markdown",
   "id": "bcfa9f2a-5365-4385-9146-7e0ff4e21c81",
   "metadata": {},
   "source": [
    "## GM17 on BT03"
   ]
  },
  {
   "cell_type": "code",
   "execution_count": null,
   "id": "0bd97df7-4d65-4db8-bd45-969b3c36baab",
   "metadata": {
    "tags": []
   },
   "outputs": [],
   "source": [
    "GM17_BT03_model = kbase_api.get_from_ws(\"GM17-BT03\", 114731)\n",
    "test_pair(GM17, BT03, GM17_BT03_model)"
   ]
  },
  {
   "cell_type": "code",
   "execution_count": null,
   "id": "d9f37d33-045f-4139-bf4c-5bea69b5015a",
   "metadata": {},
   "outputs": [],
   "source": [
    "from cobra.medium import minimal_medium\n",
    "len(minimal_medium(CF402, minimize_components=True))"
   ]
  },
  {
   "cell_type": "markdown",
   "id": "40fbe40e-4209-4052-9e38-27d7678c3cf2",
   "metadata": {},
   "source": [
    "# Statistically process the above results"
   ]
  },
  {
   "cell_type": "markdown",
   "id": "4aafb7df-6069-42e6-a679-8a7ef2f9bd74",
   "metadata": {},
   "source": [
    "## MRO scores"
   ]
  },
  {
   "cell_type": "markdown",
   "id": "ccf0667e-f707-464c-a06c-740e75f15c39",
   "metadata": {},
   "source": [
    "### Parsed MRO values"
   ]
  },
  {
   "cell_type": "code",
   "execution_count": null,
   "id": "2ae27ca9-933c-49e6-a9cb-4199adcf712f",
   "metadata": {},
   "outputs": [],
   "source": [
    "# from scipy import stats\n",
    "# posInteractions = [YR343_CF313.mro[0], AP49_BC15.mro[0], YR343_CF313.mro[0], YR343_CF313.mro[0]]\n",
    "# negInteractions = [0.8636363636363636, 0.9, 0.9473684210526315, 0.7727272727272727, 0.8636363636363636, 0.8181818181818182, 0.8181818181818182, 0.8181818181818182, 0.8]\n",
    "\n",
    "# ttest = stats.ttest_ind(posInteractions, negInteractions)\n",
    "# print(ttest.pvalue)"
   ]
  },
  {
   "cell_type": "code",
   "execution_count": null,
   "id": "421fddba-1c26-4f2c-b806-ed798cb02782",
   "metadata": {},
   "outputs": [],
   "source": [
    "from scipy import stats\n",
    "posInteractions = [1, 0.7619047619047619, 0.38636363636363635, 0.36363636363636365]\n",
    "negInteractions = [0.8636363636363636, 0.9, 0.9473684210526315, 0.7727272727272727, 0.8636363636363636, 0.8181818181818182, 0.8181818181818182, 0.8181818181818182, 0.8]\n",
    "\n",
    "ttest = stats.ttest_ind(posInteractions, negInteractions)\n",
    "print(ttest.pvalue)"
   ]
  },
  {
   "cell_type": "code",
   "execution_count": null,
   "id": "d1007e54-cefd-4d00-984a-ed572c7646fb",
   "metadata": {},
   "outputs": [],
   "source": [
    "from matplotlib import pyplot\n",
    "import sigfig\n",
    "\n",
    "pyplot.rc('axes', titlesize=20, labelsize=20)\n",
    "pyplot.rc('xtick', labelsize=20)\n",
    "pyplot.rc('ytick', labelsize=20)\n",
    "pyplot.rc('legend', fontsize=18)\n",
    "fig = pyplot.figure(figsize=(7,10))\n",
    "\n",
    "pyplot.boxplot([posInteractions, negInteractions], labels=[\"'+'\", \"'--'\"])\n",
    "pyplot.scatter([1]*len(posInteractions), posInteractions)\n",
    "pyplot.scatter([2]*len(negInteractions), negInteractions)\n",
    "pyplot.xlabel(\"Interaction type\")\n",
    "pyplot.ylabel(\"MRO score (overlap)\")\n",
    "pyplot.text(1.6,.7, f\"p-value: {sigfig.round(ttest.pvalue, sigfigs=3)}\", fontsize=\"x-large\")\n",
    "fig.savefig(\"parsed MRO comparion.jpg\")\n",
    "# display(fig)\n",
    "# pyplot.show()"
   ]
  },
  {
   "cell_type": "markdown",
   "id": "adad8cf4-d78d-4a1a-a505-258df73edf87",
   "metadata": {},
   "source": [
    "### Averaged MRO values"
   ]
  },
  {
   "cell_type": "code",
   "execution_count": null,
   "id": "b669ba31-e86c-4ed0-a742-c114a4510eaf",
   "metadata": {
    "tags": []
   },
   "outputs": [],
   "source": [
    "from scipy import stats\n",
    "posInteractions = [0.9444444444444444, 0.7804878048780488, 0.5396825396825397, 0.53125]\n",
    "negInteractions = [0.9047619047619048, 0.8780487804878049, 0.9473684210526315]\n",
    "negInteractions2 = [0.8095238095238095, 0.926829268292683, 0.9473684210526315, 0.926829268292683, 0.8095238095238095, 0.5757575757575758, 0.8780487804878049]\n",
    "posInteractions2 = [0.9444444444444444, 0.7804878048780488, 0.5396825396825397, 0.53125]\n",
    "\n",
    "ttest = stats.ttest_ind(posInteractions2, negInteractions2)\n",
    "print(ttest.pvalue)"
   ]
  },
  {
   "cell_type": "code",
   "execution_count": null,
   "id": "057d0fa1-c9b1-45b4-a976-5bbf9278dcec",
   "metadata": {
    "tags": []
   },
   "outputs": [],
   "source": [
    "from matplotlib import pyplot\n",
    "import sigfig\n",
    "\n",
    "pyplot.rc('axes', titlesize=20, labelsize=20)\n",
    "pyplot.rc('xtick', labelsize=20)\n",
    "pyplot.rc('ytick', labelsize=20)\n",
    "pyplot.rc('legend', fontsize=18)\n",
    "fig = pyplot.figure(figsize=(7,10))\n",
    "\n",
    "pyplot.boxplot([posInteractions2, negInteractions2], labels=[\"'+'\", \"'--'\"])\n",
    "pyplot.scatter([1]*len(posInteractions2), posInteractions2)\n",
    "pyplot.scatter([2]*len(negInteractions2), negInteractions2)\n",
    "pyplot.xlabel(\"Interaction type\")\n",
    "pyplot.ylabel(\"MRO score (overlap)\")\n",
    "pyplot.text(1.6,.7, f\"p-value: {sigfig.round(ttest.pvalue, sigfigs=3)}\", fontsize=\"x-large\")\n",
    "fig.savefig(\"MRO comparion.jpg\")\n",
    "# display(fig)\n",
    "# pyplot.show()"
   ]
  },
  {
   "cell_type": "markdown",
   "id": "9216f60c-71e5-4123-a026-415ad9a255f8",
   "metadata": {},
   "source": [
    "## MIP scores"
   ]
  },
  {
   "cell_type": "code",
   "execution_count": null,
   "id": "940c5d87-184a-4c71-a58a-f88277fc481b",
   "metadata": {},
   "outputs": [],
   "source": [
    "from scipy import stats\n",
    "# posInteractions =[YR343_CF313.mip, AP49_BC15.mip, CF402_CF313.mip, CF402_BC15.mip]\n",
    "# negInteractions = [GM17_BC15.mip, AP07_AP49.mip, CF313_BT03.mip, GM17_AP49.mip, GM17_CF313.mip, GM17_AP07.mip, GM17_CF402.mip, GM17_BT03.mip, CF402_BC15.mip]\n",
    "negInteractions = [0, 0, 0, 0, 1, 4, 0]\n",
    "posInteractions = [0, 1, 6, 7]\n",
    "\n",
    "ttest = stats.ttest_ind(posInteractions, negInteractions)\n",
    "print(ttest.pvalue)"
   ]
  },
  {
   "cell_type": "code",
   "execution_count": null,
   "id": "a68f5f50-ea3d-4d1a-b16b-9b0412c16e6c",
   "metadata": {},
   "outputs": [],
   "source": [
    "from matplotlib import pyplot\n",
    "import sigfig\n",
    "\n",
    "pyplot.rc('axes', titlesize=20, labelsize=20)\n",
    "pyplot.rc('xtick', labelsize=20)\n",
    "pyplot.rc('ytick', labelsize=20)\n",
    "pyplot.rc('legend', fontsize=18)\n",
    "fig = pyplot.figure(figsize=(7,10))\n",
    "\n",
    "pyplot.boxplot([posInteractions, negInteractions], labels=[\"'+'\", \"'--'\"])\n",
    "pyplot.scatter([1]*len(posInteractions), posInteractions)\n",
    "pyplot.scatter([2]*len(negInteractions), negInteractions)\n",
    "pyplot.xlabel(\"Interaction type\")\n",
    "pyplot.ylabel(\"MIP score (syntrophy)\")\n",
    "pyplot.text(1.6,2, f\"p-value: {sigfig.round(ttest.pvalue, sigfigs=3)}\", fontsize=\"x-large\")\n",
    "fig.savefig(\"MIP comparion.jpg\")\n",
    "# display(fig)\n",
    "# pyplot.show()"
   ]
  },
  {
   "cell_type": "markdown",
   "id": "a3f98436-281c-4672-b31b-ef5c72ba0876",
   "metadata": {},
   "source": [
    "## smetana score"
   ]
  },
  {
   "cell_type": "code",
   "execution_count": null,
   "id": "68c1c46f-8ae5-4cd6-b408-9d231207c3b3",
   "metadata": {},
   "outputs": [],
   "source": [
    "from scipy import stats\n",
    "posInteractions = [63.57, 47.18, 52.63, 46, 32, 38, 0, 0]\n",
    "negInteractions = [53, 48.1, 44.76, 45, 0, 0]\n",
    "\n",
    "ttest = stats.ttest_ind(posInteractions, negInteractions)\n",
    "print(ttest.pvalue)"
   ]
  },
  {
   "cell_type": "code",
   "execution_count": null,
   "id": "eefd1a1c-2193-4e88-a9e1-fc58d98cdec0",
   "metadata": {},
   "outputs": [],
   "source": [
    "from matplotlib import pyplot\n",
    "import sigfig\n",
    "\n",
    "pyplot.rc('axes', titlesize=20, labelsize=20)\n",
    "pyplot.rc('xtick', labelsize=20)\n",
    "pyplot.rc('ytick', labelsize=20)\n",
    "pyplot.rc('legend', fontsize=18)\n",
    "fig = pyplot.figure(figsize=(7,10))\n",
    "\n",
    "pyplot.boxplot([posInteractions, negInteractions], labels=[\"'+'\", \"'--'\"])\n",
    "pyplot.scatter([1]*len(posInteractions), posInteractions)\n",
    "pyplot.scatter([2]*len(negInteractions), negInteractions)\n",
    "pyplot.xlabel(\"Interaction type\")\n",
    "pyplot.ylabel(\"smetana score (syntrophy potential)\")\n",
    "pyplot.text(1.6,62, f\"p-value: {sigfig.round(ttest.pvalue, sigfigs=3)}\", fontsize=\"x-large\")\n",
    "fig.savefig(\"smetana comparion.jpg\")\n",
    "# display(fig)\n",
    "# pyplot.show()"
   ]
  },
  {
   "cell_type": "code",
   "execution_count": null,
   "id": "6f8c0fad-439e-410d-a2ba-8089b73fbc1d",
   "metadata": {},
   "outputs": [],
   "source": []
  }
 ],
 "metadata": {
  "kernelspec": {
   "display_name": "Python 3 (ipykernel)",
   "language": "python",
   "name": "python3"
  },
  "language_info": {
   "codemirror_mode": {
    "name": "ipython",
    "version": 3
   },
   "file_extension": ".py",
   "mimetype": "text/x-python",
   "name": "python",
   "nbconvert_exporter": "python",
   "pygments_lexer": "ipython3",
   "version": "3.9.12"
  }
 },
 "nbformat": 4,
 "nbformat_minor": 5
}
