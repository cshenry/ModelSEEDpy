{
 "cells": [
  {
   "cell_type": "markdown",
   "id": "be17384b-a284-468c-a0b0-f0628d0802e6",
   "metadata": {},
   "source": [
    "# Load KBase"
   ]
  },
  {
   "cell_type": "code",
   "execution_count": 1,
   "id": "68a7047b-5da4-479d-85a1-87497aeeb978",
   "metadata": {},
   "outputs": [
    {
     "name": "stdout",
     "output_type": "stream",
     "text": [
      "cobrakbase 0.3.1\n"
     ]
    }
   ],
   "source": [
    "# define the environment path \n",
    "import os\n",
    "local_cobrakbase_path = os.path.join('C:', 'Users', 'Andrew Freiburger','Documents','Argonne','cobrakbase')\n",
    "os.environ[\"HOME\"] = local_cobrakbase_path\n",
    "\n",
    "# import the KBase\n",
    "import cobrakbase\n",
    "# with open(\"/Users/afreiburger/Documents/kbase_token.txt\") as token_file:\n",
    "with open(\"C:/Users/Andrew Freiburger/Documents/Argonne/kbase_token.txt\") as token_file:\n",
    "    kbase_api = cobrakbase.KBaseAPI(token_file.readline())\n",
    "\n",
    "# prevent excessive warnings\n",
    "from time import process_time\n",
    "import warnings\n",
    "warnings.filterwarnings(action='once')\n",
    "# from modelseedpy.community import mssmetana\n",
    "%run ../../../modelseedpy/community/mssmetana.py"
   ]
  },
  {
   "cell_type": "markdown",
   "id": "e6fe1266-fc52-4456-8ba7-4a11946f7d93",
   "metadata": {},
   "source": [
    "# test community pairs"
   ]
  },
  {
   "cell_type": "code",
   "execution_count": 2,
   "id": "50c765dd-fd77-41ed-ab78-7e8d76661577",
   "metadata": {},
   "outputs": [],
   "source": [
    "from modelseedpy.core.exceptions import ModelError\n",
    "def test_pair(member1, member2, community):\n",
    "    try:\n",
    "        start_time = process_time()\n",
    "        comm = MSSmetana([member1, member2], community)\n",
    "        comm.all_scores()\n",
    "        end_time = process_time()\n",
    "\n",
    "        print(f\"The {member1.id}_{member2.id} pair has been examined after {(end_time-start_time)/60} minutes.\")\n",
    "    except (ObjectiveError, ModelError, NameError) as e:\n",
    "        print(f\"\\n\\nERROR:{e}\")"
   ]
  },
  {
   "cell_type": "markdown",
   "id": "8360ebf9-06bc-4e89-92ee-e959abf06e5e",
   "metadata": {},
   "source": [
    "# \"+\" interactions"
   ]
  },
  {
   "cell_type": "markdown",
   "id": "8ab7c386-e429-4e48-9b0a-c245398d0298",
   "metadata": {},
   "source": [
    "## YR343 on CF142"
   ]
  },
  {
   "cell_type": "code",
   "execution_count": 3,
   "id": "0799cf60-f276-49d9-bd4e-c966bc1d4464",
   "metadata": {},
   "outputs": [
    {
     "name": "stderr",
     "output_type": "stream",
     "text": [
      "modelseedpy.community.mscompatibility - WARNING - IDWarning: The original ID cpd00609_e0 is a ModelSEED ID, and may not be desirably changed to cpd00609_e0.\n"
     ]
    },
    {
     "name": "stdout",
     "output_type": "stream",
     "text": [
      "\n",
      "\n",
      "0 reactions were substituted and 1 metabolite IDs were redefined in Pantoea_YR343_pacbio_v2.RAST.fbamodel,Rhizobium_CF142_pacbio_v2.RAST.fbamodel by standardize().\n",
      "\n",
      "\n",
      "ERROR:The model Rhizobium_CF142_pacbio_v2.RAST.fbamodel possesses an objective value of 0 in complete media, which is incompatible with minimal media computations and hence SMETANA.\n",
      "CPU times: total: 6.2 s\n",
      "Wall time: 7.51 s\n"
     ]
    }
   ],
   "source": [
    "%%time\n",
    "\n",
    "# load the pair\n",
    "YR343 = kbase_api.get_from_ws(\"Pantoea_YR343_pacbio_v2.RAST.fbamodel\", 114731)\n",
    "CF142 = kbase_api.get_from_ws(\"Rhizobium_CF142_pacbio_v2.RAST.fbamodel\", 114731)\n",
    "YR343_CF142_model = kbase_api.get_from_ws(\"YR343-CF142\", 114731)\n",
    "test_pair(YR343, CF142, YR343_CF142_model)"
   ]
  },
  {
   "cell_type": "markdown",
   "id": "faf8cc78-5a42-4de5-94d3-19f9197099f9",
   "metadata": {},
   "source": [
    "## YR343 on CF313"
   ]
  },
  {
   "cell_type": "code",
   "execution_count": 4,
   "id": "6134aeb7-da5b-4f63-9db6-905594ed016d",
   "metadata": {
    "tags": []
   },
   "outputs": [],
   "source": [
    "# load the pair\n",
    "CF313 = kbase_api.get_from_ws(\"Variovorax_CF313_pacbio_v2.RAST.fbamodel\",114731)\n",
    "YR343_CF313_model = kbase_api.get_from_ws(\"YR343-CF313\",114731)"
   ]
  },
  {
   "cell_type": "code",
   "execution_count": 5,
   "id": "000a750d-e228-4a54-b5b1-8183ccc85cfd",
   "metadata": {
    "scrolled": true,
    "tags": []
   },
   "outputs": [
    {
     "name": "stderr",
     "output_type": "stream",
     "text": [
      "modelseedpy.community.mscompatibility - WARNING - IDWarning: The original ID cpd00609_e0 is a ModelSEED ID, and may not be desirably changed to cpd00609_e0.\n"
     ]
    },
    {
     "name": "stdout",
     "output_type": "stream",
     "text": [
      "\n",
      "\n",
      "0 reactions were substituted and 1 metabolite IDs were redefined in Pantoea_YR343_pacbio_v2.RAST.fbamodel,Variovorax_CF313_pacbio_v2.RAST.fbamodel by standardize().\n",
      "The minimal flux media consists of 37 compounds and a 1.448787987617897 total influx, with a growth value of 0.10000000000007603\n",
      "The minimal flux media consists of 33 compounds and a 1.6635843914754609 total influx, with a growth value of 0.10000000000008374\n",
      "The minimal flux media consists of 32 compounds and a 0.46139976959331536 total influx, with a growth value of 0.09999999999973774\n",
      "\n",
      "The Pantoea_YR343_pacbio_v2.RAST.fbamodel on Variovorax_CF313_pacbio_v2.RAST.fbamodel) MRO score: 0.7567567567567568 (75.68%). This is the percent of nutritional requirements in Pantoea_YR343_pacbio_v2.RAST.fbamodel that overlap with Variovorax_CF313_pacbio_v2.RAST.fbamodel) (28/37).\n",
      "\n",
      "The Variovorax_CF313_pacbio_v2.RAST.fbamodel on Pantoea_YR343_pacbio_v2.RAST.fbamodel) MRO score: 0.8484848484848485 (84.85%). This is the percent of nutritional requirements in Variovorax_CF313_pacbio_v2.RAST.fbamodel that overlap with Pantoea_YR343_pacbio_v2.RAST.fbamodel) (28/33).\n",
      "{'dictionary_item_added': [root['EX_cpd11584_e0'], root['EX_cpd15606_e0'], root['EX_cpd00042_e0'], root['EX_cpd15605_e0'], root['EX_cpd11583_e0']], 'dictionary_item_removed': [root['EX_cpd00209_e0'], root['EX_cpd00309_e0'], root['EX_cpd00307_e0'], root['EX_cpd00069_e0'], root['EX_cpd00107_e0'], root['EX_cpd00084_e0'], root['EX_cpd00118_e0'], root['EX_cpd00136_e0'], root['EX_cpd00235_e0'], root['EX_cpd00024_e0'], root['EX_cpd00794_e0'], root['EX_cpd00132_e0'], root['EX_cpd09878_e0'], root['EX_cpd00066_e0'], root['EX_cpd00051_e0'], root['EX_cpd00119_e0'], root['EX_cpd00082_e0'], root['EX_cpd00654_e0']], 'values_changed': {\"root['EX_cpd00179_e0']\": {'new_value': 0.09750379473293808, 'old_value': 0.18834495916601796}, \"root['EX_cpd03847_e0']\": {'new_value': 0.0012505298855447224, 'old_value': 0.001250529885544721}, \"root['EX_cpd00017_e0']\": {'new_value': 0.029445732980810727, 'old_value': 0.021802305914614937}, \"root['EX_cpd00220_e0']\": {'new_value': 0.0008418477478773668, 'old_value': 0.000841847747877364}, \"root['EX_cpd00644_e0']\": {'new_value': 0.0005612318311472713, 'old_value': 0.0005612318311929941}, \"root['EX_cpd00007_e0']\": {'new_value': 0.0007716937688876103, 'old_value': 0.005035019242217015}, \"root['EX_cpd00355_e0']\": {'new_value': 0.0809749543527524, 'old_value': 0.8636737915896985}, \"root['EX_cpd00393_e0']\": {'new_value': 0.0008418477478773902, 'old_value': 0.0008418477478773935}, \"root['EX_cpd00156_e0']\": {'new_value': 0.03522331890924608, 'old_value': 0.03522331890934198}, \"root['EX_cpd00264_e0']\": {'new_value': 0.0002806159159591311, 'old_value': 0.00014030795797956554}, \"root['EX_cpd01080_e0']\": {'new_value': 0.012458137977227038, 'old_value': 0.012458137977227031}}}\n",
      "\n",
      "MIP score: 18\t\t\t18 required compound(s) can be sourced via syntrophy:\n",
      "executing MP\n"
     ]
    },
    {
     "name": "stderr",
     "output_type": "stream",
     "text": [
      "modelseedpy.community.mscompatibility - WARNING - IDWarning: The original ID cpd00609_e0 is a ModelSEED ID, and may not be desirably changed to cpd00609_e0.\n"
     ]
    },
    {
     "name": "stdout",
     "output_type": "stream",
     "text": [
      "\n",
      "\n",
      "0 reactions were substituted and 1 metabolite IDs were redefined in YR343-CF313 by standardize().\n",
      "The minimal flux media consists of 54 compounds and a 14729.392761882395 total influx, with a growth value of 253.85439702200654\n",
      "\n",
      "\n",
      "\n",
      "Standardize exchange reactions in Pantoea_YR343_pacbio_v2.RAST.fbamodel \n",
      " ==========================================================================\n",
      "The exchange  metabolite ID's of the model Pantoea_YR343_pacbio_v2.RAST.fbamodel are completely standardized to ModelSEED.\n"
     ]
    },
    {
     "name": "stderr",
     "output_type": "stream",
     "text": [
      "C:\\Users\\Andrew Freiburger\\AppData\\Local\\Programs\\Python\\Python39\\lib\\site-packages\\cobra\\core\\reaction.py:761: DeprecationWarning: Please use reaction.flux instead.\n",
      "  warn(\"Please use reaction.flux instead.\", DeprecationWarning)\n",
      "C:\\Users\\Andrew Freiburger\\AppData\\Local\\Programs\\Python\\Python39\\lib\\site-packages\\cobra\\core\\reaction.py:779: DeprecationWarning: Please use reaction.reduced_cost instead.\n",
      "  warn(\"Please use reaction.reduced_cost instead.\", DeprecationWarning)\n",
      "C:\\Users\\Andrew Freiburger\\AppData\\Local\\Programs\\Python\\Python39\\lib\\site-packages\\cobra\\core\\metabolite.py:207: DeprecationWarning: Please use metabolite.shadow_price instead.\n",
      "  warn(\"Please use metabolite.shadow_price instead.\", DeprecationWarning)\n",
      "C:\\Users\\Andrew Freiburger\\AppData\\Local\\Programs\\Python\\Python39\\lib\\site-packages\\cobra\\core\\metabolite.py:191: UserWarning: The element 'R' does not appear in the periodic table\n",
      "  warn(f\"The element {e} does not appear in the periodic table\")\n"
     ]
    },
    {
     "name": "stdout",
     "output_type": "stream",
     "text": [
      "remaining possible_contributions 86\r"
     ]
    },
    {
     "name": "stderr",
     "output_type": "stream",
     "text": [
      "C:\\Users\\Andrew Freiburger\\AppData\\Local\\Programs\\Python\\Python39\\lib\\site-packages\\cobra\\core\\reaction.py:761: DeprecationWarning: Please use reaction.flux instead.\n",
      "  warn(\"Please use reaction.flux instead.\", DeprecationWarning)\n",
      "C:\\Users\\Andrew Freiburger\\AppData\\Local\\Programs\\Python\\Python39\\lib\\site-packages\\cobra\\core\\reaction.py:779: DeprecationWarning: Please use reaction.reduced_cost instead.\n",
      "  warn(\"Please use reaction.reduced_cost instead.\", DeprecationWarning)\n",
      "C:\\Users\\Andrew Freiburger\\AppData\\Local\\Programs\\Python\\Python39\\lib\\site-packages\\cobra\\core\\metabolite.py:207: DeprecationWarning: Please use metabolite.shadow_price instead.\n",
      "  warn(\"Please use metabolite.shadow_price instead.\", DeprecationWarning)\n"
     ]
    },
    {
     "name": "stdout",
     "output_type": "stream",
     "text": [
      "remaining possible_contributions 82\n",
      "\n",
      "\n",
      "Standardize exchange reactions in Variovorax_CF313_pacbio_v2.RAST.fbamodel \n",
      " =============================================================================\n",
      "The exchange  metabolite ID's of the model Variovorax_CF313_pacbio_v2.RAST.fbamodel are completely standardized to ModelSEED.\n"
     ]
    },
    {
     "name": "stderr",
     "output_type": "stream",
     "text": [
      "C:\\Users\\Andrew Freiburger\\AppData\\Local\\Programs\\Python\\Python39\\lib\\site-packages\\cobra\\core\\reaction.py:761: DeprecationWarning: Please use reaction.flux instead.\n",
      "  warn(\"Please use reaction.flux instead.\", DeprecationWarning)\n",
      "C:\\Users\\Andrew Freiburger\\AppData\\Local\\Programs\\Python\\Python39\\lib\\site-packages\\cobra\\core\\reaction.py:779: DeprecationWarning: Please use reaction.reduced_cost instead.\n",
      "  warn(\"Please use reaction.reduced_cost instead.\", DeprecationWarning)\n",
      "C:\\Users\\Andrew Freiburger\\AppData\\Local\\Programs\\Python\\Python39\\lib\\site-packages\\cobra\\core\\metabolite.py:207: DeprecationWarning: Please use metabolite.shadow_price instead.\n",
      "  warn(\"Please use metabolite.shadow_price instead.\", DeprecationWarning)\n",
      "C:\\Users\\Andrew Freiburger\\AppData\\Local\\Programs\\Python\\Python39\\lib\\site-packages\\cobra\\core\\metabolite.py:191: UserWarning: The element 'R' does not appear in the periodic table\n",
      "  warn(f\"The element {e} does not appear in the periodic table\")\n"
     ]
    },
    {
     "name": "stdout",
     "output_type": "stream",
     "text": [
      "remaining possible_contributions 55\r"
     ]
    },
    {
     "name": "stderr",
     "output_type": "stream",
     "text": [
      "C:\\Users\\Andrew Freiburger\\AppData\\Local\\Programs\\Python\\Python39\\lib\\site-packages\\cobra\\core\\reaction.py:761: DeprecationWarning: Please use reaction.flux instead.\n",
      "  warn(\"Please use reaction.flux instead.\", DeprecationWarning)\n",
      "C:\\Users\\Andrew Freiburger\\AppData\\Local\\Programs\\Python\\Python39\\lib\\site-packages\\cobra\\core\\reaction.py:779: DeprecationWarning: Please use reaction.reduced_cost instead.\n",
      "  warn(\"Please use reaction.reduced_cost instead.\", DeprecationWarning)\n",
      "C:\\Users\\Andrew Freiburger\\AppData\\Local\\Programs\\Python\\Python39\\lib\\site-packages\\cobra\\core\\metabolite.py:207: DeprecationWarning: Please use metabolite.shadow_price instead.\n",
      "  warn(\"Please use metabolite.shadow_price instead.\", DeprecationWarning)\n"
     ]
    },
    {
     "name": "stdout",
     "output_type": "stream",
     "text": [
      "remaining possible_contributions 54\n",
      "MP score:\t\t\tEach member can possibly contribute the following to the community:\n",
      "\n",
      "Pantoea_YR343_pacbio_v2.RAST.fbamodel \t 35\n",
      "Variovorax_CF313_pacbio_v2.RAST.fbamodel \t 21\n",
      "The Pantoea_YR343_pacbio_v2.RAST.fbamodel_Variovorax_CF313_pacbio_v2.RAST.fbamodel pair has been examined after 0.7752604166666667 minutes.\n",
      "CPU times: total: 46.5 s\n",
      "Wall time: 48.5 s\n"
     ]
    }
   ],
   "source": [
    "%%time\n",
    "test_pair(YR343, CF313, YR343_CF313_model)"
   ]
  },
  {
   "cell_type": "markdown",
   "id": "bec52dc1-3813-4dd2-b44e-b9ad1aab157b",
   "metadata": {},
   "source": [
    "## AP49 on BC15"
   ]
  },
  {
   "cell_type": "code",
   "execution_count": 6,
   "id": "1d88e69f-0cc8-4499-bae9-fbe79a0a639d",
   "metadata": {
    "tags": []
   },
   "outputs": [
    {
     "name": "stdout",
     "output_type": "stream",
     "text": [
      "The exchange  metabolite ID's of the model Sphingobium_AP49_pacbio_v2.RAST.fbamodel,Bacillus_sp._bc15.RAST.fbamodel are completely standardized to ModelSEED.\n",
      "The minimal flux media consists of 42 compounds and a 1.9975620239008598 total influx, with a growth value of 0.0999999999996502\n",
      "The minimal flux media consists of 35 compounds and a 1.4912990953785068 total influx, with a growth value of 0.09999999999986624\n",
      "The minimal flux media consists of 37 compounds and a 1.416651568469769 total influx, with a growth value of 0.09999999999988611\n",
      "\n",
      "The Sphingobium_AP49_pacbio_v2.RAST.fbamodel on Bacillus_sp._bc15.RAST.fbamodel) MRO score: 0.6904761904761905 (69.05%). This is the percent of nutritional requirements in Sphingobium_AP49_pacbio_v2.RAST.fbamodel that overlap with Bacillus_sp._bc15.RAST.fbamodel) (29/42).\n",
      "\n",
      "The Bacillus_sp._bc15.RAST.fbamodel on Sphingobium_AP49_pacbio_v2.RAST.fbamodel) MRO score: 0.8285714285714286 (82.86%). This is the percent of nutritional requirements in Bacillus_sp._bc15.RAST.fbamodel that overlap with Sphingobium_AP49_pacbio_v2.RAST.fbamodel) (29/35).\n",
      "{'dictionary_item_added': [root['EX_cpd00971_e0']], 'dictionary_item_removed': [root['EX_cpd00129_e0'], root['EX_cpd03847_e0'], root['EX_cpd00106_e0'], root['EX_cpd00118_e0'], root['EX_cpd00024_e0'], root['EX_cpd00132_e0'], root['EX_cpd00161_e0'], root['EX_cpd00039_e0'], root['EX_cpd00184_e0'], root['EX_cpd01017_e0'], root['EX_cpd00033_e0']], 'values_changed': {\"root['EX_cpd00017_e0']\": {'new_value': 0.013060758175035806, 'old_value': 0.013060758175035825}, \"root['EX_cpd00277_e0']\": {'new_value': 0.008356325210245125, 'old_value': 0.008356325210245335}, \"root['EX_cpd00220_e0']\": {'new_value': 0.0008418477478773922, 'old_value': 0.0008418477478774007}, \"root['EX_cpd00367_e0']\": {'new_value': 0.010505250834797655, 'old_value': 0.00993019252288244}, \"root['EX_cpd00644_e0']\": {'new_value': 0.0005612318317618963, 'old_value': 0.0005612318321086379}, \"root['EX_cpd00048_e0']\": {'new_value': 0.00028061591595913103, 'old_value': 0.00028061591595912556}, \"root['EX_cpd00136_e0']\": {'new_value': 0.00014030795797956544, 'old_value': 0.0001403079579795655}, \"root['EX_cpd00794_e0']\": {'new_value': 0.2044270122346779, 'old_value': 0.28456146945747773}, \"root['EX_cpd00164_e0']\": {'new_value': 1.9689895272134124e-13, 'old_value': 1.340360090795969e-13}, \"root['EX_cpd00007_e0']\": {'new_value': 0.5638329662024935, 'old_value': 0.6467358835261673}, \"root['EX_cpd00355_e0']\": {'new_value': 0.4385199459104738, 'old_value': 0.28029109306319}, \"root['EX_cpd00393_e0']\": {'new_value': 0.0008418477478773871, 'old_value': 0.0008418477478773842}, \"root['EX_cpd00156_e0']\": {'new_value': 0.035223318909172165, 'old_value': 0.035223318909162554}, \"root['EX_cpd15603_e0']\": {'new_value': 0.008456496968285869, 'old_value': 0.004228248484221189}, \"root['EX_cpd00654_e0']\": {'new_value': 0.0005592087240489199, 'old_value': 0.0005592087240488683}}}\n",
      "\n",
      "MIP score: 11\t\t\t11 required compound(s) can be sourced via syntrophy:\n",
      "executing MP\n",
      "The exchange  metabolite ID's of the model AP49-BC15 are completely standardized to ModelSEED.\n",
      "The minimal flux media consists of 40 compounds and a 2387.7714268771924 total influx, with a growth value of 119.32287834971022\n",
      "\n",
      "\n",
      "\n",
      "Standardize exchange reactions in Sphingobium_AP49_pacbio_v2.RAST.fbamodel \n",
      " =============================================================================\n",
      "The exchange  metabolite ID's of the model Sphingobium_AP49_pacbio_v2.RAST.fbamodel are completely standardized to ModelSEED.\n"
     ]
    },
    {
     "name": "stderr",
     "output_type": "stream",
     "text": [
      "C:\\Users\\Andrew Freiburger\\AppData\\Local\\Programs\\Python\\Python39\\lib\\site-packages\\cobra\\core\\reaction.py:761: DeprecationWarning: Please use reaction.flux instead.\n",
      "  warn(\"Please use reaction.flux instead.\", DeprecationWarning)\n",
      "C:\\Users\\Andrew Freiburger\\AppData\\Local\\Programs\\Python\\Python39\\lib\\site-packages\\cobra\\core\\reaction.py:779: DeprecationWarning: Please use reaction.reduced_cost instead.\n",
      "  warn(\"Please use reaction.reduced_cost instead.\", DeprecationWarning)\n",
      "C:\\Users\\Andrew Freiburger\\AppData\\Local\\Programs\\Python\\Python39\\lib\\site-packages\\cobra\\core\\metabolite.py:207: DeprecationWarning: Please use metabolite.shadow_price instead.\n",
      "  warn(\"Please use metabolite.shadow_price instead.\", DeprecationWarning)\n",
      "C:\\Users\\Andrew Freiburger\\AppData\\Local\\Programs\\Python\\Python39\\lib\\site-packages\\cobra\\core\\metabolite.py:191: UserWarning: The element 'R' does not appear in the periodic table\n",
      "  warn(f\"The element {e} does not appear in the periodic table\")\n"
     ]
    },
    {
     "name": "stdout",
     "output_type": "stream",
     "text": [
      "remaining possible_contributions 54\r"
     ]
    },
    {
     "name": "stderr",
     "output_type": "stream",
     "text": [
      "C:\\Users\\Andrew Freiburger\\AppData\\Local\\Programs\\Python\\Python39\\lib\\site-packages\\cobra\\core\\reaction.py:761: DeprecationWarning: Please use reaction.flux instead.\n",
      "  warn(\"Please use reaction.flux instead.\", DeprecationWarning)\n",
      "C:\\Users\\Andrew Freiburger\\AppData\\Local\\Programs\\Python\\Python39\\lib\\site-packages\\cobra\\core\\reaction.py:779: DeprecationWarning: Please use reaction.reduced_cost instead.\n",
      "  warn(\"Please use reaction.reduced_cost instead.\", DeprecationWarning)\n",
      "C:\\Users\\Andrew Freiburger\\AppData\\Local\\Programs\\Python\\Python39\\lib\\site-packages\\cobra\\core\\metabolite.py:207: DeprecationWarning: Please use metabolite.shadow_price instead.\n",
      "  warn(\"Please use metabolite.shadow_price instead.\", DeprecationWarning)\n",
      "C:\\Users\\Andrew Freiburger\\AppData\\Local\\Programs\\Python\\Python39\\lib\\site-packages\\cobra\\core\\metabolite.py:191: UserWarning: The element 'R' does not appear in the periodic table\n",
      "  warn(f\"The element {e} does not appear in the periodic table\")\n"
     ]
    },
    {
     "name": "stdout",
     "output_type": "stream",
     "text": [
      "remaining possible_contributions 47\r"
     ]
    },
    {
     "name": "stderr",
     "output_type": "stream",
     "text": [
      "C:\\Users\\Andrew Freiburger\\AppData\\Local\\Programs\\Python\\Python39\\lib\\site-packages\\cobra\\core\\reaction.py:761: DeprecationWarning: Please use reaction.flux instead.\n",
      "  warn(\"Please use reaction.flux instead.\", DeprecationWarning)\n",
      "C:\\Users\\Andrew Freiburger\\AppData\\Local\\Programs\\Python\\Python39\\lib\\site-packages\\cobra\\core\\reaction.py:779: DeprecationWarning: Please use reaction.reduced_cost instead.\n",
      "  warn(\"Please use reaction.reduced_cost instead.\", DeprecationWarning)\n",
      "C:\\Users\\Andrew Freiburger\\AppData\\Local\\Programs\\Python\\Python39\\lib\\site-packages\\cobra\\core\\metabolite.py:207: DeprecationWarning: Please use metabolite.shadow_price instead.\n",
      "  warn(\"Please use metabolite.shadow_price instead.\", DeprecationWarning)\n"
     ]
    },
    {
     "name": "stdout",
     "output_type": "stream",
     "text": [
      "remaining possible_contributions 43\r"
     ]
    },
    {
     "name": "stderr",
     "output_type": "stream",
     "text": [
      "C:\\Users\\Andrew Freiburger\\AppData\\Local\\Programs\\Python\\Python39\\lib\\site-packages\\cobra\\core\\reaction.py:761: DeprecationWarning: Please use reaction.flux instead.\n",
      "  warn(\"Please use reaction.flux instead.\", DeprecationWarning)\n",
      "C:\\Users\\Andrew Freiburger\\AppData\\Local\\Programs\\Python\\Python39\\lib\\site-packages\\cobra\\core\\reaction.py:779: DeprecationWarning: Please use reaction.reduced_cost instead.\n",
      "  warn(\"Please use reaction.reduced_cost instead.\", DeprecationWarning)\n",
      "C:\\Users\\Andrew Freiburger\\AppData\\Local\\Programs\\Python\\Python39\\lib\\site-packages\\cobra\\core\\metabolite.py:207: DeprecationWarning: Please use metabolite.shadow_price instead.\n",
      "  warn(\"Please use metabolite.shadow_price instead.\", DeprecationWarning)\n",
      "C:\\Users\\Andrew Freiburger\\AppData\\Local\\Programs\\Python\\Python39\\lib\\site-packages\\cobra\\core\\reaction.py:761: DeprecationWarning: Please use reaction.flux instead.\n",
      "  warn(\"Please use reaction.flux instead.\", DeprecationWarning)\n",
      "C:\\Users\\Andrew Freiburger\\AppData\\Local\\Programs\\Python\\Python39\\lib\\site-packages\\cobra\\core\\reaction.py:779: DeprecationWarning: Please use reaction.reduced_cost instead.\n",
      "  warn(\"Please use reaction.reduced_cost instead.\", DeprecationWarning)\n",
      "C:\\Users\\Andrew Freiburger\\AppData\\Local\\Programs\\Python\\Python39\\lib\\site-packages\\cobra\\core\\metabolite.py:207: DeprecationWarning: Please use metabolite.shadow_price instead.\n",
      "  warn(\"Please use metabolite.shadow_price instead.\", DeprecationWarning)\n"
     ]
    },
    {
     "name": "stdout",
     "output_type": "stream",
     "text": [
      "remaining possible_contributions 42\n",
      "\n",
      "\n",
      "Standardize exchange reactions in Bacillus_sp._bc15.RAST.fbamodel \n",
      " ====================================================================\n",
      "The exchange  metabolite ID's of the model Bacillus_sp._bc15.RAST.fbamodel are completely standardized to ModelSEED.\n"
     ]
    },
    {
     "name": "stderr",
     "output_type": "stream",
     "text": [
      "C:\\Users\\Andrew Freiburger\\AppData\\Local\\Programs\\Python\\Python39\\lib\\site-packages\\cobra\\core\\reaction.py:761: DeprecationWarning: Please use reaction.flux instead.\n",
      "  warn(\"Please use reaction.flux instead.\", DeprecationWarning)\n",
      "C:\\Users\\Andrew Freiburger\\AppData\\Local\\Programs\\Python\\Python39\\lib\\site-packages\\cobra\\core\\reaction.py:779: DeprecationWarning: Please use reaction.reduced_cost instead.\n",
      "  warn(\"Please use reaction.reduced_cost instead.\", DeprecationWarning)\n",
      "C:\\Users\\Andrew Freiburger\\AppData\\Local\\Programs\\Python\\Python39\\lib\\site-packages\\cobra\\core\\metabolite.py:207: DeprecationWarning: Please use metabolite.shadow_price instead.\n",
      "  warn(\"Please use metabolite.shadow_price instead.\", DeprecationWarning)\n"
     ]
    },
    {
     "name": "stdout",
     "output_type": "stream",
     "text": [
      "remaining possible_contributions 64\r"
     ]
    },
    {
     "name": "stderr",
     "output_type": "stream",
     "text": [
      "C:\\Users\\Andrew Freiburger\\AppData\\Local\\Programs\\Python\\Python39\\lib\\site-packages\\cobra\\core\\reaction.py:761: DeprecationWarning: Please use reaction.flux instead.\n",
      "  warn(\"Please use reaction.flux instead.\", DeprecationWarning)\n",
      "C:\\Users\\Andrew Freiburger\\AppData\\Local\\Programs\\Python\\Python39\\lib\\site-packages\\cobra\\core\\reaction.py:779: DeprecationWarning: Please use reaction.reduced_cost instead.\n",
      "  warn(\"Please use reaction.reduced_cost instead.\", DeprecationWarning)\n",
      "C:\\Users\\Andrew Freiburger\\AppData\\Local\\Programs\\Python\\Python39\\lib\\site-packages\\cobra\\core\\metabolite.py:207: DeprecationWarning: Please use metabolite.shadow_price instead.\n",
      "  warn(\"Please use metabolite.shadow_price instead.\", DeprecationWarning)\n"
     ]
    },
    {
     "name": "stdout",
     "output_type": "stream",
     "text": [
      "remaining possible_contributions 49\r"
     ]
    },
    {
     "name": "stderr",
     "output_type": "stream",
     "text": [
      "C:\\Users\\Andrew Freiburger\\AppData\\Local\\Programs\\Python\\Python39\\lib\\site-packages\\cobra\\core\\reaction.py:761: DeprecationWarning: Please use reaction.flux instead.\n",
      "  warn(\"Please use reaction.flux instead.\", DeprecationWarning)\n",
      "C:\\Users\\Andrew Freiburger\\AppData\\Local\\Programs\\Python\\Python39\\lib\\site-packages\\cobra\\core\\reaction.py:779: DeprecationWarning: Please use reaction.reduced_cost instead.\n",
      "  warn(\"Please use reaction.reduced_cost instead.\", DeprecationWarning)\n",
      "C:\\Users\\Andrew Freiburger\\AppData\\Local\\Programs\\Python\\Python39\\lib\\site-packages\\cobra\\core\\metabolite.py:207: DeprecationWarning: Please use metabolite.shadow_price instead.\n",
      "  warn(\"Please use metabolite.shadow_price instead.\", DeprecationWarning)\n"
     ]
    },
    {
     "name": "stdout",
     "output_type": "stream",
     "text": [
      "remaining possible_contributions 47\n",
      "MP score:\t\t\tEach member can possibly contribute the following to the community:\n",
      "\n",
      "Sphingobium_AP49_pacbio_v2.RAST.fbamodel \t 32\n",
      "Bacillus_sp._bc15.RAST.fbamodel \t 47\n",
      "The Sphingobium_AP49_pacbio_v2.RAST.fbamodel_Bacillus_sp._bc15.RAST.fbamodel pair has been examined after 0.7260416666666667 minutes.\n",
      "CPU times: total: 47.8 s\n",
      "Wall time: 50.8 s\n"
     ]
    }
   ],
   "source": [
    "%%time\n",
    "\n",
    "AP49 = kbase_api.get_from_ws(\"Sphingobium_AP49_pacbio_v2.RAST.fbamodel\", 114731)\n",
    "BC15 = kbase_api.get_from_ws(\"Bacillus_sp._bc15.RAST.fbamodel\", 114731)\n",
    "AP49_BC15_model = kbase_api.get_from_ws(\"AP49-BC15\", 114731)\n",
    "test_pair(AP49, BC15, AP49_BC15_model)"
   ]
  },
  {
   "cell_type": "markdown",
   "id": "0f3bda29-76c0-41f3-889c-e2ed5bc5649b",
   "metadata": {},
   "source": [
    "## CF142 on BC15"
   ]
  },
  {
   "cell_type": "code",
   "execution_count": 7,
   "id": "6dfbe8da-b8b8-404d-9669-48684ce56d6a",
   "metadata": {},
   "outputs": [
    {
     "name": "stdout",
     "output_type": "stream",
     "text": [
      "The exchange  metabolite ID's of the model Rhizobium_CF142_pacbio_v2.RAST.fbamodel,Bacillus_sp._bc15.RAST.fbamodel are completely standardized to ModelSEED.\n",
      "\n",
      "\n",
      "ERROR:The model Rhizobium_CF142_pacbio_v2.RAST.fbamodel possesses an objective value of 0 in complete media, which is incompatible with minimal media computations and hence SMETANA.\n",
      "CPU times: total: 3.14 s\n",
      "Wall time: 3.56 s\n"
     ]
    }
   ],
   "source": [
    "%%time\n",
    "\n",
    "CF142_BC15_model = kbase_api.get_from_ws(\"CF142-BC15\", 114731)\n",
    "test_pair(CF142, BC15, CF142_BC15_model)"
   ]
  },
  {
   "cell_type": "markdown",
   "id": "fa76d8df-8a9d-489f-95be-23a69c726e28",
   "metadata": {},
   "source": [
    "## CF402 on CF313"
   ]
  },
  {
   "cell_type": "code",
   "execution_count": 8,
   "id": "cd6716bb-17d2-43cf-883c-a98346c6a97d",
   "metadata": {
    "tags": []
   },
   "outputs": [
    {
     "name": "stdout",
     "output_type": "stream",
     "text": [
      "The exchange  metabolite ID's of the model Duagnella_sp_CF402.RAST.fbamodel,Variovorax_CF313_pacbio_v2.RAST.fbamodel are completely standardized to ModelSEED.\n",
      "The minimal flux media consists of 45 compounds and a 2.1525357822615443 total influx, with a growth value of 0.10000000000000193\n",
      "The minimal flux media consists of 33 compounds and a 1.6635843914754609 total influx, with a growth value of 0.10000000000008374\n",
      "The minimal flux media consists of 41 compounds and a 1.5675787338159723 total influx, with a growth value of 0.10000000000000041\n",
      "\n",
      "The Duagnella_sp_CF402.RAST.fbamodel on Variovorax_CF313_pacbio_v2.RAST.fbamodel) MRO score: 0.5333333333333333 (53.33%). This is the percent of nutritional requirements in Duagnella_sp_CF402.RAST.fbamodel that overlap with Variovorax_CF313_pacbio_v2.RAST.fbamodel) (24/45).\n",
      "\n",
      "The Variovorax_CF313_pacbio_v2.RAST.fbamodel on Duagnella_sp_CF402.RAST.fbamodel) MRO score: 0.7272727272727273 (72.73%). This is the percent of nutritional requirements in Variovorax_CF313_pacbio_v2.RAST.fbamodel that overlap with Duagnella_sp_CF402.RAST.fbamodel) (24/33).\n",
      "{'dictionary_item_removed': [root['EX_cpd00054_e0'], root['EX_cpd00129_e0'], root['EX_cpd00118_e0'], root['EX_cpd00023_e0'], root['EX_cpd00381_e0'], root['EX_cpd00039_e0']], 'values_changed': {\"root['EX_cpd00179_e0']\": {'new_value': 0.4013455976178306, 'old_value': 0.0847138301064264}, \"root['EX_cpd00209_e0']\": {'new_value': 0.2767287688251451, 'old_value': 0.1516286910338897}, \"root['EX_cpd00027_e0']\": {'new_value': 0.21522843993757046, 'old_value': 0.21550163397269687}, \"root['EX_cpd00307_e0']\": {'new_value': 0.010488873029395843, 'old_value': 0.010488873029395721}, \"root['EX_cpd00069_e0']\": {'new_value': 0.012488584334600228, 'old_value': 0.012488584334599899}, \"root['EX_cpd00107_e0']\": {'new_value': 0.037538884754012715, 'old_value': 0.03753888475401272}, \"root['EX_cpd00220_e0']\": {'new_value': 0.0008418477478772023, 'old_value': 0.0008418477478774214}, \"root['EX_cpd00644_e0']\": {'new_value': 0.0005612318319182935, 'old_value': 0.0005612318319183054}, \"root['EX_cpd00046_e0']\": {'new_value': 0.004205180782724315, 'old_value': 0.004205180782724318}, \"root['EX_cpd00018_e0']\": {'new_value': 0.02382241170260845, 'old_value': 0.023822411702605285}, \"root['EX_cpd00007_e0']\": {'new_value': 0.33508959333999894, 'old_value': 0.33485953520515427}, \"root['EX_cpd00042_e0']\": {'new_value': 0.007334033304606099, 'old_value': 0.004228248484221124}, \"root['EX_cpd00355_e0']\": {'new_value': 0.08672192765950527, 'old_value': 0.5332332524369047}, \"root['EX_cpd00393_e0']\": {'new_value': 0.0008418477478773932, 'old_value': 0.0008418477478773933}, \"root['EX_cpd00066_e0']\": {'new_value': 0.015451949003134513, 'old_value': 0.015451949003134504}, \"root['EX_cpd00239_e0']\": {'new_value': 0.007421000977402345, 'old_value': 0.007421000977402344}, \"root['EX_cpd00156_e0']\": {'new_value': 0.03522331890916252, 'old_value': 0.03522331890916251}, \"root['EX_cpd00060_e0']\": {'new_value': 0.01633794660473762, 'old_value': 0.016337946604737703}, \"root['EX_cpd00793_e0']\": {'new_value': 0.00028061591595944063, 'old_value': 0.00028061591595913103}}}\n",
      "\n",
      "MIP score: 6\t\t\t6 required compound(s) can be sourced via syntrophy:\n",
      "executing MP\n",
      "The exchange  metabolite ID's of the model CF402-CF313 are completely standardized to ModelSEED.\n",
      "The minimal flux media consists of 41 compounds and a 1717.4646713481795 total influx, with a growth value of 84.36983025156327\n",
      "\n",
      "\n",
      "\n",
      "Standardize exchange reactions in Duagnella_sp_CF402.RAST.fbamodel \n",
      " =====================================================================\n",
      "The exchange  metabolite ID's of the model Duagnella_sp_CF402.RAST.fbamodel are completely standardized to ModelSEED.\n"
     ]
    },
    {
     "name": "stderr",
     "output_type": "stream",
     "text": [
      "C:\\Users\\Andrew Freiburger\\AppData\\Local\\Programs\\Python\\Python39\\lib\\site-packages\\cobra\\core\\reaction.py:761: DeprecationWarning: Please use reaction.flux instead.\n",
      "  warn(\"Please use reaction.flux instead.\", DeprecationWarning)\n",
      "C:\\Users\\Andrew Freiburger\\AppData\\Local\\Programs\\Python\\Python39\\lib\\site-packages\\cobra\\core\\reaction.py:779: DeprecationWarning: Please use reaction.reduced_cost instead.\n",
      "  warn(\"Please use reaction.reduced_cost instead.\", DeprecationWarning)\n",
      "C:\\Users\\Andrew Freiburger\\AppData\\Local\\Programs\\Python\\Python39\\lib\\site-packages\\cobra\\core\\metabolite.py:207: DeprecationWarning: Please use metabolite.shadow_price instead.\n",
      "  warn(\"Please use metabolite.shadow_price instead.\", DeprecationWarning)\n"
     ]
    },
    {
     "name": "stdout",
     "output_type": "stream",
     "text": [
      "remaining possible_contributions 14\r"
     ]
    },
    {
     "name": "stderr",
     "output_type": "stream",
     "text": [
      "C:\\Users\\Andrew Freiburger\\AppData\\Local\\Programs\\Python\\Python39\\lib\\site-packages\\cobra\\core\\reaction.py:761: DeprecationWarning: Please use reaction.flux instead.\n",
      "  warn(\"Please use reaction.flux instead.\", DeprecationWarning)\n",
      "C:\\Users\\Andrew Freiburger\\AppData\\Local\\Programs\\Python\\Python39\\lib\\site-packages\\cobra\\core\\reaction.py:779: DeprecationWarning: Please use reaction.reduced_cost instead.\n",
      "  warn(\"Please use reaction.reduced_cost instead.\", DeprecationWarning)\n",
      "C:\\Users\\Andrew Freiburger\\AppData\\Local\\Programs\\Python\\Python39\\lib\\site-packages\\cobra\\core\\metabolite.py:207: DeprecationWarning: Please use metabolite.shadow_price instead.\n",
      "  warn(\"Please use metabolite.shadow_price instead.\", DeprecationWarning)\n"
     ]
    },
    {
     "name": "stdout",
     "output_type": "stream",
     "text": [
      "\n",
      "\n",
      "\n",
      "Standardize exchange reactions in Variovorax_CF313_pacbio_v2.RAST.fbamodel \n",
      " =============================================================================\n",
      "The exchange  metabolite ID's of the model Variovorax_CF313_pacbio_v2.RAST.fbamodel are completely standardized to ModelSEED.\n"
     ]
    },
    {
     "name": "stderr",
     "output_type": "stream",
     "text": [
      "C:\\Users\\Andrew Freiburger\\AppData\\Local\\Programs\\Python\\Python39\\lib\\site-packages\\cobra\\core\\reaction.py:761: DeprecationWarning: Please use reaction.flux instead.\n",
      "  warn(\"Please use reaction.flux instead.\", DeprecationWarning)\n",
      "C:\\Users\\Andrew Freiburger\\AppData\\Local\\Programs\\Python\\Python39\\lib\\site-packages\\cobra\\core\\reaction.py:779: DeprecationWarning: Please use reaction.reduced_cost instead.\n",
      "  warn(\"Please use reaction.reduced_cost instead.\", DeprecationWarning)\n",
      "C:\\Users\\Andrew Freiburger\\AppData\\Local\\Programs\\Python\\Python39\\lib\\site-packages\\cobra\\core\\metabolite.py:207: DeprecationWarning: Please use metabolite.shadow_price instead.\n",
      "  warn(\"Please use metabolite.shadow_price instead.\", DeprecationWarning)\n",
      "C:\\Users\\Andrew Freiburger\\AppData\\Local\\Programs\\Python\\Python39\\lib\\site-packages\\cobra\\core\\metabolite.py:191: UserWarning: The element 'R' does not appear in the periodic table\n",
      "  warn(f\"The element {e} does not appear in the periodic table\")\n"
     ]
    },
    {
     "name": "stdout",
     "output_type": "stream",
     "text": [
      "remaining possible_contributions 68\r"
     ]
    },
    {
     "name": "stderr",
     "output_type": "stream",
     "text": [
      "C:\\Users\\Andrew Freiburger\\AppData\\Local\\Programs\\Python\\Python39\\lib\\site-packages\\cobra\\core\\reaction.py:761: DeprecationWarning: Please use reaction.flux instead.\n",
      "  warn(\"Please use reaction.flux instead.\", DeprecationWarning)\n",
      "C:\\Users\\Andrew Freiburger\\AppData\\Local\\Programs\\Python\\Python39\\lib\\site-packages\\cobra\\core\\reaction.py:779: DeprecationWarning: Please use reaction.reduced_cost instead.\n",
      "  warn(\"Please use reaction.reduced_cost instead.\", DeprecationWarning)\n",
      "C:\\Users\\Andrew Freiburger\\AppData\\Local\\Programs\\Python\\Python39\\lib\\site-packages\\cobra\\core\\metabolite.py:207: DeprecationWarning: Please use metabolite.shadow_price instead.\n",
      "  warn(\"Please use metabolite.shadow_price instead.\", DeprecationWarning)\n",
      "C:\\Users\\Andrew Freiburger\\AppData\\Local\\Programs\\Python\\Python39\\lib\\site-packages\\cobra\\core\\metabolite.py:191: UserWarning: The element 'R' does not appear in the periodic table\n",
      "  warn(f\"The element {e} does not appear in the periodic table\")\n"
     ]
    },
    {
     "name": "stdout",
     "output_type": "stream",
     "text": [
      "remaining possible_contributions 60\r"
     ]
    },
    {
     "name": "stderr",
     "output_type": "stream",
     "text": [
      "C:\\Users\\Andrew Freiburger\\AppData\\Local\\Programs\\Python\\Python39\\lib\\site-packages\\cobra\\core\\reaction.py:761: DeprecationWarning: Please use reaction.flux instead.\n",
      "  warn(\"Please use reaction.flux instead.\", DeprecationWarning)\n",
      "C:\\Users\\Andrew Freiburger\\AppData\\Local\\Programs\\Python\\Python39\\lib\\site-packages\\cobra\\core\\reaction.py:779: DeprecationWarning: Please use reaction.reduced_cost instead.\n",
      "  warn(\"Please use reaction.reduced_cost instead.\", DeprecationWarning)\n",
      "C:\\Users\\Andrew Freiburger\\AppData\\Local\\Programs\\Python\\Python39\\lib\\site-packages\\cobra\\core\\metabolite.py:207: DeprecationWarning: Please use metabolite.shadow_price instead.\n",
      "  warn(\"Please use metabolite.shadow_price instead.\", DeprecationWarning)\n"
     ]
    },
    {
     "name": "stdout",
     "output_type": "stream",
     "text": [
      "remaining possible_contributions 57\r"
     ]
    },
    {
     "name": "stderr",
     "output_type": "stream",
     "text": [
      "C:\\Users\\Andrew Freiburger\\AppData\\Local\\Programs\\Python\\Python39\\lib\\site-packages\\cobra\\core\\reaction.py:761: DeprecationWarning: Please use reaction.flux instead.\n",
      "  warn(\"Please use reaction.flux instead.\", DeprecationWarning)\n",
      "C:\\Users\\Andrew Freiburger\\AppData\\Local\\Programs\\Python\\Python39\\lib\\site-packages\\cobra\\core\\reaction.py:779: DeprecationWarning: Please use reaction.reduced_cost instead.\n",
      "  warn(\"Please use reaction.reduced_cost instead.\", DeprecationWarning)\n",
      "C:\\Users\\Andrew Freiburger\\AppData\\Local\\Programs\\Python\\Python39\\lib\\site-packages\\cobra\\core\\metabolite.py:207: DeprecationWarning: Please use metabolite.shadow_price instead.\n",
      "  warn(\"Please use metabolite.shadow_price instead.\", DeprecationWarning)\n"
     ]
    },
    {
     "name": "stdout",
     "output_type": "stream",
     "text": [
      "remaining possible_contributions 55\n",
      "MP score:\t\t\tEach member can possibly contribute the following to the community:\n",
      "\n",
      "Duagnella_sp_CF402.RAST.fbamodel \t 11\n",
      "Variovorax_CF313_pacbio_v2.RAST.fbamodel \t 34\n",
      "The Duagnella_sp_CF402.RAST.fbamodel_Variovorax_CF313_pacbio_v2.RAST.fbamodel pair has been examined after 0.43255208333333334 minutes.\n",
      "CPU times: total: 30 s\n",
      "Wall time: 32.5 s\n"
     ]
    }
   ],
   "source": [
    "%%time\n",
    "\n",
    "CF402 = kbase_api.get_from_ws(\"Duagnella_sp_CF402.RAST.fbamodel\", 114731)\n",
    "CF313 = kbase_api.get_from_ws(\"Variovorax_CF313_pacbio_v2.RAST.fbamodel\",114731)\n",
    "CF402_CF313_model = kbase_api.get_from_ws(\"CF402-CF313\", 114731)\n",
    "test_pair(CF402, CF313, CF402_CF313_model)"
   ]
  },
  {
   "cell_type": "markdown",
   "id": "0fa7156a-425e-4a79-9332-7836ee1fe0c4",
   "metadata": {},
   "source": [
    "## CF402 on BC15"
   ]
  },
  {
   "cell_type": "code",
   "execution_count": 9,
   "id": "c0295b09-5487-41b2-a0e5-8a8183121c58",
   "metadata": {
    "tags": []
   },
   "outputs": [
    {
     "name": "stdout",
     "output_type": "stream",
     "text": [
      "The exchange  metabolite ID's of the model Duagnella_sp_CF402.RAST.fbamodel,Bacillus_sp._bc15.RAST.fbamodel are completely standardized to ModelSEED.\n",
      "The minimal flux media consists of 45 compounds and a 2.1525357822615443 total influx, with a growth value of 0.10000000000000193\n",
      "The minimal flux media consists of 35 compounds and a 1.4912990953785068 total influx, with a growth value of 0.09999999999986624\n",
      "The minimal flux media consists of 39 compounds and a 1.4953926006677767 total influx, with a growth value of 0.09999999999999891\n",
      "\n",
      "The Duagnella_sp_CF402.RAST.fbamodel on Bacillus_sp._bc15.RAST.fbamodel) MRO score: 0.5333333333333333 (53.33%). This is the percent of nutritional requirements in Duagnella_sp_CF402.RAST.fbamodel that overlap with Bacillus_sp._bc15.RAST.fbamodel) (24/45).\n",
      "\n",
      "The Bacillus_sp._bc15.RAST.fbamodel on Duagnella_sp_CF402.RAST.fbamodel) MRO score: 0.6857142857142857 (68.57%). This is the percent of nutritional requirements in Bacillus_sp._bc15.RAST.fbamodel that overlap with Duagnella_sp_CF402.RAST.fbamodel) (24/35).\n",
      "{'dictionary_item_added': [root['EX_cpd00209_e0'], root['EX_cpd00794_e0']], 'dictionary_item_removed': [root['EX_cpd00054_e0'], root['EX_cpd00180_e0'], root['EX_cpd00017_e0'], root['EX_cpd00158_e0'], root['EX_cpd00118_e0'], root['EX_cpd00023_e0'], root['EX_cpd00024_e0'], root['EX_cpd00075_e0'], root['EX_cpd00161_e0'], root['EX_cpd00381_e0'], root['EX_cpd00039_e0'], root['EX_cpd00184_e0'], root['EX_cpd00033_e0']], 'values_changed': {\"root['EX_cpd00027_e0']\": {'new_value': 0.2152284399375708, 'old_value': 0.21550163397269587}, \"root['EX_cpd00277_e0']\": {'new_value': 0.007329549784235072, 'old_value': 0.007329549784235076}, \"root['EX_cpd00069_e0']\": {'new_value': 0.012488584334599897, 'old_value': 0.0124885843345999}, \"root['EX_cpd00205_e0']\": {'new_value': 0.00028061591595913103, 'old_value': 0.0002806159159591311}, \"root['EX_cpd00107_e0']\": {'new_value': 0.037538884754012715, 'old_value': 0.03753888475401272}, \"root['EX_cpd00220_e0']\": {'new_value': 0.000841847747877389, 'old_value': 0.000841847747877394}, \"root['EX_cpd00367_e0']\": {'new_value': 0.010524480209588755, 'old_value': 0.009930192522882342}, \"root['EX_cpd00644_e0']\": {'new_value': 0.0005612318319183169, 'old_value': 0.0005612318319183409}, \"root['EX_cpd00048_e0']\": {'new_value': 0.00028061591595913103, 'old_value': 0.0002806159159591311}, \"root['EX_cpd00030_e0']\": {'new_value': 0.0002806159159591311, 'old_value': 0.0002806159159591312}, \"root['EX_cpd00254_e0']\": {'new_value': 0.00028061591595913103, 'old_value': 0.0002806159159591311}, \"root['EX_cpd00046_e0']\": {'new_value': 0.004205180782724315, 'old_value': 0.004205180782724316}, \"root['EX_cpd00065_e0']\": {'new_value': 0.004720191914502181, 'old_value': 0.004720191914502182}, \"root['EX_cpd00018_e0']\": {'new_value': 0.023822411702608244, 'old_value': 0.023822411702596243}, \"root['EX_cpd00063_e0']\": {'new_value': 0.0002806159159591311, 'old_value': 0.0002806159159591312}, \"root['EX_cpd10516_e0']\": {'new_value': 0.0004209238739386965, 'old_value': 0.0004209238739386966}, \"root['EX_cpd00007_e0']\": {'new_value': 0.3350895933399983, 'old_value': 0.3348595352051522}, \"root['EX_cpd00322_e0']\": {'new_value': 0.0241798510337235, 'old_value': 0.02417985103372351}, \"root['EX_cpd00355_e0']\": {'new_value': 0.31115513540310014, 'old_value': 0.46587760546890006}, \"root['EX_cpd00393_e0']\": {'new_value': 0.000841847747877393, 'old_value': 0.0008418477478773933}, \"root['EX_cpd00066_e0']\": {'new_value': 0.0154519490031345, 'old_value': 0.015451949003134506}, \"root['EX_cpd00239_e0']\": {'new_value': 0.007421000977402342, 'old_value': 0.007421000977402347}, \"root['EX_cpd00156_e0']\": {'new_value': 0.035223318909162506, 'old_value': 0.03522331890916251}, \"root['EX_cpd00099_e0']\": {'new_value': 0.000280615915959131, 'old_value': 0.00028061591595913114}, \"root['EX_cpd00149_e0']\": {'new_value': 0.0002806159159591311, 'old_value': 0.00028061591595913114}, \"root['EX_cpd15603_e0']\": {'new_value': 0.040953362519618515, 'old_value': 0.0042282484842203006}, \"root['EX_cpd00215_e0']\": {'new_value': 0.000280615915959131, 'old_value': 0.00028061591595913103}, \"root['EX_cpd00051_e0']\": {'new_value': 0.02607276184992976, 'old_value': 0.024669682270134077}, \"root['EX_cpd00119_e0']\": {'new_value': 0.007926360007371592, 'old_value': 0.007926360007371593}, \"root['EX_cpd10515_e0']\": {'new_value': 0.0004209238739386966, 'old_value': 0.00042092387393869666}, \"root['EX_cpd00654_e0']\": {'new_value': 0.0015667746403246847, 'old_value': 0.0015667746403246858}}}\n",
      "\n",
      "MIP score: 13\t\t\t13 required compound(s) can be sourced via syntrophy:\n",
      "executing MP\n",
      "The exchange  metabolite ID's of the model CF402-BC15 are completely standardized to ModelSEED.\n",
      "The minimal flux media consists of 41 compounds and a 1666.3806349349106 total influx, with a growth value of 84.36983025156377\n",
      "\n",
      "\n",
      "\n",
      "Standardize exchange reactions in Duagnella_sp_CF402.RAST.fbamodel \n",
      " =====================================================================\n",
      "The exchange  metabolite ID's of the model Duagnella_sp_CF402.RAST.fbamodel are completely standardized to ModelSEED.\n"
     ]
    },
    {
     "name": "stderr",
     "output_type": "stream",
     "text": [
      "C:\\Users\\Andrew Freiburger\\AppData\\Local\\Programs\\Python\\Python39\\lib\\site-packages\\cobra\\core\\reaction.py:761: DeprecationWarning: Please use reaction.flux instead.\n",
      "  warn(\"Please use reaction.flux instead.\", DeprecationWarning)\n",
      "C:\\Users\\Andrew Freiburger\\AppData\\Local\\Programs\\Python\\Python39\\lib\\site-packages\\cobra\\core\\reaction.py:779: DeprecationWarning: Please use reaction.reduced_cost instead.\n",
      "  warn(\"Please use reaction.reduced_cost instead.\", DeprecationWarning)\n",
      "C:\\Users\\Andrew Freiburger\\AppData\\Local\\Programs\\Python\\Python39\\lib\\site-packages\\cobra\\core\\metabolite.py:207: DeprecationWarning: Please use metabolite.shadow_price instead.\n",
      "  warn(\"Please use metabolite.shadow_price instead.\", DeprecationWarning)\n"
     ]
    },
    {
     "name": "stdout",
     "output_type": "stream",
     "text": [
      "remaining possible_contributions 15\r"
     ]
    },
    {
     "name": "stderr",
     "output_type": "stream",
     "text": [
      "C:\\Users\\Andrew Freiburger\\AppData\\Local\\Programs\\Python\\Python39\\lib\\site-packages\\cobra\\core\\reaction.py:761: DeprecationWarning: Please use reaction.flux instead.\n",
      "  warn(\"Please use reaction.flux instead.\", DeprecationWarning)\n",
      "C:\\Users\\Andrew Freiburger\\AppData\\Local\\Programs\\Python\\Python39\\lib\\site-packages\\cobra\\core\\reaction.py:779: DeprecationWarning: Please use reaction.reduced_cost instead.\n",
      "  warn(\"Please use reaction.reduced_cost instead.\", DeprecationWarning)\n",
      "C:\\Users\\Andrew Freiburger\\AppData\\Local\\Programs\\Python\\Python39\\lib\\site-packages\\cobra\\core\\metabolite.py:207: DeprecationWarning: Please use metabolite.shadow_price instead.\n",
      "  warn(\"Please use metabolite.shadow_price instead.\", DeprecationWarning)\n"
     ]
    },
    {
     "name": "stdout",
     "output_type": "stream",
     "text": [
      "\n",
      "\n",
      "\n",
      "Standardize exchange reactions in Bacillus_sp._bc15.RAST.fbamodel \n",
      " ====================================================================\n",
      "The exchange  metabolite ID's of the model Bacillus_sp._bc15.RAST.fbamodel are completely standardized to ModelSEED.\n"
     ]
    },
    {
     "name": "stderr",
     "output_type": "stream",
     "text": [
      "C:\\Users\\Andrew Freiburger\\AppData\\Local\\Programs\\Python\\Python39\\lib\\site-packages\\cobra\\core\\reaction.py:761: DeprecationWarning: Please use reaction.flux instead.\n",
      "  warn(\"Please use reaction.flux instead.\", DeprecationWarning)\n",
      "C:\\Users\\Andrew Freiburger\\AppData\\Local\\Programs\\Python\\Python39\\lib\\site-packages\\cobra\\core\\reaction.py:779: DeprecationWarning: Please use reaction.reduced_cost instead.\n",
      "  warn(\"Please use reaction.reduced_cost instead.\", DeprecationWarning)\n",
      "C:\\Users\\Andrew Freiburger\\AppData\\Local\\Programs\\Python\\Python39\\lib\\site-packages\\cobra\\core\\metabolite.py:207: DeprecationWarning: Please use metabolite.shadow_price instead.\n",
      "  warn(\"Please use metabolite.shadow_price instead.\", DeprecationWarning)\n"
     ]
    },
    {
     "name": "stdout",
     "output_type": "stream",
     "text": [
      "remaining possible_contributions 64\r"
     ]
    },
    {
     "name": "stderr",
     "output_type": "stream",
     "text": [
      "C:\\Users\\Andrew Freiburger\\AppData\\Local\\Programs\\Python\\Python39\\lib\\site-packages\\cobra\\core\\reaction.py:761: DeprecationWarning: Please use reaction.flux instead.\n",
      "  warn(\"Please use reaction.flux instead.\", DeprecationWarning)\n",
      "C:\\Users\\Andrew Freiburger\\AppData\\Local\\Programs\\Python\\Python39\\lib\\site-packages\\cobra\\core\\reaction.py:779: DeprecationWarning: Please use reaction.reduced_cost instead.\n",
      "  warn(\"Please use reaction.reduced_cost instead.\", DeprecationWarning)\n",
      "C:\\Users\\Andrew Freiburger\\AppData\\Local\\Programs\\Python\\Python39\\lib\\site-packages\\cobra\\core\\metabolite.py:207: DeprecationWarning: Please use metabolite.shadow_price instead.\n",
      "  warn(\"Please use metabolite.shadow_price instead.\", DeprecationWarning)\n"
     ]
    },
    {
     "name": "stdout",
     "output_type": "stream",
     "text": [
      "remaining possible_contributions 48\r"
     ]
    },
    {
     "name": "stderr",
     "output_type": "stream",
     "text": [
      "C:\\Users\\Andrew Freiburger\\AppData\\Local\\Programs\\Python\\Python39\\lib\\site-packages\\cobra\\core\\reaction.py:761: DeprecationWarning: Please use reaction.flux instead.\n",
      "  warn(\"Please use reaction.flux instead.\", DeprecationWarning)\n",
      "C:\\Users\\Andrew Freiburger\\AppData\\Local\\Programs\\Python\\Python39\\lib\\site-packages\\cobra\\core\\reaction.py:779: DeprecationWarning: Please use reaction.reduced_cost instead.\n",
      "  warn(\"Please use reaction.reduced_cost instead.\", DeprecationWarning)\n",
      "C:\\Users\\Andrew Freiburger\\AppData\\Local\\Programs\\Python\\Python39\\lib\\site-packages\\cobra\\core\\metabolite.py:207: DeprecationWarning: Please use metabolite.shadow_price instead.\n",
      "  warn(\"Please use metabolite.shadow_price instead.\", DeprecationWarning)\n"
     ]
    },
    {
     "name": "stdout",
     "output_type": "stream",
     "text": [
      "remaining possible_contributions 44\n",
      "MP score:\t\t\tEach member can possibly contribute the following to the community:\n",
      "\n",
      "Duagnella_sp_CF402.RAST.fbamodel \t 11\n",
      "Bacillus_sp._bc15.RAST.fbamodel \t 51\n",
      "The Duagnella_sp_CF402.RAST.fbamodel_Bacillus_sp._bc15.RAST.fbamodel pair has been examined after 0.42682291666666666 minutes.\n",
      "CPU times: total: 30.3 s\n",
      "Wall time: 32.6 s\n"
     ]
    }
   ],
   "source": [
    "%%time\n",
    "\n",
    "CF402 = kbase_api.get_from_ws(\"Duagnella_sp_CF402.RAST.fbamodel\", 114731)\n",
    "BC15 = kbase_api.get_from_ws(\"Bacillus_sp._bc15.RAST.fbamodel\", 114731)\n",
    "CF402_BC15_model = kbase_api.get_from_ws(\"CF402-BC15\", 114731)\n",
    "test_pair(CF402, BC15, CF402_BC15_model)"
   ]
  },
  {
   "cell_type": "markdown",
   "id": "eaa471cb-ff01-4d27-acca-304dbbd51128",
   "metadata": {},
   "source": [
    "# \"-\" interactions"
   ]
  },
  {
   "cell_type": "markdown",
   "id": "1f84be73-f08d-4625-9c47-b6f0c96abc60",
   "metadata": {},
   "source": [
    "## GM17 on CF142"
   ]
  },
  {
   "cell_type": "code",
   "execution_count": 10,
   "id": "d100cb74-4f4c-40b7-aea9-2a3c970b330f",
   "metadata": {
    "tags": []
   },
   "outputs": [
    {
     "name": "stderr",
     "output_type": "stream",
     "text": [
      "modelseedpy.community.mscompatibility - WARNING - IDWarning: The original ID cpd00609_e0 is a ModelSEED ID, and may not be desirably changed to cpd00609_e0.\n"
     ]
    },
    {
     "name": "stdout",
     "output_type": "stream",
     "text": [
      "\n",
      "\n",
      "0 reactions were substituted and 1 metabolite IDs were redefined in Pseudomonas_GM17_pacbio_v2.RAST.fbamodel,Rhizobium_CF142_pacbio_v2.RAST.fbamodel by standardize().\n",
      "\n",
      "\n",
      "ERROR:The model Rhizobium_CF142_pacbio_v2.RAST.fbamodel possesses an objective value of 0 in complete media, which is incompatible with minimal media computations and hence SMETANA.\n",
      "CPU times: total: 8.3 s\n",
      "Wall time: 9.6 s\n"
     ]
    }
   ],
   "source": [
    "%%time\n",
    "\n",
    "GM17 = kbase_api.get_from_ws(\"Pseudomonas_GM17_pacbio_v2.RAST.fbamodel\", 114731)\n",
    "CF142 = kbase_api.get_from_ws(\"Rhizobium_CF142_pacbio_v2.RAST.fbamodel\", 114731)\n",
    "GM17_CF142_model = kbase_api.get_from_ws(\"GM17-CF142\", 114731)\n",
    "test_pair(GM17, CF142, GM17_CF142_model)"
   ]
  },
  {
   "cell_type": "markdown",
   "id": "565310a6-13c3-40ed-b5dd-d3183e987f3b",
   "metadata": {},
   "source": [
    "## GM17 on BC15"
   ]
  },
  {
   "cell_type": "code",
   "execution_count": 11,
   "id": "34b9018e-43f6-43f6-9912-e248e84a52cf",
   "metadata": {
    "tags": []
   },
   "outputs": [
    {
     "name": "stderr",
     "output_type": "stream",
     "text": [
      "modelseedpy.community.mscompatibility - WARNING - IDWarning: The original ID cpd00609_e0 is a ModelSEED ID, and may not be desirably changed to cpd00609_e0.\n"
     ]
    },
    {
     "name": "stdout",
     "output_type": "stream",
     "text": [
      "\n",
      "\n",
      "0 reactions were substituted and 1 metabolite IDs were redefined in Pseudomonas_GM17_pacbio_v2.RAST.fbamodel,Bacillus_sp._bc15.RAST.fbamodel by standardize().\n",
      "The minimal flux media consists of 40 compounds and a 1.9477792410966135 total influx, with a growth value of 0.10000000000003348\n",
      "The minimal flux media consists of 35 compounds and a 1.4912990953785068 total influx, with a growth value of 0.09999999999986624\n",
      "The minimal flux media consists of 37 compounds and a 1.475663646999744 total influx, with a growth value of 0.10000000000012403\n",
      "\n",
      "The Pseudomonas_GM17_pacbio_v2.RAST.fbamodel on Bacillus_sp._bc15.RAST.fbamodel) MRO score: 0.75 (75.00%). This is the percent of nutritional requirements in Pseudomonas_GM17_pacbio_v2.RAST.fbamodel that overlap with Bacillus_sp._bc15.RAST.fbamodel) (30/40).\n",
      "\n",
      "The Bacillus_sp._bc15.RAST.fbamodel on Pseudomonas_GM17_pacbio_v2.RAST.fbamodel) MRO score: 0.8571428571428571 (85.71%). This is the percent of nutritional requirements in Bacillus_sp._bc15.RAST.fbamodel that overlap with Pseudomonas_GM17_pacbio_v2.RAST.fbamodel) (30/35).\n",
      "{'dictionary_item_added': [root['EX_cpd10516_e0']], 'dictionary_item_removed': [root['EX_cpd03847_e0'], root['EX_cpd00307_e0'], root['EX_cpd00084_e0'], root['EX_cpd00118_e0'], root['EX_cpd00023_e0'], root['EX_cpd00128_e0'], root['EX_cpd00024_e0'], root['EX_cpd00075_e0'], root['EX_cpd00132_e0'], root['EX_cpd00161_e0'], root['EX_cpd00039_e0'], root['EX_cpd00264_e0'], root['EX_cpd00033_e0'], root['EX_cpd00214_e0'], root['EX_cpd01080_e0'], root['EX_cpd00438_e0'], root['EX_cpd00082_e0']], 'values_changed': {\"root['EX_cpd00209_e0']\": {'new_value': 0.31959552578252004, 'old_value': 0.12339996382894226}, \"root['EX_cpd00158_e0']\": {'new_value': 0.8469270499069197, 'old_value': 0.03191915252407487}, \"root['EX_cpd00277_e0']\": {'new_value': 0.00732954978423507, 'old_value': 0.0073295497840293305}, \"root['EX_cpd00220_e0']\": {'new_value': 0.0008418477479035987, 'old_value': 0.0008418477478773956}, \"root['EX_cpd00367_e0']\": {'new_value': 0.017811311406237505, 'old_value': 0.009930192521873089}, \"root['EX_cpd00644_e0']\": {'new_value': 0.000561231831993987, 'old_value': 0.0005612318319182784}, \"root['EX_cpd00355_e0']\": {'new_value': 0.08097573595840235, 'old_value': 0.9326284677999174}, \"root['EX_cpd00393_e0']\": {'new_value': 0.0008418477478773961, 'old_value': 0.0008418477478773933}, \"root['EX_cpd00156_e0']\": {'new_value': 0.03522331890932106, 'old_value': 0.03522331890916258}, \"root['EX_cpd15603_e0']\": {'new_value': 0.00845649696828735, 'old_value': 0.004228248484221143}, \"root['EX_cpd00215_e0']\": {'new_value': 0.00014030795797956554, 'old_value': 0.0002806159159591311}, \"root['EX_cpd00051_e0']\": {'new_value': 0.024669682270134104, 'old_value': 0.024669682270134788}, \"root['EX_cpd00119_e0']\": {'new_value': 0.007926360007371592, 'old_value': 0.007926360007372527}, \"root['EX_cpd00311_e0']\": {'new_value': 0.009055815828470122, 'old_value': 0.007776306162477533}, \"root['EX_cpd10515_e0']\": {'new_value': 0.0007015397898978276, 'old_value': 0.0008418477478773933}}}\n",
      "\n",
      "MIP score: 17\t\t\t17 required compound(s) can be sourced via syntrophy:\n",
      "executing MP\n"
     ]
    },
    {
     "name": "stderr",
     "output_type": "stream",
     "text": [
      "modelseedpy.community.mscompatibility - WARNING - IDWarning: The original ID cpd00609_e0 is a ModelSEED ID, and may not be desirably changed to cpd00609_e0.\n"
     ]
    },
    {
     "name": "stdout",
     "output_type": "stream",
     "text": [
      "\n",
      "\n",
      "0 reactions were substituted and 1 metabolite IDs were redefined in GM17-BC15 by standardize().\n",
      "The minimal flux media consists of 57 compounds and a 9132.440925229439 total influx, with a growth value of 248.3282333035687\n",
      "\n",
      "\n",
      "\n",
      "Standardize exchange reactions in Pseudomonas_GM17_pacbio_v2.RAST.fbamodel \n",
      " =============================================================================\n",
      "The exchange  metabolite ID's of the model Pseudomonas_GM17_pacbio_v2.RAST.fbamodel are completely standardized to ModelSEED.\n"
     ]
    },
    {
     "name": "stderr",
     "output_type": "stream",
     "text": [
      "C:\\Users\\Andrew Freiburger\\AppData\\Local\\Programs\\Python\\Python39\\lib\\site-packages\\cobra\\core\\reaction.py:761: DeprecationWarning: Please use reaction.flux instead.\n",
      "  warn(\"Please use reaction.flux instead.\", DeprecationWarning)\n",
      "C:\\Users\\Andrew Freiburger\\AppData\\Local\\Programs\\Python\\Python39\\lib\\site-packages\\cobra\\core\\reaction.py:779: DeprecationWarning: Please use reaction.reduced_cost instead.\n",
      "  warn(\"Please use reaction.reduced_cost instead.\", DeprecationWarning)\n",
      "C:\\Users\\Andrew Freiburger\\AppData\\Local\\Programs\\Python\\Python39\\lib\\site-packages\\cobra\\core\\metabolite.py:207: DeprecationWarning: Please use metabolite.shadow_price instead.\n",
      "  warn(\"Please use metabolite.shadow_price instead.\", DeprecationWarning)\n",
      "C:\\Users\\Andrew Freiburger\\AppData\\Local\\Programs\\Python\\Python39\\lib\\site-packages\\cobra\\core\\metabolite.py:191: UserWarning: The element 'R' does not appear in the periodic table\n",
      "  warn(f\"The element {e} does not appear in the periodic table\")\n"
     ]
    },
    {
     "name": "stdout",
     "output_type": "stream",
     "text": [
      "remaining possible_contributions 57\r"
     ]
    },
    {
     "name": "stderr",
     "output_type": "stream",
     "text": [
      "C:\\Users\\Andrew Freiburger\\AppData\\Local\\Programs\\Python\\Python39\\lib\\site-packages\\cobra\\core\\reaction.py:761: DeprecationWarning: Please use reaction.flux instead.\n",
      "  warn(\"Please use reaction.flux instead.\", DeprecationWarning)\n",
      "C:\\Users\\Andrew Freiburger\\AppData\\Local\\Programs\\Python\\Python39\\lib\\site-packages\\cobra\\core\\reaction.py:779: DeprecationWarning: Please use reaction.reduced_cost instead.\n",
      "  warn(\"Please use reaction.reduced_cost instead.\", DeprecationWarning)\n",
      "C:\\Users\\Andrew Freiburger\\AppData\\Local\\Programs\\Python\\Python39\\lib\\site-packages\\cobra\\core\\metabolite.py:207: DeprecationWarning: Please use metabolite.shadow_price instead.\n",
      "  warn(\"Please use metabolite.shadow_price instead.\", DeprecationWarning)\n"
     ]
    },
    {
     "name": "stdout",
     "output_type": "stream",
     "text": [
      "remaining possible_contributions 51\n",
      "\n",
      "\n",
      "Standardize exchange reactions in Bacillus_sp._bc15.RAST.fbamodel \n",
      " ====================================================================\n",
      "The exchange  metabolite ID's of the model Bacillus_sp._bc15.RAST.fbamodel are completely standardized to ModelSEED.\n"
     ]
    },
    {
     "name": "stderr",
     "output_type": "stream",
     "text": [
      "C:\\Users\\Andrew Freiburger\\AppData\\Local\\Programs\\Python\\Python39\\lib\\site-packages\\cobra\\core\\reaction.py:761: DeprecationWarning: Please use reaction.flux instead.\n",
      "  warn(\"Please use reaction.flux instead.\", DeprecationWarning)\n",
      "C:\\Users\\Andrew Freiburger\\AppData\\Local\\Programs\\Python\\Python39\\lib\\site-packages\\cobra\\core\\reaction.py:779: DeprecationWarning: Please use reaction.reduced_cost instead.\n",
      "  warn(\"Please use reaction.reduced_cost instead.\", DeprecationWarning)\n",
      "C:\\Users\\Andrew Freiburger\\AppData\\Local\\Programs\\Python\\Python39\\lib\\site-packages\\cobra\\core\\metabolite.py:207: DeprecationWarning: Please use metabolite.shadow_price instead.\n",
      "  warn(\"Please use metabolite.shadow_price instead.\", DeprecationWarning)\n"
     ]
    },
    {
     "name": "stdout",
     "output_type": "stream",
     "text": [
      "remaining possible_contributions 53\r"
     ]
    },
    {
     "name": "stderr",
     "output_type": "stream",
     "text": [
      "C:\\Users\\Andrew Freiburger\\AppData\\Local\\Programs\\Python\\Python39\\lib\\site-packages\\cobra\\core\\reaction.py:761: DeprecationWarning: Please use reaction.flux instead.\n",
      "  warn(\"Please use reaction.flux instead.\", DeprecationWarning)\n",
      "C:\\Users\\Andrew Freiburger\\AppData\\Local\\Programs\\Python\\Python39\\lib\\site-packages\\cobra\\core\\reaction.py:779: DeprecationWarning: Please use reaction.reduced_cost instead.\n",
      "  warn(\"Please use reaction.reduced_cost instead.\", DeprecationWarning)\n",
      "C:\\Users\\Andrew Freiburger\\AppData\\Local\\Programs\\Python\\Python39\\lib\\site-packages\\cobra\\core\\metabolite.py:207: DeprecationWarning: Please use metabolite.shadow_price instead.\n",
      "  warn(\"Please use metabolite.shadow_price instead.\", DeprecationWarning)\n"
     ]
    },
    {
     "name": "stdout",
     "output_type": "stream",
     "text": [
      "remaining possible_contributions 48\r"
     ]
    },
    {
     "name": "stderr",
     "output_type": "stream",
     "text": [
      "C:\\Users\\Andrew Freiburger\\AppData\\Local\\Programs\\Python\\Python39\\lib\\site-packages\\cobra\\core\\reaction.py:761: DeprecationWarning: Please use reaction.flux instead.\n",
      "  warn(\"Please use reaction.flux instead.\", DeprecationWarning)\n",
      "C:\\Users\\Andrew Freiburger\\AppData\\Local\\Programs\\Python\\Python39\\lib\\site-packages\\cobra\\core\\reaction.py:779: DeprecationWarning: Please use reaction.reduced_cost instead.\n",
      "  warn(\"Please use reaction.reduced_cost instead.\", DeprecationWarning)\n",
      "C:\\Users\\Andrew Freiburger\\AppData\\Local\\Programs\\Python\\Python39\\lib\\site-packages\\cobra\\core\\metabolite.py:207: DeprecationWarning: Please use metabolite.shadow_price instead.\n",
      "  warn(\"Please use metabolite.shadow_price instead.\", DeprecationWarning)\n"
     ]
    },
    {
     "name": "stdout",
     "output_type": "stream",
     "text": [
      "remaining possible_contributions 47\n",
      "MP score:\t\t\tEach member can possibly contribute the following to the community:\n",
      "\n",
      "Pseudomonas_GM17_pacbio_v2.RAST.fbamodel \t 35\n",
      "Bacillus_sp._bc15.RAST.fbamodel \t 35\n",
      "The Pseudomonas_GM17_pacbio_v2.RAST.fbamodel_Bacillus_sp._bc15.RAST.fbamodel pair has been examined after 0.7630208333333334 minutes.\n",
      "CPU times: total: 48.8 s\n",
      "Wall time: 51.7 s\n"
     ]
    }
   ],
   "source": [
    "%%time\n",
    "\n",
    "GM17 = kbase_api.get_from_ws(\"Pseudomonas_GM17_pacbio_v2.RAST.fbamodel\", 114731)\n",
    "BC15 = kbase_api.get_from_ws(\"Bacillus_sp._bc15.RAST.fbamodel\", 114731)\n",
    "GM17_BC15_model = kbase_api.get_from_ws(\"GM17-BC15\", 114731)\n",
    "test_pair(GM17, BC15, GM17_BC15_model)"
   ]
  },
  {
   "cell_type": "markdown",
   "id": "e85748b6-7c01-4318-adb9-8ae1a70c5b35",
   "metadata": {},
   "source": [
    "## CF313 on CF142 "
   ]
  },
  {
   "cell_type": "code",
   "execution_count": 12,
   "id": "4c9693e5-fe5a-439b-b6a7-d1b32e289142",
   "metadata": {},
   "outputs": [
    {
     "name": "stdout",
     "output_type": "stream",
     "text": [
      "The exchange  metabolite ID's of the model Variovorax_CF313_pacbio_v2.RAST.fbamodel,Rhizobium_CF142_pacbio_v2.RAST.fbamodel are completely standardized to ModelSEED.\n",
      "\n",
      "\n",
      "ERROR:The model Rhizobium_CF142_pacbio_v2.RAST.fbamodel possesses an objective value of 0 in complete media, which is incompatible with minimal media computations and hence SMETANA.\n",
      "CPU times: total: 3.23 s\n",
      "Wall time: 3.71 s\n"
     ]
    }
   ],
   "source": [
    "%%time\n",
    "\n",
    "CF313_CF142_model = kbase_api.get_from_ws(\"CF313-CF142\", 114731)\n",
    "test_pair(CF313, CF142, CF313_CF142_model)"
   ]
  },
  {
   "cell_type": "markdown",
   "id": "b5d4bbf5-a383-486b-aa65-a8b34685f599",
   "metadata": {},
   "source": [
    "## AP07 on AP49"
   ]
  },
  {
   "cell_type": "code",
   "execution_count": 13,
   "id": "65b961d3-97af-4b19-8d18-259fe28f3782",
   "metadata": {
    "tags": []
   },
   "outputs": [
    {
     "name": "stderr",
     "output_type": "stream",
     "text": [
      "modelseedpy.community.mscompatibility - WARNING - IDWarning: The original ID cpd00609_e0 is a ModelSEED ID, and may not be desirably changed to cpd00609_e0.\n"
     ]
    },
    {
     "name": "stdout",
     "output_type": "stream",
     "text": [
      "\n",
      "\n",
      "0 reactions were substituted and 1 metabolite IDs were redefined in Caulobacter_AP07_pacbio_v2.RAST.fbamodel,Sphingobium_AP49_pacbio_v2.RAST.fbamodel by standardize().\n",
      "The minimal flux media consists of 38 compounds and a 1.765752438447337 total influx, with a growth value of 0.09999999999967218\n",
      "The minimal flux media consists of 42 compounds and a 1.9975620239008598 total influx, with a growth value of 0.0999999999996502\n",
      "The minimal flux media consists of 35 compounds and a 0.5954063419803166 total influx, with a growth value of 0.099999999999846\n",
      "\n",
      "The Caulobacter_AP07_pacbio_v2.RAST.fbamodel on Sphingobium_AP49_pacbio_v2.RAST.fbamodel) MRO score: 0.868421052631579 (86.84%). This is the percent of nutritional requirements in Caulobacter_AP07_pacbio_v2.RAST.fbamodel that overlap with Sphingobium_AP49_pacbio_v2.RAST.fbamodel) (33/38).\n",
      "\n",
      "The Sphingobium_AP49_pacbio_v2.RAST.fbamodel on Caulobacter_AP07_pacbio_v2.RAST.fbamodel) MRO score: 0.7857142857142857 (78.57%). This is the percent of nutritional requirements in Sphingobium_AP49_pacbio_v2.RAST.fbamodel that overlap with Caulobacter_AP07_pacbio_v2.RAST.fbamodel) (33/42).\n",
      "{'dictionary_item_added': [root['EX_cpd00076_e0'], root['EX_cpd10516_e0'], root['EX_cpd01017_e0'], root['EX_cpd00654_e0']], 'dictionary_item_removed': [root['EX_cpd00129_e0'], root['EX_cpd00180_e0'], root['EX_cpd00277_e0'], root['EX_cpd00069_e0'], root['EX_cpd00084_e0'], root['EX_cpd00092_e0'], root['EX_cpd00136_e0'], root['EX_cpd00794_e0'], root['EX_cpd00132_e0'], root['EX_cpd00122_e0'], root['EX_cpd00184_e0'], root['EX_cpd10515_e0'], root['EX_cpd00082_e0']], 'values_changed': {\"root['EX_cpd00017_e0']\": {'new_value': 0.015889813300047188, 'old_value': 0.01486303787403703}, \"root['EX_cpd00009_e0']\": {'new_value': 0.08097456696409544, 'old_value': 0.0809745669617379}, \"root['EX_cpd00220_e0']\": {'new_value': 0.000841847747877393, 'old_value': 0.0008418477478773936}, \"root['EX_cpd00644_e0']\": {'new_value': 0.000561231831896226, 'old_value': 0.0005612318319675611}, \"root['EX_cpd00007_e0']\": {'new_value': 0.0015433875378285352, 'old_value': 1.045828753779587}, \"root['EX_cpd00393_e0']\": {'new_value': 0.0008418477478773939, 'old_value': 0.0008418477478773941}, \"root['EX_cpd00156_e0']\": {'new_value': 0.03522331890905203, 'old_value': 0.03522331890916251}, \"root['EX_cpd00119_e0']\": {'new_value': 0.15155898640168242, 'old_value': 0.3766461720126437}, \"root['EX_cpd01080_e0']\": {'new_value': 0.01245813797722704, 'old_value': 0.012458137977227038}}}\n",
      "\n",
      "MIP score: 13\t\t\t13 required compound(s) can be sourced via syntrophy:\n",
      "executing MP\n"
     ]
    },
    {
     "name": "stderr",
     "output_type": "stream",
     "text": [
      "modelseedpy.community.mscompatibility - WARNING - IDWarning: The original ID cpd00609_e0 is a ModelSEED ID, and may not be desirably changed to cpd00609_e0.\n"
     ]
    },
    {
     "name": "stdout",
     "output_type": "stream",
     "text": [
      "\n",
      "\n",
      "0 reactions were substituted and 1 metabolite IDs were redefined in AP07-AP49 by standardize().\n",
      "The minimal flux media consists of 49 compounds and a 4165.10818948961 total influx, with a growth value of 106.99670274792332\n",
      "\n",
      "\n",
      "\n",
      "Standardize exchange reactions in Caulobacter_AP07_pacbio_v2.RAST.fbamodel \n",
      " =============================================================================\n",
      "The exchange  metabolite ID's of the model Caulobacter_AP07_pacbio_v2.RAST.fbamodel are completely standardized to ModelSEED.\n"
     ]
    },
    {
     "name": "stderr",
     "output_type": "stream",
     "text": [
      "C:\\Users\\Andrew Freiburger\\AppData\\Local\\Programs\\Python\\Python39\\lib\\site-packages\\cobra\\core\\reaction.py:761: DeprecationWarning: Please use reaction.flux instead.\n",
      "  warn(\"Please use reaction.flux instead.\", DeprecationWarning)\n",
      "C:\\Users\\Andrew Freiburger\\AppData\\Local\\Programs\\Python\\Python39\\lib\\site-packages\\cobra\\core\\reaction.py:779: DeprecationWarning: Please use reaction.reduced_cost instead.\n",
      "  warn(\"Please use reaction.reduced_cost instead.\", DeprecationWarning)\n",
      "C:\\Users\\Andrew Freiburger\\AppData\\Local\\Programs\\Python\\Python39\\lib\\site-packages\\cobra\\core\\metabolite.py:207: DeprecationWarning: Please use metabolite.shadow_price instead.\n",
      "  warn(\"Please use metabolite.shadow_price instead.\", DeprecationWarning)\n",
      "C:\\Users\\Andrew Freiburger\\AppData\\Local\\Programs\\Python\\Python39\\lib\\site-packages\\cobra\\core\\metabolite.py:191: UserWarning: The element 'R' does not appear in the periodic table\n",
      "  warn(f\"The element {e} does not appear in the periodic table\")\n"
     ]
    },
    {
     "name": "stdout",
     "output_type": "stream",
     "text": [
      "remaining possible_contributions 57\r"
     ]
    },
    {
     "name": "stderr",
     "output_type": "stream",
     "text": [
      "C:\\Users\\Andrew Freiburger\\AppData\\Local\\Programs\\Python\\Python39\\lib\\site-packages\\cobra\\core\\reaction.py:761: DeprecationWarning: Please use reaction.flux instead.\n",
      "  warn(\"Please use reaction.flux instead.\", DeprecationWarning)\n",
      "C:\\Users\\Andrew Freiburger\\AppData\\Local\\Programs\\Python\\Python39\\lib\\site-packages\\cobra\\core\\reaction.py:779: DeprecationWarning: Please use reaction.reduced_cost instead.\n",
      "  warn(\"Please use reaction.reduced_cost instead.\", DeprecationWarning)\n",
      "C:\\Users\\Andrew Freiburger\\AppData\\Local\\Programs\\Python\\Python39\\lib\\site-packages\\cobra\\core\\metabolite.py:207: DeprecationWarning: Please use metabolite.shadow_price instead.\n",
      "  warn(\"Please use metabolite.shadow_price instead.\", DeprecationWarning)\n"
     ]
    },
    {
     "name": "stdout",
     "output_type": "stream",
     "text": [
      "remaining possible_contributions 51\r"
     ]
    },
    {
     "name": "stderr",
     "output_type": "stream",
     "text": [
      "C:\\Users\\Andrew Freiburger\\AppData\\Local\\Programs\\Python\\Python39\\lib\\site-packages\\cobra\\core\\reaction.py:761: DeprecationWarning: Please use reaction.flux instead.\n",
      "  warn(\"Please use reaction.flux instead.\", DeprecationWarning)\n",
      "C:\\Users\\Andrew Freiburger\\AppData\\Local\\Programs\\Python\\Python39\\lib\\site-packages\\cobra\\core\\reaction.py:779: DeprecationWarning: Please use reaction.reduced_cost instead.\n",
      "  warn(\"Please use reaction.reduced_cost instead.\", DeprecationWarning)\n",
      "C:\\Users\\Andrew Freiburger\\AppData\\Local\\Programs\\Python\\Python39\\lib\\site-packages\\cobra\\core\\metabolite.py:207: DeprecationWarning: Please use metabolite.shadow_price instead.\n",
      "  warn(\"Please use metabolite.shadow_price instead.\", DeprecationWarning)\n"
     ]
    },
    {
     "name": "stdout",
     "output_type": "stream",
     "text": [
      "remaining possible_contributions 49\r"
     ]
    },
    {
     "name": "stderr",
     "output_type": "stream",
     "text": [
      "C:\\Users\\Andrew Freiburger\\AppData\\Local\\Programs\\Python\\Python39\\lib\\site-packages\\cobra\\core\\reaction.py:761: DeprecationWarning: Please use reaction.flux instead.\n",
      "  warn(\"Please use reaction.flux instead.\", DeprecationWarning)\n",
      "C:\\Users\\Andrew Freiburger\\AppData\\Local\\Programs\\Python\\Python39\\lib\\site-packages\\cobra\\core\\reaction.py:779: DeprecationWarning: Please use reaction.reduced_cost instead.\n",
      "  warn(\"Please use reaction.reduced_cost instead.\", DeprecationWarning)\n",
      "C:\\Users\\Andrew Freiburger\\AppData\\Local\\Programs\\Python\\Python39\\lib\\site-packages\\cobra\\core\\metabolite.py:207: DeprecationWarning: Please use metabolite.shadow_price instead.\n",
      "  warn(\"Please use metabolite.shadow_price instead.\", DeprecationWarning)\n"
     ]
    },
    {
     "name": "stdout",
     "output_type": "stream",
     "text": [
      "remaining possible_contributions 48\n",
      "\n",
      "\n",
      "Standardize exchange reactions in Sphingobium_AP49_pacbio_v2.RAST.fbamodel \n",
      " =============================================================================\n",
      "The exchange  metabolite ID's of the model Sphingobium_AP49_pacbio_v2.RAST.fbamodel are completely standardized to ModelSEED.\n"
     ]
    },
    {
     "name": "stderr",
     "output_type": "stream",
     "text": [
      "C:\\Users\\Andrew Freiburger\\AppData\\Local\\Programs\\Python\\Python39\\lib\\site-packages\\cobra\\core\\reaction.py:761: DeprecationWarning: Please use reaction.flux instead.\n",
      "  warn(\"Please use reaction.flux instead.\", DeprecationWarning)\n",
      "C:\\Users\\Andrew Freiburger\\AppData\\Local\\Programs\\Python\\Python39\\lib\\site-packages\\cobra\\core\\reaction.py:779: DeprecationWarning: Please use reaction.reduced_cost instead.\n",
      "  warn(\"Please use reaction.reduced_cost instead.\", DeprecationWarning)\n",
      "C:\\Users\\Andrew Freiburger\\AppData\\Local\\Programs\\Python\\Python39\\lib\\site-packages\\cobra\\core\\metabolite.py:207: DeprecationWarning: Please use metabolite.shadow_price instead.\n",
      "  warn(\"Please use metabolite.shadow_price instead.\", DeprecationWarning)\n",
      "C:\\Users\\Andrew Freiburger\\AppData\\Local\\Programs\\Python\\Python39\\lib\\site-packages\\cobra\\core\\metabolite.py:191: UserWarning: The element 'R' does not appear in the periodic table\n",
      "  warn(f\"The element {e} does not appear in the periodic table\")\n"
     ]
    },
    {
     "name": "stdout",
     "output_type": "stream",
     "text": [
      "remaining possible_contributions 44\r"
     ]
    },
    {
     "name": "stderr",
     "output_type": "stream",
     "text": [
      "C:\\Users\\Andrew Freiburger\\AppData\\Local\\Programs\\Python\\Python39\\lib\\site-packages\\cobra\\core\\reaction.py:761: DeprecationWarning: Please use reaction.flux instead.\n",
      "  warn(\"Please use reaction.flux instead.\", DeprecationWarning)\n",
      "C:\\Users\\Andrew Freiburger\\AppData\\Local\\Programs\\Python\\Python39\\lib\\site-packages\\cobra\\core\\reaction.py:779: DeprecationWarning: Please use reaction.reduced_cost instead.\n",
      "  warn(\"Please use reaction.reduced_cost instead.\", DeprecationWarning)\n",
      "C:\\Users\\Andrew Freiburger\\AppData\\Local\\Programs\\Python\\Python39\\lib\\site-packages\\cobra\\core\\metabolite.py:207: DeprecationWarning: Please use metabolite.shadow_price instead.\n",
      "  warn(\"Please use metabolite.shadow_price instead.\", DeprecationWarning)\n",
      "C:\\Users\\Andrew Freiburger\\AppData\\Local\\Programs\\Python\\Python39\\lib\\site-packages\\cobra\\core\\metabolite.py:191: UserWarning: The element 'R' does not appear in the periodic table\n",
      "  warn(f\"The element {e} does not appear in the periodic table\")\n"
     ]
    },
    {
     "name": "stdout",
     "output_type": "stream",
     "text": [
      "remaining possible_contributions 40\r"
     ]
    },
    {
     "name": "stderr",
     "output_type": "stream",
     "text": [
      "C:\\Users\\Andrew Freiburger\\AppData\\Local\\Programs\\Python\\Python39\\lib\\site-packages\\cobra\\core\\reaction.py:761: DeprecationWarning: Please use reaction.flux instead.\n",
      "  warn(\"Please use reaction.flux instead.\", DeprecationWarning)\n",
      "C:\\Users\\Andrew Freiburger\\AppData\\Local\\Programs\\Python\\Python39\\lib\\site-packages\\cobra\\core\\reaction.py:779: DeprecationWarning: Please use reaction.reduced_cost instead.\n",
      "  warn(\"Please use reaction.reduced_cost instead.\", DeprecationWarning)\n",
      "C:\\Users\\Andrew Freiburger\\AppData\\Local\\Programs\\Python\\Python39\\lib\\site-packages\\cobra\\core\\metabolite.py:207: DeprecationWarning: Please use metabolite.shadow_price instead.\n",
      "  warn(\"Please use metabolite.shadow_price instead.\", DeprecationWarning)\n"
     ]
    },
    {
     "name": "stdout",
     "output_type": "stream",
     "text": [
      "remaining possible_contributions 37\r"
     ]
    },
    {
     "name": "stderr",
     "output_type": "stream",
     "text": [
      "C:\\Users\\Andrew Freiburger\\AppData\\Local\\Programs\\Python\\Python39\\lib\\site-packages\\cobra\\core\\reaction.py:761: DeprecationWarning: Please use reaction.flux instead.\n",
      "  warn(\"Please use reaction.flux instead.\", DeprecationWarning)\n",
      "C:\\Users\\Andrew Freiburger\\AppData\\Local\\Programs\\Python\\Python39\\lib\\site-packages\\cobra\\core\\reaction.py:779: DeprecationWarning: Please use reaction.reduced_cost instead.\n",
      "  warn(\"Please use reaction.reduced_cost instead.\", DeprecationWarning)\n",
      "C:\\Users\\Andrew Freiburger\\AppData\\Local\\Programs\\Python\\Python39\\lib\\site-packages\\cobra\\core\\metabolite.py:207: DeprecationWarning: Please use metabolite.shadow_price instead.\n",
      "  warn(\"Please use metabolite.shadow_price instead.\", DeprecationWarning)\n",
      "C:\\Users\\Andrew Freiburger\\AppData\\Local\\Programs\\Python\\Python39\\lib\\site-packages\\cobra\\core\\reaction.py:761: DeprecationWarning: Please use reaction.flux instead.\n",
      "  warn(\"Please use reaction.flux instead.\", DeprecationWarning)\n",
      "C:\\Users\\Andrew Freiburger\\AppData\\Local\\Programs\\Python\\Python39\\lib\\site-packages\\cobra\\core\\reaction.py:779: DeprecationWarning: Please use reaction.reduced_cost instead.\n",
      "  warn(\"Please use reaction.reduced_cost instead.\", DeprecationWarning)\n",
      "C:\\Users\\Andrew Freiburger\\AppData\\Local\\Programs\\Python\\Python39\\lib\\site-packages\\cobra\\core\\metabolite.py:207: DeprecationWarning: Please use metabolite.shadow_price instead.\n",
      "  warn(\"Please use metabolite.shadow_price instead.\", DeprecationWarning)\n"
     ]
    },
    {
     "name": "stdout",
     "output_type": "stream",
     "text": [
      "remaining possible_contributions 36\n",
      "MP score:\t\t\tEach member can possibly contribute the following to the community:\n",
      "\n",
      "Caulobacter_AP07_pacbio_v2.RAST.fbamodel \t 28\n",
      "Sphingobium_AP49_pacbio_v2.RAST.fbamodel \t 27\n",
      "The Caulobacter_AP07_pacbio_v2.RAST.fbamodel_Sphingobium_AP49_pacbio_v2.RAST.fbamodel pair has been examined after 0.6947916666666667 minutes.\n",
      "CPU times: total: 49.1 s\n",
      "Wall time: 52.4 s\n"
     ]
    }
   ],
   "source": [
    "%%time\n",
    "\n",
    "AP07 = kbase_api.get_from_ws(\"Caulobacter_AP07_pacbio_v2.RAST.fbamodel\", 114731)\n",
    "AP49 = kbase_api.get_from_ws(\"Sphingobium_AP49_pacbio_v2.RAST.fbamodel\", 114731)\n",
    "AP07_AP49_model = kbase_api.get_from_ws(\"AP07-AP49\", 114731)\n",
    "test_pair(AP07, AP49, AP07_AP49_model)"
   ]
  },
  {
   "cell_type": "markdown",
   "id": "8d3c5529-c99d-4dbf-bac9-340fdfa58471",
   "metadata": {},
   "source": [
    "## CF313 on BT03"
   ]
  },
  {
   "cell_type": "code",
   "execution_count": 14,
   "id": "ee85ee54-d40e-4caf-9618-55f3531e600a",
   "metadata": {
    "tags": []
   },
   "outputs": [
    {
     "name": "stderr",
     "output_type": "stream",
     "text": [
      "modelseedpy.community.mscompatibility - WARNING - IDWarning: The original ID cpd00609_e0 is a ModelSEED ID, and may not be desirably changed to cpd00609_e0.\n"
     ]
    },
    {
     "name": "stdout",
     "output_type": "stream",
     "text": [
      "\n",
      "\n",
      "0 reactions were substituted and 1 metabolite IDs were redefined in Variovorax_CF313_pacbio_v2.RAST.fbamodel,Burkholderia_sp._BT03.RAST.fbamodel by standardize().\n",
      "The minimal flux media consists of 33 compounds and a 1.6635843914754609 total influx, with a growth value of 0.10000000000008374\n",
      "The minimal flux media consists of 37 compounds and a 2.019288624234626 total influx, with a growth value of 0.10000000000001602\n",
      "The minimal flux media consists of 34 compounds and a 1.6680261102821854 total influx, with a growth value of 0.10000000000020788\n",
      "\n",
      "The Variovorax_CF313_pacbio_v2.RAST.fbamodel on Burkholderia_sp._BT03.RAST.fbamodel) MRO score: 0.9393939393939394 (93.94%). This is the percent of nutritional requirements in Variovorax_CF313_pacbio_v2.RAST.fbamodel that overlap with Burkholderia_sp._BT03.RAST.fbamodel) (31/33).\n",
      "\n",
      "The Burkholderia_sp._BT03.RAST.fbamodel on Variovorax_CF313_pacbio_v2.RAST.fbamodel) MRO score: 0.8378378378378378 (83.78%). This is the percent of nutritional requirements in Burkholderia_sp._BT03.RAST.fbamodel that overlap with Variovorax_CF313_pacbio_v2.RAST.fbamodel) (31/37).\n",
      "{'dictionary_item_added': [root['EX_cpd00209_e0']], 'dictionary_item_removed': [root['EX_cpd00180_e0'], root['EX_cpd00118_e0'], root['EX_cpd00080_e0'], root['EX_cpd00794_e0'], root['EX_cpd00075_e0'], root['EX_cpd00132_e0'], root['EX_cpd00039_e0'], root['EX_cpd00264_e0'], root['EX_cpd00082_e0']], 'values_changed': {\"root['EX_cpd00179_e0']\": {'new_value': 0.8231219439276316, 'old_value': 0.1461064199412042}, \"root['EX_cpd00017_e0']\": {'new_value': 0.02944561046892996, 'old_value': 0.029445610468039174}, \"root['EX_cpd00307_e0']\": {'new_value': 0.010488873029395726, 'old_value': 0.02097782717301422}, \"root['EX_cpd00220_e0']\": {'new_value': 0.000841847747877367, 'old_value': 0.000841847747877349}, \"root['EX_cpd00644_e0']\": {'new_value': 0.0005612318320149215, 'old_value': 0.0005612318319183126}, \"root['EX_cpd00048_e0']\": {'new_value': 0.00028061591595913103, 'old_value': 0.0002806159159591311}, \"root['EX_cpd00136_e0']\": {'new_value': 0.00028061591595913103, 'old_value': 0.0002806159159591311}, \"root['EX_cpd00042_e0']\": {'new_value': 0.008456496968538892, 'old_value': 0.008456496968442284}, \"root['EX_cpd00355_e0']\": {'new_value': 0.08097470932366899, 'old_value': 0.6285023670354499}, \"root['EX_cpd00393_e0']\": {'new_value': 0.0008418477478773906, 'old_value': 0.0008418477478773918}, \"root['EX_cpd00119_e0']\": {'new_value': 0.007926360007371592, 'old_value': 0.21089080787666403}, \"root['EX_cpd00793_e0']\": {'new_value': 0.00028061591595913103, 'old_value': 0.0002806159159591313}}}\n",
      "\n",
      "MIP score: 9\t\t\t9 required compound(s) can be sourced via syntrophy:\n",
      "executing MP\n"
     ]
    },
    {
     "name": "stderr",
     "output_type": "stream",
     "text": [
      "modelseedpy.community.mscompatibility - WARNING - IDWarning: The original ID cpd00609_e0 is a ModelSEED ID, and may not be desirably changed to cpd00609_e0.\n"
     ]
    },
    {
     "name": "stdout",
     "output_type": "stream",
     "text": [
      "\n",
      "\n",
      "0 reactions were substituted and 1 metabolite IDs were redefined in CF313-BT03 by standardize().\n",
      "The minimal flux media consists of 42 compounds and a 3794.31331105542 total influx, with a growth value of 178.43060277324508\n",
      "\n",
      "\n",
      "\n",
      "Standardize exchange reactions in Variovorax_CF313_pacbio_v2.RAST.fbamodel \n",
      " =============================================================================\n",
      "The exchange  metabolite ID's of the model Variovorax_CF313_pacbio_v2.RAST.fbamodel are completely standardized to ModelSEED.\n"
     ]
    },
    {
     "name": "stderr",
     "output_type": "stream",
     "text": [
      "C:\\Users\\Andrew Freiburger\\AppData\\Local\\Programs\\Python\\Python39\\lib\\site-packages\\cobra\\core\\reaction.py:761: DeprecationWarning: Please use reaction.flux instead.\n",
      "  warn(\"Please use reaction.flux instead.\", DeprecationWarning)\n",
      "C:\\Users\\Andrew Freiburger\\AppData\\Local\\Programs\\Python\\Python39\\lib\\site-packages\\cobra\\core\\reaction.py:779: DeprecationWarning: Please use reaction.reduced_cost instead.\n",
      "  warn(\"Please use reaction.reduced_cost instead.\", DeprecationWarning)\n",
      "C:\\Users\\Andrew Freiburger\\AppData\\Local\\Programs\\Python\\Python39\\lib\\site-packages\\cobra\\core\\metabolite.py:207: DeprecationWarning: Please use metabolite.shadow_price instead.\n",
      "  warn(\"Please use metabolite.shadow_price instead.\", DeprecationWarning)\n",
      "C:\\Users\\Andrew Freiburger\\AppData\\Local\\Programs\\Python\\Python39\\lib\\site-packages\\cobra\\core\\metabolite.py:191: UserWarning: The element 'R' does not appear in the periodic table\n",
      "  warn(f\"The element {e} does not appear in the periodic table\")\n"
     ]
    },
    {
     "name": "stdout",
     "output_type": "stream",
     "text": [
      "remaining possible_contributions 61\r"
     ]
    },
    {
     "name": "stderr",
     "output_type": "stream",
     "text": [
      "C:\\Users\\Andrew Freiburger\\AppData\\Local\\Programs\\Python\\Python39\\lib\\site-packages\\cobra\\core\\reaction.py:761: DeprecationWarning: Please use reaction.flux instead.\n",
      "  warn(\"Please use reaction.flux instead.\", DeprecationWarning)\n",
      "C:\\Users\\Andrew Freiburger\\AppData\\Local\\Programs\\Python\\Python39\\lib\\site-packages\\cobra\\core\\reaction.py:779: DeprecationWarning: Please use reaction.reduced_cost instead.\n",
      "  warn(\"Please use reaction.reduced_cost instead.\", DeprecationWarning)\n",
      "C:\\Users\\Andrew Freiburger\\AppData\\Local\\Programs\\Python\\Python39\\lib\\site-packages\\cobra\\core\\metabolite.py:207: DeprecationWarning: Please use metabolite.shadow_price instead.\n",
      "  warn(\"Please use metabolite.shadow_price instead.\", DeprecationWarning)\n",
      "C:\\Users\\Andrew Freiburger\\AppData\\Local\\Programs\\Python\\Python39\\lib\\site-packages\\cobra\\core\\metabolite.py:191: UserWarning: The element 'R' does not appear in the periodic table\n",
      "  warn(f\"The element {e} does not appear in the periodic table\")\n"
     ]
    },
    {
     "name": "stdout",
     "output_type": "stream",
     "text": [
      "remaining possible_contributions 56\r"
     ]
    },
    {
     "name": "stderr",
     "output_type": "stream",
     "text": [
      "C:\\Users\\Andrew Freiburger\\AppData\\Local\\Programs\\Python\\Python39\\lib\\site-packages\\cobra\\core\\reaction.py:761: DeprecationWarning: Please use reaction.flux instead.\n",
      "  warn(\"Please use reaction.flux instead.\", DeprecationWarning)\n",
      "C:\\Users\\Andrew Freiburger\\AppData\\Local\\Programs\\Python\\Python39\\lib\\site-packages\\cobra\\core\\reaction.py:779: DeprecationWarning: Please use reaction.reduced_cost instead.\n",
      "  warn(\"Please use reaction.reduced_cost instead.\", DeprecationWarning)\n",
      "C:\\Users\\Andrew Freiburger\\AppData\\Local\\Programs\\Python\\Python39\\lib\\site-packages\\cobra\\core\\metabolite.py:207: DeprecationWarning: Please use metabolite.shadow_price instead.\n",
      "  warn(\"Please use metabolite.shadow_price instead.\", DeprecationWarning)\n"
     ]
    },
    {
     "name": "stdout",
     "output_type": "stream",
     "text": [
      "remaining possible_contributions 54\n",
      "\n",
      "\n",
      "Standardize exchange reactions in Burkholderia_sp._BT03.RAST.fbamodel \n",
      " ========================================================================\n",
      "The exchange  metabolite ID's of the model Burkholderia_sp._BT03.RAST.fbamodel are completely standardized to ModelSEED.\n"
     ]
    },
    {
     "name": "stderr",
     "output_type": "stream",
     "text": [
      "C:\\Users\\Andrew Freiburger\\AppData\\Local\\Programs\\Python\\Python39\\lib\\site-packages\\cobra\\core\\reaction.py:761: DeprecationWarning: Please use reaction.flux instead.\n",
      "  warn(\"Please use reaction.flux instead.\", DeprecationWarning)\n",
      "C:\\Users\\Andrew Freiburger\\AppData\\Local\\Programs\\Python\\Python39\\lib\\site-packages\\cobra\\core\\reaction.py:779: DeprecationWarning: Please use reaction.reduced_cost instead.\n",
      "  warn(\"Please use reaction.reduced_cost instead.\", DeprecationWarning)\n",
      "C:\\Users\\Andrew Freiburger\\AppData\\Local\\Programs\\Python\\Python39\\lib\\site-packages\\cobra\\core\\metabolite.py:207: DeprecationWarning: Please use metabolite.shadow_price instead.\n",
      "  warn(\"Please use metabolite.shadow_price instead.\", DeprecationWarning)\n",
      "C:\\Users\\Andrew Freiburger\\AppData\\Local\\Programs\\Python\\Python39\\lib\\site-packages\\cobra\\core\\metabolite.py:191: UserWarning: The element 'R' does not appear in the periodic table\n",
      "  warn(f\"The element {e} does not appear in the periodic table\")\n"
     ]
    },
    {
     "name": "stdout",
     "output_type": "stream",
     "text": [
      "remaining possible_contributions 93\r"
     ]
    },
    {
     "name": "stderr",
     "output_type": "stream",
     "text": [
      "C:\\Users\\Andrew Freiburger\\AppData\\Local\\Programs\\Python\\Python39\\lib\\site-packages\\cobra\\core\\reaction.py:761: DeprecationWarning: Please use reaction.flux instead.\n",
      "  warn(\"Please use reaction.flux instead.\", DeprecationWarning)\n",
      "C:\\Users\\Andrew Freiburger\\AppData\\Local\\Programs\\Python\\Python39\\lib\\site-packages\\cobra\\core\\reaction.py:779: DeprecationWarning: Please use reaction.reduced_cost instead.\n",
      "  warn(\"Please use reaction.reduced_cost instead.\", DeprecationWarning)\n",
      "C:\\Users\\Andrew Freiburger\\AppData\\Local\\Programs\\Python\\Python39\\lib\\site-packages\\cobra\\core\\metabolite.py:207: DeprecationWarning: Please use metabolite.shadow_price instead.\n",
      "  warn(\"Please use metabolite.shadow_price instead.\", DeprecationWarning)\n",
      "C:\\Users\\Andrew Freiburger\\AppData\\Local\\Programs\\Python\\Python39\\lib\\site-packages\\cobra\\core\\metabolite.py:191: UserWarning: The element 'R' does not appear in the periodic table\n",
      "  warn(f\"The element {e} does not appear in the periodic table\")\n"
     ]
    },
    {
     "name": "stdout",
     "output_type": "stream",
     "text": [
      "remaining possible_contributions 86\r"
     ]
    },
    {
     "name": "stderr",
     "output_type": "stream",
     "text": [
      "C:\\Users\\Andrew Freiburger\\AppData\\Local\\Programs\\Python\\Python39\\lib\\site-packages\\cobra\\core\\reaction.py:761: DeprecationWarning: Please use reaction.flux instead.\n",
      "  warn(\"Please use reaction.flux instead.\", DeprecationWarning)\n",
      "C:\\Users\\Andrew Freiburger\\AppData\\Local\\Programs\\Python\\Python39\\lib\\site-packages\\cobra\\core\\reaction.py:779: DeprecationWarning: Please use reaction.reduced_cost instead.\n",
      "  warn(\"Please use reaction.reduced_cost instead.\", DeprecationWarning)\n",
      "C:\\Users\\Andrew Freiburger\\AppData\\Local\\Programs\\Python\\Python39\\lib\\site-packages\\cobra\\core\\metabolite.py:207: DeprecationWarning: Please use metabolite.shadow_price instead.\n",
      "  warn(\"Please use metabolite.shadow_price instead.\", DeprecationWarning)\n"
     ]
    },
    {
     "name": "stdout",
     "output_type": "stream",
     "text": [
      "remaining possible_contributions 84\n",
      "MP score:\t\t\tEach member can possibly contribute the following to the community:\n",
      "\n",
      "Variovorax_CF313_pacbio_v2.RAST.fbamodel \t 27\n",
      "Burkholderia_sp._BT03.RAST.fbamodel \t 37\n",
      "The Variovorax_CF313_pacbio_v2.RAST.fbamodel_Burkholderia_sp._BT03.RAST.fbamodel pair has been examined after 0.9966145833333333 minutes.\n",
      "CPU times: total: 1min 3s\n",
      "Wall time: 1min 6s\n"
     ]
    }
   ],
   "source": [
    "%%time\n",
    "\n",
    "BT03 = kbase_api.get_from_ws(\"Burkholderia_sp._BT03.RAST.fbamodel\", 114731)\n",
    "CF313 = kbase_api.get_from_ws(\"Variovorax_CF313_pacbio_v2.RAST.fbamodel\",114731)\n",
    "CF313_BT03_model = kbase_api.get_from_ws(\"CF313-BT03\", 114731)\n",
    "test_pair(CF313, BT03, CF313_BT03_model)"
   ]
  },
  {
   "cell_type": "markdown",
   "id": "8edc8690-81eb-4463-b9ec-babfffbd0ded",
   "metadata": {},
   "source": [
    "## YR139 on CF142"
   ]
  },
  {
   "cell_type": "code",
   "execution_count": 15,
   "id": "765f864b-469d-4d4c-a2a3-b7f8ad63276a",
   "metadata": {},
   "outputs": [
    {
     "name": "stdout",
     "output_type": "stream",
     "text": [
      "The exchange  metabolite ID's of the model Streptomyces_YR139_pacbio_v2.RAST.fbamodel,Rhizobium_CF142_pacbio_v2.RAST.fbamodel are completely standardized to ModelSEED.\n",
      "\n",
      "\n",
      "ERROR:The model Rhizobium_CF142_pacbio_v2.RAST.fbamodel possesses an objective value of 0 in complete media, which is incompatible with minimal media computations and hence SMETANA.\n",
      "CPU times: total: 3.83 s\n",
      "Wall time: 4.53 s\n"
     ]
    }
   ],
   "source": [
    "%%time\n",
    "\n",
    "YR139 = kbase_api.get_from_ws(\"Streptomyces_YR139_pacbio_v2.RAST.fbamodel\", 114731)\n",
    "YR139_CF142_model = kbase_api.get_from_ws(\"YR139-CF142\", 114731)\n",
    "test_pair(YR139, CF142, YR139_CF142_model)"
   ]
  },
  {
   "cell_type": "markdown",
   "id": "f3527c8d-f068-47b9-a27f-72619a3e9baa",
   "metadata": {},
   "source": [
    "## GM17 on AP49"
   ]
  },
  {
   "cell_type": "code",
   "execution_count": 16,
   "id": "88e080a4-06ee-4c4a-85ff-7310f56182c2",
   "metadata": {
    "tags": []
   },
   "outputs": [
    {
     "name": "stderr",
     "output_type": "stream",
     "text": [
      "modelseedpy.community.mscompatibility - WARNING - IDWarning: The original ID cpd00609_e0 is a ModelSEED ID, and may not be desirably changed to cpd00609_e0.\n"
     ]
    },
    {
     "name": "stdout",
     "output_type": "stream",
     "text": [
      "\n",
      "\n",
      "0 reactions were substituted and 1 metabolite IDs were redefined in Pseudomonas_GM17_pacbio_v2.RAST.fbamodel,Sphingobium_AP49_pacbio_v2.RAST.fbamodel by standardize().\n",
      "The minimal flux media consists of 40 compounds and a 1.9477792410966135 total influx, with a growth value of 0.10000000000003348\n",
      "The minimal flux media consists of 42 compounds and a 1.9975620239008598 total influx, with a growth value of 0.0999999999996502\n",
      "The minimal flux media consists of 34 compounds and a 0.5067093122343628 total influx, with a growth value of 0.10000000000154069\n",
      "\n",
      "The Pseudomonas_GM17_pacbio_v2.RAST.fbamodel on Sphingobium_AP49_pacbio_v2.RAST.fbamodel) MRO score: 0.8 (80.00%). This is the percent of nutritional requirements in Pseudomonas_GM17_pacbio_v2.RAST.fbamodel that overlap with Sphingobium_AP49_pacbio_v2.RAST.fbamodel) (32/40).\n",
      "\n",
      "The Sphingobium_AP49_pacbio_v2.RAST.fbamodel on Pseudomonas_GM17_pacbio_v2.RAST.fbamodel) MRO score: 0.7619047619047619 (76.19%). This is the percent of nutritional requirements in Sphingobium_AP49_pacbio_v2.RAST.fbamodel that overlap with Pseudomonas_GM17_pacbio_v2.RAST.fbamodel) (32/42).\n",
      "{'dictionary_item_added': [root['EX_cpd00179_e0'], root['EX_cpd10516_e0']], 'dictionary_item_removed': [root['EX_cpd00129_e0'], root['EX_cpd00209_e0'], root['EX_cpd00307_e0'], root['EX_cpd00069_e0'], root['EX_cpd00084_e0'], root['EX_cpd00106_e0'], root['EX_cpd00118_e0'], root['EX_cpd00136_e0'], root['EX_cpd00023_e0'], root['EX_cpd00128_e0'], root['EX_cpd00132_e0'], root['EX_cpd00161_e0'], root['EX_cpd00039_e0'], root['EX_cpd00066_e0'], root['EX_cpd00184_e0'], root['EX_cpd00119_e0'], root['EX_cpd00311_e0'], root['EX_cpd00082_e0'], root['EX_cpd00060_e0']], 'values_changed': {\"root['EX_cpd00017_e0']\": {'new_value': 0.014267248696392707, 'old_value': 0.001964311411713898}, \"root['EX_cpd00220_e0']\": {'new_value': 0.0008418477478773942, 'old_value': 0.0008418477478773968}, \"root['EX_cpd00644_e0']\": {'new_value': 0.0005612318317892452, 'old_value': 0.0005612318318838249}, \"root['EX_cpd00007_e0']\": {'new_value': 0.0011926176428263223, 'old_value': 0.6468060375040274}, \"root['EX_cpd00355_e0']\": {'new_value': 0.0809747689238923, 'old_value': 0.4820359105568392}, \"root['EX_cpd00393_e0']\": {'new_value': 0.0008418477478773716, 'old_value': 0.0008418477478773935}, \"root['EX_cpd00156_e0']\": {'new_value': 0.03522331890917967, 'old_value': 0.035223318909162506}, \"root['EX_cpd00051_e0']\": {'new_value': 0.13428496942305423, 'old_value': 0.024669682270134104}, \"root['EX_cpd10515_e0']\": {'new_value': 0.0007015397898978276, 'old_value': 0.0008418477478773932}, \"root['EX_cpd01017_e0']\": {'new_value': 0.008456496968318279, 'old_value': 0.004228248484186687}, \"root['EX_cpd00654_e0']\": {'new_value': 0.0031828786726323956, 'old_value': 0.0026078203607171305}}}\n",
      "\n",
      "MIP score: 19\t\t\t19 required compound(s) can be sourced via syntrophy:\n",
      "executing MP\n"
     ]
    },
    {
     "name": "stderr",
     "output_type": "stream",
     "text": [
      "modelseedpy.community.mscompatibility - WARNING - IDWarning: The original ID cpd00609_e0 is a ModelSEED ID, and may not be desirably changed to cpd00609_e0.\n"
     ]
    },
    {
     "name": "stdout",
     "output_type": "stream",
     "text": [
      "\n",
      "\n",
      "0 reactions were substituted and 1 metabolite IDs were redefined in GM17-AP49 by standardize().\n",
      "The minimal flux media consists of 50 compounds and a 3067.779179614579 total influx, with a growth value of 119.32287834971541\n",
      "\n",
      "\n",
      "\n",
      "Standardize exchange reactions in Pseudomonas_GM17_pacbio_v2.RAST.fbamodel \n",
      " =============================================================================\n",
      "The exchange  metabolite ID's of the model Pseudomonas_GM17_pacbio_v2.RAST.fbamodel are completely standardized to ModelSEED.\n"
     ]
    },
    {
     "name": "stderr",
     "output_type": "stream",
     "text": [
      "C:\\Users\\Andrew Freiburger\\AppData\\Local\\Programs\\Python\\Python39\\lib\\site-packages\\cobra\\core\\reaction.py:761: DeprecationWarning: Please use reaction.flux instead.\n",
      "  warn(\"Please use reaction.flux instead.\", DeprecationWarning)\n",
      "C:\\Users\\Andrew Freiburger\\AppData\\Local\\Programs\\Python\\Python39\\lib\\site-packages\\cobra\\core\\reaction.py:779: DeprecationWarning: Please use reaction.reduced_cost instead.\n",
      "  warn(\"Please use reaction.reduced_cost instead.\", DeprecationWarning)\n",
      "C:\\Users\\Andrew Freiburger\\AppData\\Local\\Programs\\Python\\Python39\\lib\\site-packages\\cobra\\core\\metabolite.py:207: DeprecationWarning: Please use metabolite.shadow_price instead.\n",
      "  warn(\"Please use metabolite.shadow_price instead.\", DeprecationWarning)\n",
      "C:\\Users\\Andrew Freiburger\\AppData\\Local\\Programs\\Python\\Python39\\lib\\site-packages\\cobra\\core\\metabolite.py:191: UserWarning: The element 'R' does not appear in the periodic table\n",
      "  warn(f\"The element {e} does not appear in the periodic table\")\n"
     ]
    },
    {
     "name": "stdout",
     "output_type": "stream",
     "text": [
      "remaining possible_contributions 62\r"
     ]
    },
    {
     "name": "stderr",
     "output_type": "stream",
     "text": [
      "C:\\Users\\Andrew Freiburger\\AppData\\Local\\Programs\\Python\\Python39\\lib\\site-packages\\cobra\\core\\reaction.py:761: DeprecationWarning: Please use reaction.flux instead.\n",
      "  warn(\"Please use reaction.flux instead.\", DeprecationWarning)\n",
      "C:\\Users\\Andrew Freiburger\\AppData\\Local\\Programs\\Python\\Python39\\lib\\site-packages\\cobra\\core\\reaction.py:779: DeprecationWarning: Please use reaction.reduced_cost instead.\n",
      "  warn(\"Please use reaction.reduced_cost instead.\", DeprecationWarning)\n",
      "C:\\Users\\Andrew Freiburger\\AppData\\Local\\Programs\\Python\\Python39\\lib\\site-packages\\cobra\\core\\metabolite.py:207: DeprecationWarning: Please use metabolite.shadow_price instead.\n",
      "  warn(\"Please use metabolite.shadow_price instead.\", DeprecationWarning)\n",
      "C:\\Users\\Andrew Freiburger\\AppData\\Local\\Programs\\Python\\Python39\\lib\\site-packages\\cobra\\core\\metabolite.py:191: UserWarning: The element 'R' does not appear in the periodic table\n",
      "  warn(f\"The element {e} does not appear in the periodic table\")\n"
     ]
    },
    {
     "name": "stdout",
     "output_type": "stream",
     "text": [
      "remaining possible_contributions 52\n",
      "\n",
      "\n",
      "Standardize exchange reactions in Sphingobium_AP49_pacbio_v2.RAST.fbamodel \n",
      " =============================================================================\n",
      "The exchange  metabolite ID's of the model Sphingobium_AP49_pacbio_v2.RAST.fbamodel are completely standardized to ModelSEED.\n"
     ]
    },
    {
     "name": "stderr",
     "output_type": "stream",
     "text": [
      "C:\\Users\\Andrew Freiburger\\AppData\\Local\\Programs\\Python\\Python39\\lib\\site-packages\\cobra\\core\\reaction.py:761: DeprecationWarning: Please use reaction.flux instead.\n",
      "  warn(\"Please use reaction.flux instead.\", DeprecationWarning)\n",
      "C:\\Users\\Andrew Freiburger\\AppData\\Local\\Programs\\Python\\Python39\\lib\\site-packages\\cobra\\core\\reaction.py:779: DeprecationWarning: Please use reaction.reduced_cost instead.\n",
      "  warn(\"Please use reaction.reduced_cost instead.\", DeprecationWarning)\n",
      "C:\\Users\\Andrew Freiburger\\AppData\\Local\\Programs\\Python\\Python39\\lib\\site-packages\\cobra\\core\\metabolite.py:207: DeprecationWarning: Please use metabolite.shadow_price instead.\n",
      "  warn(\"Please use metabolite.shadow_price instead.\", DeprecationWarning)\n",
      "C:\\Users\\Andrew Freiburger\\AppData\\Local\\Programs\\Python\\Python39\\lib\\site-packages\\cobra\\core\\metabolite.py:191: UserWarning: The element 'R' does not appear in the periodic table\n",
      "  warn(f\"The element {e} does not appear in the periodic table\")\n"
     ]
    },
    {
     "name": "stdout",
     "output_type": "stream",
     "text": [
      "remaining possible_contributions 47\r"
     ]
    },
    {
     "name": "stderr",
     "output_type": "stream",
     "text": [
      "C:\\Users\\Andrew Freiburger\\AppData\\Local\\Programs\\Python\\Python39\\lib\\site-packages\\cobra\\core\\reaction.py:761: DeprecationWarning: Please use reaction.flux instead.\n",
      "  warn(\"Please use reaction.flux instead.\", DeprecationWarning)\n",
      "C:\\Users\\Andrew Freiburger\\AppData\\Local\\Programs\\Python\\Python39\\lib\\site-packages\\cobra\\core\\reaction.py:779: DeprecationWarning: Please use reaction.reduced_cost instead.\n",
      "  warn(\"Please use reaction.reduced_cost instead.\", DeprecationWarning)\n",
      "C:\\Users\\Andrew Freiburger\\AppData\\Local\\Programs\\Python\\Python39\\lib\\site-packages\\cobra\\core\\metabolite.py:207: DeprecationWarning: Please use metabolite.shadow_price instead.\n",
      "  warn(\"Please use metabolite.shadow_price instead.\", DeprecationWarning)\n",
      "C:\\Users\\Andrew Freiburger\\AppData\\Local\\Programs\\Python\\Python39\\lib\\site-packages\\cobra\\core\\metabolite.py:191: UserWarning: The element 'R' does not appear in the periodic table\n",
      "  warn(f\"The element {e} does not appear in the periodic table\")\n"
     ]
    },
    {
     "name": "stdout",
     "output_type": "stream",
     "text": [
      "remaining possible_contributions 40\r"
     ]
    },
    {
     "name": "stderr",
     "output_type": "stream",
     "text": [
      "C:\\Users\\Andrew Freiburger\\AppData\\Local\\Programs\\Python\\Python39\\lib\\site-packages\\cobra\\core\\reaction.py:761: DeprecationWarning: Please use reaction.flux instead.\n",
      "  warn(\"Please use reaction.flux instead.\", DeprecationWarning)\n",
      "C:\\Users\\Andrew Freiburger\\AppData\\Local\\Programs\\Python\\Python39\\lib\\site-packages\\cobra\\core\\reaction.py:779: DeprecationWarning: Please use reaction.reduced_cost instead.\n",
      "  warn(\"Please use reaction.reduced_cost instead.\", DeprecationWarning)\n",
      "C:\\Users\\Andrew Freiburger\\AppData\\Local\\Programs\\Python\\Python39\\lib\\site-packages\\cobra\\core\\metabolite.py:207: DeprecationWarning: Please use metabolite.shadow_price instead.\n",
      "  warn(\"Please use metabolite.shadow_price instead.\", DeprecationWarning)\n"
     ]
    },
    {
     "name": "stdout",
     "output_type": "stream",
     "text": [
      "remaining possible_contributions 39\r"
     ]
    },
    {
     "name": "stderr",
     "output_type": "stream",
     "text": [
      "C:\\Users\\Andrew Freiburger\\AppData\\Local\\Programs\\Python\\Python39\\lib\\site-packages\\cobra\\core\\reaction.py:761: DeprecationWarning: Please use reaction.flux instead.\n",
      "  warn(\"Please use reaction.flux instead.\", DeprecationWarning)\n",
      "C:\\Users\\Andrew Freiburger\\AppData\\Local\\Programs\\Python\\Python39\\lib\\site-packages\\cobra\\core\\reaction.py:779: DeprecationWarning: Please use reaction.reduced_cost instead.\n",
      "  warn(\"Please use reaction.reduced_cost instead.\", DeprecationWarning)\n",
      "C:\\Users\\Andrew Freiburger\\AppData\\Local\\Programs\\Python\\Python39\\lib\\site-packages\\cobra\\core\\metabolite.py:207: DeprecationWarning: Please use metabolite.shadow_price instead.\n",
      "  warn(\"Please use metabolite.shadow_price instead.\", DeprecationWarning)\n"
     ]
    },
    {
     "name": "stdout",
     "output_type": "stream",
     "text": [
      "remaining possible_contributions 38\n",
      "MP score:\t\t\tEach member can possibly contribute the following to the community:\n",
      "\n",
      "Pseudomonas_GM17_pacbio_v2.RAST.fbamodel \t 39\n",
      "Sphingobium_AP49_pacbio_v2.RAST.fbamodel \t 28\n",
      "The Pseudomonas_GM17_pacbio_v2.RAST.fbamodel_Sphingobium_AP49_pacbio_v2.RAST.fbamodel pair has been examined after 0.8174479166666667 minutes.\n",
      "CPU times: total: 50.5 s\n",
      "Wall time: 52.9 s\n"
     ]
    }
   ],
   "source": [
    "%%time\n",
    "\n",
    "GM17_AP49_model = kbase_api.get_from_ws(\"GM17-AP49\", 114731)\n",
    "test_pair(GM17, AP49, GM17_AP49_model)"
   ]
  },
  {
   "cell_type": "markdown",
   "id": "130448d1-0a89-4e32-84d4-9e64a03e46f6",
   "metadata": {},
   "source": [
    "## GM17 on CF313"
   ]
  },
  {
   "cell_type": "code",
   "execution_count": 17,
   "id": "2840df27-3843-4d3c-beb9-662bf5c17d3d",
   "metadata": {
    "tags": []
   },
   "outputs": [
    {
     "name": "stderr",
     "output_type": "stream",
     "text": [
      "modelseedpy.community.mscompatibility - WARNING - IDWarning: The original ID cpd00609_e0 is a ModelSEED ID, and may not be desirably changed to cpd00609_e0.\n"
     ]
    },
    {
     "name": "stdout",
     "output_type": "stream",
     "text": [
      "\n",
      "\n",
      "0 reactions were substituted and 1 metabolite IDs were redefined in Pseudomonas_GM17_pacbio_v2.RAST.fbamodel,Variovorax_CF313_pacbio_v2.RAST.fbamodel by standardize().\n",
      "The minimal flux media consists of 40 compounds and a 1.9477792410966135 total influx, with a growth value of 0.10000000000003348\n",
      "The minimal flux media consists of 33 compounds and a 1.6635843914754609 total influx, with a growth value of 0.10000000000008374\n",
      "The minimal flux media consists of 33 compounds and a 0.49871135740763395 total influx, with a growth value of 0.09999999999989247\n",
      "\n",
      "The Pseudomonas_GM17_pacbio_v2.RAST.fbamodel on Variovorax_CF313_pacbio_v2.RAST.fbamodel) MRO score: 0.775 (77.50%). This is the percent of nutritional requirements in Pseudomonas_GM17_pacbio_v2.RAST.fbamodel that overlap with Variovorax_CF313_pacbio_v2.RAST.fbamodel) (31/40).\n",
      "\n",
      "The Variovorax_CF313_pacbio_v2.RAST.fbamodel on Pseudomonas_GM17_pacbio_v2.RAST.fbamodel) MRO score: 0.9393939393939394 (93.94%). This is the percent of nutritional requirements in Variovorax_CF313_pacbio_v2.RAST.fbamodel that overlap with Pseudomonas_GM17_pacbio_v2.RAST.fbamodel) (31/33).\n",
      "{'dictionary_item_added': [root['EX_cpd10516_e0'], root['EX_cpd00042_e0']], 'dictionary_item_removed': [root['EX_cpd00209_e0'], root['EX_cpd00307_e0'], root['EX_cpd00069_e0'], root['EX_cpd00084_e0'], root['EX_cpd00118_e0'], root['EX_cpd00136_e0'], root['EX_cpd00023_e0'], root['EX_cpd00128_e0'], root['EX_cpd00132_e0'], root['EX_cpd00039_e0'], root['EX_cpd00066_e0'], root['EX_cpd00119_e0'], root['EX_cpd00311_e0'], root['EX_cpd00214_e0'], root['EX_cpd00082_e0']], 'values_changed': {\"root['EX_cpd00179_e0']\": {'new_value': 0.138505703468954, 'old_value': 0.02758372701762354}, \"root['EX_cpd03847_e0']\": {'new_value': 0.001250529885538559, 'old_value': 0.0012505298855447196}, \"root['EX_cpd00017_e0']\": {'new_value': 0.028849705412136856, 'old_value': 0.01570492038288574}, \"root['EX_cpd00220_e0']\": {'new_value': 0.0008418477477562695, 'old_value': 0.0008418477477591301}, \"root['EX_cpd00644_e0']\": {'new_value': 0.0005612318319182736, 'old_value': 0.0005612318321740274}, \"root['EX_cpd00007_e0']\": {'new_value': 0.0007716937688876105, 'old_value': 0.0007716937688876106}, \"root['EX_cpd00355_e0']\": {'new_value': 0.08097467952171279, 'old_value': 0.9786116562053975}, \"root['EX_cpd00393_e0']\": {'new_value': 0.0008418477478773934, 'old_value': 0.0008418477478773956}, \"root['EX_cpd00051_e0']\": {'new_value': 0.11556305537736095, 'old_value': 0.0246696822701341}, \"root['EX_cpd10515_e0']\": {'new_value': 0.0005612318319182622, 'old_value': 0.0008418477478773932}, \"root['EX_cpd01080_e0']\": {'new_value': 0.012458137977227049, 'old_value': 0.012458137977227047}, \"root['EX_cpd00654_e0']\": {'new_value': 0.0026078203607237376, 'old_value': 0.0026078203607171266}}}\n",
      "\n",
      "MIP score: 15\t\t\t15 required compound(s) can be sourced via syntrophy:\n",
      "executing MP\n"
     ]
    },
    {
     "name": "stderr",
     "output_type": "stream",
     "text": [
      "modelseedpy.community.mscompatibility - WARNING - IDWarning: The original ID cpd00609_e0 is a ModelSEED ID, and may not be desirably changed to cpd00609_e0.\n"
     ]
    },
    {
     "name": "stdout",
     "output_type": "stream",
     "text": [
      "\n",
      "\n",
      "0 reactions were substituted and 1 metabolite IDs were redefined in GM17-CF313 by standardize().\n",
      "The minimal flux media consists of 49 compounds and a 5936.934698279686 total influx, with a growth value of 212.15583360892896\n",
      "\n",
      "\n",
      "\n",
      "Standardize exchange reactions in Pseudomonas_GM17_pacbio_v2.RAST.fbamodel \n",
      " =============================================================================\n",
      "The exchange  metabolite ID's of the model Pseudomonas_GM17_pacbio_v2.RAST.fbamodel are completely standardized to ModelSEED.\n"
     ]
    },
    {
     "name": "stderr",
     "output_type": "stream",
     "text": [
      "C:\\Users\\Andrew Freiburger\\AppData\\Local\\Programs\\Python\\Python39\\lib\\site-packages\\cobra\\core\\reaction.py:761: DeprecationWarning: Please use reaction.flux instead.\n",
      "  warn(\"Please use reaction.flux instead.\", DeprecationWarning)\n",
      "C:\\Users\\Andrew Freiburger\\AppData\\Local\\Programs\\Python\\Python39\\lib\\site-packages\\cobra\\core\\reaction.py:779: DeprecationWarning: Please use reaction.reduced_cost instead.\n",
      "  warn(\"Please use reaction.reduced_cost instead.\", DeprecationWarning)\n",
      "C:\\Users\\Andrew Freiburger\\AppData\\Local\\Programs\\Python\\Python39\\lib\\site-packages\\cobra\\core\\metabolite.py:207: DeprecationWarning: Please use metabolite.shadow_price instead.\n",
      "  warn(\"Please use metabolite.shadow_price instead.\", DeprecationWarning)\n",
      "C:\\Users\\Andrew Freiburger\\AppData\\Local\\Programs\\Python\\Python39\\lib\\site-packages\\cobra\\core\\metabolite.py:191: UserWarning: The element 'R' does not appear in the periodic table\n",
      "  warn(f\"The element {e} does not appear in the periodic table\")\n"
     ]
    },
    {
     "name": "stdout",
     "output_type": "stream",
     "text": [
      "remaining possible_contributions 60\r"
     ]
    },
    {
     "name": "stderr",
     "output_type": "stream",
     "text": [
      "C:\\Users\\Andrew Freiburger\\AppData\\Local\\Programs\\Python\\Python39\\lib\\site-packages\\cobra\\core\\reaction.py:761: DeprecationWarning: Please use reaction.flux instead.\n",
      "  warn(\"Please use reaction.flux instead.\", DeprecationWarning)\n",
      "C:\\Users\\Andrew Freiburger\\AppData\\Local\\Programs\\Python\\Python39\\lib\\site-packages\\cobra\\core\\reaction.py:779: DeprecationWarning: Please use reaction.reduced_cost instead.\n",
      "  warn(\"Please use reaction.reduced_cost instead.\", DeprecationWarning)\n",
      "C:\\Users\\Andrew Freiburger\\AppData\\Local\\Programs\\Python\\Python39\\lib\\site-packages\\cobra\\core\\metabolite.py:207: DeprecationWarning: Please use metabolite.shadow_price instead.\n",
      "  warn(\"Please use metabolite.shadow_price instead.\", DeprecationWarning)\n"
     ]
    },
    {
     "name": "stdout",
     "output_type": "stream",
     "text": [
      "remaining possible_contributions 52\r"
     ]
    },
    {
     "name": "stderr",
     "output_type": "stream",
     "text": [
      "C:\\Users\\Andrew Freiburger\\AppData\\Local\\Programs\\Python\\Python39\\lib\\site-packages\\cobra\\core\\reaction.py:761: DeprecationWarning: Please use reaction.flux instead.\n",
      "  warn(\"Please use reaction.flux instead.\", DeprecationWarning)\n",
      "C:\\Users\\Andrew Freiburger\\AppData\\Local\\Programs\\Python\\Python39\\lib\\site-packages\\cobra\\core\\reaction.py:779: DeprecationWarning: Please use reaction.reduced_cost instead.\n",
      "  warn(\"Please use reaction.reduced_cost instead.\", DeprecationWarning)\n",
      "C:\\Users\\Andrew Freiburger\\AppData\\Local\\Programs\\Python\\Python39\\lib\\site-packages\\cobra\\core\\metabolite.py:207: DeprecationWarning: Please use metabolite.shadow_price instead.\n",
      "  warn(\"Please use metabolite.shadow_price instead.\", DeprecationWarning)\n"
     ]
    },
    {
     "name": "stdout",
     "output_type": "stream",
     "text": [
      "remaining possible_contributions 51\n",
      "\n",
      "\n",
      "Standardize exchange reactions in Variovorax_CF313_pacbio_v2.RAST.fbamodel \n",
      " =============================================================================\n",
      "The exchange  metabolite ID's of the model Variovorax_CF313_pacbio_v2.RAST.fbamodel are completely standardized to ModelSEED.\n"
     ]
    },
    {
     "name": "stderr",
     "output_type": "stream",
     "text": [
      "C:\\Users\\Andrew Freiburger\\AppData\\Local\\Programs\\Python\\Python39\\lib\\site-packages\\cobra\\core\\reaction.py:761: DeprecationWarning: Please use reaction.flux instead.\n",
      "  warn(\"Please use reaction.flux instead.\", DeprecationWarning)\n",
      "C:\\Users\\Andrew Freiburger\\AppData\\Local\\Programs\\Python\\Python39\\lib\\site-packages\\cobra\\core\\reaction.py:779: DeprecationWarning: Please use reaction.reduced_cost instead.\n",
      "  warn(\"Please use reaction.reduced_cost instead.\", DeprecationWarning)\n",
      "C:\\Users\\Andrew Freiburger\\AppData\\Local\\Programs\\Python\\Python39\\lib\\site-packages\\cobra\\core\\metabolite.py:207: DeprecationWarning: Please use metabolite.shadow_price instead.\n",
      "  warn(\"Please use metabolite.shadow_price instead.\", DeprecationWarning)\n",
      "C:\\Users\\Andrew Freiburger\\AppData\\Local\\Programs\\Python\\Python39\\lib\\site-packages\\cobra\\core\\metabolite.py:191: UserWarning: The element 'R' does not appear in the periodic table\n",
      "  warn(f\"The element {e} does not appear in the periodic table\")\n"
     ]
    },
    {
     "name": "stdout",
     "output_type": "stream",
     "text": [
      "remaining possible_contributions 58\r"
     ]
    },
    {
     "name": "stderr",
     "output_type": "stream",
     "text": [
      "C:\\Users\\Andrew Freiburger\\AppData\\Local\\Programs\\Python\\Python39\\lib\\site-packages\\cobra\\core\\reaction.py:761: DeprecationWarning: Please use reaction.flux instead.\n",
      "  warn(\"Please use reaction.flux instead.\", DeprecationWarning)\n",
      "C:\\Users\\Andrew Freiburger\\AppData\\Local\\Programs\\Python\\Python39\\lib\\site-packages\\cobra\\core\\reaction.py:779: DeprecationWarning: Please use reaction.reduced_cost instead.\n",
      "  warn(\"Please use reaction.reduced_cost instead.\", DeprecationWarning)\n",
      "C:\\Users\\Andrew Freiburger\\AppData\\Local\\Programs\\Python\\Python39\\lib\\site-packages\\cobra\\core\\metabolite.py:207: DeprecationWarning: Please use metabolite.shadow_price instead.\n",
      "  warn(\"Please use metabolite.shadow_price instead.\", DeprecationWarning)\n"
     ]
    },
    {
     "name": "stdout",
     "output_type": "stream",
     "text": [
      "remaining possible_contributions 55\r"
     ]
    },
    {
     "name": "stderr",
     "output_type": "stream",
     "text": [
      "C:\\Users\\Andrew Freiburger\\AppData\\Local\\Programs\\Python\\Python39\\lib\\site-packages\\cobra\\core\\reaction.py:761: DeprecationWarning: Please use reaction.flux instead.\n",
      "  warn(\"Please use reaction.flux instead.\", DeprecationWarning)\n",
      "C:\\Users\\Andrew Freiburger\\AppData\\Local\\Programs\\Python\\Python39\\lib\\site-packages\\cobra\\core\\reaction.py:779: DeprecationWarning: Please use reaction.reduced_cost instead.\n",
      "  warn(\"Please use reaction.reduced_cost instead.\", DeprecationWarning)\n",
      "C:\\Users\\Andrew Freiburger\\AppData\\Local\\Programs\\Python\\Python39\\lib\\site-packages\\cobra\\core\\metabolite.py:207: DeprecationWarning: Please use metabolite.shadow_price instead.\n",
      "  warn(\"Please use metabolite.shadow_price instead.\", DeprecationWarning)\n"
     ]
    },
    {
     "name": "stdout",
     "output_type": "stream",
     "text": [
      "remaining possible_contributions 54\n",
      "MP score:\t\t\tEach member can possibly contribute the following to the community:\n",
      "\n",
      "Pseudomonas_GM17_pacbio_v2.RAST.fbamodel \t 39\n",
      "Variovorax_CF313_pacbio_v2.RAST.fbamodel \t 25\n",
      "The Pseudomonas_GM17_pacbio_v2.RAST.fbamodel_Variovorax_CF313_pacbio_v2.RAST.fbamodel pair has been examined after 0.8791666666666667 minutes.\n",
      "CPU times: total: 54.3 s\n",
      "Wall time: 56.6 s\n"
     ]
    }
   ],
   "source": [
    "%%time\n",
    "\n",
    "\n",
    "GM17_CF313_model = kbase_api.get_from_ws(\"GM17-CF313\", 114731)\n",
    "test_pair(GM17, CF313, GM17_CF313_model)"
   ]
  },
  {
   "cell_type": "markdown",
   "id": "6a8831df-314e-40de-a1cf-d9ec4cf21278",
   "metadata": {},
   "source": [
    "## GM17 on AP07"
   ]
  },
  {
   "cell_type": "code",
   "execution_count": 18,
   "id": "f27b805f-2f70-4eea-b352-4d5446e2320b",
   "metadata": {
    "tags": []
   },
   "outputs": [
    {
     "name": "stderr",
     "output_type": "stream",
     "text": [
      "modelseedpy.community.mscompatibility - WARNING - IDWarning: The original ID cpd00609_e0 is a ModelSEED ID, and may not be desirably changed to cpd00609_e0.\n",
      "modelseedpy.community.mscompatibility - WARNING - IDWarning: The original ID cpd00609_e0 is a ModelSEED ID, and may not be desirably changed to cpd00609_e0.\n"
     ]
    },
    {
     "name": "stdout",
     "output_type": "stream",
     "text": [
      "\n",
      "\n",
      "0 reactions were substituted and 2 metabolite IDs were redefined in Pseudomonas_GM17_pacbio_v2.RAST.fbamodel,Caulobacter_AP07_pacbio_v2.RAST.fbamodel by standardize().\n",
      "The minimal flux media consists of 40 compounds and a 1.9477792410966135 total influx, with a growth value of 0.10000000000003348\n",
      "The minimal flux media consists of 38 compounds and a 1.765752438447337 total influx, with a growth value of 0.09999999999967218\n",
      "The minimal flux media consists of 33 compounds and a 0.48841852327640145 total influx, with a growth value of 0.0999999999999993\n",
      "\n",
      "The Pseudomonas_GM17_pacbio_v2.RAST.fbamodel on Caulobacter_AP07_pacbio_v2.RAST.fbamodel) MRO score: 0.775 (77.50%). This is the percent of nutritional requirements in Pseudomonas_GM17_pacbio_v2.RAST.fbamodel that overlap with Caulobacter_AP07_pacbio_v2.RAST.fbamodel) (31/40).\n",
      "\n",
      "The Caulobacter_AP07_pacbio_v2.RAST.fbamodel on Pseudomonas_GM17_pacbio_v2.RAST.fbamodel) MRO score: 0.8157894736842105 (81.58%). This is the percent of nutritional requirements in Caulobacter_AP07_pacbio_v2.RAST.fbamodel that overlap with Pseudomonas_GM17_pacbio_v2.RAST.fbamodel) (31/38).\n",
      "{'dictionary_item_added': [root['EX_cpd00179_e0'], root['EX_cpd10516_e0'], root['EX_cpd01017_e0']], 'dictionary_item_removed': [root['EX_cpd00182_e0'], root['EX_cpd00209_e0'], root['EX_cpd00180_e0'], root['EX_cpd00307_e0'], root['EX_cpd00069_e0'], root['EX_cpd00084_e0'], root['EX_cpd00092_e0'], root['EX_cpd00118_e0'], root['EX_cpd00136_e0'], root['EX_cpd00128_e0'], root['EX_cpd00132_e0'], root['EX_cpd00053_e0'], root['EX_cpd00039_e0'], root['EX_cpd00066_e0'], root['EX_cpd00119_e0'], root['EX_cpd00311_e0'], root['EX_cpd00082_e0']], 'values_changed': {\"root['EX_cpd00017_e0']\": {'new_value': 0.02884967065178942, 'old_value': 0.013060758175035828}, \"root['EX_cpd00205_e0']\": {'new_value': 0.00028061591595913103, 'old_value': 0.0002806159159591311}, \"root['EX_cpd00220_e0']\": {'new_value': 0.00084184774787696, 'old_value': 0.0008418477478773936}, \"root['EX_cpd00644_e0']\": {'new_value': 0.0005612318319182599, 'old_value': 0.0005612318319182484}, \"root['EX_cpd00007_e0']\": {'new_value': 0.0011926176428259867, 'old_value': 0.4156541414316454}, \"root['EX_cpd00355_e0']\": {'new_value': 0.08097461000040003, 'old_value': 0.5373683719995885}, \"root['EX_cpd00393_e0']\": {'new_value': 0.0008418477478773931, 'old_value': 0.0008418477478773917}, \"root['EX_cpd00156_e0']\": {'new_value': 0.035223318909162506, 'old_value': 0.03522331890916271}, \"root['EX_cpd00051_e0']\": {'new_value': 0.11779081399282111, 'old_value': 0.024669682270134108}, \"root['EX_cpd10515_e0']\": {'new_value': 0.0007015397898978276, 'old_value': 0.0008418477478773931}, \"root['EX_cpd01080_e0']\": {'new_value': 0.024916275954454087, 'old_value': 0.024916275954454076}, \"root['EX_cpd00793_e0']\": {'new_value': 0.0002806159159591311, 'old_value': 0.0002806159159591312}}}\n",
      "\n",
      "MIP score: 17\t\t\t17 required compound(s) can be sourced via syntrophy:\n",
      "executing MP\n"
     ]
    },
    {
     "name": "stderr",
     "output_type": "stream",
     "text": [
      "modelseedpy.community.mscompatibility - WARNING - IDWarning: The original ID cpd00609_e0 is a ModelSEED ID, and may not be desirably changed to cpd00609_e0.\n"
     ]
    },
    {
     "name": "stdout",
     "output_type": "stream",
     "text": [
      "\n",
      "\n",
      "0 reactions were substituted and 1 metabolite IDs were redefined in GM17-AP07 by standardize().\n",
      "The minimal flux media consists of 41 compounds and a 2267.0324666631695 total influx, with a growth value of 130.2267917957597\n",
      "\n",
      "\n",
      "\n",
      "Standardize exchange reactions in Pseudomonas_GM17_pacbio_v2.RAST.fbamodel \n",
      " =============================================================================\n",
      "The exchange  metabolite ID's of the model Pseudomonas_GM17_pacbio_v2.RAST.fbamodel are completely standardized to ModelSEED.\n"
     ]
    },
    {
     "name": "stderr",
     "output_type": "stream",
     "text": [
      "C:\\Users\\Andrew Freiburger\\AppData\\Local\\Programs\\Python\\Python39\\lib\\site-packages\\cobra\\core\\reaction.py:761: DeprecationWarning: Please use reaction.flux instead.\n",
      "  warn(\"Please use reaction.flux instead.\", DeprecationWarning)\n",
      "C:\\Users\\Andrew Freiburger\\AppData\\Local\\Programs\\Python\\Python39\\lib\\site-packages\\cobra\\core\\reaction.py:779: DeprecationWarning: Please use reaction.reduced_cost instead.\n",
      "  warn(\"Please use reaction.reduced_cost instead.\", DeprecationWarning)\n",
      "C:\\Users\\Andrew Freiburger\\AppData\\Local\\Programs\\Python\\Python39\\lib\\site-packages\\cobra\\core\\metabolite.py:207: DeprecationWarning: Please use metabolite.shadow_price instead.\n",
      "  warn(\"Please use metabolite.shadow_price instead.\", DeprecationWarning)\n",
      "C:\\Users\\Andrew Freiburger\\AppData\\Local\\Programs\\Python\\Python39\\lib\\site-packages\\cobra\\core\\metabolite.py:191: UserWarning: The element 'R' does not appear in the periodic table\n",
      "  warn(f\"The element {e} does not appear in the periodic table\")\n"
     ]
    },
    {
     "name": "stdout",
     "output_type": "stream",
     "text": [
      "remaining possible_contributions 69\r"
     ]
    },
    {
     "name": "stderr",
     "output_type": "stream",
     "text": [
      "C:\\Users\\Andrew Freiburger\\AppData\\Local\\Programs\\Python\\Python39\\lib\\site-packages\\cobra\\core\\reaction.py:761: DeprecationWarning: Please use reaction.flux instead.\n",
      "  warn(\"Please use reaction.flux instead.\", DeprecationWarning)\n",
      "C:\\Users\\Andrew Freiburger\\AppData\\Local\\Programs\\Python\\Python39\\lib\\site-packages\\cobra\\core\\reaction.py:779: DeprecationWarning: Please use reaction.reduced_cost instead.\n",
      "  warn(\"Please use reaction.reduced_cost instead.\", DeprecationWarning)\n",
      "C:\\Users\\Andrew Freiburger\\AppData\\Local\\Programs\\Python\\Python39\\lib\\site-packages\\cobra\\core\\metabolite.py:207: DeprecationWarning: Please use metabolite.shadow_price instead.\n",
      "  warn(\"Please use metabolite.shadow_price instead.\", DeprecationWarning)\n",
      "C:\\Users\\Andrew Freiburger\\AppData\\Local\\Programs\\Python\\Python39\\lib\\site-packages\\cobra\\core\\metabolite.py:191: UserWarning: The element 'R' does not appear in the periodic table\n",
      "  warn(f\"The element {e} does not appear in the periodic table\")\n"
     ]
    },
    {
     "name": "stdout",
     "output_type": "stream",
     "text": [
      "remaining possible_contributions 57\r"
     ]
    },
    {
     "name": "stderr",
     "output_type": "stream",
     "text": [
      "C:\\Users\\Andrew Freiburger\\AppData\\Local\\Programs\\Python\\Python39\\lib\\site-packages\\cobra\\core\\reaction.py:761: DeprecationWarning: Please use reaction.flux instead.\n",
      "  warn(\"Please use reaction.flux instead.\", DeprecationWarning)\n",
      "C:\\Users\\Andrew Freiburger\\AppData\\Local\\Programs\\Python\\Python39\\lib\\site-packages\\cobra\\core\\reaction.py:779: DeprecationWarning: Please use reaction.reduced_cost instead.\n",
      "  warn(\"Please use reaction.reduced_cost instead.\", DeprecationWarning)\n",
      "C:\\Users\\Andrew Freiburger\\AppData\\Local\\Programs\\Python\\Python39\\lib\\site-packages\\cobra\\core\\metabolite.py:207: DeprecationWarning: Please use metabolite.shadow_price instead.\n",
      "  warn(\"Please use metabolite.shadow_price instead.\", DeprecationWarning)\n"
     ]
    },
    {
     "name": "stdout",
     "output_type": "stream",
     "text": [
      "remaining possible_contributions 54\r"
     ]
    },
    {
     "name": "stderr",
     "output_type": "stream",
     "text": [
      "C:\\Users\\Andrew Freiburger\\AppData\\Local\\Programs\\Python\\Python39\\lib\\site-packages\\cobra\\core\\reaction.py:761: DeprecationWarning: Please use reaction.flux instead.\n",
      "  warn(\"Please use reaction.flux instead.\", DeprecationWarning)\n",
      "C:\\Users\\Andrew Freiburger\\AppData\\Local\\Programs\\Python\\Python39\\lib\\site-packages\\cobra\\core\\reaction.py:779: DeprecationWarning: Please use reaction.reduced_cost instead.\n",
      "  warn(\"Please use reaction.reduced_cost instead.\", DeprecationWarning)\n",
      "C:\\Users\\Andrew Freiburger\\AppData\\Local\\Programs\\Python\\Python39\\lib\\site-packages\\cobra\\core\\metabolite.py:207: DeprecationWarning: Please use metabolite.shadow_price instead.\n",
      "  warn(\"Please use metabolite.shadow_price instead.\", DeprecationWarning)\n"
     ]
    },
    {
     "name": "stdout",
     "output_type": "stream",
     "text": [
      "remaining possible_contributions 53\n",
      "\n",
      "\n",
      "Standardize exchange reactions in Caulobacter_AP07_pacbio_v2.RAST.fbamodel \n",
      " =============================================================================\n",
      "The exchange  metabolite ID's of the model Caulobacter_AP07_pacbio_v2.RAST.fbamodel are completely standardized to ModelSEED.\n"
     ]
    },
    {
     "name": "stderr",
     "output_type": "stream",
     "text": [
      "C:\\Users\\Andrew Freiburger\\AppData\\Local\\Programs\\Python\\Python39\\lib\\site-packages\\cobra\\core\\reaction.py:761: DeprecationWarning: Please use reaction.flux instead.\n",
      "  warn(\"Please use reaction.flux instead.\", DeprecationWarning)\n",
      "C:\\Users\\Andrew Freiburger\\AppData\\Local\\Programs\\Python\\Python39\\lib\\site-packages\\cobra\\core\\reaction.py:779: DeprecationWarning: Please use reaction.reduced_cost instead.\n",
      "  warn(\"Please use reaction.reduced_cost instead.\", DeprecationWarning)\n",
      "C:\\Users\\Andrew Freiburger\\AppData\\Local\\Programs\\Python\\Python39\\lib\\site-packages\\cobra\\core\\metabolite.py:207: DeprecationWarning: Please use metabolite.shadow_price instead.\n",
      "  warn(\"Please use metabolite.shadow_price instead.\", DeprecationWarning)\n",
      "C:\\Users\\Andrew Freiburger\\AppData\\Local\\Programs\\Python\\Python39\\lib\\site-packages\\cobra\\core\\metabolite.py:191: UserWarning: The element 'R' does not appear in the periodic table\n",
      "  warn(f\"The element {e} does not appear in the periodic table\")\n"
     ]
    },
    {
     "name": "stdout",
     "output_type": "stream",
     "text": [
      "remaining possible_contributions 64\r"
     ]
    },
    {
     "name": "stderr",
     "output_type": "stream",
     "text": [
      "C:\\Users\\Andrew Freiburger\\AppData\\Local\\Programs\\Python\\Python39\\lib\\site-packages\\cobra\\core\\reaction.py:761: DeprecationWarning: Please use reaction.flux instead.\n",
      "  warn(\"Please use reaction.flux instead.\", DeprecationWarning)\n",
      "C:\\Users\\Andrew Freiburger\\AppData\\Local\\Programs\\Python\\Python39\\lib\\site-packages\\cobra\\core\\reaction.py:779: DeprecationWarning: Please use reaction.reduced_cost instead.\n",
      "  warn(\"Please use reaction.reduced_cost instead.\", DeprecationWarning)\n",
      "C:\\Users\\Andrew Freiburger\\AppData\\Local\\Programs\\Python\\Python39\\lib\\site-packages\\cobra\\core\\metabolite.py:207: DeprecationWarning: Please use metabolite.shadow_price instead.\n",
      "  warn(\"Please use metabolite.shadow_price instead.\", DeprecationWarning)\n"
     ]
    },
    {
     "name": "stdout",
     "output_type": "stream",
     "text": [
      "remaining possible_contributions 58\r"
     ]
    },
    {
     "name": "stderr",
     "output_type": "stream",
     "text": [
      "C:\\Users\\Andrew Freiburger\\AppData\\Local\\Programs\\Python\\Python39\\lib\\site-packages\\cobra\\core\\reaction.py:761: DeprecationWarning: Please use reaction.flux instead.\n",
      "  warn(\"Please use reaction.flux instead.\", DeprecationWarning)\n",
      "C:\\Users\\Andrew Freiburger\\AppData\\Local\\Programs\\Python\\Python39\\lib\\site-packages\\cobra\\core\\reaction.py:779: DeprecationWarning: Please use reaction.reduced_cost instead.\n",
      "  warn(\"Please use reaction.reduced_cost instead.\", DeprecationWarning)\n",
      "C:\\Users\\Andrew Freiburger\\AppData\\Local\\Programs\\Python\\Python39\\lib\\site-packages\\cobra\\core\\metabolite.py:207: DeprecationWarning: Please use metabolite.shadow_price instead.\n",
      "  warn(\"Please use metabolite.shadow_price instead.\", DeprecationWarning)\n"
     ]
    },
    {
     "name": "stdout",
     "output_type": "stream",
     "text": [
      "remaining possible_contributions 56\r"
     ]
    },
    {
     "name": "stderr",
     "output_type": "stream",
     "text": [
      "C:\\Users\\Andrew Freiburger\\AppData\\Local\\Programs\\Python\\Python39\\lib\\site-packages\\cobra\\core\\reaction.py:761: DeprecationWarning: Please use reaction.flux instead.\n",
      "  warn(\"Please use reaction.flux instead.\", DeprecationWarning)\n",
      "C:\\Users\\Andrew Freiburger\\AppData\\Local\\Programs\\Python\\Python39\\lib\\site-packages\\cobra\\core\\reaction.py:779: DeprecationWarning: Please use reaction.reduced_cost instead.\n",
      "  warn(\"Please use reaction.reduced_cost instead.\", DeprecationWarning)\n",
      "C:\\Users\\Andrew Freiburger\\AppData\\Local\\Programs\\Python\\Python39\\lib\\site-packages\\cobra\\core\\metabolite.py:207: DeprecationWarning: Please use metabolite.shadow_price instead.\n",
      "  warn(\"Please use metabolite.shadow_price instead.\", DeprecationWarning)\n"
     ]
    },
    {
     "name": "stdout",
     "output_type": "stream",
     "text": [
      "remaining possible_contributions 54\r"
     ]
    },
    {
     "name": "stderr",
     "output_type": "stream",
     "text": [
      "C:\\Users\\Andrew Freiburger\\AppData\\Local\\Programs\\Python\\Python39\\lib\\site-packages\\cobra\\core\\reaction.py:761: DeprecationWarning: Please use reaction.flux instead.\n",
      "  warn(\"Please use reaction.flux instead.\", DeprecationWarning)\n",
      "C:\\Users\\Andrew Freiburger\\AppData\\Local\\Programs\\Python\\Python39\\lib\\site-packages\\cobra\\core\\reaction.py:779: DeprecationWarning: Please use reaction.reduced_cost instead.\n",
      "  warn(\"Please use reaction.reduced_cost instead.\", DeprecationWarning)\n",
      "C:\\Users\\Andrew Freiburger\\AppData\\Local\\Programs\\Python\\Python39\\lib\\site-packages\\cobra\\core\\metabolite.py:207: DeprecationWarning: Please use metabolite.shadow_price instead.\n",
      "  warn(\"Please use metabolite.shadow_price instead.\", DeprecationWarning)\n"
     ]
    },
    {
     "name": "stdout",
     "output_type": "stream",
     "text": [
      "remaining possible_contributions 53\n",
      "MP score:\t\t\tEach member can possibly contribute the following to the community:\n",
      "\n",
      "Pseudomonas_GM17_pacbio_v2.RAST.fbamodel \t 46\n",
      "Caulobacter_AP07_pacbio_v2.RAST.fbamodel \t 35\n",
      "The Pseudomonas_GM17_pacbio_v2.RAST.fbamodel_Caulobacter_AP07_pacbio_v2.RAST.fbamodel pair has been examined after 0.9825520833333333 minutes.\n",
      "CPU times: total: 1min\n",
      "Wall time: 1min 3s\n"
     ]
    }
   ],
   "source": [
    "%%time\n",
    "\n",
    "GM17_AP07_model = kbase_api.get_from_ws(\"GM17-AP07\", 114731)\n",
    "test_pair(GM17, AP07, GM17_AP07_model)"
   ]
  },
  {
   "cell_type": "markdown",
   "id": "09cfc12c-d84c-4a87-836c-5829809c45b4",
   "metadata": {},
   "source": [
    "## GM17 on CF402"
   ]
  },
  {
   "cell_type": "code",
   "execution_count": 19,
   "id": "d918a46f-0136-49cd-b72d-5e9f024f977c",
   "metadata": {
    "tags": []
   },
   "outputs": [
    {
     "name": "stderr",
     "output_type": "stream",
     "text": [
      "modelseedpy.community.mscompatibility - WARNING - IDWarning: The original ID cpd00609_e0 is a ModelSEED ID, and may not be desirably changed to cpd00609_e0.\n"
     ]
    },
    {
     "name": "stdout",
     "output_type": "stream",
     "text": [
      "\n",
      "\n",
      "0 reactions were substituted and 1 metabolite IDs were redefined in Pseudomonas_GM17_pacbio_v2.RAST.fbamodel,Duagnella_sp_CF402.RAST.fbamodel by standardize().\n",
      "The minimal flux media consists of 40 compounds and a 1.9477792410966135 total influx, with a growth value of 0.10000000000003348\n",
      "The minimal flux media consists of 45 compounds and a 2.1525357822615443 total influx, with a growth value of 0.10000000000000193\n",
      "The minimal flux media consists of 45 compounds and a 1.7001236910854693 total influx, with a growth value of 0.1000000000000005\n",
      "\n",
      "The Pseudomonas_GM17_pacbio_v2.RAST.fbamodel on Duagnella_sp_CF402.RAST.fbamodel) MRO score: 0.625 (62.50%). This is the percent of nutritional requirements in Pseudomonas_GM17_pacbio_v2.RAST.fbamodel that overlap with Duagnella_sp_CF402.RAST.fbamodel) (25/40).\n",
      "\n",
      "The Duagnella_sp_CF402.RAST.fbamodel on Pseudomonas_GM17_pacbio_v2.RAST.fbamodel) MRO score: 0.5555555555555556 (55.56%). This is the percent of nutritional requirements in Duagnella_sp_CF402.RAST.fbamodel that overlap with Pseudomonas_GM17_pacbio_v2.RAST.fbamodel) (25/45).\n",
      "{'dictionary_item_added': [root['EX_cpd00017_e0'], root['EX_cpd00797_e0'], root['EX_cpd00210_e0']], 'dictionary_item_removed': [root['EX_cpd00054_e0'], root['EX_cpd00129_e0'], root['EX_cpd00118_e0'], root['EX_cpd00023_e0'], root['EX_cpd00128_e0'], root['EX_cpd00161_e0'], root['EX_cpd00053_e0'], root['EX_cpd00039_e0'], root['EX_cpd00311_e0'], root['EX_cpd00033_e0'], root['EX_cpd01017_e0'], root['EX_cpd00082_e0'], root['EX_cpd00060_e0']], 'values_changed': {\"root['EX_cpd00209_e0']\": {'new_value': 0.1704433054680043, 'old_value': 0.17865914890131346}, \"root['EX_cpd00027_e0']\": {'new_value': 0.21587356323751267, 'old_value': 0.21550163397269698}, \"root['EX_cpd00307_e0']\": {'new_value': 0.007881118883754765, 'old_value': 0.007881118883754774}, \"root['EX_cpd00220_e0']\": {'new_value': 0.0008418477478773881, 'old_value': 0.0008418477478773879}, \"root['EX_cpd00644_e0']\": {'new_value': 0.0005612318319180486, 'old_value': 0.0005612318319182864}, \"root['EX_cpd00046_e0']\": {'new_value': 0.004205180782724316, 'old_value': 0.004205180782724318}, \"root['EX_cpd00018_e0']\": {'new_value': 0.023822411702606922, 'old_value': 0.02382241170260745}, \"root['EX_cpd00007_e0']\": {'new_value': 0.33461648559272056, 'old_value': 0.33492968918414456}, \"root['EX_cpd00381_e0']\": {'new_value': 0.0036670166523028167, 'old_value': 0.001552892410192306}, \"root['EX_cpd00355_e0']\": {'new_value': 0.7182430475354983, 'old_value': 0.5812587112619328}, \"root['EX_cpd00393_e0']\": {'new_value': 0.0008418477478773932, 'old_value': 0.0008418477478773934}, \"root['EX_cpd00239_e0']\": {'new_value': 0.007421000977402345, 'old_value': 0.007421000977402347}, \"root['EX_cpd00184_e0']\": {'new_value': 0.0005942876867063706, 'old_value': 0.0005942876867063705}, \"root['EX_cpd01080_e0']\": {'new_value': 0.01245813797722705, 'old_value': 0.012458137977227045}}}\n",
      "\n",
      "MIP score: 13\t\t\t13 required compound(s) can be sourced via syntrophy:\n",
      "executing MP\n"
     ]
    },
    {
     "name": "stderr",
     "output_type": "stream",
     "text": [
      "modelseedpy.community.mscompatibility - WARNING - IDWarning: The original ID cpd00609_e0 is a ModelSEED ID, and may not be desirably changed to cpd00609_e0.\n"
     ]
    },
    {
     "name": "stdout",
     "output_type": "stream",
     "text": [
      "\n",
      "\n",
      "0 reactions were substituted and 1 metabolite IDs were redefined in GM17-CF402 by standardize().\n",
      "The minimal flux media consists of 42 compounds and a 1828.2022740585564 total influx, with a growth value of 84.3698302515631\n",
      "\n",
      "\n",
      "\n",
      "Standardize exchange reactions in Pseudomonas_GM17_pacbio_v2.RAST.fbamodel \n",
      " =============================================================================\n",
      "The exchange  metabolite ID's of the model Pseudomonas_GM17_pacbio_v2.RAST.fbamodel are completely standardized to ModelSEED.\n"
     ]
    },
    {
     "name": "stderr",
     "output_type": "stream",
     "text": [
      "C:\\Users\\Andrew Freiburger\\AppData\\Local\\Programs\\Python\\Python39\\lib\\site-packages\\cobra\\core\\reaction.py:761: DeprecationWarning: Please use reaction.flux instead.\n",
      "  warn(\"Please use reaction.flux instead.\", DeprecationWarning)\n",
      "C:\\Users\\Andrew Freiburger\\AppData\\Local\\Programs\\Python\\Python39\\lib\\site-packages\\cobra\\core\\reaction.py:779: DeprecationWarning: Please use reaction.reduced_cost instead.\n",
      "  warn(\"Please use reaction.reduced_cost instead.\", DeprecationWarning)\n",
      "C:\\Users\\Andrew Freiburger\\AppData\\Local\\Programs\\Python\\Python39\\lib\\site-packages\\cobra\\core\\metabolite.py:207: DeprecationWarning: Please use metabolite.shadow_price instead.\n",
      "  warn(\"Please use metabolite.shadow_price instead.\", DeprecationWarning)\n",
      "C:\\Users\\Andrew Freiburger\\AppData\\Local\\Programs\\Python\\Python39\\lib\\site-packages\\cobra\\core\\metabolite.py:191: UserWarning: The element 'R' does not appear in the periodic table\n",
      "  warn(f\"The element {e} does not appear in the periodic table\")\n"
     ]
    },
    {
     "name": "stdout",
     "output_type": "stream",
     "text": [
      "remaining possible_contributions 72\r"
     ]
    },
    {
     "name": "stderr",
     "output_type": "stream",
     "text": [
      "C:\\Users\\Andrew Freiburger\\AppData\\Local\\Programs\\Python\\Python39\\lib\\site-packages\\cobra\\core\\reaction.py:761: DeprecationWarning: Please use reaction.flux instead.\n",
      "  warn(\"Please use reaction.flux instead.\", DeprecationWarning)\n",
      "C:\\Users\\Andrew Freiburger\\AppData\\Local\\Programs\\Python\\Python39\\lib\\site-packages\\cobra\\core\\reaction.py:779: DeprecationWarning: Please use reaction.reduced_cost instead.\n",
      "  warn(\"Please use reaction.reduced_cost instead.\", DeprecationWarning)\n",
      "C:\\Users\\Andrew Freiburger\\AppData\\Local\\Programs\\Python\\Python39\\lib\\site-packages\\cobra\\core\\metabolite.py:207: DeprecationWarning: Please use metabolite.shadow_price instead.\n",
      "  warn(\"Please use metabolite.shadow_price instead.\", DeprecationWarning)\n",
      "C:\\Users\\Andrew Freiburger\\AppData\\Local\\Programs\\Python\\Python39\\lib\\site-packages\\cobra\\core\\metabolite.py:191: UserWarning: The element 'R' does not appear in the periodic table\n",
      "  warn(f\"The element {e} does not appear in the periodic table\")\n"
     ]
    },
    {
     "name": "stdout",
     "output_type": "stream",
     "text": [
      "remaining possible_contributions 62\r"
     ]
    },
    {
     "name": "stderr",
     "output_type": "stream",
     "text": [
      "C:\\Users\\Andrew Freiburger\\AppData\\Local\\Programs\\Python\\Python39\\lib\\site-packages\\cobra\\core\\reaction.py:761: DeprecationWarning: Please use reaction.flux instead.\n",
      "  warn(\"Please use reaction.flux instead.\", DeprecationWarning)\n",
      "C:\\Users\\Andrew Freiburger\\AppData\\Local\\Programs\\Python\\Python39\\lib\\site-packages\\cobra\\core\\reaction.py:779: DeprecationWarning: Please use reaction.reduced_cost instead.\n",
      "  warn(\"Please use reaction.reduced_cost instead.\", DeprecationWarning)\n",
      "C:\\Users\\Andrew Freiburger\\AppData\\Local\\Programs\\Python\\Python39\\lib\\site-packages\\cobra\\core\\metabolite.py:207: DeprecationWarning: Please use metabolite.shadow_price instead.\n",
      "  warn(\"Please use metabolite.shadow_price instead.\", DeprecationWarning)\n"
     ]
    },
    {
     "name": "stdout",
     "output_type": "stream",
     "text": [
      "remaining possible_contributions 56\r"
     ]
    },
    {
     "name": "stderr",
     "output_type": "stream",
     "text": [
      "C:\\Users\\Andrew Freiburger\\AppData\\Local\\Programs\\Python\\Python39\\lib\\site-packages\\cobra\\core\\reaction.py:761: DeprecationWarning: Please use reaction.flux instead.\n",
      "  warn(\"Please use reaction.flux instead.\", DeprecationWarning)\n",
      "C:\\Users\\Andrew Freiburger\\AppData\\Local\\Programs\\Python\\Python39\\lib\\site-packages\\cobra\\core\\reaction.py:779: DeprecationWarning: Please use reaction.reduced_cost instead.\n",
      "  warn(\"Please use reaction.reduced_cost instead.\", DeprecationWarning)\n",
      "C:\\Users\\Andrew Freiburger\\AppData\\Local\\Programs\\Python\\Python39\\lib\\site-packages\\cobra\\core\\metabolite.py:207: DeprecationWarning: Please use metabolite.shadow_price instead.\n",
      "  warn(\"Please use metabolite.shadow_price instead.\", DeprecationWarning)\n"
     ]
    },
    {
     "name": "stdout",
     "output_type": "stream",
     "text": [
      "remaining possible_contributions 53\r"
     ]
    },
    {
     "name": "stderr",
     "output_type": "stream",
     "text": [
      "C:\\Users\\Andrew Freiburger\\AppData\\Local\\Programs\\Python\\Python39\\lib\\site-packages\\cobra\\core\\reaction.py:761: DeprecationWarning: Please use reaction.flux instead.\n",
      "  warn(\"Please use reaction.flux instead.\", DeprecationWarning)\n",
      "C:\\Users\\Andrew Freiburger\\AppData\\Local\\Programs\\Python\\Python39\\lib\\site-packages\\cobra\\core\\reaction.py:779: DeprecationWarning: Please use reaction.reduced_cost instead.\n",
      "  warn(\"Please use reaction.reduced_cost instead.\", DeprecationWarning)\n",
      "C:\\Users\\Andrew Freiburger\\AppData\\Local\\Programs\\Python\\Python39\\lib\\site-packages\\cobra\\core\\metabolite.py:207: DeprecationWarning: Please use metabolite.shadow_price instead.\n",
      "  warn(\"Please use metabolite.shadow_price instead.\", DeprecationWarning)\n"
     ]
    },
    {
     "name": "stdout",
     "output_type": "stream",
     "text": [
      "remaining possible_contributions 50\n",
      "\n",
      "\n",
      "Standardize exchange reactions in Duagnella_sp_CF402.RAST.fbamodel \n",
      " =====================================================================\n",
      "The exchange  metabolite ID's of the model Duagnella_sp_CF402.RAST.fbamodel are completely standardized to ModelSEED.\n"
     ]
    },
    {
     "name": "stderr",
     "output_type": "stream",
     "text": [
      "C:\\Users\\Andrew Freiburger\\AppData\\Local\\Programs\\Python\\Python39\\lib\\site-packages\\cobra\\core\\reaction.py:761: DeprecationWarning: Please use reaction.flux instead.\n",
      "  warn(\"Please use reaction.flux instead.\", DeprecationWarning)\n",
      "C:\\Users\\Andrew Freiburger\\AppData\\Local\\Programs\\Python\\Python39\\lib\\site-packages\\cobra\\core\\reaction.py:779: DeprecationWarning: Please use reaction.reduced_cost instead.\n",
      "  warn(\"Please use reaction.reduced_cost instead.\", DeprecationWarning)\n",
      "C:\\Users\\Andrew Freiburger\\AppData\\Local\\Programs\\Python\\Python39\\lib\\site-packages\\cobra\\core\\metabolite.py:207: DeprecationWarning: Please use metabolite.shadow_price instead.\n",
      "  warn(\"Please use metabolite.shadow_price instead.\", DeprecationWarning)\n"
     ]
    },
    {
     "name": "stdout",
     "output_type": "stream",
     "text": [
      "remaining possible_contributions 16\r"
     ]
    },
    {
     "name": "stderr",
     "output_type": "stream",
     "text": [
      "C:\\Users\\Andrew Freiburger\\AppData\\Local\\Programs\\Python\\Python39\\lib\\site-packages\\cobra\\core\\reaction.py:761: DeprecationWarning: Please use reaction.flux instead.\n",
      "  warn(\"Please use reaction.flux instead.\", DeprecationWarning)\n",
      "C:\\Users\\Andrew Freiburger\\AppData\\Local\\Programs\\Python\\Python39\\lib\\site-packages\\cobra\\core\\reaction.py:779: DeprecationWarning: Please use reaction.reduced_cost instead.\n",
      "  warn(\"Please use reaction.reduced_cost instead.\", DeprecationWarning)\n",
      "C:\\Users\\Andrew Freiburger\\AppData\\Local\\Programs\\Python\\Python39\\lib\\site-packages\\cobra\\core\\metabolite.py:207: DeprecationWarning: Please use metabolite.shadow_price instead.\n",
      "  warn(\"Please use metabolite.shadow_price instead.\", DeprecationWarning)\n"
     ]
    },
    {
     "name": "stdout",
     "output_type": "stream",
     "text": [
      "\n",
      "MP score:\t\t\tEach member can possibly contribute the following to the community:\n",
      "\n",
      "Pseudomonas_GM17_pacbio_v2.RAST.fbamodel \t 52\n",
      "Duagnella_sp_CF402.RAST.fbamodel \t 11\n",
      "The Pseudomonas_GM17_pacbio_v2.RAST.fbamodel_Duagnella_sp_CF402.RAST.fbamodel pair has been examined after 0.5783854166666667 minutes.\n",
      "CPU times: total: 35.7 s\n",
      "Wall time: 38 s\n"
     ]
    }
   ],
   "source": [
    "%%time\n",
    "\n",
    "GM17_CF402_model = kbase_api.get_from_ws(\"GM17-CF402\", 114731)\n",
    "test_pair(GM17, CF402, GM17_CF402_model)"
   ]
  },
  {
   "cell_type": "markdown",
   "id": "bcfa9f2a-5365-4385-9146-7e0ff4e21c81",
   "metadata": {},
   "source": [
    "## GM17 on BT03"
   ]
  },
  {
   "cell_type": "code",
   "execution_count": 20,
   "id": "0bd97df7-4d65-4db8-bd45-969b3c36baab",
   "metadata": {
    "tags": []
   },
   "outputs": [
    {
     "name": "stderr",
     "output_type": "stream",
     "text": [
      "modelseedpy.community.mscompatibility - WARNING - IDWarning: The original ID cpd00609_e0 is a ModelSEED ID, and may not be desirably changed to cpd00609_e0.\n",
      "modelseedpy.community.mscompatibility - WARNING - IDWarning: The original ID cpd00609_e0 is a ModelSEED ID, and may not be desirably changed to cpd00609_e0.\n"
     ]
    },
    {
     "name": "stdout",
     "output_type": "stream",
     "text": [
      "\n",
      "\n",
      "0 reactions were substituted and 2 metabolite IDs were redefined in Pseudomonas_GM17_pacbio_v2.RAST.fbamodel,Burkholderia_sp._BT03.RAST.fbamodel by standardize().\n",
      "The minimal flux media consists of 40 compounds and a 1.9477792410966135 total influx, with a growth value of 0.10000000000003348\n",
      "The minimal flux media consists of 37 compounds and a 2.019288624234626 total influx, with a growth value of 0.10000000000001602\n",
      "The minimal flux media consists of 35 compounds and a 0.4616759692013116 total influx, with a growth value of 0.1000000000008618\n",
      "\n",
      "The Pseudomonas_GM17_pacbio_v2.RAST.fbamodel on Burkholderia_sp._BT03.RAST.fbamodel) MRO score: 0.775 (77.50%). This is the percent of nutritional requirements in Pseudomonas_GM17_pacbio_v2.RAST.fbamodel that overlap with Burkholderia_sp._BT03.RAST.fbamodel) (31/40).\n",
      "\n",
      "The Burkholderia_sp._BT03.RAST.fbamodel on Pseudomonas_GM17_pacbio_v2.RAST.fbamodel) MRO score: 0.8378378378378378 (83.78%). This is the percent of nutritional requirements in Burkholderia_sp._BT03.RAST.fbamodel that overlap with Pseudomonas_GM17_pacbio_v2.RAST.fbamodel) (31/37).\n",
      "{'dictionary_item_added': [root['EX_cpd00179_e0'], root['EX_cpd11584_e0'], root['EX_cpd15606_e0'], root['EX_cpd15605_e0'], root['EX_cpd11583_e0']], 'dictionary_item_removed': [root['EX_cpd00209_e0'], root['EX_cpd00180_e0'], root['EX_cpd00307_e0'], root['EX_cpd00069_e0'], root['EX_cpd00107_e0'], root['EX_cpd00084_e0'], root['EX_cpd00118_e0'], root['EX_cpd00136_e0'], root['EX_cpd00080_e0'], root['EX_cpd00128_e0'], root['EX_cpd00132_e0'], root['EX_cpd00039_e0'], root['EX_cpd00066_e0'], root['EX_cpd00051_e0'], root['EX_cpd00119_e0'], root['EX_cpd00311_e0'], root['EX_cpd00082_e0']], 'values_changed': {\"root['EX_cpd00017_e0']\": {'new_value': 0.028849786529175612, 'old_value': 0.015705001496407238}, \"root['EX_cpd00220_e0']\": {'new_value': 0.0008418477478690823, 'old_value': 0.0008418477478773985}, \"root['EX_cpd00644_e0']\": {'new_value': 0.0005612318319181762, 'old_value': 0.0005612318319182816}, \"root['EX_cpd00007_e0']\": {'new_value': 0.0008418477478773932, 'old_value': 0.0008418477478773928}, \"root['EX_cpd00042_e0']\": {'new_value': 0.008456496968442247, 'old_value': 0.004228248484221128}, \"root['EX_cpd00355_e0']\": {'new_value': 0.08097484175813427, 'old_value': 0.5591075006103794}, \"root['EX_cpd00393_e0']\": {'new_value': 0.0008418477478773966, 'old_value': 0.0008418477478773958}, \"root['EX_cpd00156_e0']\": {'new_value': 0.03522331890916251, 'old_value': 0.035223318909162506}, \"root['EX_cpd01080_e0']\": {'new_value': 0.01245813797722705, 'old_value': 0.012458137977227052}, \"root['EX_cpd00793_e0']\": {'new_value': 0.0002806159159591314, 'old_value': 0.0002806159159591313}, \"root['EX_cpd00654_e0']\": {'new_value': 0.0026078203607171305, 'old_value': 0.002607820360717134}}}\n",
      "\n",
      "MIP score: 17\t\t\t17 required compound(s) can be sourced via syntrophy:\n",
      "executing MP\n"
     ]
    },
    {
     "name": "stderr",
     "output_type": "stream",
     "text": [
      "modelseedpy.community.mscompatibility - WARNING - IDWarning: The original ID cpd00609_e0 is a ModelSEED ID, and may not be desirably changed to cpd00609_e0.\n"
     ]
    },
    {
     "name": "stdout",
     "output_type": "stream",
     "text": [
      "\n",
      "\n",
      "0 reactions were substituted and 1 metabolite IDs were redefined in GM17-BT03 by standardize().\n",
      "The minimal flux media consists of 49 compounds and a 4434.908826088463 total influx, with a growth value of 178.4306027732462\n",
      "\n",
      "\n",
      "\n",
      "Standardize exchange reactions in Pseudomonas_GM17_pacbio_v2.RAST.fbamodel \n",
      " =============================================================================\n",
      "The exchange  metabolite ID's of the model Pseudomonas_GM17_pacbio_v2.RAST.fbamodel are completely standardized to ModelSEED.\n"
     ]
    },
    {
     "name": "stderr",
     "output_type": "stream",
     "text": [
      "C:\\Users\\Andrew Freiburger\\AppData\\Local\\Programs\\Python\\Python39\\lib\\site-packages\\cobra\\core\\reaction.py:761: DeprecationWarning: Please use reaction.flux instead.\n",
      "  warn(\"Please use reaction.flux instead.\", DeprecationWarning)\n",
      "C:\\Users\\Andrew Freiburger\\AppData\\Local\\Programs\\Python\\Python39\\lib\\site-packages\\cobra\\core\\reaction.py:779: DeprecationWarning: Please use reaction.reduced_cost instead.\n",
      "  warn(\"Please use reaction.reduced_cost instead.\", DeprecationWarning)\n",
      "C:\\Users\\Andrew Freiburger\\AppData\\Local\\Programs\\Python\\Python39\\lib\\site-packages\\cobra\\core\\metabolite.py:207: DeprecationWarning: Please use metabolite.shadow_price instead.\n",
      "  warn(\"Please use metabolite.shadow_price instead.\", DeprecationWarning)\n",
      "C:\\Users\\Andrew Freiburger\\AppData\\Local\\Programs\\Python\\Python39\\lib\\site-packages\\cobra\\core\\metabolite.py:191: UserWarning: The element 'R' does not appear in the periodic table\n",
      "  warn(f\"The element {e} does not appear in the periodic table\")\n"
     ]
    },
    {
     "name": "stdout",
     "output_type": "stream",
     "text": [
      "remaining possible_contributions 60\r"
     ]
    },
    {
     "name": "stderr",
     "output_type": "stream",
     "text": [
      "C:\\Users\\Andrew Freiburger\\AppData\\Local\\Programs\\Python\\Python39\\lib\\site-packages\\cobra\\core\\reaction.py:761: DeprecationWarning: Please use reaction.flux instead.\n",
      "  warn(\"Please use reaction.flux instead.\", DeprecationWarning)\n",
      "C:\\Users\\Andrew Freiburger\\AppData\\Local\\Programs\\Python\\Python39\\lib\\site-packages\\cobra\\core\\reaction.py:779: DeprecationWarning: Please use reaction.reduced_cost instead.\n",
      "  warn(\"Please use reaction.reduced_cost instead.\", DeprecationWarning)\n",
      "C:\\Users\\Andrew Freiburger\\AppData\\Local\\Programs\\Python\\Python39\\lib\\site-packages\\cobra\\core\\metabolite.py:207: DeprecationWarning: Please use metabolite.shadow_price instead.\n",
      "  warn(\"Please use metabolite.shadow_price instead.\", DeprecationWarning)\n",
      "C:\\Users\\Andrew Freiburger\\AppData\\Local\\Programs\\Python\\Python39\\lib\\site-packages\\cobra\\core\\metabolite.py:191: UserWarning: The element 'R' does not appear in the periodic table\n",
      "  warn(f\"The element {e} does not appear in the periodic table\")\n"
     ]
    },
    {
     "name": "stdout",
     "output_type": "stream",
     "text": [
      "remaining possible_contributions 50\r"
     ]
    },
    {
     "name": "stderr",
     "output_type": "stream",
     "text": [
      "C:\\Users\\Andrew Freiburger\\AppData\\Local\\Programs\\Python\\Python39\\lib\\site-packages\\cobra\\core\\reaction.py:761: DeprecationWarning: Please use reaction.flux instead.\n",
      "  warn(\"Please use reaction.flux instead.\", DeprecationWarning)\n",
      "C:\\Users\\Andrew Freiburger\\AppData\\Local\\Programs\\Python\\Python39\\lib\\site-packages\\cobra\\core\\reaction.py:779: DeprecationWarning: Please use reaction.reduced_cost instead.\n",
      "  warn(\"Please use reaction.reduced_cost instead.\", DeprecationWarning)\n",
      "C:\\Users\\Andrew Freiburger\\AppData\\Local\\Programs\\Python\\Python39\\lib\\site-packages\\cobra\\core\\metabolite.py:207: DeprecationWarning: Please use metabolite.shadow_price instead.\n",
      "  warn(\"Please use metabolite.shadow_price instead.\", DeprecationWarning)\n"
     ]
    },
    {
     "name": "stdout",
     "output_type": "stream",
     "text": [
      "remaining possible_contributions 49\n",
      "\n",
      "\n",
      "Standardize exchange reactions in Burkholderia_sp._BT03.RAST.fbamodel \n",
      " ========================================================================\n",
      "The exchange  metabolite ID's of the model Burkholderia_sp._BT03.RAST.fbamodel are completely standardized to ModelSEED.\n"
     ]
    },
    {
     "name": "stderr",
     "output_type": "stream",
     "text": [
      "C:\\Users\\Andrew Freiburger\\AppData\\Local\\Programs\\Python\\Python39\\lib\\site-packages\\cobra\\core\\reaction.py:761: DeprecationWarning: Please use reaction.flux instead.\n",
      "  warn(\"Please use reaction.flux instead.\", DeprecationWarning)\n",
      "C:\\Users\\Andrew Freiburger\\AppData\\Local\\Programs\\Python\\Python39\\lib\\site-packages\\cobra\\core\\reaction.py:779: DeprecationWarning: Please use reaction.reduced_cost instead.\n",
      "  warn(\"Please use reaction.reduced_cost instead.\", DeprecationWarning)\n",
      "C:\\Users\\Andrew Freiburger\\AppData\\Local\\Programs\\Python\\Python39\\lib\\site-packages\\cobra\\core\\metabolite.py:207: DeprecationWarning: Please use metabolite.shadow_price instead.\n",
      "  warn(\"Please use metabolite.shadow_price instead.\", DeprecationWarning)\n",
      "C:\\Users\\Andrew Freiburger\\AppData\\Local\\Programs\\Python\\Python39\\lib\\site-packages\\cobra\\core\\metabolite.py:191: UserWarning: The element 'R' does not appear in the periodic table\n",
      "  warn(f\"The element {e} does not appear in the periodic table\")\n"
     ]
    },
    {
     "name": "stdout",
     "output_type": "stream",
     "text": [
      "remaining possible_contributions 94\r"
     ]
    },
    {
     "name": "stderr",
     "output_type": "stream",
     "text": [
      "C:\\Users\\Andrew Freiburger\\AppData\\Local\\Programs\\Python\\Python39\\lib\\site-packages\\cobra\\core\\reaction.py:761: DeprecationWarning: Please use reaction.flux instead.\n",
      "  warn(\"Please use reaction.flux instead.\", DeprecationWarning)\n",
      "C:\\Users\\Andrew Freiburger\\AppData\\Local\\Programs\\Python\\Python39\\lib\\site-packages\\cobra\\core\\reaction.py:779: DeprecationWarning: Please use reaction.reduced_cost instead.\n",
      "  warn(\"Please use reaction.reduced_cost instead.\", DeprecationWarning)\n",
      "C:\\Users\\Andrew Freiburger\\AppData\\Local\\Programs\\Python\\Python39\\lib\\site-packages\\cobra\\core\\metabolite.py:207: DeprecationWarning: Please use metabolite.shadow_price instead.\n",
      "  warn(\"Please use metabolite.shadow_price instead.\", DeprecationWarning)\n",
      "C:\\Users\\Andrew Freiburger\\AppData\\Local\\Programs\\Python\\Python39\\lib\\site-packages\\cobra\\core\\metabolite.py:191: UserWarning: The element 'R' does not appear in the periodic table\n",
      "  warn(f\"The element {e} does not appear in the periodic table\")\n"
     ]
    },
    {
     "name": "stdout",
     "output_type": "stream",
     "text": [
      "remaining possible_contributions 86\r"
     ]
    },
    {
     "name": "stderr",
     "output_type": "stream",
     "text": [
      "C:\\Users\\Andrew Freiburger\\AppData\\Local\\Programs\\Python\\Python39\\lib\\site-packages\\cobra\\core\\reaction.py:761: DeprecationWarning: Please use reaction.flux instead.\n",
      "  warn(\"Please use reaction.flux instead.\", DeprecationWarning)\n",
      "C:\\Users\\Andrew Freiburger\\AppData\\Local\\Programs\\Python\\Python39\\lib\\site-packages\\cobra\\core\\reaction.py:779: DeprecationWarning: Please use reaction.reduced_cost instead.\n",
      "  warn(\"Please use reaction.reduced_cost instead.\", DeprecationWarning)\n",
      "C:\\Users\\Andrew Freiburger\\AppData\\Local\\Programs\\Python\\Python39\\lib\\site-packages\\cobra\\core\\metabolite.py:207: DeprecationWarning: Please use metabolite.shadow_price instead.\n",
      "  warn(\"Please use metabolite.shadow_price instead.\", DeprecationWarning)\n"
     ]
    },
    {
     "name": "stdout",
     "output_type": "stream",
     "text": [
      "remaining possible_contributions 84\n",
      "MP score:\t\t\tEach member can possibly contribute the following to the community:\n",
      "\n",
      "Pseudomonas_GM17_pacbio_v2.RAST.fbamodel \t 41\n",
      "Burkholderia_sp._BT03.RAST.fbamodel \t 36\n",
      "The Pseudomonas_GM17_pacbio_v2.RAST.fbamodel_Burkholderia_sp._BT03.RAST.fbamodel pair has been examined after 0.9166666666666666 minutes.\n",
      "CPU times: total: 56.8 s\n",
      "Wall time: 59.6 s\n"
     ]
    }
   ],
   "source": [
    "%%time\n",
    "\n",
    "GM17_BT03_model = kbase_api.get_from_ws(\"GM17-BT03\", 114731)\n",
    "test_pair(GM17, BT03, GM17_BT03_model)"
   ]
  },
  {
   "cell_type": "markdown",
   "id": "40fbe40e-4209-4052-9e38-27d7678c3cf2",
   "metadata": {},
   "source": [
    "# Statistically process the above results"
   ]
  },
  {
   "cell_type": "markdown",
   "id": "4aafb7df-6069-42e6-a679-8a7ef2f9bd74",
   "metadata": {},
   "source": [
    "## MRO scores"
   ]
  },
  {
   "cell_type": "markdown",
   "id": "ccf0667e-f707-464c-a06c-740e75f15c39",
   "metadata": {},
   "source": [
    "### Parsed MRO values"
   ]
  },
  {
   "cell_type": "code",
   "execution_count": 21,
   "id": "2ae27ca9-933c-49e6-a9cb-4199adcf712f",
   "metadata": {},
   "outputs": [],
   "source": [
    "# from scipy import stats\n",
    "# posInteractions = [YR343_CF313.mro[0], AP49_BC15.mro[0], YR343_CF313.mro[0], YR343_CF313.mro[0]]\n",
    "# negInteractions = [0.8636363636363636, 0.9, 0.9473684210526315, 0.7727272727272727, 0.8636363636363636, 0.8181818181818182, 0.8181818181818182, 0.8181818181818182, 0.8]\n",
    "\n",
    "# ttest = stats.ttest_ind(posInteractions, negInteractions)\n",
    "# print(ttest.pvalue)"
   ]
  },
  {
   "cell_type": "code",
   "execution_count": 22,
   "id": "421fddba-1c26-4f2c-b806-ed798cb02782",
   "metadata": {},
   "outputs": [
    {
     "name": "stdout",
     "output_type": "stream",
     "text": [
      "0.054250055299084145\n"
     ]
    }
   ],
   "source": [
    "from scipy import stats\n",
    "posInteractions = [1, 0.7619047619047619, 0.38636363636363635, 0.36363636363636365]\n",
    "negInteractions = [0.8636363636363636, 0.9, 0.9473684210526315, 0.7727272727272727, 0.8636363636363636, 0.8181818181818182, 0.8181818181818182, 0.8181818181818182, 0.8]\n",
    "\n",
    "ttest = stats.ttest_ind(posInteractions, negInteractions)\n",
    "print(ttest.pvalue)"
   ]
  },
  {
   "cell_type": "code",
   "execution_count": 23,
   "id": "d1007e54-cefd-4d00-984a-ed572c7646fb",
   "metadata": {},
   "outputs": [
    {
     "data": {
      "image/png": "[encoded data removed]",
      "text/plain": [
       "<Figure size 700x1000 with 1 Axes>"
      ]
     },
     "metadata": {},
     "output_type": "display_data"
    }
   ],
   "source": [
    "from matplotlib import pyplot\n",
    "import sigfig\n",
    "\n",
    "pyplot.rc('axes', titlesize=20, labelsize=20)\n",
    "pyplot.rc('xtick', labelsize=20)\n",
    "pyplot.rc('ytick', labelsize=20)\n",
    "pyplot.rc('legend', fontsize=18)\n",
    "fig = pyplot.figure(figsize=(7,10))\n",
    "\n",
    "pyplot.boxplot([posInteractions, negInteractions], labels=[\"'+'\", \"'--'\"])\n",
    "pyplot.scatter([1]*len(posInteractions), posInteractions)\n",
    "pyplot.scatter([2]*len(negInteractions), negInteractions)\n",
    "pyplot.xlabel(\"Interaction type\")\n",
    "pyplot.ylabel(\"MRO score (overlap)\")\n",
    "pyplot.text(1.6,.7, f\"p-value: {sigfig.round(ttest.pvalue, sigfigs=3)}\", fontsize=\"x-large\")\n",
    "fig.savefig(\"parsed MRO comparion.jpg\")\n",
    "# display(fig)\n",
    "# pyplot.show()"
   ]
  },
  {
   "cell_type": "markdown",
   "id": "adad8cf4-d78d-4a1a-a505-258df73edf87",
   "metadata": {},
   "source": [
    "### Averaged MRO values"
   ]
  },
  {
   "cell_type": "code",
   "execution_count": 24,
   "id": "b669ba31-e86c-4ed0-a742-c114a4510eaf",
   "metadata": {
    "tags": []
   },
   "outputs": [
    {
     "name": "stdout",
     "output_type": "stream",
     "text": [
      "0.18655070991572478\n"
     ]
    }
   ],
   "source": [
    "from scipy import stats\n",
    "posInteractions = [0.9444444444444444, 0.7804878048780488, 0.5396825396825397, 0.53125]\n",
    "negInteractions = [0.9047619047619048, 0.8780487804878049, 0.9473684210526315]\n",
    "negInteractions2 = [0.8095238095238095, 0.926829268292683, 0.9473684210526315, 0.926829268292683, 0.8095238095238095, 0.5757575757575758, 0.8780487804878049]\n",
    "posInteractions2 = [0.9444444444444444, 0.7804878048780488, 0.5396825396825397, 0.53125]\n",
    "\n",
    "ttest = stats.ttest_ind(posInteractions2, negInteractions2)\n",
    "print(ttest.pvalue)"
   ]
  },
  {
   "cell_type": "code",
   "execution_count": 25,
   "id": "057d0fa1-c9b1-45b4-a976-5bbf9278dcec",
   "metadata": {
    "tags": []
   },
   "outputs": [
    {
     "data": {
      "image/png": "[encoded data removed]",
      "text/plain": [
       "<Figure size 700x1000 with 1 Axes>"
      ]
     },
     "metadata": {},
     "output_type": "display_data"
    }
   ],
   "source": [
    "from matplotlib import pyplot\n",
    "import sigfig\n",
    "\n",
    "pyplot.rc('axes', titlesize=20, labelsize=20)\n",
    "pyplot.rc('xtick', labelsize=20)\n",
    "pyplot.rc('ytick', labelsize=20)\n",
    "pyplot.rc('legend', fontsize=18)\n",
    "fig = pyplot.figure(figsize=(7,10))\n",
    "\n",
    "pyplot.boxplot([posInteractions2, negInteractions2], labels=[\"'+'\", \"'--'\"])\n",
    "pyplot.scatter([1]*len(posInteractions2), posInteractions2)\n",
    "pyplot.scatter([2]*len(negInteractions2), negInteractions2)\n",
    "pyplot.xlabel(\"Interaction type\")\n",
    "pyplot.ylabel(\"MRO score (overlap)\")\n",
    "pyplot.text(1.6,.7, f\"p-value: {sigfig.round(ttest.pvalue, sigfigs=3)}\", fontsize=\"x-large\")\n",
    "fig.savefig(\"MRO comparion.jpg\")\n",
    "# display(fig)\n",
    "# pyplot.show()"
   ]
  },
  {
   "cell_type": "markdown",
   "id": "9216f60c-71e5-4123-a026-415ad9a255f8",
   "metadata": {},
   "source": [
    "## MIP scores"
   ]
  },
  {
   "cell_type": "code",
   "execution_count": 26,
   "id": "940c5d87-184a-4c71-a58a-f88277fc481b",
   "metadata": {},
   "outputs": [
    {
     "name": "stdout",
     "output_type": "stream",
     "text": [
      "0.09316300783381472\n"
     ]
    }
   ],
   "source": [
    "from scipy import stats\n",
    "# posInteractions =[YR343_CF313.mip, AP49_BC15.mip, CF402_CF313.mip, CF402_BC15.mip]\n",
    "# negInteractions = [GM17_BC15.mip, AP07_AP49.mip, CF313_BT03.mip, GM17_AP49.mip, GM17_CF313.mip, GM17_AP07.mip, GM17_CF402.mip, GM17_BT03.mip, CF402_BC15.mip]\n",
    "negInteractions = [0, 0, 0, 0, 1, 4, 0]\n",
    "posInteractions = [0, 1, 6, 7]\n",
    "\n",
    "ttest = stats.ttest_ind(posInteractions, negInteractions)\n",
    "print(ttest.pvalue)"
   ]
  },
  {
   "cell_type": "code",
   "execution_count": 27,
   "id": "a68f5f50-ea3d-4d1a-b16b-9b0412c16e6c",
   "metadata": {},
   "outputs": [
    {
     "data": {
      "image/png": "[encoded data removed]",
      "text/plain": [
       "<Figure size 700x1000 with 1 Axes>"
      ]
     },
     "metadata": {},
     "output_type": "display_data"
    }
   ],
   "source": [
    "from matplotlib import pyplot\n",
    "import sigfig\n",
    "\n",
    "pyplot.rc('axes', titlesize=20, labelsize=20)\n",
    "pyplot.rc('xtick', labelsize=20)\n",
    "pyplot.rc('ytick', labelsize=20)\n",
    "pyplot.rc('legend', fontsize=18)\n",
    "fig = pyplot.figure(figsize=(7,10))\n",
    "\n",
    "pyplot.boxplot([posInteractions, negInteractions], labels=[\"'+'\", \"'--'\"])\n",
    "pyplot.scatter([1]*len(posInteractions), posInteractions)\n",
    "pyplot.scatter([2]*len(negInteractions), negInteractions)\n",
    "pyplot.xlabel(\"Interaction type\")\n",
    "pyplot.ylabel(\"MIP score (syntrophy)\")\n",
    "pyplot.text(1.6,2, f\"p-value: {sigfig.round(ttest.pvalue, sigfigs=3)}\", fontsize=\"x-large\")\n",
    "fig.savefig(\"MIP comparion.jpg\")\n",
    "# display(fig)\n",
    "# pyplot.show()"
   ]
  },
  {
   "cell_type": "markdown",
   "id": "a3f98436-281c-4672-b31b-ef5c72ba0876",
   "metadata": {},
   "source": [
    "## smetana score"
   ]
  },
  {
   "cell_type": "code",
   "execution_count": 28,
   "id": "68c1c46f-8ae5-4cd6-b408-9d231207c3b3",
   "metadata": {},
   "outputs": [
    {
     "name": "stdout",
     "output_type": "stream",
     "text": [
      "0.8147010129367964\n"
     ]
    }
   ],
   "source": [
    "from scipy import stats\n",
    "posInteractions = [63.57, 47.18, 52.63, 46, 32, 38, 0, 0]\n",
    "negInteractions = [53, 48.1, 44.76, 45, 0, 0]\n",
    "\n",
    "ttest = stats.ttest_ind(posInteractions, negInteractions)\n",
    "print(ttest.pvalue)"
   ]
  },
  {
   "cell_type": "code",
   "execution_count": 29,
   "id": "eefd1a1c-2193-4e88-a9e1-fc58d98cdec0",
   "metadata": {},
   "outputs": [
    {
     "data": {
      "image/png": "[encoded data removed]",
      "text/plain": [
       "<Figure size 700x1000 with 1 Axes>"
      ]
     },
     "metadata": {},
     "output_type": "display_data"
    }
   ],
   "source": [
    "from matplotlib import pyplot\n",
    "import sigfig\n",
    "\n",
    "pyplot.rc('axes', titlesize=20, labelsize=20)\n",
    "pyplot.rc('xtick', labelsize=20)\n",
    "pyplot.rc('ytick', labelsize=20)\n",
    "pyplot.rc('legend', fontsize=18)\n",
    "fig = pyplot.figure(figsize=(7,10))\n",
    "\n",
    "pyplot.boxplot([posInteractions, negInteractions], labels=[\"'+'\", \"'--'\"])\n",
    "pyplot.scatter([1]*len(posInteractions), posInteractions)\n",
    "pyplot.scatter([2]*len(negInteractions), negInteractions)\n",
    "pyplot.xlabel(\"Interaction type\")\n",
    "pyplot.ylabel(\"smetana score (syntrophy potential)\")\n",
    "pyplot.text(1.6,62, f\"p-value: {sigfig.round(ttest.pvalue, sigfigs=3)}\", fontsize=\"x-large\")\n",
    "fig.savefig(\"smetana comparion.jpg\")\n",
    "# display(fig)\n",
    "# pyplot.show()"
   ]
  },
  {
   "cell_type": "markdown",
   "id": "77e2f18a-de97-49f8-9ec9-e57011fc57cf",
   "metadata": {},
   "source": [
    "# Comparative assessment of the relative biomass yields to the relative experimental growth rates"
   ]
  },
  {
   "cell_type": "code",
   "execution_count": 30,
   "id": "6f8c0fad-439e-410d-a2ba-8089b73fbc1d",
   "metadata": {},
   "outputs": [
    {
     "data": {
      "image/png": "[encoded data removed]",
      "text/plain": [
       "<Figure size 640x480 with 1 Axes>"
      ]
     },
     "metadata": {},
     "output_type": "display_data"
    }
   ],
   "source": [
    "from matplotlib import pyplot\n",
    "from numpy import array\n",
    "import re\n",
    "\n",
    "# determine the relative biomass yields\n",
    "models = [CF313, YR343, CF142, BC15, AP49, CF402, CF313, BT03, GM17, AP07]\n",
    "biomass_yields = array([model.slim_optimize() for model in models])\n",
    "biomass_yields /= max(biomass_yields)\n",
    "\n",
    "# map the relative yields to the models\n",
    "mapped_models = {re.search(r\"(\\w{2}\\d{2}\\d?)\", model.id).group(): biomass_yields[index] for index, model in enumerate(models)}\n",
    "pyplot.bar(mapped_models.keys(), mapped_models.values())\n",
    "pyplot.xticks(rotation=\"vertical\")\n",
    "pyplot.savefig(\"relative biomass yields\", bbox_inches=\"tight\", pad_inches=0.2)"
   ]
  },
  {
   "cell_type": "code",
   "execution_count": null,
   "id": "467f7f2c-7396-4a8d-8f24-bb688e60a5a5",
   "metadata": {},
   "outputs": [],
   "source": []
  }
 ],
 "metadata": {
  "kernelspec": {
   "display_name": "Python 3 (ipykernel)",
   "language": "python",
   "name": "python3"
  },
  "language_info": {
   "codemirror_mode": {
    "name": "ipython",
    "version": 3
   },
   "file_extension": ".py",
   "mimetype": "text/x-python",
   "name": "python",
   "nbconvert_exporter": "python",
   "pygments_lexer": "ipython3",
   "version": "3.9.12"
  }
 },
 "nbformat": 4,
 "nbformat_minor": 5
}
