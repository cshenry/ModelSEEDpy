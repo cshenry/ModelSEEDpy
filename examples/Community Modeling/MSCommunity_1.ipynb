{
 "cells": [
  {
   "cell_type": "markdown",
   "metadata": {},
   "source": [
    "# Import KBase and cFBA"
   ]
  },
  {
   "cell_type": "code",
   "execution_count": 1,
   "metadata": {},
   "outputs": [
    {
     "name": "stdout",
     "output_type": "stream",
     "text": [
      "cobrakbase 0.3.1\n"
     ]
    }
   ],
   "source": [
    "# import kbase\n",
    "import os\n",
    "local_cobrakbase_path = os.path.join('C:', 'Users', 'Andrew Freiburger','Documents','Argonne','cobrakbase')\n",
    "os.environ[\"HOME\"] = local_cobrakbase_path\n",
    "import cobrakbase\n",
    "with open(\"D:/Users/Andrew Freiburger/Documents/Argonne/kbase_token.txt\") as token_file:\n",
    "    kbase = cobrakbase.KBaseAPI(token_file.readline())\n",
    "\n",
    "# ecoli = kbase.get_from_ws(\"iML1515\",76994)\n",
    "# ah991 = kbase.get_from_ws(\"iAH991V2\", 93832)\n",
    "AP49 = kbase.get_from_ws(\"Sphingobium_AP49_pacbio_v2.RAST.fbamodel\", 114731)\n",
    "BC15 = kbase.get_from_ws(\"Bacillus_sp._bc15.RAST.fbamodel\", 114731)\n",
    "AP49_BC15_model = kbase.get_from_ws(\"AP49-BC15\",114731)\n",
    "# pf = kbase.get_from_ws(\"iSB1139.kb.gf\",30650)\n",
    "\n",
    "# import cFBA\n",
    "# %run ../../modelseedpy/community/mscommunity.py\n",
    "# %matplotlib inline"
   ]
  },
  {
   "cell_type": "markdown",
   "metadata": {},
   "source": [
    "# construct the community model"
   ]
  },
  {
   "cell_type": "code",
   "execution_count": 2,
   "metadata": {
    "scrolled": true,
    "tags": []
   },
   "outputs": [
    {
     "name": "stdout",
     "output_type": "stream",
     "text": [
      "\n",
      "\n",
      "\n",
      "Align exchange reactions in Bacillus_sp._bc15.RAST.fbamodel \n",
      " ==============================================================\n",
      "\n",
      "\n",
      "\n",
      "Align exchange reactions in Sphingobium_AP49_pacbio_v2.RAST.fbamodel \n",
      " =======================================================================\n",
      "\n",
      "\n",
      "0 exchange reactions were substituted and 0 exchange metabolite IDs were redefined by align_exchanges().\n",
      "cpd11416_c1 Bacillus_sp._bc15.RAST.fbamodel\n",
      "bio2 1\n",
      "[2]\n",
      "cpd11416_c2 Sphingobium_AP49_pacbio_v2.RAST.fbamodel\n",
      "bio3 1\n",
      "[2, 3]\n"
     ]
    }
   ],
   "source": [
    "%run ../../modelseedpy/community/commhelper.py\n",
    "\n",
    "comm_model = build_from_species_models([BC15, AP49], cobra_model=True)"
   ]
  },
  {
   "cell_type": "code",
   "execution_count": 3,
   "metadata": {},
   "outputs": [
    {
     "name": "stdout",
     "output_type": "stream",
     "text": [
      "<Solution 100.000 at 0x2d82356fb20>\n",
      "<Solution 119.323 at 0x2d812802cd0>\n"
     ]
    }
   ],
   "source": [
    "print(comm_model.optimize())\n",
    "print(AP49_BC15_model.optimize())"
   ]
  },
  {
   "cell_type": "code",
   "execution_count": 4,
   "metadata": {},
   "outputs": [
    {
     "name": "stdout",
     "output_type": "stream",
     "text": [
      "Maximize\n",
      "1.0*bio1 - 1.0*bio1_reverse_b18f7\n",
      "Maximize\n",
      "1.0*bio1 - 1.0*bio1_reverse_b18f7\n"
     ]
    }
   ],
   "source": [
    "print(comm_model.objective)\n",
    "print(AP49_BC15_model.objective)"
   ]
  },
  {
   "cell_type": "code",
   "execution_count": 5,
   "metadata": {},
   "outputs": [],
   "source": [
    "model1 = kbase.get_from_ws(\"E_iAH991V2\",40576)\n",
    "model2 = kbase.get_from_ws(\"E_iML1515.kb\",40576)\n",
    "com_model = kbase.get_from_ws(\"CMM_iAH991V2_iML1515.kb\",40576)"
   ]
  },
  {
   "cell_type": "code",
   "execution_count": 6,
   "metadata": {},
   "outputs": [
    {
     "name": "stderr",
     "output_type": "stream",
     "text": [
      "modelseedpy.community.mscompatibility - ERROR - The Bacteroides_thetaiotaomicron_VPI-5482.fbamdl.23 model has residual non-standard metabolites in its exchange reactions: {'3ddlhept_e0', 'ha_deg1_e0', 'glyasp_e0', 'neulacnttr_e0', 'hspg_rest_e0', '2omxyl_e0', 'hspg_degr_15_e0', 'alathr_e0', 'T_antigen_e0', 'alagly_e0', 'lacdfucttr_e0', 'alaasp_e0', 'isocapr_e0', 'hspg_degr_11_e0', 'l2n2m2mn_e0', 'cspg_c_e0', 'lacnttr_e0', 'sT_antigen_e0', 'leuleu_e0', 'pecticgal_e0', 'acgalidour_e0', 'lacnnttr_e0', 's2l2n2m2masn_e0', 'strch1_e0', 'hspg_degr_6_e0', 'metala_e0', 'ha_e0', 'levantttr_e0', 'ha_pre1_e0', 'core7_e0', 'glypro_e0', 'mbenz_e0', 'n2m2mn_e0', '2fuclac_e0', '3fuclac_e0', 'Tn_antigen_e0', 'isobut_e0', 'idour_e0', 'hspg_degr_5_e0', 'glycogen1500_e0', 'levan1000_e0', '12ethd_e0', 'arabinan101_e0', 'lacnfucpt_e0', 'lmn30_e0', 'glyasn_e0', 'core3_e0', 'cspg_b_degr_e0', 'fucneulacnhx_e0', 'gncore1_e0', 'f1a_e0', 'stys_e0', 'hspg_degr_9_e0', 'apio_D_e0', 'mqn10_e0', 'mantr_e0', 'acgalglcur_e0', 'hspg_e0', 'mqn11_e0', 'strch2_e0', 'sTn_antigen_e0', 'hspg_degr_7_e0', 'acerA_e0', 'hspg_degr_8_e0', 'cspg_a_degr_e0', 's2l2fn2m2masn_e0', 'hspg_degr_12_e0', 'isoval_e0', 'cspg_a_e0', 'Ser_Thr_e0', 'hspg_degr_14_e0', 'pullulan1200_e0', 'acgalidour2s_e0', 'leugly_e0', 'hspg_degr_10_e0', 'galam_e0', 'gam26s_e0', 'core2_e0', '7ocholate_e0', 's2l2n2m2m_e0', 'pect_e0', 'levanb_e0', 'alaglu_e0', 'hspg_degr_13_e0', 'chtbs_e0', 'hspg_degr_2_e0', 'm2mn_e0', 'core8_e0', 'core4_e0', 'mn_e0', 'hspg_degr_4_e0', 'kestopt_e0', 'core6_e0', 'levanttr_e0', 'rhamnogalurI_e0', 'cps_bt_e0', 'starch1200_e0', 'indlac_e0', 'pe_cer1_bt_e0', '2omfuc_e0', 'oligofru4_e0', 'cspg_c_rest_e0', 'gchola_e0', 'gncore2_e0', 'sphmyln_bt_e0', 'hspg_degr_1_e0', 'manb_e0', 'amannan140_e0', 'argarg_e0', 'lps_bt_e0', 'rhamnogalurII_e0', 'core5_e0', 'dsT_antigen_e0', 'glyglu_e0', 'unsdigalur_e0', 'arabinogal_e0', 'kestottr_e0', 'manpt_e0', 'manttr_e0', 'cspg_ab_rest_e0', 'phppa_e0', 'phearg_e0', 'hspg_degr_3_e0', 'homogal_e0', 'plac_e0', 's2l2n2m2mn_e0', 'amylose300_e0', 'cspg_b_e0', 'dt5hsu_e0', 'kesto_e0', 'lacndfuchx_e0', 'arabttr_e0', 'lmn2_e0', 'mqn9_e0', 'cspg_c_degr_e0'}. Specify a True `printing` parameter to view why these metabolites were not corrected.\n"
     ]
    },
    {
     "name": "stdout",
     "output_type": "stream",
     "text": [
      "\n",
      "\n",
      "\n",
      "Align exchange reactions in Bacteroides_thetaiotaomicron_VPI-5482.fbamdl.23 \n",
      " ==============================================================================\n"
     ]
    },
    {
     "name": "stderr",
     "output_type": "stream",
     "text": [
      "modelseedpy.core.msmodel - ERROR - The [0, 0] bounds are not amenable with a direction string.\n",
      "modelseedpy.community.mscompatibility - ERROR - The iML1515 model has residual non-standard metabolites in its exchange reactions: {'sq-e_e0', 'dhps-e_e0', 'metglcur-e_e0', 'metsox-S-L-e_e0', 'tartr-D-e_e0', 'metsox-R-L-e_e0', '4abzglu-e_e0', 'colipap-e_e0'}. Specify a True `printing` parameter to view why these metabolites were not corrected.\n"
     ]
    },
    {
     "name": "stdout",
     "output_type": "stream",
     "text": [
      "\n",
      "\n",
      "\n",
      "Align exchange reactions in iML1515 \n",
      " ======================================\n",
      "\n",
      "\n",
      "0 exchange reactions were substituted and 0 exchange metabolite IDs were redefined by align_exchanges().\n",
      "cpd11416_c1 Bacteroides_thetaiotaomicron_VPI-5482.fbamdl.23\n",
      "bio2 1\n",
      "[2]\n",
      "bio3 1\n",
      "bio4 1\n",
      "[2, 3, 4]\n"
     ]
    }
   ],
   "source": [
    "%run ../../modelseedpy/community/commhelper.py\n",
    "\n",
    "comm_model2 = build_from_species_models([model1, model2], cobra_model=True)"
   ]
  },
  {
   "cell_type": "code",
   "execution_count": 7,
   "metadata": {},
   "outputs": [
    {
     "name": "stdout",
     "output_type": "stream",
     "text": [
      "Maximize\n",
      "1.0*bio1 - 1.0*bio1_reverse_b18f7\n",
      "<Solution 86.916 at 0x2d8146babe0>\n",
      "Maximize\n",
      "1.0*bio1 - 1.0*bio1_reverse_b18f7\n",
      "<Solution 143.703 at 0x2d8146baa90>\n"
     ]
    }
   ],
   "source": [
    "print(comm_model2.objective)\n",
    "print(comm_model2.optimize())\n",
    "\n",
    "print(com_model.objective)\n",
    "print(com_model.optimize())"
   ]
  },
  {
   "cell_type": "code",
   "execution_count": 13,
   "metadata": {},
   "outputs": [
    {
     "name": "stdout",
     "output_type": "stream",
     "text": [
      "True\n"
     ]
    }
   ],
   "source": [
    "print(comm_model2.medium == com_model.medium)\n",
    "# print(comm_model2.medium)\n",
    "# print(com_model.medium)"
   ]
  },
  {
   "cell_type": "code",
   "execution_count": 9,
   "metadata": {},
   "outputs": [
    {
     "name": "stdout",
     "output_type": "stream",
     "text": [
      "[<Reaction SK_cpd11416_c0 at 0x2d814558100>] [<ModelReaction sink__DASH__s_c2 at 0x2d819fbc3a0>, <Reaction SK_cpd11416_c0 at 0x2d81a18af70>]\n"
     ]
    }
   ],
   "source": [
    "print(comm_model2.sinks, com_model.sinks)"
   ]
  },
  {
   "cell_type": "code",
   "execution_count": 10,
   "metadata": {},
   "outputs": [],
   "source": [
    "# print(com_model.reactions.cpd02701_c1)"
   ]
  },
  {
   "cell_type": "code",
   "execution_count": 11,
   "metadata": {},
   "outputs": [
    {
     "ename": "NameError",
     "evalue": "name 'model' is not defined",
     "output_type": "error",
     "traceback": [
      "\u001b[1;31m---------------------------------------------------------------------------\u001b[0m",
      "\u001b[1;31mNameError\u001b[0m                                 Traceback (most recent call last)",
      "Cell \u001b[1;32mIn[11], line 10\u001b[0m\n\u001b[0;32m      8\u001b[0m sk2 \u001b[38;5;241m=\u001b[39m Reaction(\u001b[38;5;124m'\u001b[39m\u001b[38;5;124mSK_cpd11416_c2\u001b[39m\u001b[38;5;124m'\u001b[39m, \u001b[38;5;124m'\u001b[39m\u001b[38;5;124m'\u001b[39m, \u001b[38;5;124m'\u001b[39m\u001b[38;5;124m'\u001b[39m, \u001b[38;5;241m0\u001b[39m, \u001b[38;5;241m1000\u001b[39m)\n\u001b[0;32m      9\u001b[0m sk2\u001b[38;5;241m.\u001b[39madd_metabolites({com_model\u001b[38;5;241m.\u001b[39mmetabolites\u001b[38;5;241m.\u001b[39mcpd11416_c2: \u001b[38;5;241m-\u001b[39m\u001b[38;5;241m1\u001b[39m})\n\u001b[1;32m---> 10\u001b[0m \u001b[43mmodel\u001b[49m\u001b[38;5;241m.\u001b[39madd_reactions([sk1, sk2])\n",
      "\u001b[1;31mNameError\u001b[0m: name 'model' is not defined"
     ]
    }
   ],
   "source": [
    "from cobra.core import Reaction\n",
    "sk1 = Reaction('SK_cpd11416_c1', '', '', 0, 1000)\n",
    "sk1.add_metabolites({com_model.metabolites.cpd11416_c1: -1})\n",
    "sk2 = Reaction('SK_cpd11416_c2', '', '', 0, 1000)\n",
    "sk2.add_metabolites({com_model.metabolites.cpd11416_c2: -1})\n",
    "sk2 = Reaction('SK_cpd02701_c1', '', '', 0, 1000)\n",
    "sk2.add_metabolites({com_model.metabolites.cpd02701_c1: -1})\n",
    "sk2 = Reaction('SK_cpd11416_c2', '', '', 0, 1000)\n",
    "sk2.add_metabolites({com_model.metabolites.cpd11416_c2: -1})\n",
    "model.add_reactions([sk1, sk2])"
   ]
  },
  {
   "cell_type": "code",
   "execution_count": null,
   "metadata": {},
   "outputs": [],
   "source": [
    "from deepdiff import DeepDiff\n",
    "print(DeepDiff(comm_model2.sinks, com_model.sinks))"
   ]
  },
  {
   "cell_type": "code",
   "execution_count": null,
   "metadata": {},
   "outputs": [],
   "source": [
    "from deepdiff import DeepDiff\n",
    "print(DeepDiff(comm_model2.reactions, com_model.reactions))"
   ]
  },
  {
   "cell_type": "code",
   "execution_count": null,
   "metadata": {},
   "outputs": [],
   "source": [
    "from cobra.io import load_json_model\n",
    "ecoli_json = load_json_model(\"../../../../ProjectNotebooks/CommunityModeling/CommFitting/ecoli.json\")\n",
    "pf_json = load_json_model(\"../../../../ProjectNotebooks/CommunityModeling/CommFitting/pf.json\")"
   ]
  },
  {
   "cell_type": "code",
   "execution_count": null,
   "metadata": {},
   "outputs": [],
   "source": [
    "ecoli.reactions.bio1"
   ]
  },
  {
   "cell_type": "markdown",
   "metadata": {},
   "source": [
    "### Examine the community model"
   ]
  },
  {
   "cell_type": "code",
   "execution_count": null,
   "metadata": {},
   "outputs": [],
   "source": [
    "# print(dir(model.objective))\n",
    "display(model.objective.expression)\n",
    "display(model.reactions.bio1)"
   ]
  },
  {
   "cell_type": "code",
   "execution_count": null,
   "metadata": {},
   "outputs": [],
   "source": [
    "print([rxn.id for rxn in comm_model.reactions if \"bio\" in rxn.id])\n",
    "print(\"ah991\\t\", ah991.optimize())\n",
    "print(\"pf\\t\", pf.optimize())\n",
    "print(\"community\\t\", comm_model.optimize())"
   ]
  },
  {
   "cell_type": "code",
   "execution_count": null,
   "metadata": {
    "scrolled": true,
    "tags": []
   },
   "outputs": [],
   "source": [
    "print([rxn.id for rxn in ah991.reactions if re.search(r\"_c\\d\", rxn.id)]) # \"compartment\" in dir(rxn) and \"c\" in rxn.compartment])\n",
    "print(\"\\n\\n\")\n",
    "print([rxn.id for rxn in comm_model.reactions if re.search(r\"_c\\d\", rxn.id)]) # \"compartment\" in dir(rxn) and \"c\" in comm_model.reactions])"
   ]
  },
  {
   "cell_type": "markdown",
   "metadata": {},
   "source": [
    "# Exchanges equality"
   ]
  },
  {
   "cell_type": "code",
   "execution_count": null,
   "metadata": {},
   "outputs": [],
   "source": [
    "total_exchanges = set([rxn.id for rxn in ah991.reactions if re.search(r\"_e\\d\", rxn.id)]+[rxn.id for rxn in pf.reactions if re.search(r\"_e\\d\", rxn.id)])\n",
    "print(\"\\n\\n\")\n",
    "print([rxn.id for rxn in comm_model.reactions if re.search(r\"_e\\d\", rxn.id) and rxn.id not in total_exchanges]) # \"compartment\" in dir(rxn) and \"c\" in comm_model.reactions])"
   ]
  },
  {
   "cell_type": "code",
   "execution_count": null,
   "metadata": {},
   "outputs": [],
   "source": [
    "print(len(total_exchanges))\n",
    "print(len([rxn.id for rxn in comm_model.reactions if re.search(r\"_e\\d\", rxn.id)]))"
   ]
  },
  {
   "cell_type": "code",
   "execution_count": null,
   "metadata": {},
   "outputs": [],
   "source": [
    "ah991_mets = [met.id[:-1] for met in ah991.metabolites if re.search(r\"_c\\d\", met.id)]\n",
    "pf_mets = [met.id[:-1] for met in pf.metabolites if re.search(r\"_c\\d\", met.id)]\n",
    "comm_mets = [met.id[:-1] for met in comm_model.metabolites if re.search(r\"_c\\d\", met.id)]\n",
    "\n",
    "print(\"\\n\\n\")\n",
    "excess_ah991 = [metID for metID in ah991_mets if metID not in comm_mets]\n",
    "print(excess_ah991)\n",
    "print(\"\\n\\n\")\n",
    "excess_pf = [metID for metID in pf_mets if metID not in comm_mets]\n",
    "print(excess_pf)\n",
    "\n",
    "print(\"\\n\\n\")\n",
    "comm_excess_ah991 = [metID for metID in comm_mets if metID not in ah991_mets]\n",
    "comm_excess_pf = [metID for metID in comm_excess_ah991 if metID not in pf_mets]\n",
    "print(comm_excess_pf)\n",
    "\n",
    "print(\"\\n\\n\")\n",
    "print(len(pf_mets+ah991_mets), len(comm_mets))\n",
    "print(len(set(pf_mets+ah991_mets)) == len(set(comm_mets)))"
   ]
  },
  {
   "cell_type": "code",
   "execution_count": null,
   "metadata": {},
   "outputs": [],
   "source": [
    "for rxn in comm_model.reactions:\n",
    "    if \"bio\" in rxn.id:\n",
    "        print(rxn.reaction)"
   ]
  },
  {
   "cell_type": "markdown",
   "metadata": {
    "tags": []
   },
   "source": [
    "# 2-member Zahmeeth model"
   ]
  },
  {
   "cell_type": "markdown",
   "metadata": {},
   "source": [
    "## Unconstained model"
   ]
  },
  {
   "cell_type": "markdown",
   "metadata": {},
   "source": [
    "### Define and execute the model"
   ]
  },
  {
   "cell_type": "code",
   "execution_count": null,
   "metadata": {},
   "outputs": [],
   "source": [
    "# import the model\n",
    "# from modelseedpy.fbapkg import kbasemediapkg\n",
    "\n",
    "modelInfo_2 = [\"CMM_iAH991V2_iML1515.kb\",40576]\n",
    "mediaInfo_2 = [\"Btheta_Ecoli_minimal_media\",40576]\n",
    "\n",
    "model = kbase.get_from_ws(modelInfo_2[0],modelInfo_2[1])\n",
    "media = kbase.get_from_ws(mediaInfo_2[0],mediaInfo_2[1])\n",
    "# kmp = kbasemediapkg.KBaseMediaPkg(self.model)\n",
    "# kmp.build_package(media)\n",
    "\n",
    "# simulate and visualize the model\n",
    "%run ../../modelseedpy/community/mscommunity.py\n",
    "cfba = MSCommunity(model)\n",
    "cfba.gapfill(media)\n",
    "sol = cfba.run(media)\n",
    "cross_feeding, exMets = cfba.steadycom(solution=sol, flux_threshold=.1)\n",
    "display(cross_feeding)\n",
    "display(exMets)"
   ]
  },
  {
   "cell_type": "markdown",
   "metadata": {},
   "source": [
    "## FullThermo-constrained model"
   ]
  },
  {
   "cell_type": "markdown",
   "metadata": {},
   "source": [
    "### Define and execute the model"
   ]
  },
  {
   "cell_type": "code",
   "execution_count": null,
   "metadata": {
    "scrolled": true
   },
   "outputs": [],
   "source": [
    "# import the model\n",
    "# from modelseedpy.fbapkg import kbasemediapkg\n",
    "\n",
    "modelInfo_2 = [\"CMM_iAH991V2_iML1515.kb\",40576]\n",
    "mediaInfo_2 = [\"Btheta_Ecoli_minimal_media\",40576]\n",
    "\n",
    "model = kbase.get_from_ws(modelInfo_2[0],modelInfo_2[1])\n",
    "media = kbase.get_from_ws(mediaInfo_2[0],mediaInfo_2[1])\n",
    "# kmp = kbasemediapkg.KBaseMediaPkg(self.model)\n",
    "# kmp.build_package(media)\n",
    "\n",
    "# simulate and visualize the model\n",
    "%run ../../modelseedpy/community/mscommunity.py\n",
    "cfba = MSCommunity(model)\n",
    "cfba.gapfill(media)\n",
    "cfba.constrain(msdb_path = \"../../../ModelSEEDDatabase\")\n",
    "sol = cfba.run(media)\n",
    "cross_feeding, exMets = cfba.steadycom(solution=sol, flux_threshold=.1)\n",
    "display(cross_feeding)\n",
    "display(exMets)"
   ]
  },
  {
   "cell_type": "markdown",
   "metadata": {},
   "source": [
    "# 3-member Electrosynth model"
   ]
  },
  {
   "cell_type": "markdown",
   "metadata": {},
   "source": [
    "## Unconstrained model"
   ]
  },
  {
   "cell_type": "markdown",
   "metadata": {},
   "source": [
    "### Define and execute the model"
   ]
  },
  {
   "cell_type": "code",
   "execution_count": null,
   "metadata": {},
   "outputs": [],
   "source": [
    "# import the model\n",
    "# from modelseedpy.fbapkg import kbasemediapkg\n",
    "\n",
    "modelInfo_2 = ['electrosynth_comnty.mdl.gf.2021',93204]\n",
    "mediaInfo_2 = [\"CO2_minimal\",93204]\n",
    "\n",
    "model = kbase.get_from_ws(modelInfo_2[0],modelInfo_2[1])\n",
    "media = kbase.get_from_ws(mediaInfo_2[0],mediaInfo_2[1])\n",
    "# kmp = kbasemediapkg.KBaseMediaPkg(self.model)\n",
    "# kmp.build_package(media)\n",
    "\n",
    "# simulate and visualize the model\n",
    "cfba = MSCommunity(model)\n",
    "cfba.drain_fluxes(media)\n",
    "cfba.gapfill(media)\n",
    "cfba.constrain(media)\n",
    "solution = cfba.run()\n",
    "cfba.compute_interactions(solution)\n",
    "cfba.visualize()"
   ]
  },
  {
   "cell_type": "markdown",
   "metadata": {},
   "source": [
    "## FullThermo-constrained model"
   ]
  },
  {
   "cell_type": "markdown",
   "metadata": {},
   "source": [
    "### Define and execute the model"
   ]
  },
  {
   "cell_type": "code",
   "execution_count": null,
   "metadata": {
    "scrolled": true,
    "tags": []
   },
   "outputs": [],
   "source": [
    "# import the model\n",
    "# from modelseedpy.fbapkg import kbasemediapkg\n",
    "\n",
    "modelInfo_2 = ['electrosynth_comnty.mdl.gf.2021',93204]\n",
    "mediaInfo_2 = [\"CO2_minimal\",93204]\n",
    "\n",
    "model = kbase.get_from_ws(modelInfo_2[0],modelInfo_2[1])\n",
    "media = kbase.get_from_ws(mediaInfo_2[0],mediaInfo_2[1])\n",
    "# kmp = kbasemediapkg.KBaseMediaPkg(self.model)\n",
    "# kmp.build_package(media)\n",
    "\n",
    "# simulate and visualize the model\n",
    "cfba = MSCommunity(model)\n",
    "cfba.drain_fluxes(media)\n",
    "cfba.gapfill(media)\n",
    "cfba.constrain(media, msdb_path_for_fullthermo = ftp_path, verbose = False)\n",
    "solution = cfba.run()\n",
    "cfba.compute_interactions(solution)\n",
    "cfba.visualize()"
   ]
  },
  {
   "cell_type": "markdown",
   "metadata": {},
   "source": [
    "# 2-member Aimee model"
   ]
  },
  {
   "cell_type": "markdown",
   "metadata": {},
   "source": [
    "## Unconstrained model"
   ]
  },
  {
   "cell_type": "markdown",
   "metadata": {},
   "source": [
    "### Chitin media"
   ]
  },
  {
   "cell_type": "code",
   "execution_count": null,
   "metadata": {},
   "outputs": [],
   "source": [
    "# import the model\n",
    "%run ../../modelseedpy/core/mscommunity.py\n",
    "# from modelseedpy.fbapkg import kbasemediapkg\n",
    "\n",
    "modelInfo_2 = ['Cjaponicus_Ecoli_Community',97055]\n",
    "mediaInfo_2 = [\"ChitinM9Media\",97055]\n",
    "\n",
    "model = kbase.get_from_ws(modelInfo_2[0],modelInfo_2[1])\n",
    "media = kbase.get_from_ws(mediaInfo_2[0],mediaInfo_2[1])\n",
    "# kmp = kbasemediapkg.KBaseMediaPkg(self.model)\n",
    "# kmp.build_package(media)\n",
    "\n",
    "# simulate and visualize the model\n",
    "cfba = MSCommunity(model)\n",
    "cfba.drain_fluxes(media)\n",
    "cfba.gapfill(media)\n",
    "cfba.constrain(media) \n",
    "solution = cfba.run()\n",
    "cfba.compute_interactions(solution)\n",
    "cfba.visualize()"
   ]
  },
  {
   "cell_type": "markdown",
   "metadata": {},
   "source": [
    "## FullThermo-constrained model"
   ]
  },
  {
   "cell_type": "markdown",
   "metadata": {},
   "source": [
    "### Define and execute the model"
   ]
  },
  {
   "cell_type": "code",
   "execution_count": null,
   "metadata": {},
   "outputs": [],
   "source": [
    "# import the model\n",
    "# from modelseedpy.fbapkg import kbasemediapkg\n",
    "\n",
    "modelInfo_2 = ['Cjaponicus_Ecoli_Community',97055]\n",
    "mediaInfo_2 = [\"ChitinM9Media\",97055]\n",
    "\n",
    "model = kbase.get_from_ws(modelInfo_2[0],modelInfo_2[1])\n",
    "media = kbase.get_from_ws(mediaInfo_2[0],mediaInfo_2[1])\n",
    "# kmp = kbasemediapkg.KBaseMediaPkg(self.model)\n",
    "# kmp.build_package(media)\n",
    "\n",
    "# simulate and visualize the model\n",
    "cfba = MSCommunity(model)\n",
    "cfba.drain_fluxes(media)\n",
    "cfba.gapfill(media)\n",
    "cfba.constrain(media, msdb_path_for_fullthermo = ftp_path, verbose = False)\n",
    "solution = cfba.run()\n",
    "cfba.compute_interactions(solution)\n",
    "cfba.visualize()"
   ]
  },
  {
   "cell_type": "markdown",
   "metadata": {},
   "source": [
    "# 7-member Hotlake model"
   ]
  },
  {
   "cell_type": "markdown",
   "metadata": {},
   "source": [
    "## Unconstrained model"
   ]
  },
  {
   "cell_type": "markdown",
   "metadata": {},
   "source": [
    "### Define and execute the model"
   ]
  },
  {
   "cell_type": "code",
   "execution_count": null,
   "metadata": {},
   "outputs": [],
   "source": [
    "# import the model\n",
    "%run ../../modelseedpy/core/mscommunity.py\n",
    "# from modelseedpy.fbapkg import kbasemediapkg\n",
    "\n",
    "modelInfo_2 = [\"Hot_Lake_seven.mdl\",93544]\n",
    "mediaInfo_2 = [\"HotLakeMedia\",93544]\n",
    "\n",
    "model = kbase.get_from_ws(modelInfo_2[0],modelInfo_2[1])\n",
    "media = kbase.get_from_ws(mediaInfo_2[0],mediaInfo_2[1])\n",
    "# kmp = kbasemediapkg.KBaseMediaPkg(self.model)\n",
    "# kmp.build_package(media)\n",
    "\n",
    "# simulate and visualize the model\n",
    "cfba = MSCommunity(model)\n",
    "cfba.drain_fluxes(media)\n",
    "cfba.gapfill(media)\n",
    "cfba.constrain(media)\n",
    "solution = cfba.run()\n",
    "cfba.compute_interactions(solution)\n",
    "cfba.visualize()"
   ]
  },
  {
   "cell_type": "markdown",
   "metadata": {},
   "source": [
    "## FullThermo-constrained model"
   ]
  },
  {
   "cell_type": "markdown",
   "metadata": {},
   "source": [
    "### Define and execute the model"
   ]
  },
  {
   "cell_type": "code",
   "execution_count": null,
   "metadata": {},
   "outputs": [],
   "source": [
    "# import the model\n",
    "%run ../../modelseedpy/core/mscommunity.py\n",
    "# from modelseedpy.fbapkg import kbasemediapkg\n",
    "\n",
    "modelInfo_2 = [\"Hot_Lake_seven.mdl\",93544]\n",
    "mediaInfo_2 = [\"HotLakeMedia\",93544]\n",
    "\n",
    "model = kbase.get_from_ws(modelInfo_2[0],modelInfo_2[1])\n",
    "media = kbase.get_from_ws(mediaInfo_2[0],mediaInfo_2[1])\n",
    "# kmp = kbasemediapkg.KBaseMediaPkg(self.model)\n",
    "# kmp.build_package(media)\n",
    "\n",
    "# simulate and visualize the model\n",
    "cfba = MSCommunity(model)\n",
    "cfba.drain_fluxes(media)\n",
    "cfba.gapfill(media)\n",
    "cfba.constrain(media, msdb_path_for_fullthermo = ftp_path, verbose = False)\n",
    "solution = cfba.run()\n",
    "cfba.compute_interactions(solution)\n",
    "cfba.visualize()"
   ]
  }
 ],
 "metadata": {
  "kernelspec": {
   "display_name": "Python 3 (ipykernel)",
   "language": "python",
   "name": "python3"
  },
  "language_info": {
   "codemirror_mode": {
    "name": "ipython",
    "version": 3
   },
   "file_extension": ".py",
   "mimetype": "text/x-python",
   "name": "python",
   "nbconvert_exporter": "python",
   "pygments_lexer": "ipython3",
   "version": "3.9.12"
  }
 },
 "nbformat": 4,
 "nbformat_minor": 4
}
