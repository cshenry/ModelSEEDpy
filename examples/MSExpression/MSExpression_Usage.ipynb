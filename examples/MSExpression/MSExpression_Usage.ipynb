{
 "cells": [
  {
   "cell_type": "markdown",
   "metadata": {},
   "source": [
    "# MSExpression Usage Guide\n",
    "\n",
    "This notebook demonstrates how to use the refactored MSExpression class for managing gene/protein expression data in ModelSEEDpy.\n",
    "\n",
    "## Overview\n",
    "\n",
    "MSExpression now uses pandas DataFrame internally for efficient numerical operations while maintaining custom data structures (MSCondition, MSExpressionFeature) for metadata tracking.\n",
    "\n",
    "**Key Features:**\n",
    "- Fast vectorized operations using pandas\n",
    "- Easy data loading from DataFrames, Excel, or CSV files\n",
    "- Statistical analysis across conditions\n",
    "- GPR-based reaction expression calculation\n",
    "- Flexible data export"
   ]
  },
  {
   "cell_type": "code",
   "execution_count": null,
   "metadata": {},
   "source": [
    "import pandas as pd\n",
    "import numpy as np\n",
    "from modelseedpy.multiomics.msexpression import MSExpression\n",
    "from modelseedpy.core.msgenome import MSGenome, MSFeature\n",
    "from cobra import Model, Reaction, Gene"
   ]
  },
  {
   "cell_type": "markdown",
   "metadata": {},
   "source": [
    "## 1. Basic Usage: Loading Expression Data\n",
    "\n",
    "### 1.1 Creating a Sample Dataset\n",
    "\n",
    "Let's create some sample expression data to work with:"
   ]
  },
  {
   "cell_type": "code",
   "execution_count": null,
   "metadata": {},
   "source": [
    "# Create sample expression data\n",
    "expression_data = pd.DataFrame({\n",
    "    'gene_id': ['gene1', 'gene2', 'gene3', 'gene4', 'gene5'],\n",
    "    'control_1': [10.5, 15.2, 8.7, 22.1, 5.3],\n",
    "    'control_2': [11.2, 14.8, 9.1, 21.5, 5.8],\n",
    "    'treatment_1': [45.3, 18.2, 7.1, 35.7, 2.1],\n",
    "    'treatment_2': [43.8, 19.1, 6.9, 36.2, 2.5],\n",
    "    'description': ['Growth factor', 'Transporter', 'Kinase', 'Transcription factor', 'Receptor']\n",
    "})\n",
    "\n",
    "print(\"Sample Expression Data:\")\n",
    "expression_data"
   ]
  },
  {
   "cell_type": "markdown",
   "metadata": {},
   "source": [
    "### 1.2 Creating a Genome with Features"
   ]
  },
  {
   "cell_type": "code",
   "execution_count": null,
   "metadata": {},
   "source": [
    "# Create a genome and add features\n",
    "genome = MSGenome()\n",
    "for gene_id in expression_data['gene_id']:\n",
    "    genome.features.append(MSFeature(gene_id, ''))\n",
    "\n",
    "print(f\"Created genome with {len(genome.features)} features\")"
   ]
  },
  {
   "cell_type": "markdown",
   "metadata": {},
   "source": [
    "### 1.3 Loading Data from DataFrame"
   ]
  },
  {
   "cell_type": "code",
   "execution_count": null,
   "metadata": {},
   "source": [
    "# Load expression data from DataFrame\n",
    "expr = MSExpression.from_dataframe(\n",
    "    expression_data,\n",
    "    genome=genome,\n",
    "    id_column='gene_id',\n",
    "    description_column='description',\n",
    "    type='RelativeAbundance'\n",
    ")\n",
    "\n",
    "print(f\"Loaded expression data:\")\n",
    "print(f\"  - Features: {len(expr.features)}\")\n",
    "print(f\"  - Conditions: {len(expr.conditions)}\")\n",
    "print(f\"  - Data shape: {expr._data.shape}\")"
   ]
  },
  {
   "cell_type": "markdown",
   "metadata": {},
   "source": [
    "### 1.4 Accessing Expression Values"
   ]
  },
  {
   "cell_type": "code",
   "execution_count": null,
   "metadata": {},
   "source": [
    "# Access individual values\n",
    "value = expr.get_value('gene1', 'control_1')\n",
    "print(f\"gene1 expression in control_1: {value}\")\n",
    "\n",
    "# Access using feature object\n",
    "feature = expr.features.get_by_id('gene2')\n",
    "value = feature.get_value('treatment_1')\n",
    "print(f\"gene2 expression in treatment_1: {value}\")"
   ]
  },
  {
   "cell_type": "markdown",
   "metadata": {},
   "source": [
    "## 2. Statistical Analysis\n",
    "\n",
    "MSExpression provides efficient statistical methods for analyzing expression across conditions."
   ]
  },
  {
   "cell_type": "markdown",
   "metadata": {},
   "source": [
    "### 2.1 Basic Statistics per Condition"
   ]
  },
  {
   "cell_type": "code",
   "execution_count": null,
   "metadata": {},
   "source": [
    "# Get statistics for each condition\n",
    "for condition in expr.conditions:\n",
    "    print(f\"\\nStatistics for {condition.id}:\")\n",
    "    print(f\"  Mean:    {condition.average_value():.2f}\")\n",
    "    print(f\"  Min:     {condition.lowest_value():.2f}\")\n",
    "    print(f\"  Max:     {condition.highest_value():.2f}\")\n",
    "    print(f\"  Sum:     {condition.sum_value():.2f}\")"
   ]
  },
  {
   "cell_type": "markdown",
   "metadata": {},
   "source": [
    "### 2.2 Z-score Analysis"
   ]
  },
  {
   "cell_type": "code",
   "execution_count": null,
   "metadata": {},
   "source": [
    "# Calculate z-score thresholds\n",
    "condition = expr.conditions.get_by_id('control_1')\n",
    "\n",
    "z1 = condition.value_at_zscore(1.0)\n",
    "z2 = condition.value_at_zscore(2.0)\n",
    "\n",
    "print(f\"Z-score thresholds for {condition.id}:\")\n",
    "print(f\"  1σ: {z1:.2f}\")\n",
    "print(f\"  2σ: {z2:.2f}\")"
   ]
  },
  {
   "cell_type": "markdown",
   "metadata": {},
   "source": [
    "### 2.3 Comparing Conditions"
   ]
  },
  {
   "cell_type": "code",
   "execution_count": null,
   "metadata": {},
   "source": [
    "# Compare treatment vs control for each gene\n",
    "print(\"\\nFold changes (treatment_1 / control_1):\")\n",
    "for feature in expr.features:\n",
    "    control_val = feature.get_value('control_1')\n",
    "    treatment_val = feature.get_value('treatment_1')\n",
    "    \n",
    "    if control_val and control_val > 0:\n",
    "        fold_change = treatment_val / control_val\n",
    "        print(f\"  {feature.id}: {fold_change:.2f}x\")"
   ]
  },
  {
   "cell_type": "markdown",
   "metadata": {},
   "source": [
    "## 3. Advanced Operations\n",
    "\n",
    "### 3.1 Working with Gene-Protein-Reaction (GPR) Rules\n",
    "\n",
    "MSExpression can calculate reaction-level expression from gene-level data using GPR rules."
   ]
  },
  {
   "cell_type": "code",
   "execution_count": null,
   "metadata": {},
   "source": [
    "# Create a simple metabolic model\n",
    "model = Model('example_model')\n",
    "\n",
    "# Add genes\n",
    "for gene_id in ['gene1', 'gene2', 'gene3']:\n",
    "    model.genes.append(Gene(gene_id))\n",
    "\n",
    "# Add reactions with GPR rules\n",
    "rxn1 = Reaction('rxn1')\n",
    "rxn1.gene_reaction_rule = 'gene1'  # Simple single gene\n",
    "\n",
    "rxn2 = Reaction('rxn2')\n",
    "rxn2.gene_reaction_rule = 'gene1 and gene2'  # AND rule (min)\n",
    "\n",
    "rxn3 = Reaction('rxn3')\n",
    "rxn3.gene_reaction_rule = 'gene1 or gene3'  # OR rule (sum)\n",
    "\n",
    "model.add_reactions([rxn1, rxn2, rxn3])\n",
    "\n",
    "print(f\"Created model with {len(model.reactions)} reactions\")"
   ]
  },
  {
   "cell_type": "code",
   "execution_count": null,
   "metadata": {},
   "source": [
    "# Build reaction expression from gene expression\n",
    "rxn_expr = expr.build_reaction_expression(model, default=0.0)\n",
    "\n",
    "print(\"\\nReaction expression values:\")\n",
    "for rxn_feature in rxn_expr.features:\n",
    "    rxn_id = rxn_feature.id\n",
    "    gpr = model.reactions.get_by_id(rxn_id).gene_reaction_rule\n",
    "    control_val = rxn_feature.get_value('control_1')\n",
    "    treatment_val = rxn_feature.get_value('treatment_1')\n",
    "    \n",
    "    print(f\"\\n{rxn_id} (GPR: {gpr}):\")\n",
    "    print(f\"  Control: {control_val:.2f}\")\n",
    "    print(f\"  Treatment: {treatment_val:.2f}\")"
   ]
  },
  {
   "cell_type": "markdown",
   "metadata": {},
   "source": [
    "### 3.2 Understanding GPR Logic\n",
    "\n",
    "- **OR**: Sum of gene values (isoenzymes)\n",
    "- **AND**: Minimum gene value (enzyme complex)\n",
    "- **Single gene**: Direct gene value"
   ]
  },
  {
   "cell_type": "markdown",
   "metadata": {},
   "source": [
    "## 4. Data Export\n",
    "\n",
    "### 4.1 Export to DataFrame"
   ]
  },
  {
   "cell_type": "code",
   "execution_count": null,
   "metadata": {},
   "source": [
    "# Get DataFrame with feature_id as index (default)\n",
    "df_index = expr.get_dataframe()\n",
    "print(\"DataFrame with index:\")\n",
    "print(df_index.head())"
   ]
  },
  {
   "cell_type": "code",
   "execution_count": null,
   "metadata": {},
   "source": [
    "# Get DataFrame with feature_id as column\n",
    "df_reset = expr.get_dataframe(reset_index=True)\n",
    "print(\"\\nDataFrame with reset index:\")\n",
    "print(df_reset.head())"
   ]
  },
  {
   "cell_type": "markdown",
   "metadata": {},
   "source": [
    "### 4.2 Export to CSV/Excel"
   ]
  },
  {
   "cell_type": "code",
   "execution_count": null,
   "metadata": {},
   "source": [
    "# Export to CSV\n",
    "df = expr.get_dataframe(reset_index=True)\n",
    "# df.to_csv('expression_data.csv', index=False)\n",
    "\n",
    "# Export to Excel\n",
    "# df.to_excel('expression_data.xlsx', index=False)\n",
    "\n",
    "print(\"Data can be exported using standard pandas methods\")"
   ]
  },
  {
   "cell_type": "markdown",
   "metadata": {},
   "source": [
    "## 5. Handling Missing Data"
   ]
  },
  {
   "cell_type": "code",
   "execution_count": null,
   "metadata": {},
   "source": [
    "# Create data with missing values\n",
    "data_with_nan = pd.DataFrame({\n",
    "    'gene_id': ['gene1', 'gene2', 'gene3'],\n",
    "    'cond1': [10.0, np.nan, 15.0],\n",
    "    'cond2': [20.0, 25.0, np.nan]\n",
    "})\n",
    "\n",
    "genome_test = MSGenome()\n",
    "for g in ['gene1', 'gene2', 'gene3']:\n",
    "    genome_test.features.append(MSFeature(g, ''))\n",
    "\n",
    "expr_nan = MSExpression.from_dataframe(\n",
    "    data_with_nan, genome=genome_test, id_column='gene_id'\n",
    ")\n",
    "\n",
    "# Missing values are returned as None\n",
    "print(\"Handling missing values:\")\n",
    "print(f\"gene2 in cond1: {expr_nan.get_value('gene2', 'cond1')}\")  # None\n",
    "print(f\"gene3 in cond2: {expr_nan.get_value('gene3', 'cond2')}\")  # None\n",
    "print(f\"gene1 in cond1: {expr_nan.get_value('gene1', 'cond1')}\")  # 10.0"
   ]
  },
  {
   "cell_type": "markdown",
   "metadata": {},
   "source": [
    "## 6. Migration Guide\n",
    "\n",
    "If you're updating code from the old MSExpression implementation:\n",
    "\n",
    "### What Changed:\n",
    "\n",
    "1. **`get_dataframe()` format**: Now returns feature_id as index by default (use `reset_index=True` for old behavior)\n",
    "2. **`feature.values` attribute**: No longer exists - values are stored in parent DataFrame\n",
    "\n",
    "### Migration Examples:\n",
    "\n",
    "```python\n",
    "# OLD: Access feature.values directly\n",
    "# value = feature.values[condition]\n",
    "\n",
    "# NEW: Use get_value() method\n",
    "value = feature.get_value(condition)\n",
    "\n",
    "# OLD: get_dataframe() returned feature_id column\n",
    "# df = expr.get_dataframe()\n",
    "# df['feature_id']\n",
    "\n",
    "# NEW: get_dataframe() has feature_id as index by default\n",
    "df = expr.get_dataframe()  # feature_id is index\n",
    "# Or use reset_index=True for old behavior\n",
    "df = expr.get_dataframe(reset_index=True)\n",
    "df['feature_id']\n",
    "```"
   ]
  },
  {
   "cell_type": "markdown",
   "metadata": {},
   "source": [
    "## 7. Performance Tips\n",
    "\n",
    "The DataFrame-based implementation provides significant performance improvements:\n",
    "\n",
    "### Best Practices:\n",
    "\n",
    "1. **Bulk loading**: Use `from_dataframe()` instead of iterative `add_value()` calls\n",
    "2. **Statistical operations**: Use MSCondition methods (they use vectorized pandas operations)\n",
    "3. **Large datasets**: The DataFrame backend scales efficiently to thousands of features/conditions\n",
    "\n",
    "### Performance Example:"
   ]
  },
  {
   "cell_type": "code",
   "execution_count": null,
   "metadata": {},
   "source": [
    "import time\n",
    "\n",
    "# Create large dataset\n",
    "n_genes = 5000\n",
    "n_conditions = 20\n",
    "\n",
    "large_data = pd.DataFrame(\n",
    "    np.random.randn(n_genes, n_conditions + 1),\n",
    "    columns=['gene_id'] + [f'cond_{i}' for i in range(n_conditions)]\n",
    ")\n",
    "large_data['gene_id'] = [f'gene_{i}' for i in range(n_genes)]\n",
    "\n",
    "# Time bulk loading\n",
    "large_genome = MSGenome()\n",
    "for i in range(n_genes):\n",
    "    large_genome.features.append(MSFeature(f'gene_{i}', ''))\n",
    "\n",
    "start = time.time()\n",
    "large_expr = MSExpression.from_dataframe(\n",
    "    large_data, genome=large_genome, id_column='gene_id'\n",
    ")\n",
    "load_time = time.time() - start\n",
    "\n",
    "print(f\"\\nPerformance Test:\")\n",
    "print(f\"Loaded {n_genes} genes × {n_conditions} conditions in {load_time:.3f} seconds\")\n",
    "print(f\"Data shape: {large_expr._data.shape}\")\n",
    "\n",
    "# Time statistical operations\n",
    "start = time.time()\n",
    "for condition in large_expr.conditions:\n",
    "    avg = condition.average_value()\n",
    "stats_time = time.time() - start\n",
    "\n",
    "print(f\"Computed statistics for {n_conditions} conditions in {stats_time:.3f} seconds\")"
   ]
  },
  {
   "cell_type": "markdown",
   "metadata": {},
   "source": [
    "## Summary\n",
    "\n",
    "The refactored MSExpression class provides:\n",
    "- ✅ Efficient DataFrame-based storage\n",
    "- ✅ Fast vectorized statistical operations\n",
    "- ✅ Easy data import/export\n",
    "- ✅ Full backward compatibility (with minor changes)\n",
    "- ✅ Type hints for better IDE support\n",
    "- ✅ Comprehensive test coverage\n",
    "\n",
    "For more information, see the ModelSEEDpy documentation."
   ]
  }
 ],
 "metadata": {
  "kernelspec": {
   "display_name": "Python 3",
   "language": "python",
   "name": "python3"
  },
  "language_info": {
   "codemirror_mode": {
    "name": "ipython",
    "version": 3
   },
   "file_extension": ".py",
   "mimetype": "text/x-python",
   "name": "python",
   "nbconvert_exporter": "python",
   "pygments_lexer": "ipython3",
   "version": "3.12.3"
  }
 },
 "nbformat": 4,
 "nbformat_minor": 4
}
